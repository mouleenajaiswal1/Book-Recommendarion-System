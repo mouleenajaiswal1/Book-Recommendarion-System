{
  "cells": [
    {
      "cell_type": "markdown",
      "metadata": {
        "id": "view-in-github",
        "colab_type": "text"
      },
      "source": [
        "<a href=\"https://colab.research.google.com/github/mouleenajaiswal1/Book-Recommendarion-System/blob/main/Book_Recommendation_System.ipynb\" target=\"_parent\"><img src=\"https://colab.research.google.com/assets/colab-badge.svg\" alt=\"Open In Colab\"/></a>"
      ]
    },
    {
      "cell_type": "markdown",
      "metadata": {
        "id": "J4JAT2I53DSx"
      },
      "source": [
        "During the last few decades, with the rise of Youtube, Amazon, Netflix, and many other such web services, recommender systems have taken more and more place in our lives. From e-commerce (suggest to buyers articles that could interest them) to online advertisement (suggest to users the right contents, matching their preferences), recommender systems are\n",
        "today unavoidable in our daily online journeys.\n",
        "\n",
        "In a very general way, recommender systems are algorithms aimed at suggesting relevant items to users (items being movies to watch, text to read, products to buy, or anything else depending on industries).**Recommender systems** are really critical in some industries as they can generate a huge amount of income when they are efficient or also be a way to stand out significantly from\n",
        "competitors. The main objective is to create a book recommendation system for users.\n"
      ]
    },
    {
      "cell_type": "markdown",
      "metadata": {
        "id": "wV2TL8JZ36_N"
      },
      "source": [
        "**Dataset Overview**\n",
        "\n",
        "The Book-Crossing dataset comprises 3 files - \n",
        "\n",
        "● Users : Contains the users. Note that user IDs (User-ID) have been anonymized and map to integers. Demographic data is provided (Location, Age) if available. Otherwise, these fields contain NULL values.\n",
        "\n",
        "● Books : Books are identified by their respective ISBN. Invalid ISBNs have already been removed from the dataset. Moreover, some content-based information is given (Book-Title, Book-Author, Year-Of-Publication, Publisher), obtained from Amazon Web Services. Note that in the case of several authors, only the first is provided. URLs linking to cover images are also given, appearing in three different flavors (Image-URL-S, Image-URL-M, Image-URL-L), i.e., small, medium, large. These URLs point to the Amazon website.\n",
        "\n",
        "● Ratings : Contains the book rating information. Ratings (Book-Rating) are either explicit, expressed on a scale from 1-10 (higher values denoting higher appreciation), or implicit, expressed by 0."
      ]
    },
    {
      "cell_type": "code",
      "execution_count": null,
      "metadata": {
        "colab": {
          "base_uri": "https://localhost:8080/"
        },
        "id": "6se3O2-J25lJ",
        "outputId": "dd576b1a-0d16-43aa-b928-0aa54ba8d310"
      },
      "outputs": [
        {
          "output_type": "stream",
          "name": "stdout",
          "text": [
            "Mounted at /content/drive\n"
          ]
        }
      ],
      "source": [
        "from google.colab import drive\n",
        "drive.mount('/content/drive')"
      ]
    },
    {
      "cell_type": "code",
      "execution_count": null,
      "metadata": {
        "id": "LdXE4ot35YuS"
      },
      "outputs": [],
      "source": [
        "import pandas as pd\n",
        "import numpy as np\n",
        "import matplotlib.pyplot as plt\n",
        "import seaborn as sns"
      ]
    },
    {
      "cell_type": "code",
      "execution_count": null,
      "metadata": {
        "id": "20xvOhqN5q-1"
      },
      "outputs": [],
      "source": [
        "file_path = \"/content/drive/MyDrive/AlmaBetter/Capstone Project/Unsupervised Learning - Capstone Project/Data\""
      ]
    },
    {
      "cell_type": "code",
      "execution_count": null,
      "metadata": {
        "colab": {
          "base_uri": "https://localhost:8080/"
        },
        "id": "9NzdVPC-567t",
        "outputId": "80b35239-0166-4d38-945e-9a3597b6d8cd"
      },
      "outputs": [
        {
          "output_type": "stream",
          "name": "stderr",
          "text": [
            "/usr/local/lib/python3.7/dist-packages/IPython/core/interactiveshell.py:2882: DtypeWarning: Columns (3) have mixed types.Specify dtype option on import or set low_memory=False.\n",
            "  exec(code_obj, self.user_global_ns, self.user_ns)\n"
          ]
        }
      ],
      "source": [
        "users_df = pd.read_csv(file_path + \"/Users.csv\")\n",
        "books_df = pd.read_csv(file_path + \"/Books.csv\")\n",
        "ratings_df = pd.read_csv(file_path + \"/Ratings.csv\")"
      ]
    },
    {
      "cell_type": "code",
      "execution_count": null,
      "metadata": {
        "colab": {
          "base_uri": "https://localhost:8080/",
          "height": 206
        },
        "id": "08wqRkv_6Shh",
        "outputId": "9ff687ef-655b-4adb-a62c-ace43853283c"
      },
      "outputs": [
        {
          "output_type": "execute_result",
          "data": {
            "text/plain": [
              "   User-ID                            Location   Age\n",
              "0        1                  nyc, new york, usa   NaN\n",
              "1        2           stockton, california, usa  18.0\n",
              "2        3     moscow, yukon territory, russia   NaN\n",
              "3        4           porto, v.n.gaia, portugal  17.0\n",
              "4        5  farnborough, hants, united kingdom   NaN"
            ],
            "text/html": [
              "\n",
              "  <div id=\"df-5ae9449d-a3d6-4d6d-b701-b37387e9dc2e\">\n",
              "    <div class=\"colab-df-container\">\n",
              "      <div>\n",
              "<style scoped>\n",
              "    .dataframe tbody tr th:only-of-type {\n",
              "        vertical-align: middle;\n",
              "    }\n",
              "\n",
              "    .dataframe tbody tr th {\n",
              "        vertical-align: top;\n",
              "    }\n",
              "\n",
              "    .dataframe thead th {\n",
              "        text-align: right;\n",
              "    }\n",
              "</style>\n",
              "<table border=\"1\" class=\"dataframe\">\n",
              "  <thead>\n",
              "    <tr style=\"text-align: right;\">\n",
              "      <th></th>\n",
              "      <th>User-ID</th>\n",
              "      <th>Location</th>\n",
              "      <th>Age</th>\n",
              "    </tr>\n",
              "  </thead>\n",
              "  <tbody>\n",
              "    <tr>\n",
              "      <th>0</th>\n",
              "      <td>1</td>\n",
              "      <td>nyc, new york, usa</td>\n",
              "      <td>NaN</td>\n",
              "    </tr>\n",
              "    <tr>\n",
              "      <th>1</th>\n",
              "      <td>2</td>\n",
              "      <td>stockton, california, usa</td>\n",
              "      <td>18.0</td>\n",
              "    </tr>\n",
              "    <tr>\n",
              "      <th>2</th>\n",
              "      <td>3</td>\n",
              "      <td>moscow, yukon territory, russia</td>\n",
              "      <td>NaN</td>\n",
              "    </tr>\n",
              "    <tr>\n",
              "      <th>3</th>\n",
              "      <td>4</td>\n",
              "      <td>porto, v.n.gaia, portugal</td>\n",
              "      <td>17.0</td>\n",
              "    </tr>\n",
              "    <tr>\n",
              "      <th>4</th>\n",
              "      <td>5</td>\n",
              "      <td>farnborough, hants, united kingdom</td>\n",
              "      <td>NaN</td>\n",
              "    </tr>\n",
              "  </tbody>\n",
              "</table>\n",
              "</div>\n",
              "      <button class=\"colab-df-convert\" onclick=\"convertToInteractive('df-5ae9449d-a3d6-4d6d-b701-b37387e9dc2e')\"\n",
              "              title=\"Convert this dataframe to an interactive table.\"\n",
              "              style=\"display:none;\">\n",
              "        \n",
              "  <svg xmlns=\"http://www.w3.org/2000/svg\" height=\"24px\"viewBox=\"0 0 24 24\"\n",
              "       width=\"24px\">\n",
              "    <path d=\"M0 0h24v24H0V0z\" fill=\"none\"/>\n",
              "    <path d=\"M18.56 5.44l.94 2.06.94-2.06 2.06-.94-2.06-.94-.94-2.06-.94 2.06-2.06.94zm-11 1L8.5 8.5l.94-2.06 2.06-.94-2.06-.94L8.5 2.5l-.94 2.06-2.06.94zm10 10l.94 2.06.94-2.06 2.06-.94-2.06-.94-.94-2.06-.94 2.06-2.06.94z\"/><path d=\"M17.41 7.96l-1.37-1.37c-.4-.4-.92-.59-1.43-.59-.52 0-1.04.2-1.43.59L10.3 9.45l-7.72 7.72c-.78.78-.78 2.05 0 2.83L4 21.41c.39.39.9.59 1.41.59.51 0 1.02-.2 1.41-.59l7.78-7.78 2.81-2.81c.8-.78.8-2.07 0-2.86zM5.41 20L4 18.59l7.72-7.72 1.47 1.35L5.41 20z\"/>\n",
              "  </svg>\n",
              "      </button>\n",
              "      \n",
              "  <style>\n",
              "    .colab-df-container {\n",
              "      display:flex;\n",
              "      flex-wrap:wrap;\n",
              "      gap: 12px;\n",
              "    }\n",
              "\n",
              "    .colab-df-convert {\n",
              "      background-color: #E8F0FE;\n",
              "      border: none;\n",
              "      border-radius: 50%;\n",
              "      cursor: pointer;\n",
              "      display: none;\n",
              "      fill: #1967D2;\n",
              "      height: 32px;\n",
              "      padding: 0 0 0 0;\n",
              "      width: 32px;\n",
              "    }\n",
              "\n",
              "    .colab-df-convert:hover {\n",
              "      background-color: #E2EBFA;\n",
              "      box-shadow: 0px 1px 2px rgba(60, 64, 67, 0.3), 0px 1px 3px 1px rgba(60, 64, 67, 0.15);\n",
              "      fill: #174EA6;\n",
              "    }\n",
              "\n",
              "    [theme=dark] .colab-df-convert {\n",
              "      background-color: #3B4455;\n",
              "      fill: #D2E3FC;\n",
              "    }\n",
              "\n",
              "    [theme=dark] .colab-df-convert:hover {\n",
              "      background-color: #434B5C;\n",
              "      box-shadow: 0px 1px 3px 1px rgba(0, 0, 0, 0.15);\n",
              "      filter: drop-shadow(0px 1px 2px rgba(0, 0, 0, 0.3));\n",
              "      fill: #FFFFFF;\n",
              "    }\n",
              "  </style>\n",
              "\n",
              "      <script>\n",
              "        const buttonEl =\n",
              "          document.querySelector('#df-5ae9449d-a3d6-4d6d-b701-b37387e9dc2e button.colab-df-convert');\n",
              "        buttonEl.style.display =\n",
              "          google.colab.kernel.accessAllowed ? 'block' : 'none';\n",
              "\n",
              "        async function convertToInteractive(key) {\n",
              "          const element = document.querySelector('#df-5ae9449d-a3d6-4d6d-b701-b37387e9dc2e');\n",
              "          const dataTable =\n",
              "            await google.colab.kernel.invokeFunction('convertToInteractive',\n",
              "                                                     [key], {});\n",
              "          if (!dataTable) return;\n",
              "\n",
              "          const docLinkHtml = 'Like what you see? Visit the ' +\n",
              "            '<a target=\"_blank\" href=https://colab.research.google.com/notebooks/data_table.ipynb>data table notebook</a>'\n",
              "            + ' to learn more about interactive tables.';\n",
              "          element.innerHTML = '';\n",
              "          dataTable['output_type'] = 'display_data';\n",
              "          await google.colab.output.renderOutput(dataTable, element);\n",
              "          const docLink = document.createElement('div');\n",
              "          docLink.innerHTML = docLinkHtml;\n",
              "          element.appendChild(docLink);\n",
              "        }\n",
              "      </script>\n",
              "    </div>\n",
              "  </div>\n",
              "  "
            ]
          },
          "metadata": {},
          "execution_count": 5
        }
      ],
      "source": [
        "users_df.head()"
      ]
    },
    {
      "cell_type": "code",
      "execution_count": null,
      "metadata": {
        "colab": {
          "base_uri": "https://localhost:8080/",
          "height": 478
        },
        "id": "tlrbG4UO6Y3a",
        "outputId": "163cea50-1caf-4ba6-f157-d5e282154c12"
      },
      "outputs": [
        {
          "output_type": "execute_result",
          "data": {
            "text/plain": [
              "         ISBN                                         Book-Title  \\\n",
              "0  0195153448                                Classical Mythology   \n",
              "1  0002005018                                       Clara Callan   \n",
              "2  0060973129                               Decision in Normandy   \n",
              "3  0374157065  Flu: The Story of the Great Influenza Pandemic...   \n",
              "4  0393045218                             The Mummies of Urumchi   \n",
              "\n",
              "            Book-Author Year-Of-Publication                   Publisher  \\\n",
              "0    Mark P. O. Morford                2002     Oxford University Press   \n",
              "1  Richard Bruce Wright                2001       HarperFlamingo Canada   \n",
              "2          Carlo D'Este                1991             HarperPerennial   \n",
              "3      Gina Bari Kolata                1999        Farrar Straus Giroux   \n",
              "4       E. J. W. Barber                1999  W. W. Norton &amp; Company   \n",
              "\n",
              "                                         Image-URL-S  \\\n",
              "0  http://images.amazon.com/images/P/0195153448.0...   \n",
              "1  http://images.amazon.com/images/P/0002005018.0...   \n",
              "2  http://images.amazon.com/images/P/0060973129.0...   \n",
              "3  http://images.amazon.com/images/P/0374157065.0...   \n",
              "4  http://images.amazon.com/images/P/0393045218.0...   \n",
              "\n",
              "                                         Image-URL-M  \\\n",
              "0  http://images.amazon.com/images/P/0195153448.0...   \n",
              "1  http://images.amazon.com/images/P/0002005018.0...   \n",
              "2  http://images.amazon.com/images/P/0060973129.0...   \n",
              "3  http://images.amazon.com/images/P/0374157065.0...   \n",
              "4  http://images.amazon.com/images/P/0393045218.0...   \n",
              "\n",
              "                                         Image-URL-L  \n",
              "0  http://images.amazon.com/images/P/0195153448.0...  \n",
              "1  http://images.amazon.com/images/P/0002005018.0...  \n",
              "2  http://images.amazon.com/images/P/0060973129.0...  \n",
              "3  http://images.amazon.com/images/P/0374157065.0...  \n",
              "4  http://images.amazon.com/images/P/0393045218.0...  "
            ],
            "text/html": [
              "\n",
              "  <div id=\"df-e23e35e8-596f-4a23-829a-a1b36901933e\">\n",
              "    <div class=\"colab-df-container\">\n",
              "      <div>\n",
              "<style scoped>\n",
              "    .dataframe tbody tr th:only-of-type {\n",
              "        vertical-align: middle;\n",
              "    }\n",
              "\n",
              "    .dataframe tbody tr th {\n",
              "        vertical-align: top;\n",
              "    }\n",
              "\n",
              "    .dataframe thead th {\n",
              "        text-align: right;\n",
              "    }\n",
              "</style>\n",
              "<table border=\"1\" class=\"dataframe\">\n",
              "  <thead>\n",
              "    <tr style=\"text-align: right;\">\n",
              "      <th></th>\n",
              "      <th>ISBN</th>\n",
              "      <th>Book-Title</th>\n",
              "      <th>Book-Author</th>\n",
              "      <th>Year-Of-Publication</th>\n",
              "      <th>Publisher</th>\n",
              "      <th>Image-URL-S</th>\n",
              "      <th>Image-URL-M</th>\n",
              "      <th>Image-URL-L</th>\n",
              "    </tr>\n",
              "  </thead>\n",
              "  <tbody>\n",
              "    <tr>\n",
              "      <th>0</th>\n",
              "      <td>0195153448</td>\n",
              "      <td>Classical Mythology</td>\n",
              "      <td>Mark P. O. Morford</td>\n",
              "      <td>2002</td>\n",
              "      <td>Oxford University Press</td>\n",
              "      <td>http://images.amazon.com/images/P/0195153448.0...</td>\n",
              "      <td>http://images.amazon.com/images/P/0195153448.0...</td>\n",
              "      <td>http://images.amazon.com/images/P/0195153448.0...</td>\n",
              "    </tr>\n",
              "    <tr>\n",
              "      <th>1</th>\n",
              "      <td>0002005018</td>\n",
              "      <td>Clara Callan</td>\n",
              "      <td>Richard Bruce Wright</td>\n",
              "      <td>2001</td>\n",
              "      <td>HarperFlamingo Canada</td>\n",
              "      <td>http://images.amazon.com/images/P/0002005018.0...</td>\n",
              "      <td>http://images.amazon.com/images/P/0002005018.0...</td>\n",
              "      <td>http://images.amazon.com/images/P/0002005018.0...</td>\n",
              "    </tr>\n",
              "    <tr>\n",
              "      <th>2</th>\n",
              "      <td>0060973129</td>\n",
              "      <td>Decision in Normandy</td>\n",
              "      <td>Carlo D'Este</td>\n",
              "      <td>1991</td>\n",
              "      <td>HarperPerennial</td>\n",
              "      <td>http://images.amazon.com/images/P/0060973129.0...</td>\n",
              "      <td>http://images.amazon.com/images/P/0060973129.0...</td>\n",
              "      <td>http://images.amazon.com/images/P/0060973129.0...</td>\n",
              "    </tr>\n",
              "    <tr>\n",
              "      <th>3</th>\n",
              "      <td>0374157065</td>\n",
              "      <td>Flu: The Story of the Great Influenza Pandemic...</td>\n",
              "      <td>Gina Bari Kolata</td>\n",
              "      <td>1999</td>\n",
              "      <td>Farrar Straus Giroux</td>\n",
              "      <td>http://images.amazon.com/images/P/0374157065.0...</td>\n",
              "      <td>http://images.amazon.com/images/P/0374157065.0...</td>\n",
              "      <td>http://images.amazon.com/images/P/0374157065.0...</td>\n",
              "    </tr>\n",
              "    <tr>\n",
              "      <th>4</th>\n",
              "      <td>0393045218</td>\n",
              "      <td>The Mummies of Urumchi</td>\n",
              "      <td>E. J. W. Barber</td>\n",
              "      <td>1999</td>\n",
              "      <td>W. W. Norton &amp;amp; Company</td>\n",
              "      <td>http://images.amazon.com/images/P/0393045218.0...</td>\n",
              "      <td>http://images.amazon.com/images/P/0393045218.0...</td>\n",
              "      <td>http://images.amazon.com/images/P/0393045218.0...</td>\n",
              "    </tr>\n",
              "  </tbody>\n",
              "</table>\n",
              "</div>\n",
              "      <button class=\"colab-df-convert\" onclick=\"convertToInteractive('df-e23e35e8-596f-4a23-829a-a1b36901933e')\"\n",
              "              title=\"Convert this dataframe to an interactive table.\"\n",
              "              style=\"display:none;\">\n",
              "        \n",
              "  <svg xmlns=\"http://www.w3.org/2000/svg\" height=\"24px\"viewBox=\"0 0 24 24\"\n",
              "       width=\"24px\">\n",
              "    <path d=\"M0 0h24v24H0V0z\" fill=\"none\"/>\n",
              "    <path d=\"M18.56 5.44l.94 2.06.94-2.06 2.06-.94-2.06-.94-.94-2.06-.94 2.06-2.06.94zm-11 1L8.5 8.5l.94-2.06 2.06-.94-2.06-.94L8.5 2.5l-.94 2.06-2.06.94zm10 10l.94 2.06.94-2.06 2.06-.94-2.06-.94-.94-2.06-.94 2.06-2.06.94z\"/><path d=\"M17.41 7.96l-1.37-1.37c-.4-.4-.92-.59-1.43-.59-.52 0-1.04.2-1.43.59L10.3 9.45l-7.72 7.72c-.78.78-.78 2.05 0 2.83L4 21.41c.39.39.9.59 1.41.59.51 0 1.02-.2 1.41-.59l7.78-7.78 2.81-2.81c.8-.78.8-2.07 0-2.86zM5.41 20L4 18.59l7.72-7.72 1.47 1.35L5.41 20z\"/>\n",
              "  </svg>\n",
              "      </button>\n",
              "      \n",
              "  <style>\n",
              "    .colab-df-container {\n",
              "      display:flex;\n",
              "      flex-wrap:wrap;\n",
              "      gap: 12px;\n",
              "    }\n",
              "\n",
              "    .colab-df-convert {\n",
              "      background-color: #E8F0FE;\n",
              "      border: none;\n",
              "      border-radius: 50%;\n",
              "      cursor: pointer;\n",
              "      display: none;\n",
              "      fill: #1967D2;\n",
              "      height: 32px;\n",
              "      padding: 0 0 0 0;\n",
              "      width: 32px;\n",
              "    }\n",
              "\n",
              "    .colab-df-convert:hover {\n",
              "      background-color: #E2EBFA;\n",
              "      box-shadow: 0px 1px 2px rgba(60, 64, 67, 0.3), 0px 1px 3px 1px rgba(60, 64, 67, 0.15);\n",
              "      fill: #174EA6;\n",
              "    }\n",
              "\n",
              "    [theme=dark] .colab-df-convert {\n",
              "      background-color: #3B4455;\n",
              "      fill: #D2E3FC;\n",
              "    }\n",
              "\n",
              "    [theme=dark] .colab-df-convert:hover {\n",
              "      background-color: #434B5C;\n",
              "      box-shadow: 0px 1px 3px 1px rgba(0, 0, 0, 0.15);\n",
              "      filter: drop-shadow(0px 1px 2px rgba(0, 0, 0, 0.3));\n",
              "      fill: #FFFFFF;\n",
              "    }\n",
              "  </style>\n",
              "\n",
              "      <script>\n",
              "        const buttonEl =\n",
              "          document.querySelector('#df-e23e35e8-596f-4a23-829a-a1b36901933e button.colab-df-convert');\n",
              "        buttonEl.style.display =\n",
              "          google.colab.kernel.accessAllowed ? 'block' : 'none';\n",
              "\n",
              "        async function convertToInteractive(key) {\n",
              "          const element = document.querySelector('#df-e23e35e8-596f-4a23-829a-a1b36901933e');\n",
              "          const dataTable =\n",
              "            await google.colab.kernel.invokeFunction('convertToInteractive',\n",
              "                                                     [key], {});\n",
              "          if (!dataTable) return;\n",
              "\n",
              "          const docLinkHtml = 'Like what you see? Visit the ' +\n",
              "            '<a target=\"_blank\" href=https://colab.research.google.com/notebooks/data_table.ipynb>data table notebook</a>'\n",
              "            + ' to learn more about interactive tables.';\n",
              "          element.innerHTML = '';\n",
              "          dataTable['output_type'] = 'display_data';\n",
              "          await google.colab.output.renderOutput(dataTable, element);\n",
              "          const docLink = document.createElement('div');\n",
              "          docLink.innerHTML = docLinkHtml;\n",
              "          element.appendChild(docLink);\n",
              "        }\n",
              "      </script>\n",
              "    </div>\n",
              "  </div>\n",
              "  "
            ]
          },
          "metadata": {},
          "execution_count": 6
        }
      ],
      "source": [
        "books_df.head()"
      ]
    },
    {
      "cell_type": "code",
      "execution_count": null,
      "metadata": {
        "colab": {
          "base_uri": "https://localhost:8080/",
          "height": 206
        },
        "id": "6gIOLee46qWy",
        "outputId": "353045fb-3f19-4d50-b303-f2514f3e9455"
      },
      "outputs": [
        {
          "output_type": "execute_result",
          "data": {
            "text/plain": [
              "   User-ID        ISBN  Book-Rating\n",
              "0   276725  034545104X            0\n",
              "1   276726  0155061224            5\n",
              "2   276727  0446520802            0\n",
              "3   276729  052165615X            3\n",
              "4   276729  0521795028            6"
            ],
            "text/html": [
              "\n",
              "  <div id=\"df-8a980c0b-41ce-4209-8dfc-060348f17119\">\n",
              "    <div class=\"colab-df-container\">\n",
              "      <div>\n",
              "<style scoped>\n",
              "    .dataframe tbody tr th:only-of-type {\n",
              "        vertical-align: middle;\n",
              "    }\n",
              "\n",
              "    .dataframe tbody tr th {\n",
              "        vertical-align: top;\n",
              "    }\n",
              "\n",
              "    .dataframe thead th {\n",
              "        text-align: right;\n",
              "    }\n",
              "</style>\n",
              "<table border=\"1\" class=\"dataframe\">\n",
              "  <thead>\n",
              "    <tr style=\"text-align: right;\">\n",
              "      <th></th>\n",
              "      <th>User-ID</th>\n",
              "      <th>ISBN</th>\n",
              "      <th>Book-Rating</th>\n",
              "    </tr>\n",
              "  </thead>\n",
              "  <tbody>\n",
              "    <tr>\n",
              "      <th>0</th>\n",
              "      <td>276725</td>\n",
              "      <td>034545104X</td>\n",
              "      <td>0</td>\n",
              "    </tr>\n",
              "    <tr>\n",
              "      <th>1</th>\n",
              "      <td>276726</td>\n",
              "      <td>0155061224</td>\n",
              "      <td>5</td>\n",
              "    </tr>\n",
              "    <tr>\n",
              "      <th>2</th>\n",
              "      <td>276727</td>\n",
              "      <td>0446520802</td>\n",
              "      <td>0</td>\n",
              "    </tr>\n",
              "    <tr>\n",
              "      <th>3</th>\n",
              "      <td>276729</td>\n",
              "      <td>052165615X</td>\n",
              "      <td>3</td>\n",
              "    </tr>\n",
              "    <tr>\n",
              "      <th>4</th>\n",
              "      <td>276729</td>\n",
              "      <td>0521795028</td>\n",
              "      <td>6</td>\n",
              "    </tr>\n",
              "  </tbody>\n",
              "</table>\n",
              "</div>\n",
              "      <button class=\"colab-df-convert\" onclick=\"convertToInteractive('df-8a980c0b-41ce-4209-8dfc-060348f17119')\"\n",
              "              title=\"Convert this dataframe to an interactive table.\"\n",
              "              style=\"display:none;\">\n",
              "        \n",
              "  <svg xmlns=\"http://www.w3.org/2000/svg\" height=\"24px\"viewBox=\"0 0 24 24\"\n",
              "       width=\"24px\">\n",
              "    <path d=\"M0 0h24v24H0V0z\" fill=\"none\"/>\n",
              "    <path d=\"M18.56 5.44l.94 2.06.94-2.06 2.06-.94-2.06-.94-.94-2.06-.94 2.06-2.06.94zm-11 1L8.5 8.5l.94-2.06 2.06-.94-2.06-.94L8.5 2.5l-.94 2.06-2.06.94zm10 10l.94 2.06.94-2.06 2.06-.94-2.06-.94-.94-2.06-.94 2.06-2.06.94z\"/><path d=\"M17.41 7.96l-1.37-1.37c-.4-.4-.92-.59-1.43-.59-.52 0-1.04.2-1.43.59L10.3 9.45l-7.72 7.72c-.78.78-.78 2.05 0 2.83L4 21.41c.39.39.9.59 1.41.59.51 0 1.02-.2 1.41-.59l7.78-7.78 2.81-2.81c.8-.78.8-2.07 0-2.86zM5.41 20L4 18.59l7.72-7.72 1.47 1.35L5.41 20z\"/>\n",
              "  </svg>\n",
              "      </button>\n",
              "      \n",
              "  <style>\n",
              "    .colab-df-container {\n",
              "      display:flex;\n",
              "      flex-wrap:wrap;\n",
              "      gap: 12px;\n",
              "    }\n",
              "\n",
              "    .colab-df-convert {\n",
              "      background-color: #E8F0FE;\n",
              "      border: none;\n",
              "      border-radius: 50%;\n",
              "      cursor: pointer;\n",
              "      display: none;\n",
              "      fill: #1967D2;\n",
              "      height: 32px;\n",
              "      padding: 0 0 0 0;\n",
              "      width: 32px;\n",
              "    }\n",
              "\n",
              "    .colab-df-convert:hover {\n",
              "      background-color: #E2EBFA;\n",
              "      box-shadow: 0px 1px 2px rgba(60, 64, 67, 0.3), 0px 1px 3px 1px rgba(60, 64, 67, 0.15);\n",
              "      fill: #174EA6;\n",
              "    }\n",
              "\n",
              "    [theme=dark] .colab-df-convert {\n",
              "      background-color: #3B4455;\n",
              "      fill: #D2E3FC;\n",
              "    }\n",
              "\n",
              "    [theme=dark] .colab-df-convert:hover {\n",
              "      background-color: #434B5C;\n",
              "      box-shadow: 0px 1px 3px 1px rgba(0, 0, 0, 0.15);\n",
              "      filter: drop-shadow(0px 1px 2px rgba(0, 0, 0, 0.3));\n",
              "      fill: #FFFFFF;\n",
              "    }\n",
              "  </style>\n",
              "\n",
              "      <script>\n",
              "        const buttonEl =\n",
              "          document.querySelector('#df-8a980c0b-41ce-4209-8dfc-060348f17119 button.colab-df-convert');\n",
              "        buttonEl.style.display =\n",
              "          google.colab.kernel.accessAllowed ? 'block' : 'none';\n",
              "\n",
              "        async function convertToInteractive(key) {\n",
              "          const element = document.querySelector('#df-8a980c0b-41ce-4209-8dfc-060348f17119');\n",
              "          const dataTable =\n",
              "            await google.colab.kernel.invokeFunction('convertToInteractive',\n",
              "                                                     [key], {});\n",
              "          if (!dataTable) return;\n",
              "\n",
              "          const docLinkHtml = 'Like what you see? Visit the ' +\n",
              "            '<a target=\"_blank\" href=https://colab.research.google.com/notebooks/data_table.ipynb>data table notebook</a>'\n",
              "            + ' to learn more about interactive tables.';\n",
              "          element.innerHTML = '';\n",
              "          dataTable['output_type'] = 'display_data';\n",
              "          await google.colab.output.renderOutput(dataTable, element);\n",
              "          const docLink = document.createElement('div');\n",
              "          docLink.innerHTML = docLinkHtml;\n",
              "          element.appendChild(docLink);\n",
              "        }\n",
              "      </script>\n",
              "    </div>\n",
              "  </div>\n",
              "  "
            ]
          },
          "metadata": {},
          "execution_count": 7
        }
      ],
      "source": [
        "ratings_df.head()"
      ]
    },
    {
      "cell_type": "code",
      "source": [
        "print(users_df.shape)\n",
        "print(ratings_df.shape)\n",
        "print(books_df.shape)"
      ],
      "metadata": {
        "colab": {
          "base_uri": "https://localhost:8080/"
        },
        "id": "ACveyTDggjij",
        "outputId": "bee054ab-3fd4-4025-fb1d-cd9a3f1a5b85"
      },
      "execution_count": null,
      "outputs": [
        {
          "output_type": "stream",
          "name": "stdout",
          "text": [
            "(278858, 3)\n",
            "(1149780, 3)\n",
            "(271360, 8)\n"
          ]
        }
      ]
    },
    {
      "cell_type": "markdown",
      "metadata": {
        "id": "52GCXan0sFZq"
      },
      "source": [
        "**-------------------------------------------------------------------------DATA PREPROCESSING---------------------------------------------------------------**"
      ]
    },
    {
      "cell_type": "markdown",
      "source": [
        "**Books DataFrame**"
      ],
      "metadata": {
        "id": "Y1CI3OVog1D9"
      }
    },
    {
      "cell_type": "code",
      "source": [
        "books_df.columns"
      ],
      "metadata": {
        "colab": {
          "base_uri": "https://localhost:8080/"
        },
        "id": "3E8oowsNha4a",
        "outputId": "1dbdd135-341d-45ff-e318-53df5e9844a8"
      },
      "execution_count": null,
      "outputs": [
        {
          "output_type": "execute_result",
          "data": {
            "text/plain": [
              "Index(['ISBN', 'Book-Title', 'Book-Author', 'Year-Of-Publication', 'Publisher',\n",
              "       'Image-URL-S', 'Image-URL-M', 'Image-URL-L'],\n",
              "      dtype='object')"
            ]
          },
          "metadata": {},
          "execution_count": 9
        }
      ]
    },
    {
      "cell_type": "code",
      "execution_count": null,
      "metadata": {
        "colab": {
          "base_uri": "https://localhost:8080/"
        },
        "id": "ejJLibHjmuL8",
        "outputId": "ba4f332c-cd63-44d9-96b4-552832e0340b"
      },
      "outputs": [
        {
          "output_type": "execute_result",
          "data": {
            "text/plain": [
              "array([2002, 2001, 1991, 1999, 2000, 1993, 1996, 1988, 2004, 1998, 1994,\n",
              "       2003, 1997, 1983, 1979, 1995, 1982, 1985, 1992, 1986, 1978, 1980,\n",
              "       1952, 1987, 1990, 1981, 1989, 1984, 0, 1968, 1961, 1958, 1974,\n",
              "       1976, 1971, 1977, 1975, 1965, 1941, 1970, 1962, 1973, 1972, 1960,\n",
              "       1966, 1920, 1956, 1959, 1953, 1951, 1942, 1963, 1964, 1969, 1954,\n",
              "       1950, 1967, 2005, 1957, 1940, 1937, 1955, 1946, 1936, 1930, 2011,\n",
              "       1925, 1948, 1943, 1947, 1945, 1923, 2020, 1939, 1926, 1938, 2030,\n",
              "       1911, 1904, 1949, 1932, 1928, 1929, 1927, 1931, 1914, 2050, 1934,\n",
              "       1910, 1933, 1902, 1924, 1921, 1900, 2038, 2026, 1944, 1917, 1901,\n",
              "       2010, 1908, 1906, 1935, 1806, 2021, '2000', '1995', '1999', '2004',\n",
              "       '2003', '1990', '1994', '1986', '1989', '2002', '1981', '1993',\n",
              "       '1983', '1982', '1976', '1991', '1977', '1998', '1992', '1996',\n",
              "       '0', '1997', '2001', '1974', '1968', '1987', '1984', '1988',\n",
              "       '1963', '1956', '1970', '1985', '1978', '1973', '1980', '1979',\n",
              "       '1975', '1969', '1961', '1965', '1939', '1958', '1950', '1953',\n",
              "       '1966', '1971', '1959', '1972', '1955', '1957', '1945', '1960',\n",
              "       '1967', '1932', '1924', '1964', '2012', '1911', '1927', '1948',\n",
              "       '1962', '2006', '1952', '1940', '1951', '1931', '1954', '2005',\n",
              "       '1930', '1941', '1944', 'DK Publishing Inc', '1943', '1938',\n",
              "       '1900', '1942', '1923', '1920', '1933', 'Gallimard', '1909',\n",
              "       '1946', '2008', '1378', '2030', '1936', '1947', '2011', '2020',\n",
              "       '1919', '1949', '1922', '1897', '2024', '1376', '1926', '2037'],\n",
              "      dtype=object)"
            ]
          },
          "metadata": {},
          "execution_count": 10
        }
      ],
      "source": [
        "books_df['Year-Of-Publication'].unique()"
      ]
    },
    {
      "cell_type": "markdown",
      "metadata": {
        "id": "GOBfDU0iowl9"
      },
      "source": [
        "*We can observe that Year-Of-Publication have some misleading values and Publisher values for those column is replaced by Image-URL. Author have publishing year*"
      ]
    },
    {
      "cell_type": "code",
      "execution_count": null,
      "metadata": {
        "colab": {
          "base_uri": "https://localhost:8080/",
          "height": 214
        },
        "id": "z9YAswwcn3it",
        "outputId": "a7de1146-1aaa-4a03-b0fd-62d1bdca8f32"
      },
      "outputs": [
        {
          "output_type": "execute_result",
          "data": {
            "text/plain": [
              "              ISBN                                         Book-Title  \\\n",
              "220731  2070426769  Peuple du ciel, suivi de 'Les Bergers\\\";Jean-M...   \n",
              "\n",
              "       Book-Author Year-Of-Publication  \\\n",
              "220731        2003           Gallimard   \n",
              "\n",
              "                                                Publisher  \\\n",
              "220731  http://images.amazon.com/images/P/2070426769.0...   \n",
              "\n",
              "                                              Image-URL-S  \\\n",
              "220731  http://images.amazon.com/images/P/2070426769.0...   \n",
              "\n",
              "                                              Image-URL-M Image-URL-L  \n",
              "220731  http://images.amazon.com/images/P/2070426769.0...         NaN  "
            ],
            "text/html": [
              "\n",
              "  <div id=\"df-8fe8f655-ba13-40ff-a538-fcc5c4f99b40\">\n",
              "    <div class=\"colab-df-container\">\n",
              "      <div>\n",
              "<style scoped>\n",
              "    .dataframe tbody tr th:only-of-type {\n",
              "        vertical-align: middle;\n",
              "    }\n",
              "\n",
              "    .dataframe tbody tr th {\n",
              "        vertical-align: top;\n",
              "    }\n",
              "\n",
              "    .dataframe thead th {\n",
              "        text-align: right;\n",
              "    }\n",
              "</style>\n",
              "<table border=\"1\" class=\"dataframe\">\n",
              "  <thead>\n",
              "    <tr style=\"text-align: right;\">\n",
              "      <th></th>\n",
              "      <th>ISBN</th>\n",
              "      <th>Book-Title</th>\n",
              "      <th>Book-Author</th>\n",
              "      <th>Year-Of-Publication</th>\n",
              "      <th>Publisher</th>\n",
              "      <th>Image-URL-S</th>\n",
              "      <th>Image-URL-M</th>\n",
              "      <th>Image-URL-L</th>\n",
              "    </tr>\n",
              "  </thead>\n",
              "  <tbody>\n",
              "    <tr>\n",
              "      <th>220731</th>\n",
              "      <td>2070426769</td>\n",
              "      <td>Peuple du ciel, suivi de 'Les Bergers\\\";Jean-M...</td>\n",
              "      <td>2003</td>\n",
              "      <td>Gallimard</td>\n",
              "      <td>http://images.amazon.com/images/P/2070426769.0...</td>\n",
              "      <td>http://images.amazon.com/images/P/2070426769.0...</td>\n",
              "      <td>http://images.amazon.com/images/P/2070426769.0...</td>\n",
              "      <td>NaN</td>\n",
              "    </tr>\n",
              "  </tbody>\n",
              "</table>\n",
              "</div>\n",
              "      <button class=\"colab-df-convert\" onclick=\"convertToInteractive('df-8fe8f655-ba13-40ff-a538-fcc5c4f99b40')\"\n",
              "              title=\"Convert this dataframe to an interactive table.\"\n",
              "              style=\"display:none;\">\n",
              "        \n",
              "  <svg xmlns=\"http://www.w3.org/2000/svg\" height=\"24px\"viewBox=\"0 0 24 24\"\n",
              "       width=\"24px\">\n",
              "    <path d=\"M0 0h24v24H0V0z\" fill=\"none\"/>\n",
              "    <path d=\"M18.56 5.44l.94 2.06.94-2.06 2.06-.94-2.06-.94-.94-2.06-.94 2.06-2.06.94zm-11 1L8.5 8.5l.94-2.06 2.06-.94-2.06-.94L8.5 2.5l-.94 2.06-2.06.94zm10 10l.94 2.06.94-2.06 2.06-.94-2.06-.94-.94-2.06-.94 2.06-2.06.94z\"/><path d=\"M17.41 7.96l-1.37-1.37c-.4-.4-.92-.59-1.43-.59-.52 0-1.04.2-1.43.59L10.3 9.45l-7.72 7.72c-.78.78-.78 2.05 0 2.83L4 21.41c.39.39.9.59 1.41.59.51 0 1.02-.2 1.41-.59l7.78-7.78 2.81-2.81c.8-.78.8-2.07 0-2.86zM5.41 20L4 18.59l7.72-7.72 1.47 1.35L5.41 20z\"/>\n",
              "  </svg>\n",
              "      </button>\n",
              "      \n",
              "  <style>\n",
              "    .colab-df-container {\n",
              "      display:flex;\n",
              "      flex-wrap:wrap;\n",
              "      gap: 12px;\n",
              "    }\n",
              "\n",
              "    .colab-df-convert {\n",
              "      background-color: #E8F0FE;\n",
              "      border: none;\n",
              "      border-radius: 50%;\n",
              "      cursor: pointer;\n",
              "      display: none;\n",
              "      fill: #1967D2;\n",
              "      height: 32px;\n",
              "      padding: 0 0 0 0;\n",
              "      width: 32px;\n",
              "    }\n",
              "\n",
              "    .colab-df-convert:hover {\n",
              "      background-color: #E2EBFA;\n",
              "      box-shadow: 0px 1px 2px rgba(60, 64, 67, 0.3), 0px 1px 3px 1px rgba(60, 64, 67, 0.15);\n",
              "      fill: #174EA6;\n",
              "    }\n",
              "\n",
              "    [theme=dark] .colab-df-convert {\n",
              "      background-color: #3B4455;\n",
              "      fill: #D2E3FC;\n",
              "    }\n",
              "\n",
              "    [theme=dark] .colab-df-convert:hover {\n",
              "      background-color: #434B5C;\n",
              "      box-shadow: 0px 1px 3px 1px rgba(0, 0, 0, 0.15);\n",
              "      filter: drop-shadow(0px 1px 2px rgba(0, 0, 0, 0.3));\n",
              "      fill: #FFFFFF;\n",
              "    }\n",
              "  </style>\n",
              "\n",
              "      <script>\n",
              "        const buttonEl =\n",
              "          document.querySelector('#df-8fe8f655-ba13-40ff-a538-fcc5c4f99b40 button.colab-df-convert');\n",
              "        buttonEl.style.display =\n",
              "          google.colab.kernel.accessAllowed ? 'block' : 'none';\n",
              "\n",
              "        async function convertToInteractive(key) {\n",
              "          const element = document.querySelector('#df-8fe8f655-ba13-40ff-a538-fcc5c4f99b40');\n",
              "          const dataTable =\n",
              "            await google.colab.kernel.invokeFunction('convertToInteractive',\n",
              "                                                     [key], {});\n",
              "          if (!dataTable) return;\n",
              "\n",
              "          const docLinkHtml = 'Like what you see? Visit the ' +\n",
              "            '<a target=\"_blank\" href=https://colab.research.google.com/notebooks/data_table.ipynb>data table notebook</a>'\n",
              "            + ' to learn more about interactive tables.';\n",
              "          element.innerHTML = '';\n",
              "          dataTable['output_type'] = 'display_data';\n",
              "          await google.colab.output.renderOutput(dataTable, element);\n",
              "          const docLink = document.createElement('div');\n",
              "          docLink.innerHTML = docLinkHtml;\n",
              "          element.appendChild(docLink);\n",
              "        }\n",
              "      </script>\n",
              "    </div>\n",
              "  </div>\n",
              "  "
            ]
          },
          "metadata": {},
          "execution_count": 11
        }
      ],
      "source": [
        "books_df[books_df['Year-Of-Publication'] == 'Gallimard']"
      ]
    },
    {
      "cell_type": "code",
      "execution_count": null,
      "metadata": {
        "colab": {
          "base_uri": "https://localhost:8080/",
          "height": 419
        },
        "id": "aK-7ISgIobSg",
        "outputId": "6c0971b1-5727-42da-c9d7-eee21f4aaa04"
      },
      "outputs": [
        {
          "output_type": "execute_result",
          "data": {
            "text/plain": [
              "              ISBN                                         Book-Title  \\\n",
              "209538  078946697X  DK Readers: Creating the X-Men, How It All Beg...   \n",
              "221678  0789466953  DK Readers: Creating the X-Men, How Comic Book...   \n",
              "\n",
              "       Book-Author Year-Of-Publication  \\\n",
              "209538        2000   DK Publishing Inc   \n",
              "221678        2000   DK Publishing Inc   \n",
              "\n",
              "                                                Publisher  \\\n",
              "209538  http://images.amazon.com/images/P/078946697X.0...   \n",
              "221678  http://images.amazon.com/images/P/0789466953.0...   \n",
              "\n",
              "                                              Image-URL-S  \\\n",
              "209538  http://images.amazon.com/images/P/078946697X.0...   \n",
              "221678  http://images.amazon.com/images/P/0789466953.0...   \n",
              "\n",
              "                                              Image-URL-M Image-URL-L  \n",
              "209538  http://images.amazon.com/images/P/078946697X.0...         NaN  \n",
              "221678  http://images.amazon.com/images/P/0789466953.0...         NaN  "
            ],
            "text/html": [
              "\n",
              "  <div id=\"df-6c023268-1104-4bcd-9619-12af5d0efa4e\">\n",
              "    <div class=\"colab-df-container\">\n",
              "      <div>\n",
              "<style scoped>\n",
              "    .dataframe tbody tr th:only-of-type {\n",
              "        vertical-align: middle;\n",
              "    }\n",
              "\n",
              "    .dataframe tbody tr th {\n",
              "        vertical-align: top;\n",
              "    }\n",
              "\n",
              "    .dataframe thead th {\n",
              "        text-align: right;\n",
              "    }\n",
              "</style>\n",
              "<table border=\"1\" class=\"dataframe\">\n",
              "  <thead>\n",
              "    <tr style=\"text-align: right;\">\n",
              "      <th></th>\n",
              "      <th>ISBN</th>\n",
              "      <th>Book-Title</th>\n",
              "      <th>Book-Author</th>\n",
              "      <th>Year-Of-Publication</th>\n",
              "      <th>Publisher</th>\n",
              "      <th>Image-URL-S</th>\n",
              "      <th>Image-URL-M</th>\n",
              "      <th>Image-URL-L</th>\n",
              "    </tr>\n",
              "  </thead>\n",
              "  <tbody>\n",
              "    <tr>\n",
              "      <th>209538</th>\n",
              "      <td>078946697X</td>\n",
              "      <td>DK Readers: Creating the X-Men, How It All Beg...</td>\n",
              "      <td>2000</td>\n",
              "      <td>DK Publishing Inc</td>\n",
              "      <td>http://images.amazon.com/images/P/078946697X.0...</td>\n",
              "      <td>http://images.amazon.com/images/P/078946697X.0...</td>\n",
              "      <td>http://images.amazon.com/images/P/078946697X.0...</td>\n",
              "      <td>NaN</td>\n",
              "    </tr>\n",
              "    <tr>\n",
              "      <th>221678</th>\n",
              "      <td>0789466953</td>\n",
              "      <td>DK Readers: Creating the X-Men, How Comic Book...</td>\n",
              "      <td>2000</td>\n",
              "      <td>DK Publishing Inc</td>\n",
              "      <td>http://images.amazon.com/images/P/0789466953.0...</td>\n",
              "      <td>http://images.amazon.com/images/P/0789466953.0...</td>\n",
              "      <td>http://images.amazon.com/images/P/0789466953.0...</td>\n",
              "      <td>NaN</td>\n",
              "    </tr>\n",
              "  </tbody>\n",
              "</table>\n",
              "</div>\n",
              "      <button class=\"colab-df-convert\" onclick=\"convertToInteractive('df-6c023268-1104-4bcd-9619-12af5d0efa4e')\"\n",
              "              title=\"Convert this dataframe to an interactive table.\"\n",
              "              style=\"display:none;\">\n",
              "        \n",
              "  <svg xmlns=\"http://www.w3.org/2000/svg\" height=\"24px\"viewBox=\"0 0 24 24\"\n",
              "       width=\"24px\">\n",
              "    <path d=\"M0 0h24v24H0V0z\" fill=\"none\"/>\n",
              "    <path d=\"M18.56 5.44l.94 2.06.94-2.06 2.06-.94-2.06-.94-.94-2.06-.94 2.06-2.06.94zm-11 1L8.5 8.5l.94-2.06 2.06-.94-2.06-.94L8.5 2.5l-.94 2.06-2.06.94zm10 10l.94 2.06.94-2.06 2.06-.94-2.06-.94-.94-2.06-.94 2.06-2.06.94z\"/><path d=\"M17.41 7.96l-1.37-1.37c-.4-.4-.92-.59-1.43-.59-.52 0-1.04.2-1.43.59L10.3 9.45l-7.72 7.72c-.78.78-.78 2.05 0 2.83L4 21.41c.39.39.9.59 1.41.59.51 0 1.02-.2 1.41-.59l7.78-7.78 2.81-2.81c.8-.78.8-2.07 0-2.86zM5.41 20L4 18.59l7.72-7.72 1.47 1.35L5.41 20z\"/>\n",
              "  </svg>\n",
              "      </button>\n",
              "      \n",
              "  <style>\n",
              "    .colab-df-container {\n",
              "      display:flex;\n",
              "      flex-wrap:wrap;\n",
              "      gap: 12px;\n",
              "    }\n",
              "\n",
              "    .colab-df-convert {\n",
              "      background-color: #E8F0FE;\n",
              "      border: none;\n",
              "      border-radius: 50%;\n",
              "      cursor: pointer;\n",
              "      display: none;\n",
              "      fill: #1967D2;\n",
              "      height: 32px;\n",
              "      padding: 0 0 0 0;\n",
              "      width: 32px;\n",
              "    }\n",
              "\n",
              "    .colab-df-convert:hover {\n",
              "      background-color: #E2EBFA;\n",
              "      box-shadow: 0px 1px 2px rgba(60, 64, 67, 0.3), 0px 1px 3px 1px rgba(60, 64, 67, 0.15);\n",
              "      fill: #174EA6;\n",
              "    }\n",
              "\n",
              "    [theme=dark] .colab-df-convert {\n",
              "      background-color: #3B4455;\n",
              "      fill: #D2E3FC;\n",
              "    }\n",
              "\n",
              "    [theme=dark] .colab-df-convert:hover {\n",
              "      background-color: #434B5C;\n",
              "      box-shadow: 0px 1px 3px 1px rgba(0, 0, 0, 0.15);\n",
              "      filter: drop-shadow(0px 1px 2px rgba(0, 0, 0, 0.3));\n",
              "      fill: #FFFFFF;\n",
              "    }\n",
              "  </style>\n",
              "\n",
              "      <script>\n",
              "        const buttonEl =\n",
              "          document.querySelector('#df-6c023268-1104-4bcd-9619-12af5d0efa4e button.colab-df-convert');\n",
              "        buttonEl.style.display =\n",
              "          google.colab.kernel.accessAllowed ? 'block' : 'none';\n",
              "\n",
              "        async function convertToInteractive(key) {\n",
              "          const element = document.querySelector('#df-6c023268-1104-4bcd-9619-12af5d0efa4e');\n",
              "          const dataTable =\n",
              "            await google.colab.kernel.invokeFunction('convertToInteractive',\n",
              "                                                     [key], {});\n",
              "          if (!dataTable) return;\n",
              "\n",
              "          const docLinkHtml = 'Like what you see? Visit the ' +\n",
              "            '<a target=\"_blank\" href=https://colab.research.google.com/notebooks/data_table.ipynb>data table notebook</a>'\n",
              "            + ' to learn more about interactive tables.';\n",
              "          element.innerHTML = '';\n",
              "          dataTable['output_type'] = 'display_data';\n",
              "          await google.colab.output.renderOutput(dataTable, element);\n",
              "          const docLink = document.createElement('div');\n",
              "          docLink.innerHTML = docLinkHtml;\n",
              "          element.appendChild(docLink);\n",
              "        }\n",
              "      </script>\n",
              "    </div>\n",
              "  </div>\n",
              "  "
            ]
          },
          "metadata": {},
          "execution_count": 12
        }
      ],
      "source": [
        "books_df[books_df['Year-Of-Publication'] == 'DK Publishing Inc']"
      ]
    },
    {
      "cell_type": "code",
      "execution_count": null,
      "metadata": {
        "id": "5mf3y4LcpyTl"
      },
      "outputs": [],
      "source": [
        "## Replacing Year-Of-Publication misleading values to actual year it was published which is given in Book-Author column\n",
        "books_df.loc[(books_df['Year-Of-Publication'] == 'DK Publishing Inc'), 'Year-Of-Publication'] = 2000\n",
        "books_df.loc[(books_df['Year-Of-Publication'] == 'Gallimard'), 'Year-Of-Publication'] = 2003"
      ]
    },
    {
      "cell_type": "code",
      "execution_count": null,
      "metadata": {
        "colab": {
          "base_uri": "https://localhost:8080/"
        },
        "id": "wzOqhExerrzS",
        "outputId": "aa88e9a7-bf06-4cd4-927f-a08ab9e96b54"
      },
      "outputs": [
        {
          "output_type": "execute_result",
          "data": {
            "text/plain": [
              "array([2002, 2001, 1991, 1999, 2000, 1993, 1996, 1988, 2004, 1998, 1994,\n",
              "       2003, 1997, 1983, 1979, 1995, 1982, 1985, 1992, 1986, 1978, 1980,\n",
              "       1952, 1987, 1990, 1981, 1989, 1984, 0, 1968, 1961, 1958, 1974,\n",
              "       1976, 1971, 1977, 1975, 1965, 1941, 1970, 1962, 1973, 1972, 1960,\n",
              "       1966, 1920, 1956, 1959, 1953, 1951, 1942, 1963, 1964, 1969, 1954,\n",
              "       1950, 1967, 2005, 1957, 1940, 1937, 1955, 1946, 1936, 1930, 2011,\n",
              "       1925, 1948, 1943, 1947, 1945, 1923, 2020, 1939, 1926, 1938, 2030,\n",
              "       1911, 1904, 1949, 1932, 1928, 1929, 1927, 1931, 1914, 2050, 1934,\n",
              "       1910, 1933, 1902, 1924, 1921, 1900, 2038, 2026, 1944, 1917, 1901,\n",
              "       2010, 1908, 1906, 1935, 1806, 2021, '2000', '1995', '1999', '2004',\n",
              "       '2003', '1990', '1994', '1986', '1989', '2002', '1981', '1993',\n",
              "       '1983', '1982', '1976', '1991', '1977', '1998', '1992', '1996',\n",
              "       '0', '1997', '2001', '1974', '1968', '1987', '1984', '1988',\n",
              "       '1963', '1956', '1970', '1985', '1978', '1973', '1980', '1979',\n",
              "       '1975', '1969', '1961', '1965', '1939', '1958', '1950', '1953',\n",
              "       '1966', '1971', '1959', '1972', '1955', '1957', '1945', '1960',\n",
              "       '1967', '1932', '1924', '1964', '2012', '1911', '1927', '1948',\n",
              "       '1962', '2006', '1952', '1940', '1951', '1931', '1954', '2005',\n",
              "       '1930', '1941', '1944', '1943', '1938', '1900', '1942', '1923',\n",
              "       '1920', '1933', '1909', '1946', '2008', '1378', '2030', '1936',\n",
              "       '1947', '2011', '2020', '1919', '1949', '1922', '1897', '2024',\n",
              "       '1376', '1926', '2037'], dtype=object)"
            ]
          },
          "metadata": {},
          "execution_count": 14
        }
      ],
      "source": [
        "books_df['Year-Of-Publication'].unique()"
      ]
    },
    {
      "cell_type": "code",
      "execution_count": null,
      "metadata": {
        "id": "E-xz00hTsKRR"
      },
      "outputs": [],
      "source": [
        "books_df['Year-Of-Publication'] = books_df['Year-Of-Publication'].astype('int')"
      ]
    },
    {
      "cell_type": "code",
      "source": [
        "books_df['Year-Of-Publication'].unique()"
      ],
      "metadata": {
        "colab": {
          "base_uri": "https://localhost:8080/"
        },
        "id": "eKBKyiyJXnk7",
        "outputId": "21f0c9fd-1af6-4b4e-f4f8-a22f6553fb4b"
      },
      "execution_count": null,
      "outputs": [
        {
          "output_type": "execute_result",
          "data": {
            "text/plain": [
              "array([2002, 2001, 1991, 1999, 2000, 1993, 1996, 1988, 2004, 1998, 1994,\n",
              "       2003, 1997, 1983, 1979, 1995, 1982, 1985, 1992, 1986, 1978, 1980,\n",
              "       1952, 1987, 1990, 1981, 1989, 1984,    0, 1968, 1961, 1958, 1974,\n",
              "       1976, 1971, 1977, 1975, 1965, 1941, 1970, 1962, 1973, 1972, 1960,\n",
              "       1966, 1920, 1956, 1959, 1953, 1951, 1942, 1963, 1964, 1969, 1954,\n",
              "       1950, 1967, 2005, 1957, 1940, 1937, 1955, 1946, 1936, 1930, 2011,\n",
              "       1925, 1948, 1943, 1947, 1945, 1923, 2020, 1939, 1926, 1938, 2030,\n",
              "       1911, 1904, 1949, 1932, 1928, 1929, 1927, 1931, 1914, 2050, 1934,\n",
              "       1910, 1933, 1902, 1924, 1921, 1900, 2038, 2026, 1944, 1917, 1901,\n",
              "       2010, 1908, 1906, 1935, 1806, 2021, 2012, 2006, 1909, 2008, 1378,\n",
              "       1919, 1922, 1897, 2024, 1376, 2037])"
            ]
          },
          "metadata": {},
          "execution_count": 16
        }
      ]
    },
    {
      "cell_type": "markdown",
      "source": [
        "*116 unique values present. But now too there is misleading values. Such as year is 0 or even year is 2024,2038, etc. Let's handle this now.*"
      ],
      "metadata": {
        "id": "qV_NgWrdXwcf"
      }
    },
    {
      "cell_type": "code",
      "source": [
        "books_df.loc[(books_df['Year-Of-Publication'] == 0) | (books_df['Year-Of-Publication'] > 2022)].nunique()"
      ],
      "metadata": {
        "colab": {
          "base_uri": "https://localhost:8080/"
        },
        "id": "wPYE3dgxYF70",
        "outputId": "74386921-c4b0-473c-da63-3d4fc14a959a"
      },
      "execution_count": null,
      "outputs": [
        {
          "output_type": "execute_result",
          "data": {
            "text/plain": [
              "ISBN                   4631\n",
              "Book-Title             4485\n",
              "Book-Author            3314\n",
              "Year-Of-Publication       7\n",
              "Publisher              1002\n",
              "Image-URL-S            4624\n",
              "Image-URL-M            4624\n",
              "Image-URL-L            4624\n",
              "dtype: int64"
            ]
          },
          "metadata": {},
          "execution_count": 17
        }
      ]
    },
    {
      "cell_type": "markdown",
      "source": [
        "*Thus, there are total 7 years where value is either 0 or greater than 2022. Let's change that value with np.nan*"
      ],
      "metadata": {
        "id": "Go1EazVDdbcT"
      }
    },
    {
      "cell_type": "code",
      "source": [
        "books_df.loc[(books_df['Year-Of-Publication'] == 0) | (books_df['Year-Of-Publication'] > 2022), 'Year-Of-Publication'] = np.nan"
      ],
      "metadata": {
        "id": "ND-kn-5xdl2L"
      },
      "execution_count": null,
      "outputs": []
    },
    {
      "cell_type": "code",
      "source": [
        "books_df.loc[(books_df['Year-Of-Publication'] == 0) | (books_df['Year-Of-Publication'] > 2022)].nunique()"
      ],
      "metadata": {
        "colab": {
          "base_uri": "https://localhost:8080/"
        },
        "id": "zyX35CcKdo07",
        "outputId": "bc1afaf3-42a8-451b-f733-362216d42eda"
      },
      "execution_count": null,
      "outputs": [
        {
          "output_type": "execute_result",
          "data": {
            "text/plain": [
              "ISBN                   0\n",
              "Book-Title             0\n",
              "Book-Author            0\n",
              "Year-Of-Publication    0\n",
              "Publisher              0\n",
              "Image-URL-S            0\n",
              "Image-URL-M            0\n",
              "Image-URL-L            0\n",
              "dtype: int64"
            ]
          },
          "metadata": {},
          "execution_count": 19
        }
      ]
    },
    {
      "cell_type": "code",
      "source": [
        "books_df.isna().sum()"
      ],
      "metadata": {
        "colab": {
          "base_uri": "https://localhost:8080/"
        },
        "id": "GZfwDHBchn9h",
        "outputId": "8bc788da-3351-4be6-d8ef-94f75f212e85"
      },
      "execution_count": null,
      "outputs": [
        {
          "output_type": "execute_result",
          "data": {
            "text/plain": [
              "ISBN                      0\n",
              "Book-Title                0\n",
              "Book-Author               1\n",
              "Year-Of-Publication    4631\n",
              "Publisher                 2\n",
              "Image-URL-S               0\n",
              "Image-URL-M               0\n",
              "Image-URL-L               3\n",
              "dtype: int64"
            ]
          },
          "metadata": {},
          "execution_count": 20
        }
      ]
    },
    {
      "cell_type": "markdown",
      "source": [
        "*There are many nan values, let's replace it with the mean*"
      ],
      "metadata": {
        "id": "qqOF_C6-Acfu"
      }
    },
    {
      "cell_type": "code",
      "source": [
        "books_df['Year-Of-Publication'].fillna(round(books_df['Year-Of-Publication'].mean()), inplace = True)"
      ],
      "metadata": {
        "id": "6k3uYYS8WFpZ"
      },
      "execution_count": null,
      "outputs": []
    },
    {
      "cell_type": "code",
      "source": [
        "books_df.isna().sum()"
      ],
      "metadata": {
        "colab": {
          "base_uri": "https://localhost:8080/"
        },
        "id": "EYvcr0p_BB3N",
        "outputId": "025c0ee5-ffcb-4fc3-ff3b-4b9ea5ed5be5"
      },
      "execution_count": null,
      "outputs": [
        {
          "output_type": "execute_result",
          "data": {
            "text/plain": [
              "ISBN                   0\n",
              "Book-Title             0\n",
              "Book-Author            1\n",
              "Year-Of-Publication    0\n",
              "Publisher              2\n",
              "Image-URL-S            0\n",
              "Image-URL-M            0\n",
              "Image-URL-L            3\n",
              "dtype: int64"
            ]
          },
          "metadata": {},
          "execution_count": 22
        }
      ]
    },
    {
      "cell_type": "code",
      "source": [
        "books_df.head()"
      ],
      "metadata": {
        "colab": {
          "base_uri": "https://localhost:8080/",
          "height": 478
        },
        "id": "LXuMHJ79BErT",
        "outputId": "cdd97901-4d74-4398-82d6-d1d5674b6723"
      },
      "execution_count": null,
      "outputs": [
        {
          "output_type": "execute_result",
          "data": {
            "text/plain": [
              "         ISBN                                         Book-Title  \\\n",
              "0  0195153448                                Classical Mythology   \n",
              "1  0002005018                                       Clara Callan   \n",
              "2  0060973129                               Decision in Normandy   \n",
              "3  0374157065  Flu: The Story of the Great Influenza Pandemic...   \n",
              "4  0393045218                             The Mummies of Urumchi   \n",
              "\n",
              "            Book-Author  Year-Of-Publication                   Publisher  \\\n",
              "0    Mark P. O. Morford               2002.0     Oxford University Press   \n",
              "1  Richard Bruce Wright               2001.0       HarperFlamingo Canada   \n",
              "2          Carlo D'Este               1991.0             HarperPerennial   \n",
              "3      Gina Bari Kolata               1999.0        Farrar Straus Giroux   \n",
              "4       E. J. W. Barber               1999.0  W. W. Norton &amp; Company   \n",
              "\n",
              "                                         Image-URL-S  \\\n",
              "0  http://images.amazon.com/images/P/0195153448.0...   \n",
              "1  http://images.amazon.com/images/P/0002005018.0...   \n",
              "2  http://images.amazon.com/images/P/0060973129.0...   \n",
              "3  http://images.amazon.com/images/P/0374157065.0...   \n",
              "4  http://images.amazon.com/images/P/0393045218.0...   \n",
              "\n",
              "                                         Image-URL-M  \\\n",
              "0  http://images.amazon.com/images/P/0195153448.0...   \n",
              "1  http://images.amazon.com/images/P/0002005018.0...   \n",
              "2  http://images.amazon.com/images/P/0060973129.0...   \n",
              "3  http://images.amazon.com/images/P/0374157065.0...   \n",
              "4  http://images.amazon.com/images/P/0393045218.0...   \n",
              "\n",
              "                                         Image-URL-L  \n",
              "0  http://images.amazon.com/images/P/0195153448.0...  \n",
              "1  http://images.amazon.com/images/P/0002005018.0...  \n",
              "2  http://images.amazon.com/images/P/0060973129.0...  \n",
              "3  http://images.amazon.com/images/P/0374157065.0...  \n",
              "4  http://images.amazon.com/images/P/0393045218.0...  "
            ],
            "text/html": [
              "\n",
              "  <div id=\"df-eacb9a3b-f495-4d75-aa90-a4c530718b46\">\n",
              "    <div class=\"colab-df-container\">\n",
              "      <div>\n",
              "<style scoped>\n",
              "    .dataframe tbody tr th:only-of-type {\n",
              "        vertical-align: middle;\n",
              "    }\n",
              "\n",
              "    .dataframe tbody tr th {\n",
              "        vertical-align: top;\n",
              "    }\n",
              "\n",
              "    .dataframe thead th {\n",
              "        text-align: right;\n",
              "    }\n",
              "</style>\n",
              "<table border=\"1\" class=\"dataframe\">\n",
              "  <thead>\n",
              "    <tr style=\"text-align: right;\">\n",
              "      <th></th>\n",
              "      <th>ISBN</th>\n",
              "      <th>Book-Title</th>\n",
              "      <th>Book-Author</th>\n",
              "      <th>Year-Of-Publication</th>\n",
              "      <th>Publisher</th>\n",
              "      <th>Image-URL-S</th>\n",
              "      <th>Image-URL-M</th>\n",
              "      <th>Image-URL-L</th>\n",
              "    </tr>\n",
              "  </thead>\n",
              "  <tbody>\n",
              "    <tr>\n",
              "      <th>0</th>\n",
              "      <td>0195153448</td>\n",
              "      <td>Classical Mythology</td>\n",
              "      <td>Mark P. O. Morford</td>\n",
              "      <td>2002.0</td>\n",
              "      <td>Oxford University Press</td>\n",
              "      <td>http://images.amazon.com/images/P/0195153448.0...</td>\n",
              "      <td>http://images.amazon.com/images/P/0195153448.0...</td>\n",
              "      <td>http://images.amazon.com/images/P/0195153448.0...</td>\n",
              "    </tr>\n",
              "    <tr>\n",
              "      <th>1</th>\n",
              "      <td>0002005018</td>\n",
              "      <td>Clara Callan</td>\n",
              "      <td>Richard Bruce Wright</td>\n",
              "      <td>2001.0</td>\n",
              "      <td>HarperFlamingo Canada</td>\n",
              "      <td>http://images.amazon.com/images/P/0002005018.0...</td>\n",
              "      <td>http://images.amazon.com/images/P/0002005018.0...</td>\n",
              "      <td>http://images.amazon.com/images/P/0002005018.0...</td>\n",
              "    </tr>\n",
              "    <tr>\n",
              "      <th>2</th>\n",
              "      <td>0060973129</td>\n",
              "      <td>Decision in Normandy</td>\n",
              "      <td>Carlo D'Este</td>\n",
              "      <td>1991.0</td>\n",
              "      <td>HarperPerennial</td>\n",
              "      <td>http://images.amazon.com/images/P/0060973129.0...</td>\n",
              "      <td>http://images.amazon.com/images/P/0060973129.0...</td>\n",
              "      <td>http://images.amazon.com/images/P/0060973129.0...</td>\n",
              "    </tr>\n",
              "    <tr>\n",
              "      <th>3</th>\n",
              "      <td>0374157065</td>\n",
              "      <td>Flu: The Story of the Great Influenza Pandemic...</td>\n",
              "      <td>Gina Bari Kolata</td>\n",
              "      <td>1999.0</td>\n",
              "      <td>Farrar Straus Giroux</td>\n",
              "      <td>http://images.amazon.com/images/P/0374157065.0...</td>\n",
              "      <td>http://images.amazon.com/images/P/0374157065.0...</td>\n",
              "      <td>http://images.amazon.com/images/P/0374157065.0...</td>\n",
              "    </tr>\n",
              "    <tr>\n",
              "      <th>4</th>\n",
              "      <td>0393045218</td>\n",
              "      <td>The Mummies of Urumchi</td>\n",
              "      <td>E. J. W. Barber</td>\n",
              "      <td>1999.0</td>\n",
              "      <td>W. W. Norton &amp;amp; Company</td>\n",
              "      <td>http://images.amazon.com/images/P/0393045218.0...</td>\n",
              "      <td>http://images.amazon.com/images/P/0393045218.0...</td>\n",
              "      <td>http://images.amazon.com/images/P/0393045218.0...</td>\n",
              "    </tr>\n",
              "  </tbody>\n",
              "</table>\n",
              "</div>\n",
              "      <button class=\"colab-df-convert\" onclick=\"convertToInteractive('df-eacb9a3b-f495-4d75-aa90-a4c530718b46')\"\n",
              "              title=\"Convert this dataframe to an interactive table.\"\n",
              "              style=\"display:none;\">\n",
              "        \n",
              "  <svg xmlns=\"http://www.w3.org/2000/svg\" height=\"24px\"viewBox=\"0 0 24 24\"\n",
              "       width=\"24px\">\n",
              "    <path d=\"M0 0h24v24H0V0z\" fill=\"none\"/>\n",
              "    <path d=\"M18.56 5.44l.94 2.06.94-2.06 2.06-.94-2.06-.94-.94-2.06-.94 2.06-2.06.94zm-11 1L8.5 8.5l.94-2.06 2.06-.94-2.06-.94L8.5 2.5l-.94 2.06-2.06.94zm10 10l.94 2.06.94-2.06 2.06-.94-2.06-.94-.94-2.06-.94 2.06-2.06.94z\"/><path d=\"M17.41 7.96l-1.37-1.37c-.4-.4-.92-.59-1.43-.59-.52 0-1.04.2-1.43.59L10.3 9.45l-7.72 7.72c-.78.78-.78 2.05 0 2.83L4 21.41c.39.39.9.59 1.41.59.51 0 1.02-.2 1.41-.59l7.78-7.78 2.81-2.81c.8-.78.8-2.07 0-2.86zM5.41 20L4 18.59l7.72-7.72 1.47 1.35L5.41 20z\"/>\n",
              "  </svg>\n",
              "      </button>\n",
              "      \n",
              "  <style>\n",
              "    .colab-df-container {\n",
              "      display:flex;\n",
              "      flex-wrap:wrap;\n",
              "      gap: 12px;\n",
              "    }\n",
              "\n",
              "    .colab-df-convert {\n",
              "      background-color: #E8F0FE;\n",
              "      border: none;\n",
              "      border-radius: 50%;\n",
              "      cursor: pointer;\n",
              "      display: none;\n",
              "      fill: #1967D2;\n",
              "      height: 32px;\n",
              "      padding: 0 0 0 0;\n",
              "      width: 32px;\n",
              "    }\n",
              "\n",
              "    .colab-df-convert:hover {\n",
              "      background-color: #E2EBFA;\n",
              "      box-shadow: 0px 1px 2px rgba(60, 64, 67, 0.3), 0px 1px 3px 1px rgba(60, 64, 67, 0.15);\n",
              "      fill: #174EA6;\n",
              "    }\n",
              "\n",
              "    [theme=dark] .colab-df-convert {\n",
              "      background-color: #3B4455;\n",
              "      fill: #D2E3FC;\n",
              "    }\n",
              "\n",
              "    [theme=dark] .colab-df-convert:hover {\n",
              "      background-color: #434B5C;\n",
              "      box-shadow: 0px 1px 3px 1px rgba(0, 0, 0, 0.15);\n",
              "      filter: drop-shadow(0px 1px 2px rgba(0, 0, 0, 0.3));\n",
              "      fill: #FFFFFF;\n",
              "    }\n",
              "  </style>\n",
              "\n",
              "      <script>\n",
              "        const buttonEl =\n",
              "          document.querySelector('#df-eacb9a3b-f495-4d75-aa90-a4c530718b46 button.colab-df-convert');\n",
              "        buttonEl.style.display =\n",
              "          google.colab.kernel.accessAllowed ? 'block' : 'none';\n",
              "\n",
              "        async function convertToInteractive(key) {\n",
              "          const element = document.querySelector('#df-eacb9a3b-f495-4d75-aa90-a4c530718b46');\n",
              "          const dataTable =\n",
              "            await google.colab.kernel.invokeFunction('convertToInteractive',\n",
              "                                                     [key], {});\n",
              "          if (!dataTable) return;\n",
              "\n",
              "          const docLinkHtml = 'Like what you see? Visit the ' +\n",
              "            '<a target=\"_blank\" href=https://colab.research.google.com/notebooks/data_table.ipynb>data table notebook</a>'\n",
              "            + ' to learn more about interactive tables.';\n",
              "          element.innerHTML = '';\n",
              "          dataTable['output_type'] = 'display_data';\n",
              "          await google.colab.output.renderOutput(dataTable, element);\n",
              "          const docLink = document.createElement('div');\n",
              "          docLink.innerHTML = docLinkHtml;\n",
              "          element.appendChild(docLink);\n",
              "        }\n",
              "      </script>\n",
              "    </div>\n",
              "  </div>\n",
              "  "
            ]
          },
          "metadata": {},
          "execution_count": 23
        }
      ]
    },
    {
      "cell_type": "markdown",
      "source": [
        "Dropping the unwanted features from books dataframe."
      ],
      "metadata": {
        "id": "qKdfkjJtBT5K"
      }
    },
    {
      "cell_type": "code",
      "source": [
        "books_df.drop(columns = ['Image-URL-S', 'Image-URL-M', 'Image-URL-L'], axis = 1, inplace  = True)"
      ],
      "metadata": {
        "id": "79KE0q0qBKwB"
      },
      "execution_count": null,
      "outputs": []
    },
    {
      "cell_type": "code",
      "source": [
        "books_df.head()"
      ],
      "metadata": {
        "colab": {
          "base_uri": "https://localhost:8080/",
          "height": 206
        },
        "id": "ul8QzfXIBjdM",
        "outputId": "9bb4cbd2-675f-469d-a24f-09673e2a9a8a"
      },
      "execution_count": null,
      "outputs": [
        {
          "output_type": "execute_result",
          "data": {
            "text/plain": [
              "         ISBN                                         Book-Title  \\\n",
              "0  0195153448                                Classical Mythology   \n",
              "1  0002005018                                       Clara Callan   \n",
              "2  0060973129                               Decision in Normandy   \n",
              "3  0374157065  Flu: The Story of the Great Influenza Pandemic...   \n",
              "4  0393045218                             The Mummies of Urumchi   \n",
              "\n",
              "            Book-Author  Year-Of-Publication                   Publisher  \n",
              "0    Mark P. O. Morford               2002.0     Oxford University Press  \n",
              "1  Richard Bruce Wright               2001.0       HarperFlamingo Canada  \n",
              "2          Carlo D'Este               1991.0             HarperPerennial  \n",
              "3      Gina Bari Kolata               1999.0        Farrar Straus Giroux  \n",
              "4       E. J. W. Barber               1999.0  W. W. Norton &amp; Company  "
            ],
            "text/html": [
              "\n",
              "  <div id=\"df-58d9f190-0b43-44d2-ab13-697f56774017\">\n",
              "    <div class=\"colab-df-container\">\n",
              "      <div>\n",
              "<style scoped>\n",
              "    .dataframe tbody tr th:only-of-type {\n",
              "        vertical-align: middle;\n",
              "    }\n",
              "\n",
              "    .dataframe tbody tr th {\n",
              "        vertical-align: top;\n",
              "    }\n",
              "\n",
              "    .dataframe thead th {\n",
              "        text-align: right;\n",
              "    }\n",
              "</style>\n",
              "<table border=\"1\" class=\"dataframe\">\n",
              "  <thead>\n",
              "    <tr style=\"text-align: right;\">\n",
              "      <th></th>\n",
              "      <th>ISBN</th>\n",
              "      <th>Book-Title</th>\n",
              "      <th>Book-Author</th>\n",
              "      <th>Year-Of-Publication</th>\n",
              "      <th>Publisher</th>\n",
              "    </tr>\n",
              "  </thead>\n",
              "  <tbody>\n",
              "    <tr>\n",
              "      <th>0</th>\n",
              "      <td>0195153448</td>\n",
              "      <td>Classical Mythology</td>\n",
              "      <td>Mark P. O. Morford</td>\n",
              "      <td>2002.0</td>\n",
              "      <td>Oxford University Press</td>\n",
              "    </tr>\n",
              "    <tr>\n",
              "      <th>1</th>\n",
              "      <td>0002005018</td>\n",
              "      <td>Clara Callan</td>\n",
              "      <td>Richard Bruce Wright</td>\n",
              "      <td>2001.0</td>\n",
              "      <td>HarperFlamingo Canada</td>\n",
              "    </tr>\n",
              "    <tr>\n",
              "      <th>2</th>\n",
              "      <td>0060973129</td>\n",
              "      <td>Decision in Normandy</td>\n",
              "      <td>Carlo D'Este</td>\n",
              "      <td>1991.0</td>\n",
              "      <td>HarperPerennial</td>\n",
              "    </tr>\n",
              "    <tr>\n",
              "      <th>3</th>\n",
              "      <td>0374157065</td>\n",
              "      <td>Flu: The Story of the Great Influenza Pandemic...</td>\n",
              "      <td>Gina Bari Kolata</td>\n",
              "      <td>1999.0</td>\n",
              "      <td>Farrar Straus Giroux</td>\n",
              "    </tr>\n",
              "    <tr>\n",
              "      <th>4</th>\n",
              "      <td>0393045218</td>\n",
              "      <td>The Mummies of Urumchi</td>\n",
              "      <td>E. J. W. Barber</td>\n",
              "      <td>1999.0</td>\n",
              "      <td>W. W. Norton &amp;amp; Company</td>\n",
              "    </tr>\n",
              "  </tbody>\n",
              "</table>\n",
              "</div>\n",
              "      <button class=\"colab-df-convert\" onclick=\"convertToInteractive('df-58d9f190-0b43-44d2-ab13-697f56774017')\"\n",
              "              title=\"Convert this dataframe to an interactive table.\"\n",
              "              style=\"display:none;\">\n",
              "        \n",
              "  <svg xmlns=\"http://www.w3.org/2000/svg\" height=\"24px\"viewBox=\"0 0 24 24\"\n",
              "       width=\"24px\">\n",
              "    <path d=\"M0 0h24v24H0V0z\" fill=\"none\"/>\n",
              "    <path d=\"M18.56 5.44l.94 2.06.94-2.06 2.06-.94-2.06-.94-.94-2.06-.94 2.06-2.06.94zm-11 1L8.5 8.5l.94-2.06 2.06-.94-2.06-.94L8.5 2.5l-.94 2.06-2.06.94zm10 10l.94 2.06.94-2.06 2.06-.94-2.06-.94-.94-2.06-.94 2.06-2.06.94z\"/><path d=\"M17.41 7.96l-1.37-1.37c-.4-.4-.92-.59-1.43-.59-.52 0-1.04.2-1.43.59L10.3 9.45l-7.72 7.72c-.78.78-.78 2.05 0 2.83L4 21.41c.39.39.9.59 1.41.59.51 0 1.02-.2 1.41-.59l7.78-7.78 2.81-2.81c.8-.78.8-2.07 0-2.86zM5.41 20L4 18.59l7.72-7.72 1.47 1.35L5.41 20z\"/>\n",
              "  </svg>\n",
              "      </button>\n",
              "      \n",
              "  <style>\n",
              "    .colab-df-container {\n",
              "      display:flex;\n",
              "      flex-wrap:wrap;\n",
              "      gap: 12px;\n",
              "    }\n",
              "\n",
              "    .colab-df-convert {\n",
              "      background-color: #E8F0FE;\n",
              "      border: none;\n",
              "      border-radius: 50%;\n",
              "      cursor: pointer;\n",
              "      display: none;\n",
              "      fill: #1967D2;\n",
              "      height: 32px;\n",
              "      padding: 0 0 0 0;\n",
              "      width: 32px;\n",
              "    }\n",
              "\n",
              "    .colab-df-convert:hover {\n",
              "      background-color: #E2EBFA;\n",
              "      box-shadow: 0px 1px 2px rgba(60, 64, 67, 0.3), 0px 1px 3px 1px rgba(60, 64, 67, 0.15);\n",
              "      fill: #174EA6;\n",
              "    }\n",
              "\n",
              "    [theme=dark] .colab-df-convert {\n",
              "      background-color: #3B4455;\n",
              "      fill: #D2E3FC;\n",
              "    }\n",
              "\n",
              "    [theme=dark] .colab-df-convert:hover {\n",
              "      background-color: #434B5C;\n",
              "      box-shadow: 0px 1px 3px 1px rgba(0, 0, 0, 0.15);\n",
              "      filter: drop-shadow(0px 1px 2px rgba(0, 0, 0, 0.3));\n",
              "      fill: #FFFFFF;\n",
              "    }\n",
              "  </style>\n",
              "\n",
              "      <script>\n",
              "        const buttonEl =\n",
              "          document.querySelector('#df-58d9f190-0b43-44d2-ab13-697f56774017 button.colab-df-convert');\n",
              "        buttonEl.style.display =\n",
              "          google.colab.kernel.accessAllowed ? 'block' : 'none';\n",
              "\n",
              "        async function convertToInteractive(key) {\n",
              "          const element = document.querySelector('#df-58d9f190-0b43-44d2-ab13-697f56774017');\n",
              "          const dataTable =\n",
              "            await google.colab.kernel.invokeFunction('convertToInteractive',\n",
              "                                                     [key], {});\n",
              "          if (!dataTable) return;\n",
              "\n",
              "          const docLinkHtml = 'Like what you see? Visit the ' +\n",
              "            '<a target=\"_blank\" href=https://colab.research.google.com/notebooks/data_table.ipynb>data table notebook</a>'\n",
              "            + ' to learn more about interactive tables.';\n",
              "          element.innerHTML = '';\n",
              "          dataTable['output_type'] = 'display_data';\n",
              "          await google.colab.output.renderOutput(dataTable, element);\n",
              "          const docLink = document.createElement('div');\n",
              "          docLink.innerHTML = docLinkHtml;\n",
              "          element.appendChild(docLink);\n",
              "        }\n",
              "      </script>\n",
              "    </div>\n",
              "  </div>\n",
              "  "
            ]
          },
          "metadata": {},
          "execution_count": 25
        }
      ]
    },
    {
      "cell_type": "code",
      "source": [
        "books_df.duplicated().any()"
      ],
      "metadata": {
        "colab": {
          "base_uri": "https://localhost:8080/"
        },
        "id": "CjgcMugqGOQf",
        "outputId": "8341f7b0-8c1e-4698-a1c1-5b3cba875add"
      },
      "execution_count": null,
      "outputs": [
        {
          "output_type": "execute_result",
          "data": {
            "text/plain": [
              "False"
            ]
          },
          "metadata": {},
          "execution_count": 26
        }
      ]
    },
    {
      "cell_type": "markdown",
      "source": [
        "*No duplicaed values in Books dataframe*"
      ],
      "metadata": {
        "id": "4RZDXPftGNbh"
      }
    },
    {
      "cell_type": "markdown",
      "source": [
        "**Users Dataframe**"
      ],
      "metadata": {
        "id": "zsIaSf2DCG7y"
      }
    },
    {
      "cell_type": "code",
      "source": [
        "users_df.head()"
      ],
      "metadata": {
        "colab": {
          "base_uri": "https://localhost:8080/",
          "height": 206
        },
        "id": "hUHCNpw8BpnQ",
        "outputId": "5d1e8ed6-4d4f-4b07-8118-dd7fac30cb54"
      },
      "execution_count": null,
      "outputs": [
        {
          "output_type": "execute_result",
          "data": {
            "text/plain": [
              "   User-ID                            Location   Age\n",
              "0        1                  nyc, new york, usa   NaN\n",
              "1        2           stockton, california, usa  18.0\n",
              "2        3     moscow, yukon territory, russia   NaN\n",
              "3        4           porto, v.n.gaia, portugal  17.0\n",
              "4        5  farnborough, hants, united kingdom   NaN"
            ],
            "text/html": [
              "\n",
              "  <div id=\"df-ebaf78c3-b9c1-427d-8fab-e1a65482c0a7\">\n",
              "    <div class=\"colab-df-container\">\n",
              "      <div>\n",
              "<style scoped>\n",
              "    .dataframe tbody tr th:only-of-type {\n",
              "        vertical-align: middle;\n",
              "    }\n",
              "\n",
              "    .dataframe tbody tr th {\n",
              "        vertical-align: top;\n",
              "    }\n",
              "\n",
              "    .dataframe thead th {\n",
              "        text-align: right;\n",
              "    }\n",
              "</style>\n",
              "<table border=\"1\" class=\"dataframe\">\n",
              "  <thead>\n",
              "    <tr style=\"text-align: right;\">\n",
              "      <th></th>\n",
              "      <th>User-ID</th>\n",
              "      <th>Location</th>\n",
              "      <th>Age</th>\n",
              "    </tr>\n",
              "  </thead>\n",
              "  <tbody>\n",
              "    <tr>\n",
              "      <th>0</th>\n",
              "      <td>1</td>\n",
              "      <td>nyc, new york, usa</td>\n",
              "      <td>NaN</td>\n",
              "    </tr>\n",
              "    <tr>\n",
              "      <th>1</th>\n",
              "      <td>2</td>\n",
              "      <td>stockton, california, usa</td>\n",
              "      <td>18.0</td>\n",
              "    </tr>\n",
              "    <tr>\n",
              "      <th>2</th>\n",
              "      <td>3</td>\n",
              "      <td>moscow, yukon territory, russia</td>\n",
              "      <td>NaN</td>\n",
              "    </tr>\n",
              "    <tr>\n",
              "      <th>3</th>\n",
              "      <td>4</td>\n",
              "      <td>porto, v.n.gaia, portugal</td>\n",
              "      <td>17.0</td>\n",
              "    </tr>\n",
              "    <tr>\n",
              "      <th>4</th>\n",
              "      <td>5</td>\n",
              "      <td>farnborough, hants, united kingdom</td>\n",
              "      <td>NaN</td>\n",
              "    </tr>\n",
              "  </tbody>\n",
              "</table>\n",
              "</div>\n",
              "      <button class=\"colab-df-convert\" onclick=\"convertToInteractive('df-ebaf78c3-b9c1-427d-8fab-e1a65482c0a7')\"\n",
              "              title=\"Convert this dataframe to an interactive table.\"\n",
              "              style=\"display:none;\">\n",
              "        \n",
              "  <svg xmlns=\"http://www.w3.org/2000/svg\" height=\"24px\"viewBox=\"0 0 24 24\"\n",
              "       width=\"24px\">\n",
              "    <path d=\"M0 0h24v24H0V0z\" fill=\"none\"/>\n",
              "    <path d=\"M18.56 5.44l.94 2.06.94-2.06 2.06-.94-2.06-.94-.94-2.06-.94 2.06-2.06.94zm-11 1L8.5 8.5l.94-2.06 2.06-.94-2.06-.94L8.5 2.5l-.94 2.06-2.06.94zm10 10l.94 2.06.94-2.06 2.06-.94-2.06-.94-.94-2.06-.94 2.06-2.06.94z\"/><path d=\"M17.41 7.96l-1.37-1.37c-.4-.4-.92-.59-1.43-.59-.52 0-1.04.2-1.43.59L10.3 9.45l-7.72 7.72c-.78.78-.78 2.05 0 2.83L4 21.41c.39.39.9.59 1.41.59.51 0 1.02-.2 1.41-.59l7.78-7.78 2.81-2.81c.8-.78.8-2.07 0-2.86zM5.41 20L4 18.59l7.72-7.72 1.47 1.35L5.41 20z\"/>\n",
              "  </svg>\n",
              "      </button>\n",
              "      \n",
              "  <style>\n",
              "    .colab-df-container {\n",
              "      display:flex;\n",
              "      flex-wrap:wrap;\n",
              "      gap: 12px;\n",
              "    }\n",
              "\n",
              "    .colab-df-convert {\n",
              "      background-color: #E8F0FE;\n",
              "      border: none;\n",
              "      border-radius: 50%;\n",
              "      cursor: pointer;\n",
              "      display: none;\n",
              "      fill: #1967D2;\n",
              "      height: 32px;\n",
              "      padding: 0 0 0 0;\n",
              "      width: 32px;\n",
              "    }\n",
              "\n",
              "    .colab-df-convert:hover {\n",
              "      background-color: #E2EBFA;\n",
              "      box-shadow: 0px 1px 2px rgba(60, 64, 67, 0.3), 0px 1px 3px 1px rgba(60, 64, 67, 0.15);\n",
              "      fill: #174EA6;\n",
              "    }\n",
              "\n",
              "    [theme=dark] .colab-df-convert {\n",
              "      background-color: #3B4455;\n",
              "      fill: #D2E3FC;\n",
              "    }\n",
              "\n",
              "    [theme=dark] .colab-df-convert:hover {\n",
              "      background-color: #434B5C;\n",
              "      box-shadow: 0px 1px 3px 1px rgba(0, 0, 0, 0.15);\n",
              "      filter: drop-shadow(0px 1px 2px rgba(0, 0, 0, 0.3));\n",
              "      fill: #FFFFFF;\n",
              "    }\n",
              "  </style>\n",
              "\n",
              "      <script>\n",
              "        const buttonEl =\n",
              "          document.querySelector('#df-ebaf78c3-b9c1-427d-8fab-e1a65482c0a7 button.colab-df-convert');\n",
              "        buttonEl.style.display =\n",
              "          google.colab.kernel.accessAllowed ? 'block' : 'none';\n",
              "\n",
              "        async function convertToInteractive(key) {\n",
              "          const element = document.querySelector('#df-ebaf78c3-b9c1-427d-8fab-e1a65482c0a7');\n",
              "          const dataTable =\n",
              "            await google.colab.kernel.invokeFunction('convertToInteractive',\n",
              "                                                     [key], {});\n",
              "          if (!dataTable) return;\n",
              "\n",
              "          const docLinkHtml = 'Like what you see? Visit the ' +\n",
              "            '<a target=\"_blank\" href=https://colab.research.google.com/notebooks/data_table.ipynb>data table notebook</a>'\n",
              "            + ' to learn more about interactive tables.';\n",
              "          element.innerHTML = '';\n",
              "          dataTable['output_type'] = 'display_data';\n",
              "          await google.colab.output.renderOutput(dataTable, element);\n",
              "          const docLink = document.createElement('div');\n",
              "          docLink.innerHTML = docLinkHtml;\n",
              "          element.appendChild(docLink);\n",
              "        }\n",
              "      </script>\n",
              "    </div>\n",
              "  </div>\n",
              "  "
            ]
          },
          "metadata": {},
          "execution_count": 27
        }
      ]
    },
    {
      "cell_type": "code",
      "source": [
        "users_df.isna().sum()"
      ],
      "metadata": {
        "colab": {
          "base_uri": "https://localhost:8080/"
        },
        "id": "vHvZxaW1CLP6",
        "outputId": "0bb67b5d-c624-41be-afe5-4fb392caa8c3"
      },
      "execution_count": null,
      "outputs": [
        {
          "output_type": "execute_result",
          "data": {
            "text/plain": [
              "User-ID          0\n",
              "Location         0\n",
              "Age         110762\n",
              "dtype: int64"
            ]
          },
          "metadata": {},
          "execution_count": 28
        }
      ]
    },
    {
      "cell_type": "markdown",
      "source": [
        "*Many null values in Age column*"
      ],
      "metadata": {
        "id": "IEBm5QoFCRvN"
      }
    },
    {
      "cell_type": "code",
      "source": [
        "users_df['Age'].nunique()"
      ],
      "metadata": {
        "colab": {
          "base_uri": "https://localhost:8080/"
        },
        "id": "qQFf77VrCQsH",
        "outputId": "137de538-b341-4ebc-9bf1-a7babfe24206"
      },
      "execution_count": null,
      "outputs": [
        {
          "output_type": "execute_result",
          "data": {
            "text/plain": [
              "165"
            ]
          },
          "metadata": {},
          "execution_count": 29
        }
      ]
    },
    {
      "cell_type": "code",
      "source": [
        "users_df['Age'].unique()"
      ],
      "metadata": {
        "colab": {
          "base_uri": "https://localhost:8080/"
        },
        "id": "QL9k0O7MCYeE",
        "outputId": "15600b6b-deae-45a2-d414-1e81ccc36baf"
      },
      "execution_count": null,
      "outputs": [
        {
          "output_type": "execute_result",
          "data": {
            "text/plain": [
              "array([ nan,  18.,  17.,  61.,  26.,  14.,  25.,  19.,  46.,  55.,  32.,\n",
              "        24.,  20.,  34.,  23.,  51.,  31.,  21.,  44.,  30.,  57.,  43.,\n",
              "        37.,  41.,  54.,  42.,  50.,  39.,  53.,  47.,  36.,  28.,  35.,\n",
              "        13.,  58.,  49.,  38.,  45.,  62.,  63.,  27.,  33.,  29.,  66.,\n",
              "        40.,  15.,  60.,   0.,  79.,  22.,  16.,  65.,  59.,  48.,  72.,\n",
              "        56.,  67.,   1.,  80.,  52.,  69.,  71.,  73.,  78.,   9.,  64.,\n",
              "       103., 104.,  12.,  74.,  75., 231.,   3.,  76.,  83.,  68., 119.,\n",
              "        11.,  77.,   2.,  70.,  93.,   8.,   7.,   4.,  81., 114., 230.,\n",
              "       239.,  10.,   5., 148., 151.,   6., 101., 201.,  96.,  84.,  82.,\n",
              "        90., 123., 244., 133.,  91., 128.,  94.,  85., 141., 110.,  97.,\n",
              "       219.,  86., 124.,  92., 175., 172., 209., 212., 237.,  87., 162.,\n",
              "       100., 156., 136.,  95.,  89., 106.,  99., 108., 210.,  88., 199.,\n",
              "       147., 168., 132., 159., 186., 152., 102., 116., 200., 115., 226.,\n",
              "       137., 207., 229., 138., 109., 105., 228., 183., 204.,  98., 223.,\n",
              "       113., 208., 107., 157., 111., 146., 118., 220., 143., 140., 189.,\n",
              "       127.])"
            ]
          },
          "metadata": {},
          "execution_count": 30
        }
      ]
    },
    {
      "cell_type": "markdown",
      "source": [
        "*165 unique values for Age column with many misleaging values such as 239, 103, 104 and so on. Thus, we can replace this values with the mean but before that let's handle the NaN values.*"
      ],
      "metadata": {
        "id": "ldM6JfvOCdLw"
      }
    },
    {
      "cell_type": "code",
      "source": [
        "users_df['Age'].fillna(round(users_df['Age'].mean()), inplace = True)"
      ],
      "metadata": {
        "id": "ywh26a3ACbTP"
      },
      "execution_count": null,
      "outputs": []
    },
    {
      "cell_type": "code",
      "source": [
        "users_df.isna().sum()"
      ],
      "metadata": {
        "colab": {
          "base_uri": "https://localhost:8080/"
        },
        "id": "qlFLTB2AC7U-",
        "outputId": "39ea3be2-1b2c-4d56-956b-7716055de66d"
      },
      "execution_count": null,
      "outputs": [
        {
          "output_type": "execute_result",
          "data": {
            "text/plain": [
              "User-ID     0\n",
              "Location    0\n",
              "Age         0\n",
              "dtype: int64"
            ]
          },
          "metadata": {},
          "execution_count": 32
        }
      ]
    },
    {
      "cell_type": "markdown",
      "source": [
        "*No null values now*"
      ],
      "metadata": {
        "id": "eJ6920riC_7x"
      }
    },
    {
      "cell_type": "code",
      "source": [
        "users_df['Age'].describe()"
      ],
      "metadata": {
        "colab": {
          "base_uri": "https://localhost:8080/"
        },
        "id": "a8ebLn7aC_Eo",
        "outputId": "9ae15b3b-6686-4bc4-c251-e384db72815a"
      },
      "execution_count": null,
      "outputs": [
        {
          "output_type": "execute_result",
          "data": {
            "text/plain": [
              "count    278858.000000\n",
              "mean         34.850164\n",
              "std          11.202663\n",
              "min           0.000000\n",
              "25%          29.000000\n",
              "50%          35.000000\n",
              "75%          35.000000\n",
              "max         244.000000\n",
              "Name: Age, dtype: float64"
            ]
          },
          "metadata": {},
          "execution_count": 33
        }
      ]
    },
    {
      "cell_type": "code",
      "source": [
        "sns.displot(users_df['Age'], kind='kde')"
      ],
      "metadata": {
        "colab": {
          "base_uri": "https://localhost:8080/",
          "height": 386
        },
        "id": "mUzZoF17DJYR",
        "outputId": "0a32990c-5fa8-4e26-bd69-d511f97913c1"
      },
      "execution_count": null,
      "outputs": [
        {
          "output_type": "execute_result",
          "data": {
            "text/plain": [
              "<seaborn.axisgrid.FacetGrid at 0x7f006fddcd90>"
            ]
          },
          "metadata": {},
          "execution_count": 34
        },
        {
          "output_type": "display_data",
          "data": {
            "text/plain": [
              "<Figure size 360x360 with 1 Axes>"
            ],
            "image/png": "[encoded data removed]"
          },
          "metadata": {
            "needs_background": "light"
          }
        }
      ]
    },
    {
      "cell_type": "markdown",
      "source": [
        "*Let's handle Age column by replacing values with mean of Age columns where age is less than 6 and greater than 75*"
      ],
      "metadata": {
        "id": "1G53OpoBDnR6"
      }
    },
    {
      "cell_type": "code",
      "source": [
        "users_df.loc[(users_df['Age'] < 6) | (users_df['Age'] > 75)]"
      ],
      "metadata": {
        "colab": {
          "base_uri": "https://localhost:8080/",
          "height": 423
        },
        "id": "cSSrAMKWDSoc",
        "outputId": "9225e72a-13bb-477b-b77f-eacacd27b433"
      },
      "execution_count": null,
      "outputs": [
        {
          "output_type": "execute_result",
          "data": {
            "text/plain": [
              "        User-ID                                       Location    Age\n",
              "219         220                       bogota, bogota, colombia    0.0\n",
              "220         221                       palm beach, florida, usa   79.0\n",
              "469         470                     indianapolis, indiana, usa    0.0\n",
              "561         562  adfdaf, australian capital territory, albania    0.0\n",
              "612         613                            ankara, n/a, turkey    1.0\n",
              "...         ...                                            ...    ...\n",
              "278301   278302       düsseldorf, nordrhein-westfalen, germany  104.0\n",
              "278317   278318                   studio city, california, usa   77.0\n",
              "278348   278349                            carlin, nevada, usa   76.0\n",
              "278412   278413                     kansas city, missouri, usa   76.0\n",
              "278471   278472   biel-benken bl/schweiz, alabama, switzerland   81.0\n",
              "\n",
              "[1873 rows x 3 columns]"
            ],
            "text/html": [
              "\n",
              "  <div id=\"df-fa7f0211-fcf3-4fec-8711-0ac7d7d9360e\">\n",
              "    <div class=\"colab-df-container\">\n",
              "      <div>\n",
              "<style scoped>\n",
              "    .dataframe tbody tr th:only-of-type {\n",
              "        vertical-align: middle;\n",
              "    }\n",
              "\n",
              "    .dataframe tbody tr th {\n",
              "        vertical-align: top;\n",
              "    }\n",
              "\n",
              "    .dataframe thead th {\n",
              "        text-align: right;\n",
              "    }\n",
              "</style>\n",
              "<table border=\"1\" class=\"dataframe\">\n",
              "  <thead>\n",
              "    <tr style=\"text-align: right;\">\n",
              "      <th></th>\n",
              "      <th>User-ID</th>\n",
              "      <th>Location</th>\n",
              "      <th>Age</th>\n",
              "    </tr>\n",
              "  </thead>\n",
              "  <tbody>\n",
              "    <tr>\n",
              "      <th>219</th>\n",
              "      <td>220</td>\n",
              "      <td>bogota, bogota, colombia</td>\n",
              "      <td>0.0</td>\n",
              "    </tr>\n",
              "    <tr>\n",
              "      <th>220</th>\n",
              "      <td>221</td>\n",
              "      <td>palm beach, florida, usa</td>\n",
              "      <td>79.0</td>\n",
              "    </tr>\n",
              "    <tr>\n",
              "      <th>469</th>\n",
              "      <td>470</td>\n",
              "      <td>indianapolis, indiana, usa</td>\n",
              "      <td>0.0</td>\n",
              "    </tr>\n",
              "    <tr>\n",
              "      <th>561</th>\n",
              "      <td>562</td>\n",
              "      <td>adfdaf, australian capital territory, albania</td>\n",
              "      <td>0.0</td>\n",
              "    </tr>\n",
              "    <tr>\n",
              "      <th>612</th>\n",
              "      <td>613</td>\n",
              "      <td>ankara, n/a, turkey</td>\n",
              "      <td>1.0</td>\n",
              "    </tr>\n",
              "    <tr>\n",
              "      <th>...</th>\n",
              "      <td>...</td>\n",
              "      <td>...</td>\n",
              "      <td>...</td>\n",
              "    </tr>\n",
              "    <tr>\n",
              "      <th>278301</th>\n",
              "      <td>278302</td>\n",
              "      <td>düsseldorf, nordrhein-westfalen, germany</td>\n",
              "      <td>104.0</td>\n",
              "    </tr>\n",
              "    <tr>\n",
              "      <th>278317</th>\n",
              "      <td>278318</td>\n",
              "      <td>studio city, california, usa</td>\n",
              "      <td>77.0</td>\n",
              "    </tr>\n",
              "    <tr>\n",
              "      <th>278348</th>\n",
              "      <td>278349</td>\n",
              "      <td>carlin, nevada, usa</td>\n",
              "      <td>76.0</td>\n",
              "    </tr>\n",
              "    <tr>\n",
              "      <th>278412</th>\n",
              "      <td>278413</td>\n",
              "      <td>kansas city, missouri, usa</td>\n",
              "      <td>76.0</td>\n",
              "    </tr>\n",
              "    <tr>\n",
              "      <th>278471</th>\n",
              "      <td>278472</td>\n",
              "      <td>biel-benken bl/schweiz, alabama, switzerland</td>\n",
              "      <td>81.0</td>\n",
              "    </tr>\n",
              "  </tbody>\n",
              "</table>\n",
              "<p>1873 rows × 3 columns</p>\n",
              "</div>\n",
              "      <button class=\"colab-df-convert\" onclick=\"convertToInteractive('df-fa7f0211-fcf3-4fec-8711-0ac7d7d9360e')\"\n",
              "              title=\"Convert this dataframe to an interactive table.\"\n",
              "              style=\"display:none;\">\n",
              "        \n",
              "  <svg xmlns=\"http://www.w3.org/2000/svg\" height=\"24px\"viewBox=\"0 0 24 24\"\n",
              "       width=\"24px\">\n",
              "    <path d=\"M0 0h24v24H0V0z\" fill=\"none\"/>\n",
              "    <path d=\"M18.56 5.44l.94 2.06.94-2.06 2.06-.94-2.06-.94-.94-2.06-.94 2.06-2.06.94zm-11 1L8.5 8.5l.94-2.06 2.06-.94-2.06-.94L8.5 2.5l-.94 2.06-2.06.94zm10 10l.94 2.06.94-2.06 2.06-.94-2.06-.94-.94-2.06-.94 2.06-2.06.94z\"/><path d=\"M17.41 7.96l-1.37-1.37c-.4-.4-.92-.59-1.43-.59-.52 0-1.04.2-1.43.59L10.3 9.45l-7.72 7.72c-.78.78-.78 2.05 0 2.83L4 21.41c.39.39.9.59 1.41.59.51 0 1.02-.2 1.41-.59l7.78-7.78 2.81-2.81c.8-.78.8-2.07 0-2.86zM5.41 20L4 18.59l7.72-7.72 1.47 1.35L5.41 20z\"/>\n",
              "  </svg>\n",
              "      </button>\n",
              "      \n",
              "  <style>\n",
              "    .colab-df-container {\n",
              "      display:flex;\n",
              "      flex-wrap:wrap;\n",
              "      gap: 12px;\n",
              "    }\n",
              "\n",
              "    .colab-df-convert {\n",
              "      background-color: #E8F0FE;\n",
              "      border: none;\n",
              "      border-radius: 50%;\n",
              "      cursor: pointer;\n",
              "      display: none;\n",
              "      fill: #1967D2;\n",
              "      height: 32px;\n",
              "      padding: 0 0 0 0;\n",
              "      width: 32px;\n",
              "    }\n",
              "\n",
              "    .colab-df-convert:hover {\n",
              "      background-color: #E2EBFA;\n",
              "      box-shadow: 0px 1px 2px rgba(60, 64, 67, 0.3), 0px 1px 3px 1px rgba(60, 64, 67, 0.15);\n",
              "      fill: #174EA6;\n",
              "    }\n",
              "\n",
              "    [theme=dark] .colab-df-convert {\n",
              "      background-color: #3B4455;\n",
              "      fill: #D2E3FC;\n",
              "    }\n",
              "\n",
              "    [theme=dark] .colab-df-convert:hover {\n",
              "      background-color: #434B5C;\n",
              "      box-shadow: 0px 1px 3px 1px rgba(0, 0, 0, 0.15);\n",
              "      filter: drop-shadow(0px 1px 2px rgba(0, 0, 0, 0.3));\n",
              "      fill: #FFFFFF;\n",
              "    }\n",
              "  </style>\n",
              "\n",
              "      <script>\n",
              "        const buttonEl =\n",
              "          document.querySelector('#df-fa7f0211-fcf3-4fec-8711-0ac7d7d9360e button.colab-df-convert');\n",
              "        buttonEl.style.display =\n",
              "          google.colab.kernel.accessAllowed ? 'block' : 'none';\n",
              "\n",
              "        async function convertToInteractive(key) {\n",
              "          const element = document.querySelector('#df-fa7f0211-fcf3-4fec-8711-0ac7d7d9360e');\n",
              "          const dataTable =\n",
              "            await google.colab.kernel.invokeFunction('convertToInteractive',\n",
              "                                                     [key], {});\n",
              "          if (!dataTable) return;\n",
              "\n",
              "          const docLinkHtml = 'Like what you see? Visit the ' +\n",
              "            '<a target=\"_blank\" href=https://colab.research.google.com/notebooks/data_table.ipynb>data table notebook</a>'\n",
              "            + ' to learn more about interactive tables.';\n",
              "          element.innerHTML = '';\n",
              "          dataTable['output_type'] = 'display_data';\n",
              "          await google.colab.output.renderOutput(dataTable, element);\n",
              "          const docLink = document.createElement('div');\n",
              "          docLink.innerHTML = docLinkHtml;\n",
              "          element.appendChild(docLink);\n",
              "        }\n",
              "      </script>\n",
              "    </div>\n",
              "  </div>\n",
              "  "
            ]
          },
          "metadata": {},
          "execution_count": 35
        }
      ]
    },
    {
      "cell_type": "code",
      "source": [
        "users_df.loc[(users_df['Age'] < 6) | (users_df['Age'] > 75), 'Age'] = 34"
      ],
      "metadata": {
        "id": "BLnYz3p-D6jE"
      },
      "execution_count": null,
      "outputs": []
    },
    {
      "cell_type": "code",
      "source": [
        "users_df['Age'].nunique()"
      ],
      "metadata": {
        "colab": {
          "base_uri": "https://localhost:8080/"
        },
        "id": "zN0IgHSBEKc7",
        "outputId": "a13244ff-5bb4-4094-988c-940698045f46"
      },
      "execution_count": null,
      "outputs": [
        {
          "output_type": "execute_result",
          "data": {
            "text/plain": [
              "70"
            ]
          },
          "metadata": {},
          "execution_count": 37
        }
      ]
    },
    {
      "cell_type": "code",
      "source": [
        "users_df['Age'].unique()"
      ],
      "metadata": {
        "colab": {
          "base_uri": "https://localhost:8080/"
        },
        "id": "oEr_OtYiEn5h",
        "outputId": "037243ef-48d3-430b-8b08-c5f13a0e4883"
      },
      "execution_count": null,
      "outputs": [
        {
          "output_type": "execute_result",
          "data": {
            "text/plain": [
              "array([35., 18., 17., 61., 26., 14., 25., 19., 46., 55., 32., 24., 20.,\n",
              "       34., 23., 51., 31., 21., 44., 30., 57., 43., 37., 41., 54., 42.,\n",
              "       50., 39., 53., 47., 36., 28., 13., 58., 49., 38., 45., 62., 63.,\n",
              "       27., 33., 29., 66., 40., 15., 60., 22., 16., 65., 59., 48., 72.,\n",
              "       56., 67., 52., 69., 71., 73.,  9., 64., 12., 74., 75., 68., 11.,\n",
              "       70.,  8.,  7., 10.,  6.])"
            ]
          },
          "metadata": {},
          "execution_count": 38
        }
      ]
    },
    {
      "cell_type": "code",
      "source": [
        "sns.displot(x='Age', data=users_df, kind='kde')"
      ],
      "metadata": {
        "colab": {
          "base_uri": "https://localhost:8080/",
          "height": 386
        },
        "id": "ozdtdVstEsS2",
        "outputId": "51b77889-4a55-4cfd-bd57-a9a7a1557c12"
      },
      "execution_count": null,
      "outputs": [
        {
          "output_type": "execute_result",
          "data": {
            "text/plain": [
              "<seaborn.axisgrid.FacetGrid at 0x7f006fc825d0>"
            ]
          },
          "metadata": {},
          "execution_count": 39
        },
        {
          "output_type": "display_data",
          "data": {
            "text/plain": [
              "<Figure size 360x360 with 1 Axes>"
            ],
            "image/png": "[encoded data removed]"
          },
          "metadata": {
            "needs_background": "light"
          }
        }
      ]
    },
    {
      "cell_type": "code",
      "source": [
        "users_df.duplicated().any()"
      ],
      "metadata": {
        "colab": {
          "base_uri": "https://localhost:8080/"
        },
        "id": "-MkuAcEmGEqd",
        "outputId": "d9bad050-1050-4de6-d583-709154ca78a9"
      },
      "execution_count": null,
      "outputs": [
        {
          "output_type": "execute_result",
          "data": {
            "text/plain": [
              "False"
            ]
          },
          "metadata": {},
          "execution_count": 40
        }
      ]
    },
    {
      "cell_type": "markdown",
      "source": [
        "*No Duplicated records in Users Dataframe*"
      ],
      "metadata": {
        "id": "P-yEdrMMGIGO"
      }
    },
    {
      "cell_type": "markdown",
      "source": [
        "**Ratings Dataframe**"
      ],
      "metadata": {
        "id": "xFQ7jsDxFFma"
      }
    },
    {
      "cell_type": "code",
      "source": [
        "ratings_df.head()"
      ],
      "metadata": {
        "colab": {
          "base_uri": "https://localhost:8080/",
          "height": 206
        },
        "id": "PF-OqeQGE1aA",
        "outputId": "548b3e58-338a-43c5-f643-d884eb1477ab"
      },
      "execution_count": null,
      "outputs": [
        {
          "output_type": "execute_result",
          "data": {
            "text/plain": [
              "   User-ID        ISBN  Book-Rating\n",
              "0   276725  034545104X            0\n",
              "1   276726  0155061224            5\n",
              "2   276727  0446520802            0\n",
              "3   276729  052165615X            3\n",
              "4   276729  0521795028            6"
            ],
            "text/html": [
              "\n",
              "  <div id=\"df-2e0f468b-a5d9-4aef-8ab3-2f256bf0e6b2\">\n",
              "    <div class=\"colab-df-container\">\n",
              "      <div>\n",
              "<style scoped>\n",
              "    .dataframe tbody tr th:only-of-type {\n",
              "        vertical-align: middle;\n",
              "    }\n",
              "\n",
              "    .dataframe tbody tr th {\n",
              "        vertical-align: top;\n",
              "    }\n",
              "\n",
              "    .dataframe thead th {\n",
              "        text-align: right;\n",
              "    }\n",
              "</style>\n",
              "<table border=\"1\" class=\"dataframe\">\n",
              "  <thead>\n",
              "    <tr style=\"text-align: right;\">\n",
              "      <th></th>\n",
              "      <th>User-ID</th>\n",
              "      <th>ISBN</th>\n",
              "      <th>Book-Rating</th>\n",
              "    </tr>\n",
              "  </thead>\n",
              "  <tbody>\n",
              "    <tr>\n",
              "      <th>0</th>\n",
              "      <td>276725</td>\n",
              "      <td>034545104X</td>\n",
              "      <td>0</td>\n",
              "    </tr>\n",
              "    <tr>\n",
              "      <th>1</th>\n",
              "      <td>276726</td>\n",
              "      <td>0155061224</td>\n",
              "      <td>5</td>\n",
              "    </tr>\n",
              "    <tr>\n",
              "      <th>2</th>\n",
              "      <td>276727</td>\n",
              "      <td>0446520802</td>\n",
              "      <td>0</td>\n",
              "    </tr>\n",
              "    <tr>\n",
              "      <th>3</th>\n",
              "      <td>276729</td>\n",
              "      <td>052165615X</td>\n",
              "      <td>3</td>\n",
              "    </tr>\n",
              "    <tr>\n",
              "      <th>4</th>\n",
              "      <td>276729</td>\n",
              "      <td>0521795028</td>\n",
              "      <td>6</td>\n",
              "    </tr>\n",
              "  </tbody>\n",
              "</table>\n",
              "</div>\n",
              "      <button class=\"colab-df-convert\" onclick=\"convertToInteractive('df-2e0f468b-a5d9-4aef-8ab3-2f256bf0e6b2')\"\n",
              "              title=\"Convert this dataframe to an interactive table.\"\n",
              "              style=\"display:none;\">\n",
              "        \n",
              "  <svg xmlns=\"http://www.w3.org/2000/svg\" height=\"24px\"viewBox=\"0 0 24 24\"\n",
              "       width=\"24px\">\n",
              "    <path d=\"M0 0h24v24H0V0z\" fill=\"none\"/>\n",
              "    <path d=\"M18.56 5.44l.94 2.06.94-2.06 2.06-.94-2.06-.94-.94-2.06-.94 2.06-2.06.94zm-11 1L8.5 8.5l.94-2.06 2.06-.94-2.06-.94L8.5 2.5l-.94 2.06-2.06.94zm10 10l.94 2.06.94-2.06 2.06-.94-2.06-.94-.94-2.06-.94 2.06-2.06.94z\"/><path d=\"M17.41 7.96l-1.37-1.37c-.4-.4-.92-.59-1.43-.59-.52 0-1.04.2-1.43.59L10.3 9.45l-7.72 7.72c-.78.78-.78 2.05 0 2.83L4 21.41c.39.39.9.59 1.41.59.51 0 1.02-.2 1.41-.59l7.78-7.78 2.81-2.81c.8-.78.8-2.07 0-2.86zM5.41 20L4 18.59l7.72-7.72 1.47 1.35L5.41 20z\"/>\n",
              "  </svg>\n",
              "      </button>\n",
              "      \n",
              "  <style>\n",
              "    .colab-df-container {\n",
              "      display:flex;\n",
              "      flex-wrap:wrap;\n",
              "      gap: 12px;\n",
              "    }\n",
              "\n",
              "    .colab-df-convert {\n",
              "      background-color: #E8F0FE;\n",
              "      border: none;\n",
              "      border-radius: 50%;\n",
              "      cursor: pointer;\n",
              "      display: none;\n",
              "      fill: #1967D2;\n",
              "      height: 32px;\n",
              "      padding: 0 0 0 0;\n",
              "      width: 32px;\n",
              "    }\n",
              "\n",
              "    .colab-df-convert:hover {\n",
              "      background-color: #E2EBFA;\n",
              "      box-shadow: 0px 1px 2px rgba(60, 64, 67, 0.3), 0px 1px 3px 1px rgba(60, 64, 67, 0.15);\n",
              "      fill: #174EA6;\n",
              "    }\n",
              "\n",
              "    [theme=dark] .colab-df-convert {\n",
              "      background-color: #3B4455;\n",
              "      fill: #D2E3FC;\n",
              "    }\n",
              "\n",
              "    [theme=dark] .colab-df-convert:hover {\n",
              "      background-color: #434B5C;\n",
              "      box-shadow: 0px 1px 3px 1px rgba(0, 0, 0, 0.15);\n",
              "      filter: drop-shadow(0px 1px 2px rgba(0, 0, 0, 0.3));\n",
              "      fill: #FFFFFF;\n",
              "    }\n",
              "  </style>\n",
              "\n",
              "      <script>\n",
              "        const buttonEl =\n",
              "          document.querySelector('#df-2e0f468b-a5d9-4aef-8ab3-2f256bf0e6b2 button.colab-df-convert');\n",
              "        buttonEl.style.display =\n",
              "          google.colab.kernel.accessAllowed ? 'block' : 'none';\n",
              "\n",
              "        async function convertToInteractive(key) {\n",
              "          const element = document.querySelector('#df-2e0f468b-a5d9-4aef-8ab3-2f256bf0e6b2');\n",
              "          const dataTable =\n",
              "            await google.colab.kernel.invokeFunction('convertToInteractive',\n",
              "                                                     [key], {});\n",
              "          if (!dataTable) return;\n",
              "\n",
              "          const docLinkHtml = 'Like what you see? Visit the ' +\n",
              "            '<a target=\"_blank\" href=https://colab.research.google.com/notebooks/data_table.ipynb>data table notebook</a>'\n",
              "            + ' to learn more about interactive tables.';\n",
              "          element.innerHTML = '';\n",
              "          dataTable['output_type'] = 'display_data';\n",
              "          await google.colab.output.renderOutput(dataTable, element);\n",
              "          const docLink = document.createElement('div');\n",
              "          docLink.innerHTML = docLinkHtml;\n",
              "          element.appendChild(docLink);\n",
              "        }\n",
              "      </script>\n",
              "    </div>\n",
              "  </div>\n",
              "  "
            ]
          },
          "metadata": {},
          "execution_count": 41
        }
      ]
    },
    {
      "cell_type": "code",
      "source": [
        "ratings_df['Book-Rating'].nunique()"
      ],
      "metadata": {
        "colab": {
          "base_uri": "https://localhost:8080/"
        },
        "id": "VeD8gt-dFNcc",
        "outputId": "7127e253-84be-4c74-cfa6-51907ecceff0"
      },
      "execution_count": null,
      "outputs": [
        {
          "output_type": "execute_result",
          "data": {
            "text/plain": [
              "11"
            ]
          },
          "metadata": {},
          "execution_count": 42
        }
      ]
    },
    {
      "cell_type": "code",
      "source": [
        "ratings_df['Book-Rating'].unique()"
      ],
      "metadata": {
        "colab": {
          "base_uri": "https://localhost:8080/"
        },
        "id": "RkLBq8MXFRpX",
        "outputId": "1cb266e7-8587-4b07-fd4e-01d30b18a15a"
      },
      "execution_count": null,
      "outputs": [
        {
          "output_type": "execute_result",
          "data": {
            "text/plain": [
              "array([ 0,  5,  3,  6,  8,  7, 10,  9,  4,  1,  2])"
            ]
          },
          "metadata": {},
          "execution_count": 43
        }
      ]
    },
    {
      "cell_type": "code",
      "source": [
        "ratings_df.isna().sum()"
      ],
      "metadata": {
        "colab": {
          "base_uri": "https://localhost:8080/"
        },
        "id": "CDw9hiRPFUg4",
        "outputId": "9fc6a10e-28e9-4115-c4a1-a3719b0a64f4"
      },
      "execution_count": null,
      "outputs": [
        {
          "output_type": "execute_result",
          "data": {
            "text/plain": [
              "User-ID        0\n",
              "ISBN           0\n",
              "Book-Rating    0\n",
              "dtype: int64"
            ]
          },
          "metadata": {},
          "execution_count": 44
        }
      ]
    },
    {
      "cell_type": "code",
      "source": [
        "ratings_df.duplicated().any()"
      ],
      "metadata": {
        "colab": {
          "base_uri": "https://localhost:8080/"
        },
        "id": "TrTWB9MdF8ca",
        "outputId": "7d455810-fb85-48bc-c01c-9fd9db4ba9d2"
      },
      "execution_count": null,
      "outputs": [
        {
          "output_type": "execute_result",
          "data": {
            "text/plain": [
              "False"
            ]
          },
          "metadata": {},
          "execution_count": 45
        }
      ]
    },
    {
      "cell_type": "markdown",
      "source": [
        "*No null or duplicated values present in a Ratings dataframe. Thus, now we can go ahead with Exploratory Data Analysis*"
      ],
      "metadata": {
        "id": "AwdfwsouFbpr"
      }
    },
    {
      "cell_type": "markdown",
      "source": [
        "**-------------------------------------------------------------EXPLORATORY DATA ANALYSIS--------------------------------------------------------------**"
      ],
      "metadata": {
        "id": "fLkwNjmeFkqN"
      }
    },
    {
      "cell_type": "markdown",
      "source": [
        "**Books Dataframe**"
      ],
      "metadata": {
        "id": "yQ9Yj893HIog"
      }
    },
    {
      "cell_type": "code",
      "source": [
        "books_df.head()"
      ],
      "metadata": {
        "colab": {
          "base_uri": "https://localhost:8080/",
          "height": 206
        },
        "id": "bAIY1VDhFaxb",
        "outputId": "40780eb2-cbe6-47f9-b85a-5b170c98db15"
      },
      "execution_count": null,
      "outputs": [
        {
          "output_type": "execute_result",
          "data": {
            "text/plain": [
              "         ISBN                                         Book-Title  \\\n",
              "0  0195153448                                Classical Mythology   \n",
              "1  0002005018                                       Clara Callan   \n",
              "2  0060973129                               Decision in Normandy   \n",
              "3  0374157065  Flu: The Story of the Great Influenza Pandemic...   \n",
              "4  0393045218                             The Mummies of Urumchi   \n",
              "\n",
              "            Book-Author  Year-Of-Publication                   Publisher  \n",
              "0    Mark P. O. Morford               2002.0     Oxford University Press  \n",
              "1  Richard Bruce Wright               2001.0       HarperFlamingo Canada  \n",
              "2          Carlo D'Este               1991.0             HarperPerennial  \n",
              "3      Gina Bari Kolata               1999.0        Farrar Straus Giroux  \n",
              "4       E. J. W. Barber               1999.0  W. W. Norton &amp; Company  "
            ],
            "text/html": [
              "\n",
              "  <div id=\"df-e87b0e04-bdb7-4340-ad03-008945ad685e\">\n",
              "    <div class=\"colab-df-container\">\n",
              "      <div>\n",
              "<style scoped>\n",
              "    .dataframe tbody tr th:only-of-type {\n",
              "        vertical-align: middle;\n",
              "    }\n",
              "\n",
              "    .dataframe tbody tr th {\n",
              "        vertical-align: top;\n",
              "    }\n",
              "\n",
              "    .dataframe thead th {\n",
              "        text-align: right;\n",
              "    }\n",
              "</style>\n",
              "<table border=\"1\" class=\"dataframe\">\n",
              "  <thead>\n",
              "    <tr style=\"text-align: right;\">\n",
              "      <th></th>\n",
              "      <th>ISBN</th>\n",
              "      <th>Book-Title</th>\n",
              "      <th>Book-Author</th>\n",
              "      <th>Year-Of-Publication</th>\n",
              "      <th>Publisher</th>\n",
              "    </tr>\n",
              "  </thead>\n",
              "  <tbody>\n",
              "    <tr>\n",
              "      <th>0</th>\n",
              "      <td>0195153448</td>\n",
              "      <td>Classical Mythology</td>\n",
              "      <td>Mark P. O. Morford</td>\n",
              "      <td>2002.0</td>\n",
              "      <td>Oxford University Press</td>\n",
              "    </tr>\n",
              "    <tr>\n",
              "      <th>1</th>\n",
              "      <td>0002005018</td>\n",
              "      <td>Clara Callan</td>\n",
              "      <td>Richard Bruce Wright</td>\n",
              "      <td>2001.0</td>\n",
              "      <td>HarperFlamingo Canada</td>\n",
              "    </tr>\n",
              "    <tr>\n",
              "      <th>2</th>\n",
              "      <td>0060973129</td>\n",
              "      <td>Decision in Normandy</td>\n",
              "      <td>Carlo D'Este</td>\n",
              "      <td>1991.0</td>\n",
              "      <td>HarperPerennial</td>\n",
              "    </tr>\n",
              "    <tr>\n",
              "      <th>3</th>\n",
              "      <td>0374157065</td>\n",
              "      <td>Flu: The Story of the Great Influenza Pandemic...</td>\n",
              "      <td>Gina Bari Kolata</td>\n",
              "      <td>1999.0</td>\n",
              "      <td>Farrar Straus Giroux</td>\n",
              "    </tr>\n",
              "    <tr>\n",
              "      <th>4</th>\n",
              "      <td>0393045218</td>\n",
              "      <td>The Mummies of Urumchi</td>\n",
              "      <td>E. J. W. Barber</td>\n",
              "      <td>1999.0</td>\n",
              "      <td>W. W. Norton &amp;amp; Company</td>\n",
              "    </tr>\n",
              "  </tbody>\n",
              "</table>\n",
              "</div>\n",
              "      <button class=\"colab-df-convert\" onclick=\"convertToInteractive('df-e87b0e04-bdb7-4340-ad03-008945ad685e')\"\n",
              "              title=\"Convert this dataframe to an interactive table.\"\n",
              "              style=\"display:none;\">\n",
              "        \n",
              "  <svg xmlns=\"http://www.w3.org/2000/svg\" height=\"24px\"viewBox=\"0 0 24 24\"\n",
              "       width=\"24px\">\n",
              "    <path d=\"M0 0h24v24H0V0z\" fill=\"none\"/>\n",
              "    <path d=\"M18.56 5.44l.94 2.06.94-2.06 2.06-.94-2.06-.94-.94-2.06-.94 2.06-2.06.94zm-11 1L8.5 8.5l.94-2.06 2.06-.94-2.06-.94L8.5 2.5l-.94 2.06-2.06.94zm10 10l.94 2.06.94-2.06 2.06-.94-2.06-.94-.94-2.06-.94 2.06-2.06.94z\"/><path d=\"M17.41 7.96l-1.37-1.37c-.4-.4-.92-.59-1.43-.59-.52 0-1.04.2-1.43.59L10.3 9.45l-7.72 7.72c-.78.78-.78 2.05 0 2.83L4 21.41c.39.39.9.59 1.41.59.51 0 1.02-.2 1.41-.59l7.78-7.78 2.81-2.81c.8-.78.8-2.07 0-2.86zM5.41 20L4 18.59l7.72-7.72 1.47 1.35L5.41 20z\"/>\n",
              "  </svg>\n",
              "      </button>\n",
              "      \n",
              "  <style>\n",
              "    .colab-df-container {\n",
              "      display:flex;\n",
              "      flex-wrap:wrap;\n",
              "      gap: 12px;\n",
              "    }\n",
              "\n",
              "    .colab-df-convert {\n",
              "      background-color: #E8F0FE;\n",
              "      border: none;\n",
              "      border-radius: 50%;\n",
              "      cursor: pointer;\n",
              "      display: none;\n",
              "      fill: #1967D2;\n",
              "      height: 32px;\n",
              "      padding: 0 0 0 0;\n",
              "      width: 32px;\n",
              "    }\n",
              "\n",
              "    .colab-df-convert:hover {\n",
              "      background-color: #E2EBFA;\n",
              "      box-shadow: 0px 1px 2px rgba(60, 64, 67, 0.3), 0px 1px 3px 1px rgba(60, 64, 67, 0.15);\n",
              "      fill: #174EA6;\n",
              "    }\n",
              "\n",
              "    [theme=dark] .colab-df-convert {\n",
              "      background-color: #3B4455;\n",
              "      fill: #D2E3FC;\n",
              "    }\n",
              "\n",
              "    [theme=dark] .colab-df-convert:hover {\n",
              "      background-color: #434B5C;\n",
              "      box-shadow: 0px 1px 3px 1px rgba(0, 0, 0, 0.15);\n",
              "      filter: drop-shadow(0px 1px 2px rgba(0, 0, 0, 0.3));\n",
              "      fill: #FFFFFF;\n",
              "    }\n",
              "  </style>\n",
              "\n",
              "      <script>\n",
              "        const buttonEl =\n",
              "          document.querySelector('#df-e87b0e04-bdb7-4340-ad03-008945ad685e button.colab-df-convert');\n",
              "        buttonEl.style.display =\n",
              "          google.colab.kernel.accessAllowed ? 'block' : 'none';\n",
              "\n",
              "        async function convertToInteractive(key) {\n",
              "          const element = document.querySelector('#df-e87b0e04-bdb7-4340-ad03-008945ad685e');\n",
              "          const dataTable =\n",
              "            await google.colab.kernel.invokeFunction('convertToInteractive',\n",
              "                                                     [key], {});\n",
              "          if (!dataTable) return;\n",
              "\n",
              "          const docLinkHtml = 'Like what you see? Visit the ' +\n",
              "            '<a target=\"_blank\" href=https://colab.research.google.com/notebooks/data_table.ipynb>data table notebook</a>'\n",
              "            + ' to learn more about interactive tables.';\n",
              "          element.innerHTML = '';\n",
              "          dataTable['output_type'] = 'display_data';\n",
              "          await google.colab.output.renderOutput(dataTable, element);\n",
              "          const docLink = document.createElement('div');\n",
              "          docLink.innerHTML = docLinkHtml;\n",
              "          element.appendChild(docLink);\n",
              "        }\n",
              "      </script>\n",
              "    </div>\n",
              "  </div>\n",
              "  "
            ]
          },
          "metadata": {},
          "execution_count": 46
        }
      ]
    },
    {
      "cell_type": "code",
      "source": [
        "plt.figure(figsize=(15,8))\n",
        "books_df['Year-Of-Publication'].value_counts().head().plot(kind='pie', autopct='%1.2f%%')\n",
        "plt.show()"
      ],
      "metadata": {
        "colab": {
          "base_uri": "https://localhost:8080/",
          "height": 466
        },
        "id": "U6mQ_EW1HQ7l",
        "outputId": "b1dca97e-e9a1-4044-ccb3-3c91eb8e2b60"
      },
      "execution_count": null,
      "outputs": [
        {
          "output_type": "display_data",
          "data": {
            "text/plain": [
              "<Figure size 1080x576 with 1 Axes>"
            ],
            "image/png": "[encoded data removed]"
          },
          "metadata": {}
        }
      ]
    },
    {
      "cell_type": "markdown",
      "source": [
        "Top 5 years with highest number of books published - \n",
        "\n",
        "2002 | 1999 | 2001 | 2000 | 1994"
      ],
      "metadata": {
        "id": "Wq5sdn1fJMsu"
      }
    },
    {
      "cell_type": "code",
      "source": [
        "books_df['Book-Title'].value_counts().head(10).sort_values().plot(kind='barh', title='Top 10 Books by Count')"
      ],
      "metadata": {
        "id": "GAz2cOEGI1Ns",
        "colab": {
          "base_uri": "https://localhost:8080/",
          "height": 298
        },
        "outputId": "cb7d1c88-baa9-4a55-d03a-e7c5cca0e3e9"
      },
      "execution_count": null,
      "outputs": [
        {
          "output_type": "execute_result",
          "data": {
            "text/plain": [
              "<matplotlib.axes._subplots.AxesSubplot at 0x7f006f6cc690>"
            ]
          },
          "metadata": {},
          "execution_count": 48
        },
        {
          "output_type": "display_data",
          "data": {
            "text/plain": [
              "<Figure size 432x288 with 1 Axes>"
            ],
            "image/png": "[encoded data removed]"
          },
          "metadata": {
            "needs_background": "light"
          }
        }
      ]
    },
    {
      "cell_type": "markdown",
      "source": [
        "*Selected Poems is the book having most number of readers.*"
      ],
      "metadata": {
        "id": "UbqLG_aDl6QE"
      }
    },
    {
      "cell_type": "code",
      "source": [
        "books_df['Publisher'].value_counts().head(10).sort_values().plot(kind='barh', title='Top 10 Publisher by Count')"
      ],
      "metadata": {
        "colab": {
          "base_uri": "https://localhost:8080/",
          "height": 298
        },
        "id": "RTRI-jyzR45x",
        "outputId": "86f2ffa7-c16e-4c0f-d71b-48ca80552d90"
      },
      "execution_count": null,
      "outputs": [
        {
          "output_type": "execute_result",
          "data": {
            "text/plain": [
              "<matplotlib.axes._subplots.AxesSubplot at 0x7f006f6a9f90>"
            ]
          },
          "metadata": {},
          "execution_count": 49
        },
        {
          "output_type": "display_data",
          "data": {
            "text/plain": [
              "<Figure size 432x288 with 1 Axes>"
            ],
            "image/png": "[encoded data removed]"
          },
          "metadata": {
            "needs_background": "light"
          }
        }
      ]
    },
    {
      "cell_type": "markdown",
      "source": [
        "*Harlequin is the publisher for approximately around 7500 books.*"
      ],
      "metadata": {
        "id": "BGWY_himmDvq"
      }
    },
    {
      "cell_type": "code",
      "source": [
        "books_df['Book-Author'].value_counts().head(10).sort_values().plot(kind='barh', title='Top 10 Book Authors by Count')"
      ],
      "metadata": {
        "colab": {
          "base_uri": "https://localhost:8080/",
          "height": 298
        },
        "id": "cB9X3QyMScVY",
        "outputId": "cc21e0fe-fdae-4559-a075-774d0ed6b61a"
      },
      "execution_count": null,
      "outputs": [
        {
          "output_type": "execute_result",
          "data": {
            "text/plain": [
              "<matplotlib.axes._subplots.AxesSubplot at 0x7f006f5daad0>"
            ]
          },
          "metadata": {},
          "execution_count": 50
        },
        {
          "output_type": "display_data",
          "data": {
            "text/plain": [
              "<Figure size 432x288 with 1 Axes>"
            ],
            "image/png": "[encoded data removed]"
          },
          "metadata": {
            "needs_background": "light"
          }
        }
      ]
    },
    {
      "cell_type": "markdown",
      "source": [
        "*Agatha Christie is the Author having most number of book.*"
      ],
      "metadata": {
        "id": "d7ZDplajmPiJ"
      }
    },
    {
      "cell_type": "markdown",
      "source": [
        "**Users Dataframe**"
      ],
      "metadata": {
        "id": "wj1l3SlLTQS5"
      }
    },
    {
      "cell_type": "code",
      "source": [
        "users_df.head()"
      ],
      "metadata": {
        "colab": {
          "base_uri": "https://localhost:8080/",
          "height": 206
        },
        "id": "NMz-x2K9SrtH",
        "outputId": "e4608d5c-7c14-4919-a24a-83a6d52bd746"
      },
      "execution_count": null,
      "outputs": [
        {
          "output_type": "execute_result",
          "data": {
            "text/plain": [
              "   User-ID                            Location   Age\n",
              "0        1                  nyc, new york, usa  35.0\n",
              "1        2           stockton, california, usa  18.0\n",
              "2        3     moscow, yukon territory, russia  35.0\n",
              "3        4           porto, v.n.gaia, portugal  17.0\n",
              "4        5  farnborough, hants, united kingdom  35.0"
            ],
            "text/html": [
              "\n",
              "  <div id=\"df-2788a68d-2e1c-4b71-b36e-82e76fc4342d\">\n",
              "    <div class=\"colab-df-container\">\n",
              "      <div>\n",
              "<style scoped>\n",
              "    .dataframe tbody tr th:only-of-type {\n",
              "        vertical-align: middle;\n",
              "    }\n",
              "\n",
              "    .dataframe tbody tr th {\n",
              "        vertical-align: top;\n",
              "    }\n",
              "\n",
              "    .dataframe thead th {\n",
              "        text-align: right;\n",
              "    }\n",
              "</style>\n",
              "<table border=\"1\" class=\"dataframe\">\n",
              "  <thead>\n",
              "    <tr style=\"text-align: right;\">\n",
              "      <th></th>\n",
              "      <th>User-ID</th>\n",
              "      <th>Location</th>\n",
              "      <th>Age</th>\n",
              "    </tr>\n",
              "  </thead>\n",
              "  <tbody>\n",
              "    <tr>\n",
              "      <th>0</th>\n",
              "      <td>1</td>\n",
              "      <td>nyc, new york, usa</td>\n",
              "      <td>35.0</td>\n",
              "    </tr>\n",
              "    <tr>\n",
              "      <th>1</th>\n",
              "      <td>2</td>\n",
              "      <td>stockton, california, usa</td>\n",
              "      <td>18.0</td>\n",
              "    </tr>\n",
              "    <tr>\n",
              "      <th>2</th>\n",
              "      <td>3</td>\n",
              "      <td>moscow, yukon territory, russia</td>\n",
              "      <td>35.0</td>\n",
              "    </tr>\n",
              "    <tr>\n",
              "      <th>3</th>\n",
              "      <td>4</td>\n",
              "      <td>porto, v.n.gaia, portugal</td>\n",
              "      <td>17.0</td>\n",
              "    </tr>\n",
              "    <tr>\n",
              "      <th>4</th>\n",
              "      <td>5</td>\n",
              "      <td>farnborough, hants, united kingdom</td>\n",
              "      <td>35.0</td>\n",
              "    </tr>\n",
              "  </tbody>\n",
              "</table>\n",
              "</div>\n",
              "      <button class=\"colab-df-convert\" onclick=\"convertToInteractive('df-2788a68d-2e1c-4b71-b36e-82e76fc4342d')\"\n",
              "              title=\"Convert this dataframe to an interactive table.\"\n",
              "              style=\"display:none;\">\n",
              "        \n",
              "  <svg xmlns=\"http://www.w3.org/2000/svg\" height=\"24px\"viewBox=\"0 0 24 24\"\n",
              "       width=\"24px\">\n",
              "    <path d=\"M0 0h24v24H0V0z\" fill=\"none\"/>\n",
              "    <path d=\"M18.56 5.44l.94 2.06.94-2.06 2.06-.94-2.06-.94-.94-2.06-.94 2.06-2.06.94zm-11 1L8.5 8.5l.94-2.06 2.06-.94-2.06-.94L8.5 2.5l-.94 2.06-2.06.94zm10 10l.94 2.06.94-2.06 2.06-.94-2.06-.94-.94-2.06-.94 2.06-2.06.94z\"/><path d=\"M17.41 7.96l-1.37-1.37c-.4-.4-.92-.59-1.43-.59-.52 0-1.04.2-1.43.59L10.3 9.45l-7.72 7.72c-.78.78-.78 2.05 0 2.83L4 21.41c.39.39.9.59 1.41.59.51 0 1.02-.2 1.41-.59l7.78-7.78 2.81-2.81c.8-.78.8-2.07 0-2.86zM5.41 20L4 18.59l7.72-7.72 1.47 1.35L5.41 20z\"/>\n",
              "  </svg>\n",
              "      </button>\n",
              "      \n",
              "  <style>\n",
              "    .colab-df-container {\n",
              "      display:flex;\n",
              "      flex-wrap:wrap;\n",
              "      gap: 12px;\n",
              "    }\n",
              "\n",
              "    .colab-df-convert {\n",
              "      background-color: #E8F0FE;\n",
              "      border: none;\n",
              "      border-radius: 50%;\n",
              "      cursor: pointer;\n",
              "      display: none;\n",
              "      fill: #1967D2;\n",
              "      height: 32px;\n",
              "      padding: 0 0 0 0;\n",
              "      width: 32px;\n",
              "    }\n",
              "\n",
              "    .colab-df-convert:hover {\n",
              "      background-color: #E2EBFA;\n",
              "      box-shadow: 0px 1px 2px rgba(60, 64, 67, 0.3), 0px 1px 3px 1px rgba(60, 64, 67, 0.15);\n",
              "      fill: #174EA6;\n",
              "    }\n",
              "\n",
              "    [theme=dark] .colab-df-convert {\n",
              "      background-color: #3B4455;\n",
              "      fill: #D2E3FC;\n",
              "    }\n",
              "\n",
              "    [theme=dark] .colab-df-convert:hover {\n",
              "      background-color: #434B5C;\n",
              "      box-shadow: 0px 1px 3px 1px rgba(0, 0, 0, 0.15);\n",
              "      filter: drop-shadow(0px 1px 2px rgba(0, 0, 0, 0.3));\n",
              "      fill: #FFFFFF;\n",
              "    }\n",
              "  </style>\n",
              "\n",
              "      <script>\n",
              "        const buttonEl =\n",
              "          document.querySelector('#df-2788a68d-2e1c-4b71-b36e-82e76fc4342d button.colab-df-convert');\n",
              "        buttonEl.style.display =\n",
              "          google.colab.kernel.accessAllowed ? 'block' : 'none';\n",
              "\n",
              "        async function convertToInteractive(key) {\n",
              "          const element = document.querySelector('#df-2788a68d-2e1c-4b71-b36e-82e76fc4342d');\n",
              "          const dataTable =\n",
              "            await google.colab.kernel.invokeFunction('convertToInteractive',\n",
              "                                                     [key], {});\n",
              "          if (!dataTable) return;\n",
              "\n",
              "          const docLinkHtml = 'Like what you see? Visit the ' +\n",
              "            '<a target=\"_blank\" href=https://colab.research.google.com/notebooks/data_table.ipynb>data table notebook</a>'\n",
              "            + ' to learn more about interactive tables.';\n",
              "          element.innerHTML = '';\n",
              "          dataTable['output_type'] = 'display_data';\n",
              "          await google.colab.output.renderOutput(dataTable, element);\n",
              "          const docLink = document.createElement('div');\n",
              "          docLink.innerHTML = docLinkHtml;\n",
              "          element.appendChild(docLink);\n",
              "        }\n",
              "      </script>\n",
              "    </div>\n",
              "  </div>\n",
              "  "
            ]
          },
          "metadata": {},
          "execution_count": 51
        }
      ]
    },
    {
      "cell_type": "code",
      "source": [
        "users_df['Age'].value_counts().head(10).sort_values().plot(kind='barh',title='Most number of Users by Age')"
      ],
      "metadata": {
        "colab": {
          "base_uri": "https://localhost:8080/",
          "height": 298
        },
        "id": "Ocjaw4wRTTVf",
        "outputId": "171b6bd3-7b53-4b8e-97d5-86f15f39512b"
      },
      "execution_count": null,
      "outputs": [
        {
          "output_type": "execute_result",
          "data": {
            "text/plain": [
              "<matplotlib.axes._subplots.AxesSubplot at 0x7f006f50bc10>"
            ]
          },
          "metadata": {},
          "execution_count": 52
        },
        {
          "output_type": "display_data",
          "data": {
            "text/plain": [
              "<Figure size 432x288 with 1 Axes>"
            ],
            "image/png": "[encoded data removed]"
          },
          "metadata": {
            "needs_background": "light"
          }
        }
      ]
    },
    {
      "cell_type": "code",
      "source": [
        "sns.boxplot(x='Age', data=users_df)"
      ],
      "metadata": {
        "colab": {
          "base_uri": "https://localhost:8080/",
          "height": 296
        },
        "id": "gK6W2w0gTrNR",
        "outputId": "cce49648-0a5f-4edd-96ba-3c60bcce1674"
      },
      "execution_count": null,
      "outputs": [
        {
          "output_type": "execute_result",
          "data": {
            "text/plain": [
              "<matplotlib.axes._subplots.AxesSubplot at 0x7f006ac70c10>"
            ]
          },
          "metadata": {},
          "execution_count": 53
        },
        {
          "output_type": "display_data",
          "data": {
            "text/plain": [
              "<Figure size 432x288 with 1 Axes>"
            ],
            "image/png": "[encoded data removed]"
          },
          "metadata": {
            "needs_background": "light"
          }
        }
      ]
    },
    {
      "cell_type": "markdown",
      "source": [
        "*We can observe is the observation is below 20 or Above 45 then that observation is considered as an outlier*"
      ],
      "metadata": {
        "id": "vxXKSTQnUnQx"
      }
    },
    {
      "cell_type": "markdown",
      "source": [
        "**Ratings Dataframe**"
      ],
      "metadata": {
        "id": "s9ZdfoZYVUa5"
      }
    },
    {
      "cell_type": "code",
      "source": [
        "ratings_df.head()"
      ],
      "metadata": {
        "colab": {
          "base_uri": "https://localhost:8080/",
          "height": 206
        },
        "id": "9CYU6LtsUj9W",
        "outputId": "29b2fe21-96f0-4cd3-960e-4133b6f2a26b"
      },
      "execution_count": null,
      "outputs": [
        {
          "output_type": "execute_result",
          "data": {
            "text/plain": [
              "   User-ID        ISBN  Book-Rating\n",
              "0   276725  034545104X            0\n",
              "1   276726  0155061224            5\n",
              "2   276727  0446520802            0\n",
              "3   276729  052165615X            3\n",
              "4   276729  0521795028            6"
            ],
            "text/html": [
              "\n",
              "  <div id=\"df-a357a6a6-553a-4d6f-8de3-8b120fbe9e8f\">\n",
              "    <div class=\"colab-df-container\">\n",
              "      <div>\n",
              "<style scoped>\n",
              "    .dataframe tbody tr th:only-of-type {\n",
              "        vertical-align: middle;\n",
              "    }\n",
              "\n",
              "    .dataframe tbody tr th {\n",
              "        vertical-align: top;\n",
              "    }\n",
              "\n",
              "    .dataframe thead th {\n",
              "        text-align: right;\n",
              "    }\n",
              "</style>\n",
              "<table border=\"1\" class=\"dataframe\">\n",
              "  <thead>\n",
              "    <tr style=\"text-align: right;\">\n",
              "      <th></th>\n",
              "      <th>User-ID</th>\n",
              "      <th>ISBN</th>\n",
              "      <th>Book-Rating</th>\n",
              "    </tr>\n",
              "  </thead>\n",
              "  <tbody>\n",
              "    <tr>\n",
              "      <th>0</th>\n",
              "      <td>276725</td>\n",
              "      <td>034545104X</td>\n",
              "      <td>0</td>\n",
              "    </tr>\n",
              "    <tr>\n",
              "      <th>1</th>\n",
              "      <td>276726</td>\n",
              "      <td>0155061224</td>\n",
              "      <td>5</td>\n",
              "    </tr>\n",
              "    <tr>\n",
              "      <th>2</th>\n",
              "      <td>276727</td>\n",
              "      <td>0446520802</td>\n",
              "      <td>0</td>\n",
              "    </tr>\n",
              "    <tr>\n",
              "      <th>3</th>\n",
              "      <td>276729</td>\n",
              "      <td>052165615X</td>\n",
              "      <td>3</td>\n",
              "    </tr>\n",
              "    <tr>\n",
              "      <th>4</th>\n",
              "      <td>276729</td>\n",
              "      <td>0521795028</td>\n",
              "      <td>6</td>\n",
              "    </tr>\n",
              "  </tbody>\n",
              "</table>\n",
              "</div>\n",
              "      <button class=\"colab-df-convert\" onclick=\"convertToInteractive('df-a357a6a6-553a-4d6f-8de3-8b120fbe9e8f')\"\n",
              "              title=\"Convert this dataframe to an interactive table.\"\n",
              "              style=\"display:none;\">\n",
              "        \n",
              "  <svg xmlns=\"http://www.w3.org/2000/svg\" height=\"24px\"viewBox=\"0 0 24 24\"\n",
              "       width=\"24px\">\n",
              "    <path d=\"M0 0h24v24H0V0z\" fill=\"none\"/>\n",
              "    <path d=\"M18.56 5.44l.94 2.06.94-2.06 2.06-.94-2.06-.94-.94-2.06-.94 2.06-2.06.94zm-11 1L8.5 8.5l.94-2.06 2.06-.94-2.06-.94L8.5 2.5l-.94 2.06-2.06.94zm10 10l.94 2.06.94-2.06 2.06-.94-2.06-.94-.94-2.06-.94 2.06-2.06.94z\"/><path d=\"M17.41 7.96l-1.37-1.37c-.4-.4-.92-.59-1.43-.59-.52 0-1.04.2-1.43.59L10.3 9.45l-7.72 7.72c-.78.78-.78 2.05 0 2.83L4 21.41c.39.39.9.59 1.41.59.51 0 1.02-.2 1.41-.59l7.78-7.78 2.81-2.81c.8-.78.8-2.07 0-2.86zM5.41 20L4 18.59l7.72-7.72 1.47 1.35L5.41 20z\"/>\n",
              "  </svg>\n",
              "      </button>\n",
              "      \n",
              "  <style>\n",
              "    .colab-df-container {\n",
              "      display:flex;\n",
              "      flex-wrap:wrap;\n",
              "      gap: 12px;\n",
              "    }\n",
              "\n",
              "    .colab-df-convert {\n",
              "      background-color: #E8F0FE;\n",
              "      border: none;\n",
              "      border-radius: 50%;\n",
              "      cursor: pointer;\n",
              "      display: none;\n",
              "      fill: #1967D2;\n",
              "      height: 32px;\n",
              "      padding: 0 0 0 0;\n",
              "      width: 32px;\n",
              "    }\n",
              "\n",
              "    .colab-df-convert:hover {\n",
              "      background-color: #E2EBFA;\n",
              "      box-shadow: 0px 1px 2px rgba(60, 64, 67, 0.3), 0px 1px 3px 1px rgba(60, 64, 67, 0.15);\n",
              "      fill: #174EA6;\n",
              "    }\n",
              "\n",
              "    [theme=dark] .colab-df-convert {\n",
              "      background-color: #3B4455;\n",
              "      fill: #D2E3FC;\n",
              "    }\n",
              "\n",
              "    [theme=dark] .colab-df-convert:hover {\n",
              "      background-color: #434B5C;\n",
              "      box-shadow: 0px 1px 3px 1px rgba(0, 0, 0, 0.15);\n",
              "      filter: drop-shadow(0px 1px 2px rgba(0, 0, 0, 0.3));\n",
              "      fill: #FFFFFF;\n",
              "    }\n",
              "  </style>\n",
              "\n",
              "      <script>\n",
              "        const buttonEl =\n",
              "          document.querySelector('#df-a357a6a6-553a-4d6f-8de3-8b120fbe9e8f button.colab-df-convert');\n",
              "        buttonEl.style.display =\n",
              "          google.colab.kernel.accessAllowed ? 'block' : 'none';\n",
              "\n",
              "        async function convertToInteractive(key) {\n",
              "          const element = document.querySelector('#df-a357a6a6-553a-4d6f-8de3-8b120fbe9e8f');\n",
              "          const dataTable =\n",
              "            await google.colab.kernel.invokeFunction('convertToInteractive',\n",
              "                                                     [key], {});\n",
              "          if (!dataTable) return;\n",
              "\n",
              "          const docLinkHtml = 'Like what you see? Visit the ' +\n",
              "            '<a target=\"_blank\" href=https://colab.research.google.com/notebooks/data_table.ipynb>data table notebook</a>'\n",
              "            + ' to learn more about interactive tables.';\n",
              "          element.innerHTML = '';\n",
              "          dataTable['output_type'] = 'display_data';\n",
              "          await google.colab.output.renderOutput(dataTable, element);\n",
              "          const docLink = document.createElement('div');\n",
              "          docLink.innerHTML = docLinkHtml;\n",
              "          element.appendChild(docLink);\n",
              "        }\n",
              "      </script>\n",
              "    </div>\n",
              "  </div>\n",
              "  "
            ]
          },
          "metadata": {},
          "execution_count": 54
        }
      ]
    },
    {
      "cell_type": "code",
      "source": [
        "sns.countplot(x='Book-Rating', data=ratings_df)"
      ],
      "metadata": {
        "colab": {
          "base_uri": "https://localhost:8080/",
          "height": 296
        },
        "id": "-STS4Z25VXtE",
        "outputId": "43813c94-5a95-40bd-f1c5-5255f30c61a5"
      },
      "execution_count": null,
      "outputs": [
        {
          "output_type": "execute_result",
          "data": {
            "text/plain": [
              "<matplotlib.axes._subplots.AxesSubplot at 0x7f006abade90>"
            ]
          },
          "metadata": {},
          "execution_count": 55
        },
        {
          "output_type": "display_data",
          "data": {
            "text/plain": [
              "<Figure size 432x288 with 1 Axes>"
            ],
            "image/png": "[encoded data removed]"
          },
          "metadata": {
            "needs_background": "light"
          }
        }
      ]
    },
    {
      "cell_type": "markdown",
      "source": [
        "Highest rating is 8  out of 10. Which means most of the books are rated 8 by most of the users. 1 & 2 are on the lowest side."
      ],
      "metadata": {
        "id": "Uidl--POWDvK"
      }
    },
    {
      "cell_type": "code",
      "source": [
        "users_df['User-ID'].shape"
      ],
      "metadata": {
        "colab": {
          "base_uri": "https://localhost:8080/"
        },
        "id": "A70DNvhyVg17",
        "outputId": "0a5e2a1c-2dfa-43c8-aa17-f53110001cdb"
      },
      "execution_count": null,
      "outputs": [
        {
          "output_type": "execute_result",
          "data": {
            "text/plain": [
              "(278858,)"
            ]
          },
          "metadata": {},
          "execution_count": 56
        }
      ]
    },
    {
      "cell_type": "code",
      "source": [
        "ratings_df['User-ID'].nunique()"
      ],
      "metadata": {
        "colab": {
          "base_uri": "https://localhost:8080/"
        },
        "id": "7YhBT-GaXY90",
        "outputId": "5c6668a6-9290-4c53-eec7-c67b135f10ff"
      },
      "execution_count": null,
      "outputs": [
        {
          "output_type": "execute_result",
          "data": {
            "text/plain": [
              "105283"
            ]
          },
          "metadata": {},
          "execution_count": 57
        }
      ]
    },
    {
      "cell_type": "markdown",
      "source": [
        "*We can observe in total there are 278858 users but out of them only 105283 have omly opted to give ratings for book.*"
      ],
      "metadata": {
        "id": "Nf3WSA7BXpu2"
      }
    },
    {
      "cell_type": "code",
      "source": [
        "ratings_df['User-ID'].shape"
      ],
      "metadata": {
        "colab": {
          "base_uri": "https://localhost:8080/"
        },
        "id": "zJKMtf4sYBLW",
        "outputId": "5737edf6-94cd-42d5-de9d-ccf76c79cdfb"
      },
      "execution_count": null,
      "outputs": [
        {
          "output_type": "execute_result",
          "data": {
            "text/plain": [
              "(1149780,)"
            ]
          },
          "metadata": {},
          "execution_count": 58
        }
      ]
    },
    {
      "cell_type": "markdown",
      "source": [
        "*We can observe total ratings by users giving rate is 1149780.*"
      ],
      "metadata": {
        "id": "1rlxOtd6YF6D"
      }
    },
    {
      "cell_type": "markdown",
      "source": [
        "*Let's begin with building a Recommendation System.*"
      ],
      "metadata": {
        "id": "jtwYEnxQYN4F"
      }
    },
    {
      "cell_type": "markdown",
      "source": [
        "**---------------------------------------------Collaborative Filtering Using k - Nearest Neighbors----------------------------------------------------------**"
      ],
      "metadata": {
        "id": "ku3Xnka2YkGV"
      }
    },
    {
      "cell_type": "markdown",
      "source": [
        "Checking how many times individual user have rated the different books & also how many times individual book got ratings from different users."
      ],
      "metadata": {
        "id": "EssjgooOIhvK"
      }
    },
    {
      "cell_type": "code",
      "source": [
        "user_ratings_count = ratings_df['User-ID'].value_counts()"
      ],
      "metadata": {
        "id": "RlTMNodAXm8K"
      },
      "execution_count": null,
      "outputs": []
    },
    {
      "cell_type": "code",
      "source": [
        "user_ratings_count.describe()"
      ],
      "metadata": {
        "colab": {
          "base_uri": "https://localhost:8080/"
        },
        "id": "dkSbF9ImHuYp",
        "outputId": "1b495b84-4cbc-4698-f9d9-53cc6abff2d5"
      },
      "execution_count": null,
      "outputs": [
        {
          "output_type": "execute_result",
          "data": {
            "text/plain": [
              "count    105283.000000\n",
              "mean         10.920851\n",
              "std          90.562825\n",
              "min           1.000000\n",
              "25%           1.000000\n",
              "50%           1.000000\n",
              "75%           4.000000\n",
              "max       13602.000000\n",
              "Name: User-ID, dtype: float64"
            ]
          },
          "metadata": {},
          "execution_count": 60
        }
      ]
    },
    {
      "cell_type": "code",
      "source": [
        "book_ratings_count = ratings_df['ISBN'].value_counts()"
      ],
      "metadata": {
        "id": "Avajmz1AIM03"
      },
      "execution_count": null,
      "outputs": []
    },
    {
      "cell_type": "code",
      "source": [
        "book_ratings_count.describe()"
      ],
      "metadata": {
        "colab": {
          "base_uri": "https://localhost:8080/"
        },
        "id": "rofWxCnDITQ2",
        "outputId": "0df753a6-138b-4523-f912-25a35615a960"
      },
      "execution_count": null,
      "outputs": [
        {
          "output_type": "execute_result",
          "data": {
            "text/plain": [
              "count    340556.000000\n",
              "mean          3.376185\n",
              "std          12.436252\n",
              "min           1.000000\n",
              "25%           1.000000\n",
              "50%           1.000000\n",
              "75%           2.000000\n",
              "max        2502.000000\n",
              "Name: ISBN, dtype: float64"
            ]
          },
          "metadata": {},
          "execution_count": 62
        }
      ]
    },
    {
      "cell_type": "code",
      "source": [
        "user_ratings_count.quantile(q=0.99)"
      ],
      "metadata": {
        "colab": {
          "base_uri": "https://localhost:8080/"
        },
        "id": "q_fNFftTJHC1",
        "outputId": "d9489abb-42b2-4963-e3e3-31999d820df7"
      },
      "execution_count": null,
      "outputs": [
        {
          "output_type": "execute_result",
          "data": {
            "text/plain": [
              "174.0"
            ]
          },
          "metadata": {},
          "execution_count": 63
        }
      ]
    },
    {
      "cell_type": "code",
      "source": [
        "user_ratings_count[user_ratings_count > 174]"
      ],
      "metadata": {
        "colab": {
          "base_uri": "https://localhost:8080/"
        },
        "id": "xFM-wrFzKaWG",
        "outputId": "95873f4f-debd-47a8-dca6-ba78f5625058"
      },
      "execution_count": null,
      "outputs": [
        {
          "output_type": "execute_result",
          "data": {
            "text/plain": [
              "11676     13602\n",
              "198711     7550\n",
              "153662     6109\n",
              "98391      5891\n",
              "35859      5850\n",
              "          ...  \n",
              "9908        175\n",
              "173481      175\n",
              "93426       175\n",
              "41227       175\n",
              "181076      175\n",
              "Name: User-ID, Length: 1050, dtype: int64"
            ]
          },
          "metadata": {},
          "execution_count": 64
        }
      ]
    },
    {
      "cell_type": "markdown",
      "source": [
        "*We can observe that 99% of users have given total rating 29 or less times. There are 1050 such users. So let's keep a threshold of 174 for users to ensure statistical significance.*"
      ],
      "metadata": {
        "id": "u0IyOmkKJqyV"
      }
    },
    {
      "cell_type": "code",
      "source": [
        "book_ratings_count.quantile(q=0.99)"
      ],
      "metadata": {
        "colab": {
          "base_uri": "https://localhost:8080/"
        },
        "id": "FCLXF84oJ1IO",
        "outputId": "1fde4501-69f9-4105-8013-398f8f0ad4b2"
      },
      "execution_count": null,
      "outputs": [
        {
          "output_type": "execute_result",
          "data": {
            "text/plain": [
              "36.0"
            ]
          },
          "metadata": {},
          "execution_count": 65
        }
      ]
    },
    {
      "cell_type": "code",
      "source": [
        "book_ratings_count[book_ratings_count > 26]"
      ],
      "metadata": {
        "colab": {
          "base_uri": "https://localhost:8080/"
        },
        "id": "alMzoepULJmo",
        "outputId": "ef7527da-398e-49da-e9b1-8583049d5ae8"
      },
      "execution_count": null,
      "outputs": [
        {
          "output_type": "execute_result",
          "data": {
            "text/plain": [
              "0971880107    2502\n",
              "0316666343    1295\n",
              "0385504209     883\n",
              "0060928336     732\n",
              "0312195516     723\n",
              "              ... \n",
              "0553270222      27\n",
              "0590568752      27\n",
              "0140430105      27\n",
              "880781210X      27\n",
              "0345333756      27\n",
              "Name: ISBN, Length: 5048, dtype: int64"
            ]
          },
          "metadata": {},
          "execution_count": 66
        }
      ]
    },
    {
      "cell_type": "markdown",
      "source": [
        "*We can observe that 99% of the books have total numbver of rating count given by user as 26 or less. Keeping threshold for statistical significance as 26 for Books. There are 2377 such books.*"
      ],
      "metadata": {
        "id": "J8YJT6O-KYGB"
      }
    },
    {
      "cell_type": "markdown",
      "source": [
        "**To ensure statistical significance, users with less than 50 ratings, and books with less than 50 ratings are excluded.**"
      ],
      "metadata": {
        "id": "8Qj6crC0G5PL"
      }
    },
    {
      "cell_type": "markdown",
      "source": [
        "Filtering users with only 50 or more ratings."
      ],
      "metadata": {
        "id": "8ZyO0NLKLXs6"
      }
    },
    {
      "cell_type": "code",
      "source": [
        "ratings_df = ratings_df[ratings_df['User-ID'].isin(user_ratings_count[user_ratings_count >= 50].index)]"
      ],
      "metadata": {
        "id": "qFeJiEXXHR4y"
      },
      "execution_count": null,
      "outputs": []
    },
    {
      "cell_type": "code",
      "source": [
        "ratings_df"
      ],
      "metadata": {
        "colab": {
          "base_uri": "https://localhost:8080/",
          "height": 423
        },
        "id": "QwuN3VIOHkBJ",
        "outputId": "2ac78920-eb05-4061-f550-8dab9ab678c8"
      },
      "execution_count": null,
      "outputs": [
        {
          "output_type": "execute_result",
          "data": {
            "text/plain": [
              "         User-ID        ISBN  Book-Rating\n",
              "173       276847  0446364193            0\n",
              "174       276847  3257200552            5\n",
              "175       276847  3379015180            0\n",
              "176       276847  3404145909            8\n",
              "177       276847  3404148576            8\n",
              "...          ...         ...          ...\n",
              "1149744   276688  0836236688           10\n",
              "1149745   276688  0892966548           10\n",
              "1149746   276688  1551669315            6\n",
              "1149747   276688  1575660792            7\n",
              "1149748   276688  1580600506            0\n",
              "\n",
              "[768472 rows x 3 columns]"
            ],
            "text/html": [
              "\n",
              "  <div id=\"df-1a347fb6-6b94-4981-8b09-8f354ad4d8ed\">\n",
              "    <div class=\"colab-df-container\">\n",
              "      <div>\n",
              "<style scoped>\n",
              "    .dataframe tbody tr th:only-of-type {\n",
              "        vertical-align: middle;\n",
              "    }\n",
              "\n",
              "    .dataframe tbody tr th {\n",
              "        vertical-align: top;\n",
              "    }\n",
              "\n",
              "    .dataframe thead th {\n",
              "        text-align: right;\n",
              "    }\n",
              "</style>\n",
              "<table border=\"1\" class=\"dataframe\">\n",
              "  <thead>\n",
              "    <tr style=\"text-align: right;\">\n",
              "      <th></th>\n",
              "      <th>User-ID</th>\n",
              "      <th>ISBN</th>\n",
              "      <th>Book-Rating</th>\n",
              "    </tr>\n",
              "  </thead>\n",
              "  <tbody>\n",
              "    <tr>\n",
              "      <th>173</th>\n",
              "      <td>276847</td>\n",
              "      <td>0446364193</td>\n",
              "      <td>0</td>\n",
              "    </tr>\n",
              "    <tr>\n",
              "      <th>174</th>\n",
              "      <td>276847</td>\n",
              "      <td>3257200552</td>\n",
              "      <td>5</td>\n",
              "    </tr>\n",
              "    <tr>\n",
              "      <th>175</th>\n",
              "      <td>276847</td>\n",
              "      <td>3379015180</td>\n",
              "      <td>0</td>\n",
              "    </tr>\n",
              "    <tr>\n",
              "      <th>176</th>\n",
              "      <td>276847</td>\n",
              "      <td>3404145909</td>\n",
              "      <td>8</td>\n",
              "    </tr>\n",
              "    <tr>\n",
              "      <th>177</th>\n",
              "      <td>276847</td>\n",
              "      <td>3404148576</td>\n",
              "      <td>8</td>\n",
              "    </tr>\n",
              "    <tr>\n",
              "      <th>...</th>\n",
              "      <td>...</td>\n",
              "      <td>...</td>\n",
              "      <td>...</td>\n",
              "    </tr>\n",
              "    <tr>\n",
              "      <th>1149744</th>\n",
              "      <td>276688</td>\n",
              "      <td>0836236688</td>\n",
              "      <td>10</td>\n",
              "    </tr>\n",
              "    <tr>\n",
              "      <th>1149745</th>\n",
              "      <td>276688</td>\n",
              "      <td>0892966548</td>\n",
              "      <td>10</td>\n",
              "    </tr>\n",
              "    <tr>\n",
              "      <th>1149746</th>\n",
              "      <td>276688</td>\n",
              "      <td>1551669315</td>\n",
              "      <td>6</td>\n",
              "    </tr>\n",
              "    <tr>\n",
              "      <th>1149747</th>\n",
              "      <td>276688</td>\n",
              "      <td>1575660792</td>\n",
              "      <td>7</td>\n",
              "    </tr>\n",
              "    <tr>\n",
              "      <th>1149748</th>\n",
              "      <td>276688</td>\n",
              "      <td>1580600506</td>\n",
              "      <td>0</td>\n",
              "    </tr>\n",
              "  </tbody>\n",
              "</table>\n",
              "<p>768472 rows × 3 columns</p>\n",
              "</div>\n",
              "      <button class=\"colab-df-convert\" onclick=\"convertToInteractive('df-1a347fb6-6b94-4981-8b09-8f354ad4d8ed')\"\n",
              "              title=\"Convert this dataframe to an interactive table.\"\n",
              "              style=\"display:none;\">\n",
              "        \n",
              "  <svg xmlns=\"http://www.w3.org/2000/svg\" height=\"24px\"viewBox=\"0 0 24 24\"\n",
              "       width=\"24px\">\n",
              "    <path d=\"M0 0h24v24H0V0z\" fill=\"none\"/>\n",
              "    <path d=\"M18.56 5.44l.94 2.06.94-2.06 2.06-.94-2.06-.94-.94-2.06-.94 2.06-2.06.94zm-11 1L8.5 8.5l.94-2.06 2.06-.94-2.06-.94L8.5 2.5l-.94 2.06-2.06.94zm10 10l.94 2.06.94-2.06 2.06-.94-2.06-.94-.94-2.06-.94 2.06-2.06.94z\"/><path d=\"M17.41 7.96l-1.37-1.37c-.4-.4-.92-.59-1.43-.59-.52 0-1.04.2-1.43.59L10.3 9.45l-7.72 7.72c-.78.78-.78 2.05 0 2.83L4 21.41c.39.39.9.59 1.41.59.51 0 1.02-.2 1.41-.59l7.78-7.78 2.81-2.81c.8-.78.8-2.07 0-2.86zM5.41 20L4 18.59l7.72-7.72 1.47 1.35L5.41 20z\"/>\n",
              "  </svg>\n",
              "      </button>\n",
              "      \n",
              "  <style>\n",
              "    .colab-df-container {\n",
              "      display:flex;\n",
              "      flex-wrap:wrap;\n",
              "      gap: 12px;\n",
              "    }\n",
              "\n",
              "    .colab-df-convert {\n",
              "      background-color: #E8F0FE;\n",
              "      border: none;\n",
              "      border-radius: 50%;\n",
              "      cursor: pointer;\n",
              "      display: none;\n",
              "      fill: #1967D2;\n",
              "      height: 32px;\n",
              "      padding: 0 0 0 0;\n",
              "      width: 32px;\n",
              "    }\n",
              "\n",
              "    .colab-df-convert:hover {\n",
              "      background-color: #E2EBFA;\n",
              "      box-shadow: 0px 1px 2px rgba(60, 64, 67, 0.3), 0px 1px 3px 1px rgba(60, 64, 67, 0.15);\n",
              "      fill: #174EA6;\n",
              "    }\n",
              "\n",
              "    [theme=dark] .colab-df-convert {\n",
              "      background-color: #3B4455;\n",
              "      fill: #D2E3FC;\n",
              "    }\n",
              "\n",
              "    [theme=dark] .colab-df-convert:hover {\n",
              "      background-color: #434B5C;\n",
              "      box-shadow: 0px 1px 3px 1px rgba(0, 0, 0, 0.15);\n",
              "      filter: drop-shadow(0px 1px 2px rgba(0, 0, 0, 0.3));\n",
              "      fill: #FFFFFF;\n",
              "    }\n",
              "  </style>\n",
              "\n",
              "      <script>\n",
              "        const buttonEl =\n",
              "          document.querySelector('#df-1a347fb6-6b94-4981-8b09-8f354ad4d8ed button.colab-df-convert');\n",
              "        buttonEl.style.display =\n",
              "          google.colab.kernel.accessAllowed ? 'block' : 'none';\n",
              "\n",
              "        async function convertToInteractive(key) {\n",
              "          const element = document.querySelector('#df-1a347fb6-6b94-4981-8b09-8f354ad4d8ed');\n",
              "          const dataTable =\n",
              "            await google.colab.kernel.invokeFunction('convertToInteractive',\n",
              "                                                     [key], {});\n",
              "          if (!dataTable) return;\n",
              "\n",
              "          const docLinkHtml = 'Like what you see? Visit the ' +\n",
              "            '<a target=\"_blank\" href=https://colab.research.google.com/notebooks/data_table.ipynb>data table notebook</a>'\n",
              "            + ' to learn more about interactive tables.';\n",
              "          element.innerHTML = '';\n",
              "          dataTable['output_type'] = 'display_data';\n",
              "          await google.colab.output.renderOutput(dataTable, element);\n",
              "          const docLink = document.createElement('div');\n",
              "          docLink.innerHTML = docLinkHtml;\n",
              "          element.appendChild(docLink);\n",
              "        }\n",
              "      </script>\n",
              "    </div>\n",
              "  </div>\n",
              "  "
            ]
          },
          "metadata": {},
          "execution_count": 68
        }
      ]
    },
    {
      "cell_type": "markdown",
      "source": [
        "Filtering books with 50 or more ratings."
      ],
      "metadata": {
        "id": "cvkKhI22LdGh"
      }
    },
    {
      "cell_type": "code",
      "source": [
        "ratings_df = ratings_df[ratings_df['ISBN'].isin(book_ratings_count[book_ratings_count >= 50].index)]"
      ],
      "metadata": {
        "id": "DmOjdhb5HlNt"
      },
      "execution_count": null,
      "outputs": []
    },
    {
      "cell_type": "code",
      "source": [
        "ratings_df"
      ],
      "metadata": {
        "colab": {
          "base_uri": "https://localhost:8080/",
          "height": 423
        },
        "id": "pm6P9q8ZLvWx",
        "outputId": "19e9d871-6bae-4470-fb73-bc546c0721d2"
      },
      "execution_count": null,
      "outputs": [
        {
          "output_type": "execute_result",
          "data": {
            "text/plain": [
              "         User-ID        ISBN  Book-Rating\n",
              "173       276847  0446364193            0\n",
              "182       276847  3426029553            8\n",
              "413       276925  002542730X           10\n",
              "426       276925  0316666343            0\n",
              "427       276925  0345391810            0\n",
              "...          ...         ...          ...\n",
              "1149714   276688  0553575090            7\n",
              "1149715   276688  0553575104            6\n",
              "1149724   276688  0679459618            0\n",
              "1149726   276688  0679751521            0\n",
              "1149731   276688  068484267X            0\n",
              "\n",
              "[143240 rows x 3 columns]"
            ],
            "text/html": [
              "\n",
              "  <div id=\"df-f1f3cac5-a1b7-4725-b1cb-afd3a38fbb22\">\n",
              "    <div class=\"colab-df-container\">\n",
              "      <div>\n",
              "<style scoped>\n",
              "    .dataframe tbody tr th:only-of-type {\n",
              "        vertical-align: middle;\n",
              "    }\n",
              "\n",
              "    .dataframe tbody tr th {\n",
              "        vertical-align: top;\n",
              "    }\n",
              "\n",
              "    .dataframe thead th {\n",
              "        text-align: right;\n",
              "    }\n",
              "</style>\n",
              "<table border=\"1\" class=\"dataframe\">\n",
              "  <thead>\n",
              "    <tr style=\"text-align: right;\">\n",
              "      <th></th>\n",
              "      <th>User-ID</th>\n",
              "      <th>ISBN</th>\n",
              "      <th>Book-Rating</th>\n",
              "    </tr>\n",
              "  </thead>\n",
              "  <tbody>\n",
              "    <tr>\n",
              "      <th>173</th>\n",
              "      <td>276847</td>\n",
              "      <td>0446364193</td>\n",
              "      <td>0</td>\n",
              "    </tr>\n",
              "    <tr>\n",
              "      <th>182</th>\n",
              "      <td>276847</td>\n",
              "      <td>3426029553</td>\n",
              "      <td>8</td>\n",
              "    </tr>\n",
              "    <tr>\n",
              "      <th>413</th>\n",
              "      <td>276925</td>\n",
              "      <td>002542730X</td>\n",
              "      <td>10</td>\n",
              "    </tr>\n",
              "    <tr>\n",
              "      <th>426</th>\n",
              "      <td>276925</td>\n",
              "      <td>0316666343</td>\n",
              "      <td>0</td>\n",
              "    </tr>\n",
              "    <tr>\n",
              "      <th>427</th>\n",
              "      <td>276925</td>\n",
              "      <td>0345391810</td>\n",
              "      <td>0</td>\n",
              "    </tr>\n",
              "    <tr>\n",
              "      <th>...</th>\n",
              "      <td>...</td>\n",
              "      <td>...</td>\n",
              "      <td>...</td>\n",
              "    </tr>\n",
              "    <tr>\n",
              "      <th>1149714</th>\n",
              "      <td>276688</td>\n",
              "      <td>0553575090</td>\n",
              "      <td>7</td>\n",
              "    </tr>\n",
              "    <tr>\n",
              "      <th>1149715</th>\n",
              "      <td>276688</td>\n",
              "      <td>0553575104</td>\n",
              "      <td>6</td>\n",
              "    </tr>\n",
              "    <tr>\n",
              "      <th>1149724</th>\n",
              "      <td>276688</td>\n",
              "      <td>0679459618</td>\n",
              "      <td>0</td>\n",
              "    </tr>\n",
              "    <tr>\n",
              "      <th>1149726</th>\n",
              "      <td>276688</td>\n",
              "      <td>0679751521</td>\n",
              "      <td>0</td>\n",
              "    </tr>\n",
              "    <tr>\n",
              "      <th>1149731</th>\n",
              "      <td>276688</td>\n",
              "      <td>068484267X</td>\n",
              "      <td>0</td>\n",
              "    </tr>\n",
              "  </tbody>\n",
              "</table>\n",
              "<p>143240 rows × 3 columns</p>\n",
              "</div>\n",
              "      <button class=\"colab-df-convert\" onclick=\"convertToInteractive('df-f1f3cac5-a1b7-4725-b1cb-afd3a38fbb22')\"\n",
              "              title=\"Convert this dataframe to an interactive table.\"\n",
              "              style=\"display:none;\">\n",
              "        \n",
              "  <svg xmlns=\"http://www.w3.org/2000/svg\" height=\"24px\"viewBox=\"0 0 24 24\"\n",
              "       width=\"24px\">\n",
              "    <path d=\"M0 0h24v24H0V0z\" fill=\"none\"/>\n",
              "    <path d=\"M18.56 5.44l.94 2.06.94-2.06 2.06-.94-2.06-.94-.94-2.06-.94 2.06-2.06.94zm-11 1L8.5 8.5l.94-2.06 2.06-.94-2.06-.94L8.5 2.5l-.94 2.06-2.06.94zm10 10l.94 2.06.94-2.06 2.06-.94-2.06-.94-.94-2.06-.94 2.06-2.06.94z\"/><path d=\"M17.41 7.96l-1.37-1.37c-.4-.4-.92-.59-1.43-.59-.52 0-1.04.2-1.43.59L10.3 9.45l-7.72 7.72c-.78.78-.78 2.05 0 2.83L4 21.41c.39.39.9.59 1.41.59.51 0 1.02-.2 1.41-.59l7.78-7.78 2.81-2.81c.8-.78.8-2.07 0-2.86zM5.41 20L4 18.59l7.72-7.72 1.47 1.35L5.41 20z\"/>\n",
              "  </svg>\n",
              "      </button>\n",
              "      \n",
              "  <style>\n",
              "    .colab-df-container {\n",
              "      display:flex;\n",
              "      flex-wrap:wrap;\n",
              "      gap: 12px;\n",
              "    }\n",
              "\n",
              "    .colab-df-convert {\n",
              "      background-color: #E8F0FE;\n",
              "      border: none;\n",
              "      border-radius: 50%;\n",
              "      cursor: pointer;\n",
              "      display: none;\n",
              "      fill: #1967D2;\n",
              "      height: 32px;\n",
              "      padding: 0 0 0 0;\n",
              "      width: 32px;\n",
              "    }\n",
              "\n",
              "    .colab-df-convert:hover {\n",
              "      background-color: #E2EBFA;\n",
              "      box-shadow: 0px 1px 2px rgba(60, 64, 67, 0.3), 0px 1px 3px 1px rgba(60, 64, 67, 0.15);\n",
              "      fill: #174EA6;\n",
              "    }\n",
              "\n",
              "    [theme=dark] .colab-df-convert {\n",
              "      background-color: #3B4455;\n",
              "      fill: #D2E3FC;\n",
              "    }\n",
              "\n",
              "    [theme=dark] .colab-df-convert:hover {\n",
              "      background-color: #434B5C;\n",
              "      box-shadow: 0px 1px 3px 1px rgba(0, 0, 0, 0.15);\n",
              "      filter: drop-shadow(0px 1px 2px rgba(0, 0, 0, 0.3));\n",
              "      fill: #FFFFFF;\n",
              "    }\n",
              "  </style>\n",
              "\n",
              "      <script>\n",
              "        const buttonEl =\n",
              "          document.querySelector('#df-f1f3cac5-a1b7-4725-b1cb-afd3a38fbb22 button.colab-df-convert');\n",
              "        buttonEl.style.display =\n",
              "          google.colab.kernel.accessAllowed ? 'block' : 'none';\n",
              "\n",
              "        async function convertToInteractive(key) {\n",
              "          const element = document.querySelector('#df-f1f3cac5-a1b7-4725-b1cb-afd3a38fbb22');\n",
              "          const dataTable =\n",
              "            await google.colab.kernel.invokeFunction('convertToInteractive',\n",
              "                                                     [key], {});\n",
              "          if (!dataTable) return;\n",
              "\n",
              "          const docLinkHtml = 'Like what you see? Visit the ' +\n",
              "            '<a target=\"_blank\" href=https://colab.research.google.com/notebooks/data_table.ipynb>data table notebook</a>'\n",
              "            + ' to learn more about interactive tables.';\n",
              "          element.innerHTML = '';\n",
              "          dataTable['output_type'] = 'display_data';\n",
              "          await google.colab.output.renderOutput(dataTable, element);\n",
              "          const docLink = document.createElement('div');\n",
              "          docLink.innerHTML = docLinkHtml;\n",
              "          element.appendChild(docLink);\n",
              "        }\n",
              "      </script>\n",
              "    </div>\n",
              "  </div>\n",
              "  "
            ]
          },
          "metadata": {},
          "execution_count": 70
        }
      ]
    },
    {
      "cell_type": "markdown",
      "source": [
        "**k - Nearest Neighbor is a popular machine learning algorithm which in this case will help us to find clusters of similar users based on common book ratings & make predictions using the average rating of top-k nearest neighbor.**"
      ],
      "metadata": {
        "id": "6-ASNezpMFtn"
      }
    },
    {
      "cell_type": "markdown",
      "source": [
        "Combining **Rating** and **Book** dataframe using **ISBN** feature which is common in both."
      ],
      "metadata": {
        "id": "e2K1WXXDMxId"
      }
    },
    {
      "cell_type": "code",
      "source": [
        "combined_book_rating_df = pd.merge(ratings_df, books_df, on='ISBN')"
      ],
      "metadata": {
        "id": "lBAKSdigLwoG"
      },
      "execution_count": null,
      "outputs": []
    },
    {
      "cell_type": "code",
      "source": [
        "combined_book_rating_df"
      ],
      "metadata": {
        "colab": {
          "base_uri": "https://localhost:8080/",
          "height": 423
        },
        "id": "MpxE9evaNJ-B",
        "outputId": "c6678829-a163-4edd-f5bd-9e265a39aa88"
      },
      "execution_count": null,
      "outputs": [
        {
          "output_type": "execute_result",
          "data": {
            "text/plain": [
              "        User-ID        ISBN  Book-Rating  \\\n",
              "0        276847  0446364193            0   \n",
              "1        278418  0446364193            0   \n",
              "2          5483  0446364193            0   \n",
              "3          7346  0446364193            0   \n",
              "4          8362  0446364193            0   \n",
              "...         ...         ...          ...   \n",
              "142068   246156  0743406184            0   \n",
              "142069   246617  0743406184            0   \n",
              "142070   274308  0743406184            0   \n",
              "142071   274325  0743406184            0   \n",
              "142072   275970  0743406184            0   \n",
              "\n",
              "                                     Book-Title      Book-Author  \\\n",
              "0       Along Came a Spider (Alex Cross Novels)  James Patterson   \n",
              "1       Along Came a Spider (Alex Cross Novels)  James Patterson   \n",
              "2       Along Came a Spider (Alex Cross Novels)  James Patterson   \n",
              "3       Along Came a Spider (Alex Cross Novels)  James Patterson   \n",
              "4       Along Came a Spider (Alex Cross Novels)  James Patterson   \n",
              "...                                         ...              ...   \n",
              "142068                     If Only It Were True        Marc Levy   \n",
              "142069                     If Only It Were True        Marc Levy   \n",
              "142070                     If Only It Were True        Marc Levy   \n",
              "142071                     If Only It Were True        Marc Levy   \n",
              "142072                     If Only It Were True        Marc Levy   \n",
              "\n",
              "        Year-Of-Publication     Publisher  \n",
              "0                    1993.0  Warner Books  \n",
              "1                    1993.0  Warner Books  \n",
              "2                    1993.0  Warner Books  \n",
              "3                    1993.0  Warner Books  \n",
              "4                    1993.0  Warner Books  \n",
              "...                     ...           ...  \n",
              "142068               2001.0        Pocket  \n",
              "142069               2001.0        Pocket  \n",
              "142070               2001.0        Pocket  \n",
              "142071               2001.0        Pocket  \n",
              "142072               2001.0        Pocket  \n",
              "\n",
              "[142073 rows x 7 columns]"
            ],
            "text/html": [
              "\n",
              "  <div id=\"df-f6738721-bace-4ed4-b209-23192bc328b9\">\n",
              "    <div class=\"colab-df-container\">\n",
              "      <div>\n",
              "<style scoped>\n",
              "    .dataframe tbody tr th:only-of-type {\n",
              "        vertical-align: middle;\n",
              "    }\n",
              "\n",
              "    .dataframe tbody tr th {\n",
              "        vertical-align: top;\n",
              "    }\n",
              "\n",
              "    .dataframe thead th {\n",
              "        text-align: right;\n",
              "    }\n",
              "</style>\n",
              "<table border=\"1\" class=\"dataframe\">\n",
              "  <thead>\n",
              "    <tr style=\"text-align: right;\">\n",
              "      <th></th>\n",
              "      <th>User-ID</th>\n",
              "      <th>ISBN</th>\n",
              "      <th>Book-Rating</th>\n",
              "      <th>Book-Title</th>\n",
              "      <th>Book-Author</th>\n",
              "      <th>Year-Of-Publication</th>\n",
              "      <th>Publisher</th>\n",
              "    </tr>\n",
              "  </thead>\n",
              "  <tbody>\n",
              "    <tr>\n",
              "      <th>0</th>\n",
              "      <td>276847</td>\n",
              "      <td>0446364193</td>\n",
              "      <td>0</td>\n",
              "      <td>Along Came a Spider (Alex Cross Novels)</td>\n",
              "      <td>James Patterson</td>\n",
              "      <td>1993.0</td>\n",
              "      <td>Warner Books</td>\n",
              "    </tr>\n",
              "    <tr>\n",
              "      <th>1</th>\n",
              "      <td>278418</td>\n",
              "      <td>0446364193</td>\n",
              "      <td>0</td>\n",
              "      <td>Along Came a Spider (Alex Cross Novels)</td>\n",
              "      <td>James Patterson</td>\n",
              "      <td>1993.0</td>\n",
              "      <td>Warner Books</td>\n",
              "    </tr>\n",
              "    <tr>\n",
              "      <th>2</th>\n",
              "      <td>5483</td>\n",
              "      <td>0446364193</td>\n",
              "      <td>0</td>\n",
              "      <td>Along Came a Spider (Alex Cross Novels)</td>\n",
              "      <td>James Patterson</td>\n",
              "      <td>1993.0</td>\n",
              "      <td>Warner Books</td>\n",
              "    </tr>\n",
              "    <tr>\n",
              "      <th>3</th>\n",
              "      <td>7346</td>\n",
              "      <td>0446364193</td>\n",
              "      <td>0</td>\n",
              "      <td>Along Came a Spider (Alex Cross Novels)</td>\n",
              "      <td>James Patterson</td>\n",
              "      <td>1993.0</td>\n",
              "      <td>Warner Books</td>\n",
              "    </tr>\n",
              "    <tr>\n",
              "      <th>4</th>\n",
              "      <td>8362</td>\n",
              "      <td>0446364193</td>\n",
              "      <td>0</td>\n",
              "      <td>Along Came a Spider (Alex Cross Novels)</td>\n",
              "      <td>James Patterson</td>\n",
              "      <td>1993.0</td>\n",
              "      <td>Warner Books</td>\n",
              "    </tr>\n",
              "    <tr>\n",
              "      <th>...</th>\n",
              "      <td>...</td>\n",
              "      <td>...</td>\n",
              "      <td>...</td>\n",
              "      <td>...</td>\n",
              "      <td>...</td>\n",
              "      <td>...</td>\n",
              "      <td>...</td>\n",
              "    </tr>\n",
              "    <tr>\n",
              "      <th>142068</th>\n",
              "      <td>246156</td>\n",
              "      <td>0743406184</td>\n",
              "      <td>0</td>\n",
              "      <td>If Only It Were True</td>\n",
              "      <td>Marc Levy</td>\n",
              "      <td>2001.0</td>\n",
              "      <td>Pocket</td>\n",
              "    </tr>\n",
              "    <tr>\n",
              "      <th>142069</th>\n",
              "      <td>246617</td>\n",
              "      <td>0743406184</td>\n",
              "      <td>0</td>\n",
              "      <td>If Only It Were True</td>\n",
              "      <td>Marc Levy</td>\n",
              "      <td>2001.0</td>\n",
              "      <td>Pocket</td>\n",
              "    </tr>\n",
              "    <tr>\n",
              "      <th>142070</th>\n",
              "      <td>274308</td>\n",
              "      <td>0743406184</td>\n",
              "      <td>0</td>\n",
              "      <td>If Only It Were True</td>\n",
              "      <td>Marc Levy</td>\n",
              "      <td>2001.0</td>\n",
              "      <td>Pocket</td>\n",
              "    </tr>\n",
              "    <tr>\n",
              "      <th>142071</th>\n",
              "      <td>274325</td>\n",
              "      <td>0743406184</td>\n",
              "      <td>0</td>\n",
              "      <td>If Only It Were True</td>\n",
              "      <td>Marc Levy</td>\n",
              "      <td>2001.0</td>\n",
              "      <td>Pocket</td>\n",
              "    </tr>\n",
              "    <tr>\n",
              "      <th>142072</th>\n",
              "      <td>275970</td>\n",
              "      <td>0743406184</td>\n",
              "      <td>0</td>\n",
              "      <td>If Only It Were True</td>\n",
              "      <td>Marc Levy</td>\n",
              "      <td>2001.0</td>\n",
              "      <td>Pocket</td>\n",
              "    </tr>\n",
              "  </tbody>\n",
              "</table>\n",
              "<p>142073 rows × 7 columns</p>\n",
              "</div>\n",
              "      <button class=\"colab-df-convert\" onclick=\"convertToInteractive('df-f6738721-bace-4ed4-b209-23192bc328b9')\"\n",
              "              title=\"Convert this dataframe to an interactive table.\"\n",
              "              style=\"display:none;\">\n",
              "        \n",
              "  <svg xmlns=\"http://www.w3.org/2000/svg\" height=\"24px\"viewBox=\"0 0 24 24\"\n",
              "       width=\"24px\">\n",
              "    <path d=\"M0 0h24v24H0V0z\" fill=\"none\"/>\n",
              "    <path d=\"M18.56 5.44l.94 2.06.94-2.06 2.06-.94-2.06-.94-.94-2.06-.94 2.06-2.06.94zm-11 1L8.5 8.5l.94-2.06 2.06-.94-2.06-.94L8.5 2.5l-.94 2.06-2.06.94zm10 10l.94 2.06.94-2.06 2.06-.94-2.06-.94-.94-2.06-.94 2.06-2.06.94z\"/><path d=\"M17.41 7.96l-1.37-1.37c-.4-.4-.92-.59-1.43-.59-.52 0-1.04.2-1.43.59L10.3 9.45l-7.72 7.72c-.78.78-.78 2.05 0 2.83L4 21.41c.39.39.9.59 1.41.59.51 0 1.02-.2 1.41-.59l7.78-7.78 2.81-2.81c.8-.78.8-2.07 0-2.86zM5.41 20L4 18.59l7.72-7.72 1.47 1.35L5.41 20z\"/>\n",
              "  </svg>\n",
              "      </button>\n",
              "      \n",
              "  <style>\n",
              "    .colab-df-container {\n",
              "      display:flex;\n",
              "      flex-wrap:wrap;\n",
              "      gap: 12px;\n",
              "    }\n",
              "\n",
              "    .colab-df-convert {\n",
              "      background-color: #E8F0FE;\n",
              "      border: none;\n",
              "      border-radius: 50%;\n",
              "      cursor: pointer;\n",
              "      display: none;\n",
              "      fill: #1967D2;\n",
              "      height: 32px;\n",
              "      padding: 0 0 0 0;\n",
              "      width: 32px;\n",
              "    }\n",
              "\n",
              "    .colab-df-convert:hover {\n",
              "      background-color: #E2EBFA;\n",
              "      box-shadow: 0px 1px 2px rgba(60, 64, 67, 0.3), 0px 1px 3px 1px rgba(60, 64, 67, 0.15);\n",
              "      fill: #174EA6;\n",
              "    }\n",
              "\n",
              "    [theme=dark] .colab-df-convert {\n",
              "      background-color: #3B4455;\n",
              "      fill: #D2E3FC;\n",
              "    }\n",
              "\n",
              "    [theme=dark] .colab-df-convert:hover {\n",
              "      background-color: #434B5C;\n",
              "      box-shadow: 0px 1px 3px 1px rgba(0, 0, 0, 0.15);\n",
              "      filter: drop-shadow(0px 1px 2px rgba(0, 0, 0, 0.3));\n",
              "      fill: #FFFFFF;\n",
              "    }\n",
              "  </style>\n",
              "\n",
              "      <script>\n",
              "        const buttonEl =\n",
              "          document.querySelector('#df-f6738721-bace-4ed4-b209-23192bc328b9 button.colab-df-convert');\n",
              "        buttonEl.style.display =\n",
              "          google.colab.kernel.accessAllowed ? 'block' : 'none';\n",
              "\n",
              "        async function convertToInteractive(key) {\n",
              "          const element = document.querySelector('#df-f6738721-bace-4ed4-b209-23192bc328b9');\n",
              "          const dataTable =\n",
              "            await google.colab.kernel.invokeFunction('convertToInteractive',\n",
              "                                                     [key], {});\n",
              "          if (!dataTable) return;\n",
              "\n",
              "          const docLinkHtml = 'Like what you see? Visit the ' +\n",
              "            '<a target=\"_blank\" href=https://colab.research.google.com/notebooks/data_table.ipynb>data table notebook</a>'\n",
              "            + ' to learn more about interactive tables.';\n",
              "          element.innerHTML = '';\n",
              "          dataTable['output_type'] = 'display_data';\n",
              "          await google.colab.output.renderOutput(dataTable, element);\n",
              "          const docLink = document.createElement('div');\n",
              "          docLink.innerHTML = docLinkHtml;\n",
              "          element.appendChild(docLink);\n",
              "        }\n",
              "      </script>\n",
              "    </div>\n",
              "  </div>\n",
              "  "
            ]
          },
          "metadata": {},
          "execution_count": 72
        }
      ]
    },
    {
      "cell_type": "markdown",
      "source": [
        "We cam drop **Book-Author** ,**Year of Publication** & **Publisher** as we will not be needing that features."
      ],
      "metadata": {
        "id": "UwzUFGrDNOyp"
      }
    },
    {
      "cell_type": "code",
      "source": [
        "combined_book_rating_df = combined_book_rating_df.drop(columns=['Book-Author', 'Year-Of-Publication', 'Publisher'], axis=1)"
      ],
      "metadata": {
        "id": "pm4hd42uNMdW"
      },
      "execution_count": null,
      "outputs": []
    },
    {
      "cell_type": "code",
      "source": [
        "combined_book_rating_df.head()"
      ],
      "metadata": {
        "colab": {
          "base_uri": "https://localhost:8080/",
          "height": 206
        },
        "id": "J5_Ji9snNnct",
        "outputId": "9d434f67-5e37-41ae-fd5a-b4e2f47824ae"
      },
      "execution_count": null,
      "outputs": [
        {
          "output_type": "execute_result",
          "data": {
            "text/plain": [
              "   User-ID        ISBN  Book-Rating                               Book-Title\n",
              "0   276847  0446364193            0  Along Came a Spider (Alex Cross Novels)\n",
              "1   278418  0446364193            0  Along Came a Spider (Alex Cross Novels)\n",
              "2     5483  0446364193            0  Along Came a Spider (Alex Cross Novels)\n",
              "3     7346  0446364193            0  Along Came a Spider (Alex Cross Novels)\n",
              "4     8362  0446364193            0  Along Came a Spider (Alex Cross Novels)"
            ],
            "text/html": [
              "\n",
              "  <div id=\"df-5d214d59-8480-4910-9855-1038574d4217\">\n",
              "    <div class=\"colab-df-container\">\n",
              "      <div>\n",
              "<style scoped>\n",
              "    .dataframe tbody tr th:only-of-type {\n",
              "        vertical-align: middle;\n",
              "    }\n",
              "\n",
              "    .dataframe tbody tr th {\n",
              "        vertical-align: top;\n",
              "    }\n",
              "\n",
              "    .dataframe thead th {\n",
              "        text-align: right;\n",
              "    }\n",
              "</style>\n",
              "<table border=\"1\" class=\"dataframe\">\n",
              "  <thead>\n",
              "    <tr style=\"text-align: right;\">\n",
              "      <th></th>\n",
              "      <th>User-ID</th>\n",
              "      <th>ISBN</th>\n",
              "      <th>Book-Rating</th>\n",
              "      <th>Book-Title</th>\n",
              "    </tr>\n",
              "  </thead>\n",
              "  <tbody>\n",
              "    <tr>\n",
              "      <th>0</th>\n",
              "      <td>276847</td>\n",
              "      <td>0446364193</td>\n",
              "      <td>0</td>\n",
              "      <td>Along Came a Spider (Alex Cross Novels)</td>\n",
              "    </tr>\n",
              "    <tr>\n",
              "      <th>1</th>\n",
              "      <td>278418</td>\n",
              "      <td>0446364193</td>\n",
              "      <td>0</td>\n",
              "      <td>Along Came a Spider (Alex Cross Novels)</td>\n",
              "    </tr>\n",
              "    <tr>\n",
              "      <th>2</th>\n",
              "      <td>5483</td>\n",
              "      <td>0446364193</td>\n",
              "      <td>0</td>\n",
              "      <td>Along Came a Spider (Alex Cross Novels)</td>\n",
              "    </tr>\n",
              "    <tr>\n",
              "      <th>3</th>\n",
              "      <td>7346</td>\n",
              "      <td>0446364193</td>\n",
              "      <td>0</td>\n",
              "      <td>Along Came a Spider (Alex Cross Novels)</td>\n",
              "    </tr>\n",
              "    <tr>\n",
              "      <th>4</th>\n",
              "      <td>8362</td>\n",
              "      <td>0446364193</td>\n",
              "      <td>0</td>\n",
              "      <td>Along Came a Spider (Alex Cross Novels)</td>\n",
              "    </tr>\n",
              "  </tbody>\n",
              "</table>\n",
              "</div>\n",
              "      <button class=\"colab-df-convert\" onclick=\"convertToInteractive('df-5d214d59-8480-4910-9855-1038574d4217')\"\n",
              "              title=\"Convert this dataframe to an interactive table.\"\n",
              "              style=\"display:none;\">\n",
              "        \n",
              "  <svg xmlns=\"http://www.w3.org/2000/svg\" height=\"24px\"viewBox=\"0 0 24 24\"\n",
              "       width=\"24px\">\n",
              "    <path d=\"M0 0h24v24H0V0z\" fill=\"none\"/>\n",
              "    <path d=\"M18.56 5.44l.94 2.06.94-2.06 2.06-.94-2.06-.94-.94-2.06-.94 2.06-2.06.94zm-11 1L8.5 8.5l.94-2.06 2.06-.94-2.06-.94L8.5 2.5l-.94 2.06-2.06.94zm10 10l.94 2.06.94-2.06 2.06-.94-2.06-.94-.94-2.06-.94 2.06-2.06.94z\"/><path d=\"M17.41 7.96l-1.37-1.37c-.4-.4-.92-.59-1.43-.59-.52 0-1.04.2-1.43.59L10.3 9.45l-7.72 7.72c-.78.78-.78 2.05 0 2.83L4 21.41c.39.39.9.59 1.41.59.51 0 1.02-.2 1.41-.59l7.78-7.78 2.81-2.81c.8-.78.8-2.07 0-2.86zM5.41 20L4 18.59l7.72-7.72 1.47 1.35L5.41 20z\"/>\n",
              "  </svg>\n",
              "      </button>\n",
              "      \n",
              "  <style>\n",
              "    .colab-df-container {\n",
              "      display:flex;\n",
              "      flex-wrap:wrap;\n",
              "      gap: 12px;\n",
              "    }\n",
              "\n",
              "    .colab-df-convert {\n",
              "      background-color: #E8F0FE;\n",
              "      border: none;\n",
              "      border-radius: 50%;\n",
              "      cursor: pointer;\n",
              "      display: none;\n",
              "      fill: #1967D2;\n",
              "      height: 32px;\n",
              "      padding: 0 0 0 0;\n",
              "      width: 32px;\n",
              "    }\n",
              "\n",
              "    .colab-df-convert:hover {\n",
              "      background-color: #E2EBFA;\n",
              "      box-shadow: 0px 1px 2px rgba(60, 64, 67, 0.3), 0px 1px 3px 1px rgba(60, 64, 67, 0.15);\n",
              "      fill: #174EA6;\n",
              "    }\n",
              "\n",
              "    [theme=dark] .colab-df-convert {\n",
              "      background-color: #3B4455;\n",
              "      fill: #D2E3FC;\n",
              "    }\n",
              "\n",
              "    [theme=dark] .colab-df-convert:hover {\n",
              "      background-color: #434B5C;\n",
              "      box-shadow: 0px 1px 3px 1px rgba(0, 0, 0, 0.15);\n",
              "      filter: drop-shadow(0px 1px 2px rgba(0, 0, 0, 0.3));\n",
              "      fill: #FFFFFF;\n",
              "    }\n",
              "  </style>\n",
              "\n",
              "      <script>\n",
              "        const buttonEl =\n",
              "          document.querySelector('#df-5d214d59-8480-4910-9855-1038574d4217 button.colab-df-convert');\n",
              "        buttonEl.style.display =\n",
              "          google.colab.kernel.accessAllowed ? 'block' : 'none';\n",
              "\n",
              "        async function convertToInteractive(key) {\n",
              "          const element = document.querySelector('#df-5d214d59-8480-4910-9855-1038574d4217');\n",
              "          const dataTable =\n",
              "            await google.colab.kernel.invokeFunction('convertToInteractive',\n",
              "                                                     [key], {});\n",
              "          if (!dataTable) return;\n",
              "\n",
              "          const docLinkHtml = 'Like what you see? Visit the ' +\n",
              "            '<a target=\"_blank\" href=https://colab.research.google.com/notebooks/data_table.ipynb>data table notebook</a>'\n",
              "            + ' to learn more about interactive tables.';\n",
              "          element.innerHTML = '';\n",
              "          dataTable['output_type'] = 'display_data';\n",
              "          await google.colab.output.renderOutput(dataTable, element);\n",
              "          const docLink = document.createElement('div');\n",
              "          docLink.innerHTML = docLinkHtml;\n",
              "          element.appendChild(docLink);\n",
              "        }\n",
              "      </script>\n",
              "    </div>\n",
              "  </div>\n",
              "  "
            ]
          },
          "metadata": {},
          "execution_count": 74
        }
      ]
    },
    {
      "cell_type": "markdown",
      "source": [
        "Grouping by book titles and creating a new column for total rating count."
      ],
      "metadata": {
        "id": "v3ivY1-2d91S"
      }
    },
    {
      "cell_type": "code",
      "source": [
        "combined_book_rating_df.isna().sum()"
      ],
      "metadata": {
        "colab": {
          "base_uri": "https://localhost:8080/"
        },
        "id": "aSorxHKgeWbm",
        "outputId": "4648285d-fe6b-473d-fe8b-22ee779d8142"
      },
      "execution_count": null,
      "outputs": [
        {
          "output_type": "execute_result",
          "data": {
            "text/plain": [
              "User-ID        0\n",
              "ISBN           0\n",
              "Book-Rating    0\n",
              "Book-Title     0\n",
              "dtype: int64"
            ]
          },
          "metadata": {},
          "execution_count": 75
        }
      ]
    },
    {
      "cell_type": "code",
      "source": [
        "combined_book_rating_df.head()"
      ],
      "metadata": {
        "colab": {
          "base_uri": "https://localhost:8080/",
          "height": 206
        },
        "id": "weLEz6xde50N",
        "outputId": "ba480588-f509-47dd-b7f6-0459bcd60531"
      },
      "execution_count": null,
      "outputs": [
        {
          "output_type": "execute_result",
          "data": {
            "text/plain": [
              "   User-ID        ISBN  Book-Rating                               Book-Title\n",
              "0   276847  0446364193            0  Along Came a Spider (Alex Cross Novels)\n",
              "1   278418  0446364193            0  Along Came a Spider (Alex Cross Novels)\n",
              "2     5483  0446364193            0  Along Came a Spider (Alex Cross Novels)\n",
              "3     7346  0446364193            0  Along Came a Spider (Alex Cross Novels)\n",
              "4     8362  0446364193            0  Along Came a Spider (Alex Cross Novels)"
            ],
            "text/html": [
              "\n",
              "  <div id=\"df-1b04d1fa-bd9c-4bd1-942c-30391f1d5c8a\">\n",
              "    <div class=\"colab-df-container\">\n",
              "      <div>\n",
              "<style scoped>\n",
              "    .dataframe tbody tr th:only-of-type {\n",
              "        vertical-align: middle;\n",
              "    }\n",
              "\n",
              "    .dataframe tbody tr th {\n",
              "        vertical-align: top;\n",
              "    }\n",
              "\n",
              "    .dataframe thead th {\n",
              "        text-align: right;\n",
              "    }\n",
              "</style>\n",
              "<table border=\"1\" class=\"dataframe\">\n",
              "  <thead>\n",
              "    <tr style=\"text-align: right;\">\n",
              "      <th></th>\n",
              "      <th>User-ID</th>\n",
              "      <th>ISBN</th>\n",
              "      <th>Book-Rating</th>\n",
              "      <th>Book-Title</th>\n",
              "    </tr>\n",
              "  </thead>\n",
              "  <tbody>\n",
              "    <tr>\n",
              "      <th>0</th>\n",
              "      <td>276847</td>\n",
              "      <td>0446364193</td>\n",
              "      <td>0</td>\n",
              "      <td>Along Came a Spider (Alex Cross Novels)</td>\n",
              "    </tr>\n",
              "    <tr>\n",
              "      <th>1</th>\n",
              "      <td>278418</td>\n",
              "      <td>0446364193</td>\n",
              "      <td>0</td>\n",
              "      <td>Along Came a Spider (Alex Cross Novels)</td>\n",
              "    </tr>\n",
              "    <tr>\n",
              "      <th>2</th>\n",
              "      <td>5483</td>\n",
              "      <td>0446364193</td>\n",
              "      <td>0</td>\n",
              "      <td>Along Came a Spider (Alex Cross Novels)</td>\n",
              "    </tr>\n",
              "    <tr>\n",
              "      <th>3</th>\n",
              "      <td>7346</td>\n",
              "      <td>0446364193</td>\n",
              "      <td>0</td>\n",
              "      <td>Along Came a Spider (Alex Cross Novels)</td>\n",
              "    </tr>\n",
              "    <tr>\n",
              "      <th>4</th>\n",
              "      <td>8362</td>\n",
              "      <td>0446364193</td>\n",
              "      <td>0</td>\n",
              "      <td>Along Came a Spider (Alex Cross Novels)</td>\n",
              "    </tr>\n",
              "  </tbody>\n",
              "</table>\n",
              "</div>\n",
              "      <button class=\"colab-df-convert\" onclick=\"convertToInteractive('df-1b04d1fa-bd9c-4bd1-942c-30391f1d5c8a')\"\n",
              "              title=\"Convert this dataframe to an interactive table.\"\n",
              "              style=\"display:none;\">\n",
              "        \n",
              "  <svg xmlns=\"http://www.w3.org/2000/svg\" height=\"24px\"viewBox=\"0 0 24 24\"\n",
              "       width=\"24px\">\n",
              "    <path d=\"M0 0h24v24H0V0z\" fill=\"none\"/>\n",
              "    <path d=\"M18.56 5.44l.94 2.06.94-2.06 2.06-.94-2.06-.94-.94-2.06-.94 2.06-2.06.94zm-11 1L8.5 8.5l.94-2.06 2.06-.94-2.06-.94L8.5 2.5l-.94 2.06-2.06.94zm10 10l.94 2.06.94-2.06 2.06-.94-2.06-.94-.94-2.06-.94 2.06-2.06.94z\"/><path d=\"M17.41 7.96l-1.37-1.37c-.4-.4-.92-.59-1.43-.59-.52 0-1.04.2-1.43.59L10.3 9.45l-7.72 7.72c-.78.78-.78 2.05 0 2.83L4 21.41c.39.39.9.59 1.41.59.51 0 1.02-.2 1.41-.59l7.78-7.78 2.81-2.81c.8-.78.8-2.07 0-2.86zM5.41 20L4 18.59l7.72-7.72 1.47 1.35L5.41 20z\"/>\n",
              "  </svg>\n",
              "      </button>\n",
              "      \n",
              "  <style>\n",
              "    .colab-df-container {\n",
              "      display:flex;\n",
              "      flex-wrap:wrap;\n",
              "      gap: 12px;\n",
              "    }\n",
              "\n",
              "    .colab-df-convert {\n",
              "      background-color: #E8F0FE;\n",
              "      border: none;\n",
              "      border-radius: 50%;\n",
              "      cursor: pointer;\n",
              "      display: none;\n",
              "      fill: #1967D2;\n",
              "      height: 32px;\n",
              "      padding: 0 0 0 0;\n",
              "      width: 32px;\n",
              "    }\n",
              "\n",
              "    .colab-df-convert:hover {\n",
              "      background-color: #E2EBFA;\n",
              "      box-shadow: 0px 1px 2px rgba(60, 64, 67, 0.3), 0px 1px 3px 1px rgba(60, 64, 67, 0.15);\n",
              "      fill: #174EA6;\n",
              "    }\n",
              "\n",
              "    [theme=dark] .colab-df-convert {\n",
              "      background-color: #3B4455;\n",
              "      fill: #D2E3FC;\n",
              "    }\n",
              "\n",
              "    [theme=dark] .colab-df-convert:hover {\n",
              "      background-color: #434B5C;\n",
              "      box-shadow: 0px 1px 3px 1px rgba(0, 0, 0, 0.15);\n",
              "      filter: drop-shadow(0px 1px 2px rgba(0, 0, 0, 0.3));\n",
              "      fill: #FFFFFF;\n",
              "    }\n",
              "  </style>\n",
              "\n",
              "      <script>\n",
              "        const buttonEl =\n",
              "          document.querySelector('#df-1b04d1fa-bd9c-4bd1-942c-30391f1d5c8a button.colab-df-convert');\n",
              "        buttonEl.style.display =\n",
              "          google.colab.kernel.accessAllowed ? 'block' : 'none';\n",
              "\n",
              "        async function convertToInteractive(key) {\n",
              "          const element = document.querySelector('#df-1b04d1fa-bd9c-4bd1-942c-30391f1d5c8a');\n",
              "          const dataTable =\n",
              "            await google.colab.kernel.invokeFunction('convertToInteractive',\n",
              "                                                     [key], {});\n",
              "          if (!dataTable) return;\n",
              "\n",
              "          const docLinkHtml = 'Like what you see? Visit the ' +\n",
              "            '<a target=\"_blank\" href=https://colab.research.google.com/notebooks/data_table.ipynb>data table notebook</a>'\n",
              "            + ' to learn more about interactive tables.';\n",
              "          element.innerHTML = '';\n",
              "          dataTable['output_type'] = 'display_data';\n",
              "          await google.colab.output.renderOutput(dataTable, element);\n",
              "          const docLink = document.createElement('div');\n",
              "          docLink.innerHTML = docLinkHtml;\n",
              "          element.appendChild(docLink);\n",
              "        }\n",
              "      </script>\n",
              "    </div>\n",
              "  </div>\n",
              "  "
            ]
          },
          "metadata": {},
          "execution_count": 76
        }
      ]
    },
    {
      "cell_type": "code",
      "source": [
        "book_rating_count_df = (combined_book_rating_df.\n",
        "                        groupby(by=['Book-Title'])['Book-Rating'].\n",
        "                        count().\n",
        "                        reset_index().\n",
        "                        rename(columns = {'Book-Rating' : 'Total Rating Count'})\n",
        "                        [['Book-Title', 'Total Rating Count']]\n",
        "                        )"
      ],
      "metadata": {
        "id": "vpa6zk4Medna"
      },
      "execution_count": null,
      "outputs": []
    },
    {
      "cell_type": "code",
      "source": [
        "book_rating_count_df.head()"
      ],
      "metadata": {
        "colab": {
          "base_uri": "https://localhost:8080/",
          "height": 206
        },
        "id": "6xZyt-cQfTa6",
        "outputId": "cf9b7e34-8713-4bb9-cad3-f46b43752632"
      },
      "execution_count": null,
      "outputs": [
        {
          "output_type": "execute_result",
          "data": {
            "text/plain": [
              "            Book-Title  Total Rating Count\n",
              "0   16 Lighthouse Road                  48\n",
              "1                 1984                 103\n",
              "2  1st to Die: A Novel                 273\n",
              "3    2010: Odyssey Two                  59\n",
              "4    204 Rosewood Lane                  56"
            ],
            "text/html": [
              "\n",
              "  <div id=\"df-f6e7077d-2950-4d01-a625-1bc2d3dcf7f1\">\n",
              "    <div class=\"colab-df-container\">\n",
              "      <div>\n",
              "<style scoped>\n",
              "    .dataframe tbody tr th:only-of-type {\n",
              "        vertical-align: middle;\n",
              "    }\n",
              "\n",
              "    .dataframe tbody tr th {\n",
              "        vertical-align: top;\n",
              "    }\n",
              "\n",
              "    .dataframe thead th {\n",
              "        text-align: right;\n",
              "    }\n",
              "</style>\n",
              "<table border=\"1\" class=\"dataframe\">\n",
              "  <thead>\n",
              "    <tr style=\"text-align: right;\">\n",
              "      <th></th>\n",
              "      <th>Book-Title</th>\n",
              "      <th>Total Rating Count</th>\n",
              "    </tr>\n",
              "  </thead>\n",
              "  <tbody>\n",
              "    <tr>\n",
              "      <th>0</th>\n",
              "      <td>16 Lighthouse Road</td>\n",
              "      <td>48</td>\n",
              "    </tr>\n",
              "    <tr>\n",
              "      <th>1</th>\n",
              "      <td>1984</td>\n",
              "      <td>103</td>\n",
              "    </tr>\n",
              "    <tr>\n",
              "      <th>2</th>\n",
              "      <td>1st to Die: A Novel</td>\n",
              "      <td>273</td>\n",
              "    </tr>\n",
              "    <tr>\n",
              "      <th>3</th>\n",
              "      <td>2010: Odyssey Two</td>\n",
              "      <td>59</td>\n",
              "    </tr>\n",
              "    <tr>\n",
              "      <th>4</th>\n",
              "      <td>204 Rosewood Lane</td>\n",
              "      <td>56</td>\n",
              "    </tr>\n",
              "  </tbody>\n",
              "</table>\n",
              "</div>\n",
              "      <button class=\"colab-df-convert\" onclick=\"convertToInteractive('df-f6e7077d-2950-4d01-a625-1bc2d3dcf7f1')\"\n",
              "              title=\"Convert this dataframe to an interactive table.\"\n",
              "              style=\"display:none;\">\n",
              "        \n",
              "  <svg xmlns=\"http://www.w3.org/2000/svg\" height=\"24px\"viewBox=\"0 0 24 24\"\n",
              "       width=\"24px\">\n",
              "    <path d=\"M0 0h24v24H0V0z\" fill=\"none\"/>\n",
              "    <path d=\"M18.56 5.44l.94 2.06.94-2.06 2.06-.94-2.06-.94-.94-2.06-.94 2.06-2.06.94zm-11 1L8.5 8.5l.94-2.06 2.06-.94-2.06-.94L8.5 2.5l-.94 2.06-2.06.94zm10 10l.94 2.06.94-2.06 2.06-.94-2.06-.94-.94-2.06-.94 2.06-2.06.94z\"/><path d=\"M17.41 7.96l-1.37-1.37c-.4-.4-.92-.59-1.43-.59-.52 0-1.04.2-1.43.59L10.3 9.45l-7.72 7.72c-.78.78-.78 2.05 0 2.83L4 21.41c.39.39.9.59 1.41.59.51 0 1.02-.2 1.41-.59l7.78-7.78 2.81-2.81c.8-.78.8-2.07 0-2.86zM5.41 20L4 18.59l7.72-7.72 1.47 1.35L5.41 20z\"/>\n",
              "  </svg>\n",
              "      </button>\n",
              "      \n",
              "  <style>\n",
              "    .colab-df-container {\n",
              "      display:flex;\n",
              "      flex-wrap:wrap;\n",
              "      gap: 12px;\n",
              "    }\n",
              "\n",
              "    .colab-df-convert {\n",
              "      background-color: #E8F0FE;\n",
              "      border: none;\n",
              "      border-radius: 50%;\n",
              "      cursor: pointer;\n",
              "      display: none;\n",
              "      fill: #1967D2;\n",
              "      height: 32px;\n",
              "      padding: 0 0 0 0;\n",
              "      width: 32px;\n",
              "    }\n",
              "\n",
              "    .colab-df-convert:hover {\n",
              "      background-color: #E2EBFA;\n",
              "      box-shadow: 0px 1px 2px rgba(60, 64, 67, 0.3), 0px 1px 3px 1px rgba(60, 64, 67, 0.15);\n",
              "      fill: #174EA6;\n",
              "    }\n",
              "\n",
              "    [theme=dark] .colab-df-convert {\n",
              "      background-color: #3B4455;\n",
              "      fill: #D2E3FC;\n",
              "    }\n",
              "\n",
              "    [theme=dark] .colab-df-convert:hover {\n",
              "      background-color: #434B5C;\n",
              "      box-shadow: 0px 1px 3px 1px rgba(0, 0, 0, 0.15);\n",
              "      filter: drop-shadow(0px 1px 2px rgba(0, 0, 0, 0.3));\n",
              "      fill: #FFFFFF;\n",
              "    }\n",
              "  </style>\n",
              "\n",
              "      <script>\n",
              "        const buttonEl =\n",
              "          document.querySelector('#df-f6e7077d-2950-4d01-a625-1bc2d3dcf7f1 button.colab-df-convert');\n",
              "        buttonEl.style.display =\n",
              "          google.colab.kernel.accessAllowed ? 'block' : 'none';\n",
              "\n",
              "        async function convertToInteractive(key) {\n",
              "          const element = document.querySelector('#df-f6e7077d-2950-4d01-a625-1bc2d3dcf7f1');\n",
              "          const dataTable =\n",
              "            await google.colab.kernel.invokeFunction('convertToInteractive',\n",
              "                                                     [key], {});\n",
              "          if (!dataTable) return;\n",
              "\n",
              "          const docLinkHtml = 'Like what you see? Visit the ' +\n",
              "            '<a target=\"_blank\" href=https://colab.research.google.com/notebooks/data_table.ipynb>data table notebook</a>'\n",
              "            + ' to learn more about interactive tables.';\n",
              "          element.innerHTML = '';\n",
              "          dataTable['output_type'] = 'display_data';\n",
              "          await google.colab.output.renderOutput(dataTable, element);\n",
              "          const docLink = document.createElement('div');\n",
              "          docLink.innerHTML = docLinkHtml;\n",
              "          element.appendChild(docLink);\n",
              "        }\n",
              "      </script>\n",
              "    </div>\n",
              "  </div>\n",
              "  "
            ]
          },
          "metadata": {},
          "execution_count": 78
        }
      ]
    },
    {
      "cell_type": "markdown",
      "source": [
        "Combining the combined_book_rating with the book_rating_count to get the total rating counts. This gives us exactly what we need to find out which books are popular and filter out the lesser-known books."
      ],
      "metadata": {
        "id": "vj-YayTVfhNx"
      }
    },
    {
      "cell_type": "code",
      "source": [
        "bookRating_with_totalRatingCount_df =  combined_book_rating_df.merge(book_rating_count_df, on='Book-Title', how='left')"
      ],
      "metadata": {
        "id": "4Ebb-VYrfWAS"
      },
      "execution_count": null,
      "outputs": []
    },
    {
      "cell_type": "code",
      "source": [
        "bookRating_with_totalRatingCount_df.tail()"
      ],
      "metadata": {
        "colab": {
          "base_uri": "https://localhost:8080/",
          "height": 206
        },
        "id": "iCLsU9A5gYho",
        "outputId": "fe52fe0c-eb0e-4181-ad40-0f97fecfad6b"
      },
      "execution_count": null,
      "outputs": [
        {
          "output_type": "execute_result",
          "data": {
            "text/plain": [
              "        User-ID        ISBN  Book-Rating            Book-Title  \\\n",
              "142068   246156  0743406184            0  If Only It Were True   \n",
              "142069   246617  0743406184            0  If Only It Were True   \n",
              "142070   274308  0743406184            0  If Only It Were True   \n",
              "142071   274325  0743406184            0  If Only It Were True   \n",
              "142072   275970  0743406184            0  If Only It Were True   \n",
              "\n",
              "        Total Rating Count  \n",
              "142068                  67  \n",
              "142069                  67  \n",
              "142070                  67  \n",
              "142071                  67  \n",
              "142072                  67  "
            ],
            "text/html": [
              "\n",
              "  <div id=\"df-ef1d1e64-cc0b-4e6e-ae2c-7dbb76458861\">\n",
              "    <div class=\"colab-df-container\">\n",
              "      <div>\n",
              "<style scoped>\n",
              "    .dataframe tbody tr th:only-of-type {\n",
              "        vertical-align: middle;\n",
              "    }\n",
              "\n",
              "    .dataframe tbody tr th {\n",
              "        vertical-align: top;\n",
              "    }\n",
              "\n",
              "    .dataframe thead th {\n",
              "        text-align: right;\n",
              "    }\n",
              "</style>\n",
              "<table border=\"1\" class=\"dataframe\">\n",
              "  <thead>\n",
              "    <tr style=\"text-align: right;\">\n",
              "      <th></th>\n",
              "      <th>User-ID</th>\n",
              "      <th>ISBN</th>\n",
              "      <th>Book-Rating</th>\n",
              "      <th>Book-Title</th>\n",
              "      <th>Total Rating Count</th>\n",
              "    </tr>\n",
              "  </thead>\n",
              "  <tbody>\n",
              "    <tr>\n",
              "      <th>142068</th>\n",
              "      <td>246156</td>\n",
              "      <td>0743406184</td>\n",
              "      <td>0</td>\n",
              "      <td>If Only It Were True</td>\n",
              "      <td>67</td>\n",
              "    </tr>\n",
              "    <tr>\n",
              "      <th>142069</th>\n",
              "      <td>246617</td>\n",
              "      <td>0743406184</td>\n",
              "      <td>0</td>\n",
              "      <td>If Only It Were True</td>\n",
              "      <td>67</td>\n",
              "    </tr>\n",
              "    <tr>\n",
              "      <th>142070</th>\n",
              "      <td>274308</td>\n",
              "      <td>0743406184</td>\n",
              "      <td>0</td>\n",
              "      <td>If Only It Were True</td>\n",
              "      <td>67</td>\n",
              "    </tr>\n",
              "    <tr>\n",
              "      <th>142071</th>\n",
              "      <td>274325</td>\n",
              "      <td>0743406184</td>\n",
              "      <td>0</td>\n",
              "      <td>If Only It Were True</td>\n",
              "      <td>67</td>\n",
              "    </tr>\n",
              "    <tr>\n",
              "      <th>142072</th>\n",
              "      <td>275970</td>\n",
              "      <td>0743406184</td>\n",
              "      <td>0</td>\n",
              "      <td>If Only It Were True</td>\n",
              "      <td>67</td>\n",
              "    </tr>\n",
              "  </tbody>\n",
              "</table>\n",
              "</div>\n",
              "      <button class=\"colab-df-convert\" onclick=\"convertToInteractive('df-ef1d1e64-cc0b-4e6e-ae2c-7dbb76458861')\"\n",
              "              title=\"Convert this dataframe to an interactive table.\"\n",
              "              style=\"display:none;\">\n",
              "        \n",
              "  <svg xmlns=\"http://www.w3.org/2000/svg\" height=\"24px\"viewBox=\"0 0 24 24\"\n",
              "       width=\"24px\">\n",
              "    <path d=\"M0 0h24v24H0V0z\" fill=\"none\"/>\n",
              "    <path d=\"M18.56 5.44l.94 2.06.94-2.06 2.06-.94-2.06-.94-.94-2.06-.94 2.06-2.06.94zm-11 1L8.5 8.5l.94-2.06 2.06-.94-2.06-.94L8.5 2.5l-.94 2.06-2.06.94zm10 10l.94 2.06.94-2.06 2.06-.94-2.06-.94-.94-2.06-.94 2.06-2.06.94z\"/><path d=\"M17.41 7.96l-1.37-1.37c-.4-.4-.92-.59-1.43-.59-.52 0-1.04.2-1.43.59L10.3 9.45l-7.72 7.72c-.78.78-.78 2.05 0 2.83L4 21.41c.39.39.9.59 1.41.59.51 0 1.02-.2 1.41-.59l7.78-7.78 2.81-2.81c.8-.78.8-2.07 0-2.86zM5.41 20L4 18.59l7.72-7.72 1.47 1.35L5.41 20z\"/>\n",
              "  </svg>\n",
              "      </button>\n",
              "      \n",
              "  <style>\n",
              "    .colab-df-container {\n",
              "      display:flex;\n",
              "      flex-wrap:wrap;\n",
              "      gap: 12px;\n",
              "    }\n",
              "\n",
              "    .colab-df-convert {\n",
              "      background-color: #E8F0FE;\n",
              "      border: none;\n",
              "      border-radius: 50%;\n",
              "      cursor: pointer;\n",
              "      display: none;\n",
              "      fill: #1967D2;\n",
              "      height: 32px;\n",
              "      padding: 0 0 0 0;\n",
              "      width: 32px;\n",
              "    }\n",
              "\n",
              "    .colab-df-convert:hover {\n",
              "      background-color: #E2EBFA;\n",
              "      box-shadow: 0px 1px 2px rgba(60, 64, 67, 0.3), 0px 1px 3px 1px rgba(60, 64, 67, 0.15);\n",
              "      fill: #174EA6;\n",
              "    }\n",
              "\n",
              "    [theme=dark] .colab-df-convert {\n",
              "      background-color: #3B4455;\n",
              "      fill: #D2E3FC;\n",
              "    }\n",
              "\n",
              "    [theme=dark] .colab-df-convert:hover {\n",
              "      background-color: #434B5C;\n",
              "      box-shadow: 0px 1px 3px 1px rgba(0, 0, 0, 0.15);\n",
              "      filter: drop-shadow(0px 1px 2px rgba(0, 0, 0, 0.3));\n",
              "      fill: #FFFFFF;\n",
              "    }\n",
              "  </style>\n",
              "\n",
              "      <script>\n",
              "        const buttonEl =\n",
              "          document.querySelector('#df-ef1d1e64-cc0b-4e6e-ae2c-7dbb76458861 button.colab-df-convert');\n",
              "        buttonEl.style.display =\n",
              "          google.colab.kernel.accessAllowed ? 'block' : 'none';\n",
              "\n",
              "        async function convertToInteractive(key) {\n",
              "          const element = document.querySelector('#df-ef1d1e64-cc0b-4e6e-ae2c-7dbb76458861');\n",
              "          const dataTable =\n",
              "            await google.colab.kernel.invokeFunction('convertToInteractive',\n",
              "                                                     [key], {});\n",
              "          if (!dataTable) return;\n",
              "\n",
              "          const docLinkHtml = 'Like what you see? Visit the ' +\n",
              "            '<a target=\"_blank\" href=https://colab.research.google.com/notebooks/data_table.ipynb>data table notebook</a>'\n",
              "            + ' to learn more about interactive tables.';\n",
              "          element.innerHTML = '';\n",
              "          dataTable['output_type'] = 'display_data';\n",
              "          await google.colab.output.renderOutput(dataTable, element);\n",
              "          const docLink = document.createElement('div');\n",
              "          docLink.innerHTML = docLinkHtml;\n",
              "          element.appendChild(docLink);\n",
              "        }\n",
              "      </script>\n",
              "    </div>\n",
              "  </div>\n",
              "  "
            ]
          },
          "metadata": {},
          "execution_count": 80
        }
      ]
    },
    {
      "cell_type": "code",
      "source": [
        "bookRating_with_totalRatingCount_df.head()"
      ],
      "metadata": {
        "colab": {
          "base_uri": "https://localhost:8080/",
          "height": 206
        },
        "id": "3kYt_LURgbWl",
        "outputId": "7a4cf2c7-417a-424e-eb98-a0438bbb6f19"
      },
      "execution_count": null,
      "outputs": [
        {
          "output_type": "execute_result",
          "data": {
            "text/plain": [
              "   User-ID        ISBN  Book-Rating                               Book-Title  \\\n",
              "0   276847  0446364193            0  Along Came a Spider (Alex Cross Novels)   \n",
              "1   278418  0446364193            0  Along Came a Spider (Alex Cross Novels)   \n",
              "2     5483  0446364193            0  Along Came a Spider (Alex Cross Novels)   \n",
              "3     7346  0446364193            0  Along Came a Spider (Alex Cross Novels)   \n",
              "4     8362  0446364193            0  Along Came a Spider (Alex Cross Novels)   \n",
              "\n",
              "   Total Rating Count  \n",
              "0                 193  \n",
              "1                 193  \n",
              "2                 193  \n",
              "3                 193  \n",
              "4                 193  "
            ],
            "text/html": [
              "\n",
              "  <div id=\"df-d12c9d2d-89fb-4140-8b6c-af5b54ddd5c4\">\n",
              "    <div class=\"colab-df-container\">\n",
              "      <div>\n",
              "<style scoped>\n",
              "    .dataframe tbody tr th:only-of-type {\n",
              "        vertical-align: middle;\n",
              "    }\n",
              "\n",
              "    .dataframe tbody tr th {\n",
              "        vertical-align: top;\n",
              "    }\n",
              "\n",
              "    .dataframe thead th {\n",
              "        text-align: right;\n",
              "    }\n",
              "</style>\n",
              "<table border=\"1\" class=\"dataframe\">\n",
              "  <thead>\n",
              "    <tr style=\"text-align: right;\">\n",
              "      <th></th>\n",
              "      <th>User-ID</th>\n",
              "      <th>ISBN</th>\n",
              "      <th>Book-Rating</th>\n",
              "      <th>Book-Title</th>\n",
              "      <th>Total Rating Count</th>\n",
              "    </tr>\n",
              "  </thead>\n",
              "  <tbody>\n",
              "    <tr>\n",
              "      <th>0</th>\n",
              "      <td>276847</td>\n",
              "      <td>0446364193</td>\n",
              "      <td>0</td>\n",
              "      <td>Along Came a Spider (Alex Cross Novels)</td>\n",
              "      <td>193</td>\n",
              "    </tr>\n",
              "    <tr>\n",
              "      <th>1</th>\n",
              "      <td>278418</td>\n",
              "      <td>0446364193</td>\n",
              "      <td>0</td>\n",
              "      <td>Along Came a Spider (Alex Cross Novels)</td>\n",
              "      <td>193</td>\n",
              "    </tr>\n",
              "    <tr>\n",
              "      <th>2</th>\n",
              "      <td>5483</td>\n",
              "      <td>0446364193</td>\n",
              "      <td>0</td>\n",
              "      <td>Along Came a Spider (Alex Cross Novels)</td>\n",
              "      <td>193</td>\n",
              "    </tr>\n",
              "    <tr>\n",
              "      <th>3</th>\n",
              "      <td>7346</td>\n",
              "      <td>0446364193</td>\n",
              "      <td>0</td>\n",
              "      <td>Along Came a Spider (Alex Cross Novels)</td>\n",
              "      <td>193</td>\n",
              "    </tr>\n",
              "    <tr>\n",
              "      <th>4</th>\n",
              "      <td>8362</td>\n",
              "      <td>0446364193</td>\n",
              "      <td>0</td>\n",
              "      <td>Along Came a Spider (Alex Cross Novels)</td>\n",
              "      <td>193</td>\n",
              "    </tr>\n",
              "  </tbody>\n",
              "</table>\n",
              "</div>\n",
              "      <button class=\"colab-df-convert\" onclick=\"convertToInteractive('df-d12c9d2d-89fb-4140-8b6c-af5b54ddd5c4')\"\n",
              "              title=\"Convert this dataframe to an interactive table.\"\n",
              "              style=\"display:none;\">\n",
              "        \n",
              "  <svg xmlns=\"http://www.w3.org/2000/svg\" height=\"24px\"viewBox=\"0 0 24 24\"\n",
              "       width=\"24px\">\n",
              "    <path d=\"M0 0h24v24H0V0z\" fill=\"none\"/>\n",
              "    <path d=\"M18.56 5.44l.94 2.06.94-2.06 2.06-.94-2.06-.94-.94-2.06-.94 2.06-2.06.94zm-11 1L8.5 8.5l.94-2.06 2.06-.94-2.06-.94L8.5 2.5l-.94 2.06-2.06.94zm10 10l.94 2.06.94-2.06 2.06-.94-2.06-.94-.94-2.06-.94 2.06-2.06.94z\"/><path d=\"M17.41 7.96l-1.37-1.37c-.4-.4-.92-.59-1.43-.59-.52 0-1.04.2-1.43.59L10.3 9.45l-7.72 7.72c-.78.78-.78 2.05 0 2.83L4 21.41c.39.39.9.59 1.41.59.51 0 1.02-.2 1.41-.59l7.78-7.78 2.81-2.81c.8-.78.8-2.07 0-2.86zM5.41 20L4 18.59l7.72-7.72 1.47 1.35L5.41 20z\"/>\n",
              "  </svg>\n",
              "      </button>\n",
              "      \n",
              "  <style>\n",
              "    .colab-df-container {\n",
              "      display:flex;\n",
              "      flex-wrap:wrap;\n",
              "      gap: 12px;\n",
              "    }\n",
              "\n",
              "    .colab-df-convert {\n",
              "      background-color: #E8F0FE;\n",
              "      border: none;\n",
              "      border-radius: 50%;\n",
              "      cursor: pointer;\n",
              "      display: none;\n",
              "      fill: #1967D2;\n",
              "      height: 32px;\n",
              "      padding: 0 0 0 0;\n",
              "      width: 32px;\n",
              "    }\n",
              "\n",
              "    .colab-df-convert:hover {\n",
              "      background-color: #E2EBFA;\n",
              "      box-shadow: 0px 1px 2px rgba(60, 64, 67, 0.3), 0px 1px 3px 1px rgba(60, 64, 67, 0.15);\n",
              "      fill: #174EA6;\n",
              "    }\n",
              "\n",
              "    [theme=dark] .colab-df-convert {\n",
              "      background-color: #3B4455;\n",
              "      fill: #D2E3FC;\n",
              "    }\n",
              "\n",
              "    [theme=dark] .colab-df-convert:hover {\n",
              "      background-color: #434B5C;\n",
              "      box-shadow: 0px 1px 3px 1px rgba(0, 0, 0, 0.15);\n",
              "      filter: drop-shadow(0px 1px 2px rgba(0, 0, 0, 0.3));\n",
              "      fill: #FFFFFF;\n",
              "    }\n",
              "  </style>\n",
              "\n",
              "      <script>\n",
              "        const buttonEl =\n",
              "          document.querySelector('#df-d12c9d2d-89fb-4140-8b6c-af5b54ddd5c4 button.colab-df-convert');\n",
              "        buttonEl.style.display =\n",
              "          google.colab.kernel.accessAllowed ? 'block' : 'none';\n",
              "\n",
              "        async function convertToInteractive(key) {\n",
              "          const element = document.querySelector('#df-d12c9d2d-89fb-4140-8b6c-af5b54ddd5c4');\n",
              "          const dataTable =\n",
              "            await google.colab.kernel.invokeFunction('convertToInteractive',\n",
              "                                                     [key], {});\n",
              "          if (!dataTable) return;\n",
              "\n",
              "          const docLinkHtml = 'Like what you see? Visit the ' +\n",
              "            '<a target=\"_blank\" href=https://colab.research.google.com/notebooks/data_table.ipynb>data table notebook</a>'\n",
              "            + ' to learn more about interactive tables.';\n",
              "          element.innerHTML = '';\n",
              "          dataTable['output_type'] = 'display_data';\n",
              "          await google.colab.output.renderOutput(dataTable, element);\n",
              "          const docLink = document.createElement('div');\n",
              "          docLink.innerHTML = docLinkHtml;\n",
              "          element.appendChild(docLink);\n",
              "        }\n",
              "      </script>\n",
              "    </div>\n",
              "  </div>\n",
              "  "
            ]
          },
          "metadata": {},
          "execution_count": 81
        }
      ]
    },
    {
      "cell_type": "markdown",
      "source": [
        "Keeping a threshold value to get book with 50 or more ratings only. Which will be just 1% as we saw above."
      ],
      "metadata": {
        "id": "RI_5TluSgr2a"
      }
    },
    {
      "cell_type": "code",
      "source": [
        "bookRating_with_totalRatingCount_df.describe()"
      ],
      "metadata": {
        "colab": {
          "base_uri": "https://localhost:8080/",
          "height": 300
        },
        "id": "Py3j6U44hhF3",
        "outputId": "c69fa85e-92be-45b9-eed3-1188112c1b34"
      },
      "execution_count": null,
      "outputs": [
        {
          "output_type": "execute_result",
          "data": {
            "text/plain": [
              "             User-ID    Book-Rating  Total Rating Count\n",
              "count  142073.000000  142073.000000       142073.000000\n",
              "mean   139750.666538       2.337911          118.674351\n",
              "std     80553.665904       3.725655          106.109093\n",
              "min       243.000000       0.000000            2.000000\n",
              "25%     69405.000000       0.000000           50.000000\n",
              "50%    138844.000000       0.000000           83.000000\n",
              "75%    211344.000000       6.000000          150.000000\n",
              "max    278843.000000      10.000000          852.000000"
            ],
            "text/html": [
              "\n",
              "  <div id=\"df-a0ccb875-ae18-4f71-ba7d-6a6ce447ef8a\">\n",
              "    <div class=\"colab-df-container\">\n",
              "      <div>\n",
              "<style scoped>\n",
              "    .dataframe tbody tr th:only-of-type {\n",
              "        vertical-align: middle;\n",
              "    }\n",
              "\n",
              "    .dataframe tbody tr th {\n",
              "        vertical-align: top;\n",
              "    }\n",
              "\n",
              "    .dataframe thead th {\n",
              "        text-align: right;\n",
              "    }\n",
              "</style>\n",
              "<table border=\"1\" class=\"dataframe\">\n",
              "  <thead>\n",
              "    <tr style=\"text-align: right;\">\n",
              "      <th></th>\n",
              "      <th>User-ID</th>\n",
              "      <th>Book-Rating</th>\n",
              "      <th>Total Rating Count</th>\n",
              "    </tr>\n",
              "  </thead>\n",
              "  <tbody>\n",
              "    <tr>\n",
              "      <th>count</th>\n",
              "      <td>142073.000000</td>\n",
              "      <td>142073.000000</td>\n",
              "      <td>142073.000000</td>\n",
              "    </tr>\n",
              "    <tr>\n",
              "      <th>mean</th>\n",
              "      <td>139750.666538</td>\n",
              "      <td>2.337911</td>\n",
              "      <td>118.674351</td>\n",
              "    </tr>\n",
              "    <tr>\n",
              "      <th>std</th>\n",
              "      <td>80553.665904</td>\n",
              "      <td>3.725655</td>\n",
              "      <td>106.109093</td>\n",
              "    </tr>\n",
              "    <tr>\n",
              "      <th>min</th>\n",
              "      <td>243.000000</td>\n",
              "      <td>0.000000</td>\n",
              "      <td>2.000000</td>\n",
              "    </tr>\n",
              "    <tr>\n",
              "      <th>25%</th>\n",
              "      <td>69405.000000</td>\n",
              "      <td>0.000000</td>\n",
              "      <td>50.000000</td>\n",
              "    </tr>\n",
              "    <tr>\n",
              "      <th>50%</th>\n",
              "      <td>138844.000000</td>\n",
              "      <td>0.000000</td>\n",
              "      <td>83.000000</td>\n",
              "    </tr>\n",
              "    <tr>\n",
              "      <th>75%</th>\n",
              "      <td>211344.000000</td>\n",
              "      <td>6.000000</td>\n",
              "      <td>150.000000</td>\n",
              "    </tr>\n",
              "    <tr>\n",
              "      <th>max</th>\n",
              "      <td>278843.000000</td>\n",
              "      <td>10.000000</td>\n",
              "      <td>852.000000</td>\n",
              "    </tr>\n",
              "  </tbody>\n",
              "</table>\n",
              "</div>\n",
              "      <button class=\"colab-df-convert\" onclick=\"convertToInteractive('df-a0ccb875-ae18-4f71-ba7d-6a6ce447ef8a')\"\n",
              "              title=\"Convert this dataframe to an interactive table.\"\n",
              "              style=\"display:none;\">\n",
              "        \n",
              "  <svg xmlns=\"http://www.w3.org/2000/svg\" height=\"24px\"viewBox=\"0 0 24 24\"\n",
              "       width=\"24px\">\n",
              "    <path d=\"M0 0h24v24H0V0z\" fill=\"none\"/>\n",
              "    <path d=\"M18.56 5.44l.94 2.06.94-2.06 2.06-.94-2.06-.94-.94-2.06-.94 2.06-2.06.94zm-11 1L8.5 8.5l.94-2.06 2.06-.94-2.06-.94L8.5 2.5l-.94 2.06-2.06.94zm10 10l.94 2.06.94-2.06 2.06-.94-2.06-.94-.94-2.06-.94 2.06-2.06.94z\"/><path d=\"M17.41 7.96l-1.37-1.37c-.4-.4-.92-.59-1.43-.59-.52 0-1.04.2-1.43.59L10.3 9.45l-7.72 7.72c-.78.78-.78 2.05 0 2.83L4 21.41c.39.39.9.59 1.41.59.51 0 1.02-.2 1.41-.59l7.78-7.78 2.81-2.81c.8-.78.8-2.07 0-2.86zM5.41 20L4 18.59l7.72-7.72 1.47 1.35L5.41 20z\"/>\n",
              "  </svg>\n",
              "      </button>\n",
              "      \n",
              "  <style>\n",
              "    .colab-df-container {\n",
              "      display:flex;\n",
              "      flex-wrap:wrap;\n",
              "      gap: 12px;\n",
              "    }\n",
              "\n",
              "    .colab-df-convert {\n",
              "      background-color: #E8F0FE;\n",
              "      border: none;\n",
              "      border-radius: 50%;\n",
              "      cursor: pointer;\n",
              "      display: none;\n",
              "      fill: #1967D2;\n",
              "      height: 32px;\n",
              "      padding: 0 0 0 0;\n",
              "      width: 32px;\n",
              "    }\n",
              "\n",
              "    .colab-df-convert:hover {\n",
              "      background-color: #E2EBFA;\n",
              "      box-shadow: 0px 1px 2px rgba(60, 64, 67, 0.3), 0px 1px 3px 1px rgba(60, 64, 67, 0.15);\n",
              "      fill: #174EA6;\n",
              "    }\n",
              "\n",
              "    [theme=dark] .colab-df-convert {\n",
              "      background-color: #3B4455;\n",
              "      fill: #D2E3FC;\n",
              "    }\n",
              "\n",
              "    [theme=dark] .colab-df-convert:hover {\n",
              "      background-color: #434B5C;\n",
              "      box-shadow: 0px 1px 3px 1px rgba(0, 0, 0, 0.15);\n",
              "      filter: drop-shadow(0px 1px 2px rgba(0, 0, 0, 0.3));\n",
              "      fill: #FFFFFF;\n",
              "    }\n",
              "  </style>\n",
              "\n",
              "      <script>\n",
              "        const buttonEl =\n",
              "          document.querySelector('#df-a0ccb875-ae18-4f71-ba7d-6a6ce447ef8a button.colab-df-convert');\n",
              "        buttonEl.style.display =\n",
              "          google.colab.kernel.accessAllowed ? 'block' : 'none';\n",
              "\n",
              "        async function convertToInteractive(key) {\n",
              "          const element = document.querySelector('#df-a0ccb875-ae18-4f71-ba7d-6a6ce447ef8a');\n",
              "          const dataTable =\n",
              "            await google.colab.kernel.invokeFunction('convertToInteractive',\n",
              "                                                     [key], {});\n",
              "          if (!dataTable) return;\n",
              "\n",
              "          const docLinkHtml = 'Like what you see? Visit the ' +\n",
              "            '<a target=\"_blank\" href=https://colab.research.google.com/notebooks/data_table.ipynb>data table notebook</a>'\n",
              "            + ' to learn more about interactive tables.';\n",
              "          element.innerHTML = '';\n",
              "          dataTable['output_type'] = 'display_data';\n",
              "          await google.colab.output.renderOutput(dataTable, element);\n",
              "          const docLink = document.createElement('div');\n",
              "          docLink.innerHTML = docLinkHtml;\n",
              "          element.appendChild(docLink);\n",
              "        }\n",
              "      </script>\n",
              "    </div>\n",
              "  </div>\n",
              "  "
            ]
          },
          "metadata": {},
          "execution_count": 82
        }
      ]
    },
    {
      "cell_type": "code",
      "source": [
        "popularity_threshold = 50\n",
        "highly_rated_books_df = bookRating_with_totalRatingCount_df[bookRating_with_totalRatingCount_df['Total Rating Count'] > popularity_threshold]"
      ],
      "metadata": {
        "id": "JcGM5-f7gkml"
      },
      "execution_count": null,
      "outputs": []
    },
    {
      "cell_type": "code",
      "source": [
        "highly_rated_books_df.head(10)"
      ],
      "metadata": {
        "colab": {
          "base_uri": "https://localhost:8080/",
          "height": 363
        },
        "id": "UuIpER-KhF7X",
        "outputId": "a52fe5c6-3b8e-47cb-93a0-954fa1beb13b"
      },
      "execution_count": null,
      "outputs": [
        {
          "output_type": "execute_result",
          "data": {
            "text/plain": [
              "   User-ID        ISBN  Book-Rating                               Book-Title  \\\n",
              "0   276847  0446364193            0  Along Came a Spider (Alex Cross Novels)   \n",
              "1   278418  0446364193            0  Along Came a Spider (Alex Cross Novels)   \n",
              "2     5483  0446364193            0  Along Came a Spider (Alex Cross Novels)   \n",
              "3     7346  0446364193            0  Along Came a Spider (Alex Cross Novels)   \n",
              "4     8362  0446364193            0  Along Came a Spider (Alex Cross Novels)   \n",
              "5     9177  0446364193            7  Along Came a Spider (Alex Cross Novels)   \n",
              "6    11400  0446364193            0  Along Came a Spider (Alex Cross Novels)   \n",
              "7    11676  0446364193            8  Along Came a Spider (Alex Cross Novels)   \n",
              "8    14521  0446364193            0  Along Came a Spider (Alex Cross Novels)   \n",
              "9    15418  0446364193            0  Along Came a Spider (Alex Cross Novels)   \n",
              "\n",
              "   Total Rating Count  \n",
              "0                 193  \n",
              "1                 193  \n",
              "2                 193  \n",
              "3                 193  \n",
              "4                 193  \n",
              "5                 193  \n",
              "6                 193  \n",
              "7                 193  \n",
              "8                 193  \n",
              "9                 193  "
            ],
            "text/html": [
              "\n",
              "  <div id=\"df-be3b9da3-9317-4e17-b31f-16c09c03abff\">\n",
              "    <div class=\"colab-df-container\">\n",
              "      <div>\n",
              "<style scoped>\n",
              "    .dataframe tbody tr th:only-of-type {\n",
              "        vertical-align: middle;\n",
              "    }\n",
              "\n",
              "    .dataframe tbody tr th {\n",
              "        vertical-align: top;\n",
              "    }\n",
              "\n",
              "    .dataframe thead th {\n",
              "        text-align: right;\n",
              "    }\n",
              "</style>\n",
              "<table border=\"1\" class=\"dataframe\">\n",
              "  <thead>\n",
              "    <tr style=\"text-align: right;\">\n",
              "      <th></th>\n",
              "      <th>User-ID</th>\n",
              "      <th>ISBN</th>\n",
              "      <th>Book-Rating</th>\n",
              "      <th>Book-Title</th>\n",
              "      <th>Total Rating Count</th>\n",
              "    </tr>\n",
              "  </thead>\n",
              "  <tbody>\n",
              "    <tr>\n",
              "      <th>0</th>\n",
              "      <td>276847</td>\n",
              "      <td>0446364193</td>\n",
              "      <td>0</td>\n",
              "      <td>Along Came a Spider (Alex Cross Novels)</td>\n",
              "      <td>193</td>\n",
              "    </tr>\n",
              "    <tr>\n",
              "      <th>1</th>\n",
              "      <td>278418</td>\n",
              "      <td>0446364193</td>\n",
              "      <td>0</td>\n",
              "      <td>Along Came a Spider (Alex Cross Novels)</td>\n",
              "      <td>193</td>\n",
              "    </tr>\n",
              "    <tr>\n",
              "      <th>2</th>\n",
              "      <td>5483</td>\n",
              "      <td>0446364193</td>\n",
              "      <td>0</td>\n",
              "      <td>Along Came a Spider (Alex Cross Novels)</td>\n",
              "      <td>193</td>\n",
              "    </tr>\n",
              "    <tr>\n",
              "      <th>3</th>\n",
              "      <td>7346</td>\n",
              "      <td>0446364193</td>\n",
              "      <td>0</td>\n",
              "      <td>Along Came a Spider (Alex Cross Novels)</td>\n",
              "      <td>193</td>\n",
              "    </tr>\n",
              "    <tr>\n",
              "      <th>4</th>\n",
              "      <td>8362</td>\n",
              "      <td>0446364193</td>\n",
              "      <td>0</td>\n",
              "      <td>Along Came a Spider (Alex Cross Novels)</td>\n",
              "      <td>193</td>\n",
              "    </tr>\n",
              "    <tr>\n",
              "      <th>5</th>\n",
              "      <td>9177</td>\n",
              "      <td>0446364193</td>\n",
              "      <td>7</td>\n",
              "      <td>Along Came a Spider (Alex Cross Novels)</td>\n",
              "      <td>193</td>\n",
              "    </tr>\n",
              "    <tr>\n",
              "      <th>6</th>\n",
              "      <td>11400</td>\n",
              "      <td>0446364193</td>\n",
              "      <td>0</td>\n",
              "      <td>Along Came a Spider (Alex Cross Novels)</td>\n",
              "      <td>193</td>\n",
              "    </tr>\n",
              "    <tr>\n",
              "      <th>7</th>\n",
              "      <td>11676</td>\n",
              "      <td>0446364193</td>\n",
              "      <td>8</td>\n",
              "      <td>Along Came a Spider (Alex Cross Novels)</td>\n",
              "      <td>193</td>\n",
              "    </tr>\n",
              "    <tr>\n",
              "      <th>8</th>\n",
              "      <td>14521</td>\n",
              "      <td>0446364193</td>\n",
              "      <td>0</td>\n",
              "      <td>Along Came a Spider (Alex Cross Novels)</td>\n",
              "      <td>193</td>\n",
              "    </tr>\n",
              "    <tr>\n",
              "      <th>9</th>\n",
              "      <td>15418</td>\n",
              "      <td>0446364193</td>\n",
              "      <td>0</td>\n",
              "      <td>Along Came a Spider (Alex Cross Novels)</td>\n",
              "      <td>193</td>\n",
              "    </tr>\n",
              "  </tbody>\n",
              "</table>\n",
              "</div>\n",
              "      <button class=\"colab-df-convert\" onclick=\"convertToInteractive('df-be3b9da3-9317-4e17-b31f-16c09c03abff')\"\n",
              "              title=\"Convert this dataframe to an interactive table.\"\n",
              "              style=\"display:none;\">\n",
              "        \n",
              "  <svg xmlns=\"http://www.w3.org/2000/svg\" height=\"24px\"viewBox=\"0 0 24 24\"\n",
              "       width=\"24px\">\n",
              "    <path d=\"M0 0h24v24H0V0z\" fill=\"none\"/>\n",
              "    <path d=\"M18.56 5.44l.94 2.06.94-2.06 2.06-.94-2.06-.94-.94-2.06-.94 2.06-2.06.94zm-11 1L8.5 8.5l.94-2.06 2.06-.94-2.06-.94L8.5 2.5l-.94 2.06-2.06.94zm10 10l.94 2.06.94-2.06 2.06-.94-2.06-.94-.94-2.06-.94 2.06-2.06.94z\"/><path d=\"M17.41 7.96l-1.37-1.37c-.4-.4-.92-.59-1.43-.59-.52 0-1.04.2-1.43.59L10.3 9.45l-7.72 7.72c-.78.78-.78 2.05 0 2.83L4 21.41c.39.39.9.59 1.41.59.51 0 1.02-.2 1.41-.59l7.78-7.78 2.81-2.81c.8-.78.8-2.07 0-2.86zM5.41 20L4 18.59l7.72-7.72 1.47 1.35L5.41 20z\"/>\n",
              "  </svg>\n",
              "      </button>\n",
              "      \n",
              "  <style>\n",
              "    .colab-df-container {\n",
              "      display:flex;\n",
              "      flex-wrap:wrap;\n",
              "      gap: 12px;\n",
              "    }\n",
              "\n",
              "    .colab-df-convert {\n",
              "      background-color: #E8F0FE;\n",
              "      border: none;\n",
              "      border-radius: 50%;\n",
              "      cursor: pointer;\n",
              "      display: none;\n",
              "      fill: #1967D2;\n",
              "      height: 32px;\n",
              "      padding: 0 0 0 0;\n",
              "      width: 32px;\n",
              "    }\n",
              "\n",
              "    .colab-df-convert:hover {\n",
              "      background-color: #E2EBFA;\n",
              "      box-shadow: 0px 1px 2px rgba(60, 64, 67, 0.3), 0px 1px 3px 1px rgba(60, 64, 67, 0.15);\n",
              "      fill: #174EA6;\n",
              "    }\n",
              "\n",
              "    [theme=dark] .colab-df-convert {\n",
              "      background-color: #3B4455;\n",
              "      fill: #D2E3FC;\n",
              "    }\n",
              "\n",
              "    [theme=dark] .colab-df-convert:hover {\n",
              "      background-color: #434B5C;\n",
              "      box-shadow: 0px 1px 3px 1px rgba(0, 0, 0, 0.15);\n",
              "      filter: drop-shadow(0px 1px 2px rgba(0, 0, 0, 0.3));\n",
              "      fill: #FFFFFF;\n",
              "    }\n",
              "  </style>\n",
              "\n",
              "      <script>\n",
              "        const buttonEl =\n",
              "          document.querySelector('#df-be3b9da3-9317-4e17-b31f-16c09c03abff button.colab-df-convert');\n",
              "        buttonEl.style.display =\n",
              "          google.colab.kernel.accessAllowed ? 'block' : 'none';\n",
              "\n",
              "        async function convertToInteractive(key) {\n",
              "          const element = document.querySelector('#df-be3b9da3-9317-4e17-b31f-16c09c03abff');\n",
              "          const dataTable =\n",
              "            await google.colab.kernel.invokeFunction('convertToInteractive',\n",
              "                                                     [key], {});\n",
              "          if (!dataTable) return;\n",
              "\n",
              "          const docLinkHtml = 'Like what you see? Visit the ' +\n",
              "            '<a target=\"_blank\" href=https://colab.research.google.com/notebooks/data_table.ipynb>data table notebook</a>'\n",
              "            + ' to learn more about interactive tables.';\n",
              "          element.innerHTML = '';\n",
              "          dataTable['output_type'] = 'display_data';\n",
              "          await google.colab.output.renderOutput(dataTable, element);\n",
              "          const docLink = document.createElement('div');\n",
              "          docLink.innerHTML = docLinkHtml;\n",
              "          element.appendChild(docLink);\n",
              "        }\n",
              "      </script>\n",
              "    </div>\n",
              "  </div>\n",
              "  "
            ]
          },
          "metadata": {},
          "execution_count": 84
        }
      ]
    },
    {
      "cell_type": "code",
      "source": [
        "highly_rated_books_df.tail(10)"
      ],
      "metadata": {
        "colab": {
          "base_uri": "https://localhost:8080/",
          "height": 363
        },
        "id": "W0ayOss8i8bn",
        "outputId": "375d9bf4-27f8-4748-ab73-585c44b4d3c6"
      },
      "execution_count": null,
      "outputs": [
        {
          "output_type": "execute_result",
          "data": {
            "text/plain": [
              "        User-ID        ISBN  Book-Rating            Book-Title  \\\n",
              "142063   217375  0743406184            0  If Only It Were True   \n",
              "142064   225087  0743406184            0  If Only It Were True   \n",
              "142065   231210  0743406184            0  If Only It Were True   \n",
              "142066   232131  0743406184            0  If Only It Were True   \n",
              "142067   238781  0743406184           10  If Only It Were True   \n",
              "142068   246156  0743406184            0  If Only It Were True   \n",
              "142069   246617  0743406184            0  If Only It Were True   \n",
              "142070   274308  0743406184            0  If Only It Were True   \n",
              "142071   274325  0743406184            0  If Only It Were True   \n",
              "142072   275970  0743406184            0  If Only It Were True   \n",
              "\n",
              "        Total Rating Count  \n",
              "142063                  67  \n",
              "142064                  67  \n",
              "142065                  67  \n",
              "142066                  67  \n",
              "142067                  67  \n",
              "142068                  67  \n",
              "142069                  67  \n",
              "142070                  67  \n",
              "142071                  67  \n",
              "142072                  67  "
            ],
            "text/html": [
              "\n",
              "  <div id=\"df-d972e34e-9575-44dc-a610-a0e48dbd2243\">\n",
              "    <div class=\"colab-df-container\">\n",
              "      <div>\n",
              "<style scoped>\n",
              "    .dataframe tbody tr th:only-of-type {\n",
              "        vertical-align: middle;\n",
              "    }\n",
              "\n",
              "    .dataframe tbody tr th {\n",
              "        vertical-align: top;\n",
              "    }\n",
              "\n",
              "    .dataframe thead th {\n",
              "        text-align: right;\n",
              "    }\n",
              "</style>\n",
              "<table border=\"1\" class=\"dataframe\">\n",
              "  <thead>\n",
              "    <tr style=\"text-align: right;\">\n",
              "      <th></th>\n",
              "      <th>User-ID</th>\n",
              "      <th>ISBN</th>\n",
              "      <th>Book-Rating</th>\n",
              "      <th>Book-Title</th>\n",
              "      <th>Total Rating Count</th>\n",
              "    </tr>\n",
              "  </thead>\n",
              "  <tbody>\n",
              "    <tr>\n",
              "      <th>142063</th>\n",
              "      <td>217375</td>\n",
              "      <td>0743406184</td>\n",
              "      <td>0</td>\n",
              "      <td>If Only It Were True</td>\n",
              "      <td>67</td>\n",
              "    </tr>\n",
              "    <tr>\n",
              "      <th>142064</th>\n",
              "      <td>225087</td>\n",
              "      <td>0743406184</td>\n",
              "      <td>0</td>\n",
              "      <td>If Only It Were True</td>\n",
              "      <td>67</td>\n",
              "    </tr>\n",
              "    <tr>\n",
              "      <th>142065</th>\n",
              "      <td>231210</td>\n",
              "      <td>0743406184</td>\n",
              "      <td>0</td>\n",
              "      <td>If Only It Were True</td>\n",
              "      <td>67</td>\n",
              "    </tr>\n",
              "    <tr>\n",
              "      <th>142066</th>\n",
              "      <td>232131</td>\n",
              "      <td>0743406184</td>\n",
              "      <td>0</td>\n",
              "      <td>If Only It Were True</td>\n",
              "      <td>67</td>\n",
              "    </tr>\n",
              "    <tr>\n",
              "      <th>142067</th>\n",
              "      <td>238781</td>\n",
              "      <td>0743406184</td>\n",
              "      <td>10</td>\n",
              "      <td>If Only It Were True</td>\n",
              "      <td>67</td>\n",
              "    </tr>\n",
              "    <tr>\n",
              "      <th>142068</th>\n",
              "      <td>246156</td>\n",
              "      <td>0743406184</td>\n",
              "      <td>0</td>\n",
              "      <td>If Only It Were True</td>\n",
              "      <td>67</td>\n",
              "    </tr>\n",
              "    <tr>\n",
              "      <th>142069</th>\n",
              "      <td>246617</td>\n",
              "      <td>0743406184</td>\n",
              "      <td>0</td>\n",
              "      <td>If Only It Were True</td>\n",
              "      <td>67</td>\n",
              "    </tr>\n",
              "    <tr>\n",
              "      <th>142070</th>\n",
              "      <td>274308</td>\n",
              "      <td>0743406184</td>\n",
              "      <td>0</td>\n",
              "      <td>If Only It Were True</td>\n",
              "      <td>67</td>\n",
              "    </tr>\n",
              "    <tr>\n",
              "      <th>142071</th>\n",
              "      <td>274325</td>\n",
              "      <td>0743406184</td>\n",
              "      <td>0</td>\n",
              "      <td>If Only It Were True</td>\n",
              "      <td>67</td>\n",
              "    </tr>\n",
              "    <tr>\n",
              "      <th>142072</th>\n",
              "      <td>275970</td>\n",
              "      <td>0743406184</td>\n",
              "      <td>0</td>\n",
              "      <td>If Only It Were True</td>\n",
              "      <td>67</td>\n",
              "    </tr>\n",
              "  </tbody>\n",
              "</table>\n",
              "</div>\n",
              "      <button class=\"colab-df-convert\" onclick=\"convertToInteractive('df-d972e34e-9575-44dc-a610-a0e48dbd2243')\"\n",
              "              title=\"Convert this dataframe to an interactive table.\"\n",
              "              style=\"display:none;\">\n",
              "        \n",
              "  <svg xmlns=\"http://www.w3.org/2000/svg\" height=\"24px\"viewBox=\"0 0 24 24\"\n",
              "       width=\"24px\">\n",
              "    <path d=\"M0 0h24v24H0V0z\" fill=\"none\"/>\n",
              "    <path d=\"M18.56 5.44l.94 2.06.94-2.06 2.06-.94-2.06-.94-.94-2.06-.94 2.06-2.06.94zm-11 1L8.5 8.5l.94-2.06 2.06-.94-2.06-.94L8.5 2.5l-.94 2.06-2.06.94zm10 10l.94 2.06.94-2.06 2.06-.94-2.06-.94-.94-2.06-.94 2.06-2.06.94z\"/><path d=\"M17.41 7.96l-1.37-1.37c-.4-.4-.92-.59-1.43-.59-.52 0-1.04.2-1.43.59L10.3 9.45l-7.72 7.72c-.78.78-.78 2.05 0 2.83L4 21.41c.39.39.9.59 1.41.59.51 0 1.02-.2 1.41-.59l7.78-7.78 2.81-2.81c.8-.78.8-2.07 0-2.86zM5.41 20L4 18.59l7.72-7.72 1.47 1.35L5.41 20z\"/>\n",
              "  </svg>\n",
              "      </button>\n",
              "      \n",
              "  <style>\n",
              "    .colab-df-container {\n",
              "      display:flex;\n",
              "      flex-wrap:wrap;\n",
              "      gap: 12px;\n",
              "    }\n",
              "\n",
              "    .colab-df-convert {\n",
              "      background-color: #E8F0FE;\n",
              "      border: none;\n",
              "      border-radius: 50%;\n",
              "      cursor: pointer;\n",
              "      display: none;\n",
              "      fill: #1967D2;\n",
              "      height: 32px;\n",
              "      padding: 0 0 0 0;\n",
              "      width: 32px;\n",
              "    }\n",
              "\n",
              "    .colab-df-convert:hover {\n",
              "      background-color: #E2EBFA;\n",
              "      box-shadow: 0px 1px 2px rgba(60, 64, 67, 0.3), 0px 1px 3px 1px rgba(60, 64, 67, 0.15);\n",
              "      fill: #174EA6;\n",
              "    }\n",
              "\n",
              "    [theme=dark] .colab-df-convert {\n",
              "      background-color: #3B4455;\n",
              "      fill: #D2E3FC;\n",
              "    }\n",
              "\n",
              "    [theme=dark] .colab-df-convert:hover {\n",
              "      background-color: #434B5C;\n",
              "      box-shadow: 0px 1px 3px 1px rgba(0, 0, 0, 0.15);\n",
              "      filter: drop-shadow(0px 1px 2px rgba(0, 0, 0, 0.3));\n",
              "      fill: #FFFFFF;\n",
              "    }\n",
              "  </style>\n",
              "\n",
              "      <script>\n",
              "        const buttonEl =\n",
              "          document.querySelector('#df-d972e34e-9575-44dc-a610-a0e48dbd2243 button.colab-df-convert');\n",
              "        buttonEl.style.display =\n",
              "          google.colab.kernel.accessAllowed ? 'block' : 'none';\n",
              "\n",
              "        async function convertToInteractive(key) {\n",
              "          const element = document.querySelector('#df-d972e34e-9575-44dc-a610-a0e48dbd2243');\n",
              "          const dataTable =\n",
              "            await google.colab.kernel.invokeFunction('convertToInteractive',\n",
              "                                                     [key], {});\n",
              "          if (!dataTable) return;\n",
              "\n",
              "          const docLinkHtml = 'Like what you see? Visit the ' +\n",
              "            '<a target=\"_blank\" href=https://colab.research.google.com/notebooks/data_table.ipynb>data table notebook</a>'\n",
              "            + ' to learn more about interactive tables.';\n",
              "          element.innerHTML = '';\n",
              "          dataTable['output_type'] = 'display_data';\n",
              "          await google.colab.output.renderOutput(dataTable, element);\n",
              "          const docLink = document.createElement('div');\n",
              "          docLink.innerHTML = docLinkHtml;\n",
              "          element.appendChild(docLink);\n",
              "        }\n",
              "      </script>\n",
              "    </div>\n",
              "  </div>\n",
              "  "
            ]
          },
          "metadata": {},
          "execution_count": 85
        }
      ]
    },
    {
      "cell_type": "code",
      "source": [
        "highly_rated_books_df.shape"
      ],
      "metadata": {
        "colab": {
          "base_uri": "https://localhost:8080/"
        },
        "id": "Vdw8hiFRjAE_",
        "outputId": "e0efd058-e3d7-4c31-da72-7a6d7cd0a432"
      },
      "execution_count": null,
      "outputs": [
        {
          "output_type": "execute_result",
          "data": {
            "text/plain": [
              "(105661, 5)"
            ]
          },
          "metadata": {},
          "execution_count": 86
        }
      ]
    },
    {
      "cell_type": "code",
      "source": [
        "highly_rated_books_df['Book-Title'].nunique()"
      ],
      "metadata": {
        "id": "ZzH0Pri2jFap",
        "colab": {
          "base_uri": "https://localhost:8080/"
        },
        "outputId": "6770937a-cd72-4474-9c08-6e4e2596d99d"
      },
      "execution_count": null,
      "outputs": [
        {
          "output_type": "execute_result",
          "data": {
            "text/plain": [
              "1031"
            ]
          },
          "metadata": {},
          "execution_count": 87
        }
      ]
    },
    {
      "cell_type": "markdown",
      "source": [
        "*We have 615 highly rated unqiue books.*"
      ],
      "metadata": {
        "id": "Tfg9HMWlq597"
      }
    },
    {
      "cell_type": "code",
      "source": [
        "highly_rated_books_df['User-ID'].nunique()"
      ],
      "metadata": {
        "colab": {
          "base_uri": "https://localhost:8080/"
        },
        "id": "JFwJA49CqsUv",
        "outputId": "e00387d0-78bc-461d-97be-54934c890920"
      },
      "execution_count": null,
      "outputs": [
        {
          "output_type": "execute_result",
          "data": {
            "text/plain": [
              "3210"
            ]
          },
          "metadata": {},
          "execution_count": 88
        }
      ]
    },
    {
      "cell_type": "code",
      "source": [
        "highly_rated_books_df['ISBN'].nunique()"
      ],
      "metadata": {
        "colab": {
          "base_uri": "https://localhost:8080/"
        },
        "id": "l61fXEnsrD2y",
        "outputId": "8fb89d30-9f73-4bf8-cd5f-01e3891c3ec2"
      },
      "execution_count": null,
      "outputs": [
        {
          "output_type": "execute_result",
          "data": {
            "text/plain": [
              "1227"
            ]
          },
          "metadata": {},
          "execution_count": 89
        }
      ]
    },
    {
      "cell_type": "markdown",
      "source": [
        "**------------------------------------------------------k - Nearest Neigbor Algorithm-------------------------------------------------------------**"
      ],
      "metadata": {
        "id": "Ic3U0x3grX1z"
      }
    },
    {
      "cell_type": "markdown",
      "source": [
        "k Nearest Neighbors (kNN) is a simple ML algorithm for classification and regression.kNN algorithm stores all the available data and classifies a new data point based on the similarity. This means when new data appears then it can be easily classified into a well suite category by using kNN algorithm. But one issue with kNN is that it is quiet slow.\n",
        "\n",
        "**Why kNN is slow?**\n",
        " \n",
        " The reason kNN is slow is that - \n",
        "\n",
        "It as a lazy learner algorithm because it does not learn from the training set immediately instead it stores the dataset and at the time of classification, it performs an action on the dataset.\n",
        "\n",
        "Hence, to avoid this problem we will only take users from **USA** & **Canada** only.\n"
      ],
      "metadata": {
        "id": "3yZZfsgmrvPZ"
      }
    },
    {
      "cell_type": "code",
      "source": [
        "combined_df = highly_rated_books_df.merge(users_df, on='User-ID', how='left')"
      ],
      "metadata": {
        "id": "rA_IcRqzrHxx"
      },
      "execution_count": null,
      "outputs": []
    },
    {
      "cell_type": "code",
      "source": [
        "combined_df.head()"
      ],
      "metadata": {
        "colab": {
          "base_uri": "https://localhost:8080/",
          "height": 206
        },
        "id": "HzFpqlaY6HDx",
        "outputId": "9d5f96fb-cbc2-4a36-e11f-5df2f062c03f"
      },
      "execution_count": null,
      "outputs": [
        {
          "output_type": "execute_result",
          "data": {
            "text/plain": [
              "   User-ID        ISBN  Book-Rating                               Book-Title  \\\n",
              "0   276847  0446364193            0  Along Came a Spider (Alex Cross Novels)   \n",
              "1   278418  0446364193            0  Along Came a Spider (Alex Cross Novels)   \n",
              "2     5483  0446364193            0  Along Came a Spider (Alex Cross Novels)   \n",
              "3     7346  0446364193            0  Along Came a Spider (Alex Cross Novels)   \n",
              "4     8362  0446364193            0  Along Came a Spider (Alex Cross Novels)   \n",
              "\n",
              "   Total Rating Count                            Location   Age  \n",
              "0                 193  köln, nordrhein-westfalen, germany  27.0  \n",
              "1                 193                omaha, nebraska, usa  35.0  \n",
              "2                 193       bayan lepas, penang, malaysia  20.0  \n",
              "3                 193          sunnyvale, california, usa  49.0  \n",
              "4                 193        los angeles, california, usa  28.0  "
            ],
            "text/html": [
              "\n",
              "  <div id=\"df-dd5e3153-d01a-4ccd-a729-4e96e841d437\">\n",
              "    <div class=\"colab-df-container\">\n",
              "      <div>\n",
              "<style scoped>\n",
              "    .dataframe tbody tr th:only-of-type {\n",
              "        vertical-align: middle;\n",
              "    }\n",
              "\n",
              "    .dataframe tbody tr th {\n",
              "        vertical-align: top;\n",
              "    }\n",
              "\n",
              "    .dataframe thead th {\n",
              "        text-align: right;\n",
              "    }\n",
              "</style>\n",
              "<table border=\"1\" class=\"dataframe\">\n",
              "  <thead>\n",
              "    <tr style=\"text-align: right;\">\n",
              "      <th></th>\n",
              "      <th>User-ID</th>\n",
              "      <th>ISBN</th>\n",
              "      <th>Book-Rating</th>\n",
              "      <th>Book-Title</th>\n",
              "      <th>Total Rating Count</th>\n",
              "      <th>Location</th>\n",
              "      <th>Age</th>\n",
              "    </tr>\n",
              "  </thead>\n",
              "  <tbody>\n",
              "    <tr>\n",
              "      <th>0</th>\n",
              "      <td>276847</td>\n",
              "      <td>0446364193</td>\n",
              "      <td>0</td>\n",
              "      <td>Along Came a Spider (Alex Cross Novels)</td>\n",
              "      <td>193</td>\n",
              "      <td>köln, nordrhein-westfalen, germany</td>\n",
              "      <td>27.0</td>\n",
              "    </tr>\n",
              "    <tr>\n",
              "      <th>1</th>\n",
              "      <td>278418</td>\n",
              "      <td>0446364193</td>\n",
              "      <td>0</td>\n",
              "      <td>Along Came a Spider (Alex Cross Novels)</td>\n",
              "      <td>193</td>\n",
              "      <td>omaha, nebraska, usa</td>\n",
              "      <td>35.0</td>\n",
              "    </tr>\n",
              "    <tr>\n",
              "      <th>2</th>\n",
              "      <td>5483</td>\n",
              "      <td>0446364193</td>\n",
              "      <td>0</td>\n",
              "      <td>Along Came a Spider (Alex Cross Novels)</td>\n",
              "      <td>193</td>\n",
              "      <td>bayan lepas, penang, malaysia</td>\n",
              "      <td>20.0</td>\n",
              "    </tr>\n",
              "    <tr>\n",
              "      <th>3</th>\n",
              "      <td>7346</td>\n",
              "      <td>0446364193</td>\n",
              "      <td>0</td>\n",
              "      <td>Along Came a Spider (Alex Cross Novels)</td>\n",
              "      <td>193</td>\n",
              "      <td>sunnyvale, california, usa</td>\n",
              "      <td>49.0</td>\n",
              "    </tr>\n",
              "    <tr>\n",
              "      <th>4</th>\n",
              "      <td>8362</td>\n",
              "      <td>0446364193</td>\n",
              "      <td>0</td>\n",
              "      <td>Along Came a Spider (Alex Cross Novels)</td>\n",
              "      <td>193</td>\n",
              "      <td>los angeles, california, usa</td>\n",
              "      <td>28.0</td>\n",
              "    </tr>\n",
              "  </tbody>\n",
              "</table>\n",
              "</div>\n",
              "      <button class=\"colab-df-convert\" onclick=\"convertToInteractive('df-dd5e3153-d01a-4ccd-a729-4e96e841d437')\"\n",
              "              title=\"Convert this dataframe to an interactive table.\"\n",
              "              style=\"display:none;\">\n",
              "        \n",
              "  <svg xmlns=\"http://www.w3.org/2000/svg\" height=\"24px\"viewBox=\"0 0 24 24\"\n",
              "       width=\"24px\">\n",
              "    <path d=\"M0 0h24v24H0V0z\" fill=\"none\"/>\n",
              "    <path d=\"M18.56 5.44l.94 2.06.94-2.06 2.06-.94-2.06-.94-.94-2.06-.94 2.06-2.06.94zm-11 1L8.5 8.5l.94-2.06 2.06-.94-2.06-.94L8.5 2.5l-.94 2.06-2.06.94zm10 10l.94 2.06.94-2.06 2.06-.94-2.06-.94-.94-2.06-.94 2.06-2.06.94z\"/><path d=\"M17.41 7.96l-1.37-1.37c-.4-.4-.92-.59-1.43-.59-.52 0-1.04.2-1.43.59L10.3 9.45l-7.72 7.72c-.78.78-.78 2.05 0 2.83L4 21.41c.39.39.9.59 1.41.59.51 0 1.02-.2 1.41-.59l7.78-7.78 2.81-2.81c.8-.78.8-2.07 0-2.86zM5.41 20L4 18.59l7.72-7.72 1.47 1.35L5.41 20z\"/>\n",
              "  </svg>\n",
              "      </button>\n",
              "      \n",
              "  <style>\n",
              "    .colab-df-container {\n",
              "      display:flex;\n",
              "      flex-wrap:wrap;\n",
              "      gap: 12px;\n",
              "    }\n",
              "\n",
              "    .colab-df-convert {\n",
              "      background-color: #E8F0FE;\n",
              "      border: none;\n",
              "      border-radius: 50%;\n",
              "      cursor: pointer;\n",
              "      display: none;\n",
              "      fill: #1967D2;\n",
              "      height: 32px;\n",
              "      padding: 0 0 0 0;\n",
              "      width: 32px;\n",
              "    }\n",
              "\n",
              "    .colab-df-convert:hover {\n",
              "      background-color: #E2EBFA;\n",
              "      box-shadow: 0px 1px 2px rgba(60, 64, 67, 0.3), 0px 1px 3px 1px rgba(60, 64, 67, 0.15);\n",
              "      fill: #174EA6;\n",
              "    }\n",
              "\n",
              "    [theme=dark] .colab-df-convert {\n",
              "      background-color: #3B4455;\n",
              "      fill: #D2E3FC;\n",
              "    }\n",
              "\n",
              "    [theme=dark] .colab-df-convert:hover {\n",
              "      background-color: #434B5C;\n",
              "      box-shadow: 0px 1px 3px 1px rgba(0, 0, 0, 0.15);\n",
              "      filter: drop-shadow(0px 1px 2px rgba(0, 0, 0, 0.3));\n",
              "      fill: #FFFFFF;\n",
              "    }\n",
              "  </style>\n",
              "\n",
              "      <script>\n",
              "        const buttonEl =\n",
              "          document.querySelector('#df-dd5e3153-d01a-4ccd-a729-4e96e841d437 button.colab-df-convert');\n",
              "        buttonEl.style.display =\n",
              "          google.colab.kernel.accessAllowed ? 'block' : 'none';\n",
              "\n",
              "        async function convertToInteractive(key) {\n",
              "          const element = document.querySelector('#df-dd5e3153-d01a-4ccd-a729-4e96e841d437');\n",
              "          const dataTable =\n",
              "            await google.colab.kernel.invokeFunction('convertToInteractive',\n",
              "                                                     [key], {});\n",
              "          if (!dataTable) return;\n",
              "\n",
              "          const docLinkHtml = 'Like what you see? Visit the ' +\n",
              "            '<a target=\"_blank\" href=https://colab.research.google.com/notebooks/data_table.ipynb>data table notebook</a>'\n",
              "            + ' to learn more about interactive tables.';\n",
              "          element.innerHTML = '';\n",
              "          dataTable['output_type'] = 'display_data';\n",
              "          await google.colab.output.renderOutput(dataTable, element);\n",
              "          const docLink = document.createElement('div');\n",
              "          docLink.innerHTML = docLinkHtml;\n",
              "          element.appendChild(docLink);\n",
              "        }\n",
              "      </script>\n",
              "    </div>\n",
              "  </div>\n",
              "  "
            ]
          },
          "metadata": {},
          "execution_count": 91
        }
      ]
    },
    {
      "cell_type": "code",
      "source": [
        "usa_canada_users_df = combined_df[combined_df['Location'].str.contains(\"usa|canada\")] "
      ],
      "metadata": {
        "id": "kpPmAxsv6Is_"
      },
      "execution_count": null,
      "outputs": []
    },
    {
      "cell_type": "code",
      "source": [
        "usa_canada_users_df.head()"
      ],
      "metadata": {
        "colab": {
          "base_uri": "https://localhost:8080/",
          "height": 206
        },
        "id": "RE2KwfRf6Y8j",
        "outputId": "e074b99f-3b54-4e22-f5ee-d07841c6f231"
      },
      "execution_count": null,
      "outputs": [
        {
          "output_type": "execute_result",
          "data": {
            "text/plain": [
              "   User-ID        ISBN  Book-Rating                               Book-Title  \\\n",
              "1   278418  0446364193            0  Along Came a Spider (Alex Cross Novels)   \n",
              "3     7346  0446364193            0  Along Came a Spider (Alex Cross Novels)   \n",
              "4     8362  0446364193            0  Along Came a Spider (Alex Cross Novels)   \n",
              "6    11400  0446364193            0  Along Came a Spider (Alex Cross Novels)   \n",
              "8    14521  0446364193            0  Along Came a Spider (Alex Cross Novels)   \n",
              "\n",
              "   Total Rating Count                       Location   Age  \n",
              "1                 193           omaha, nebraska, usa  35.0  \n",
              "3                 193     sunnyvale, california, usa  49.0  \n",
              "4                 193   los angeles, california, usa  28.0  \n",
              "6                 193        ottawa, ontario, canada  49.0  \n",
              "8                 193  providence, rhode island, usa  35.0  "
            ],
            "text/html": [
              "\n",
              "  <div id=\"df-8ee09fc1-b975-4451-8eff-6031efd4da98\">\n",
              "    <div class=\"colab-df-container\">\n",
              "      <div>\n",
              "<style scoped>\n",
              "    .dataframe tbody tr th:only-of-type {\n",
              "        vertical-align: middle;\n",
              "    }\n",
              "\n",
              "    .dataframe tbody tr th {\n",
              "        vertical-align: top;\n",
              "    }\n",
              "\n",
              "    .dataframe thead th {\n",
              "        text-align: right;\n",
              "    }\n",
              "</style>\n",
              "<table border=\"1\" class=\"dataframe\">\n",
              "  <thead>\n",
              "    <tr style=\"text-align: right;\">\n",
              "      <th></th>\n",
              "      <th>User-ID</th>\n",
              "      <th>ISBN</th>\n",
              "      <th>Book-Rating</th>\n",
              "      <th>Book-Title</th>\n",
              "      <th>Total Rating Count</th>\n",
              "      <th>Location</th>\n",
              "      <th>Age</th>\n",
              "    </tr>\n",
              "  </thead>\n",
              "  <tbody>\n",
              "    <tr>\n",
              "      <th>1</th>\n",
              "      <td>278418</td>\n",
              "      <td>0446364193</td>\n",
              "      <td>0</td>\n",
              "      <td>Along Came a Spider (Alex Cross Novels)</td>\n",
              "      <td>193</td>\n",
              "      <td>omaha, nebraska, usa</td>\n",
              "      <td>35.0</td>\n",
              "    </tr>\n",
              "    <tr>\n",
              "      <th>3</th>\n",
              "      <td>7346</td>\n",
              "      <td>0446364193</td>\n",
              "      <td>0</td>\n",
              "      <td>Along Came a Spider (Alex Cross Novels)</td>\n",
              "      <td>193</td>\n",
              "      <td>sunnyvale, california, usa</td>\n",
              "      <td>49.0</td>\n",
              "    </tr>\n",
              "    <tr>\n",
              "      <th>4</th>\n",
              "      <td>8362</td>\n",
              "      <td>0446364193</td>\n",
              "      <td>0</td>\n",
              "      <td>Along Came a Spider (Alex Cross Novels)</td>\n",
              "      <td>193</td>\n",
              "      <td>los angeles, california, usa</td>\n",
              "      <td>28.0</td>\n",
              "    </tr>\n",
              "    <tr>\n",
              "      <th>6</th>\n",
              "      <td>11400</td>\n",
              "      <td>0446364193</td>\n",
              "      <td>0</td>\n",
              "      <td>Along Came a Spider (Alex Cross Novels)</td>\n",
              "      <td>193</td>\n",
              "      <td>ottawa, ontario, canada</td>\n",
              "      <td>49.0</td>\n",
              "    </tr>\n",
              "    <tr>\n",
              "      <th>8</th>\n",
              "      <td>14521</td>\n",
              "      <td>0446364193</td>\n",
              "      <td>0</td>\n",
              "      <td>Along Came a Spider (Alex Cross Novels)</td>\n",
              "      <td>193</td>\n",
              "      <td>providence, rhode island, usa</td>\n",
              "      <td>35.0</td>\n",
              "    </tr>\n",
              "  </tbody>\n",
              "</table>\n",
              "</div>\n",
              "      <button class=\"colab-df-convert\" onclick=\"convertToInteractive('df-8ee09fc1-b975-4451-8eff-6031efd4da98')\"\n",
              "              title=\"Convert this dataframe to an interactive table.\"\n",
              "              style=\"display:none;\">\n",
              "        \n",
              "  <svg xmlns=\"http://www.w3.org/2000/svg\" height=\"24px\"viewBox=\"0 0 24 24\"\n",
              "       width=\"24px\">\n",
              "    <path d=\"M0 0h24v24H0V0z\" fill=\"none\"/>\n",
              "    <path d=\"M18.56 5.44l.94 2.06.94-2.06 2.06-.94-2.06-.94-.94-2.06-.94 2.06-2.06.94zm-11 1L8.5 8.5l.94-2.06 2.06-.94-2.06-.94L8.5 2.5l-.94 2.06-2.06.94zm10 10l.94 2.06.94-2.06 2.06-.94-2.06-.94-.94-2.06-.94 2.06-2.06.94z\"/><path d=\"M17.41 7.96l-1.37-1.37c-.4-.4-.92-.59-1.43-.59-.52 0-1.04.2-1.43.59L10.3 9.45l-7.72 7.72c-.78.78-.78 2.05 0 2.83L4 21.41c.39.39.9.59 1.41.59.51 0 1.02-.2 1.41-.59l7.78-7.78 2.81-2.81c.8-.78.8-2.07 0-2.86zM5.41 20L4 18.59l7.72-7.72 1.47 1.35L5.41 20z\"/>\n",
              "  </svg>\n",
              "      </button>\n",
              "      \n",
              "  <style>\n",
              "    .colab-df-container {\n",
              "      display:flex;\n",
              "      flex-wrap:wrap;\n",
              "      gap: 12px;\n",
              "    }\n",
              "\n",
              "    .colab-df-convert {\n",
              "      background-color: #E8F0FE;\n",
              "      border: none;\n",
              "      border-radius: 50%;\n",
              "      cursor: pointer;\n",
              "      display: none;\n",
              "      fill: #1967D2;\n",
              "      height: 32px;\n",
              "      padding: 0 0 0 0;\n",
              "      width: 32px;\n",
              "    }\n",
              "\n",
              "    .colab-df-convert:hover {\n",
              "      background-color: #E2EBFA;\n",
              "      box-shadow: 0px 1px 2px rgba(60, 64, 67, 0.3), 0px 1px 3px 1px rgba(60, 64, 67, 0.15);\n",
              "      fill: #174EA6;\n",
              "    }\n",
              "\n",
              "    [theme=dark] .colab-df-convert {\n",
              "      background-color: #3B4455;\n",
              "      fill: #D2E3FC;\n",
              "    }\n",
              "\n",
              "    [theme=dark] .colab-df-convert:hover {\n",
              "      background-color: #434B5C;\n",
              "      box-shadow: 0px 1px 3px 1px rgba(0, 0, 0, 0.15);\n",
              "      filter: drop-shadow(0px 1px 2px rgba(0, 0, 0, 0.3));\n",
              "      fill: #FFFFFF;\n",
              "    }\n",
              "  </style>\n",
              "\n",
              "      <script>\n",
              "        const buttonEl =\n",
              "          document.querySelector('#df-8ee09fc1-b975-4451-8eff-6031efd4da98 button.colab-df-convert');\n",
              "        buttonEl.style.display =\n",
              "          google.colab.kernel.accessAllowed ? 'block' : 'none';\n",
              "\n",
              "        async function convertToInteractive(key) {\n",
              "          const element = document.querySelector('#df-8ee09fc1-b975-4451-8eff-6031efd4da98');\n",
              "          const dataTable =\n",
              "            await google.colab.kernel.invokeFunction('convertToInteractive',\n",
              "                                                     [key], {});\n",
              "          if (!dataTable) return;\n",
              "\n",
              "          const docLinkHtml = 'Like what you see? Visit the ' +\n",
              "            '<a target=\"_blank\" href=https://colab.research.google.com/notebooks/data_table.ipynb>data table notebook</a>'\n",
              "            + ' to learn more about interactive tables.';\n",
              "          element.innerHTML = '';\n",
              "          dataTable['output_type'] = 'display_data';\n",
              "          await google.colab.output.renderOutput(dataTable, element);\n",
              "          const docLink = document.createElement('div');\n",
              "          docLink.innerHTML = docLinkHtml;\n",
              "          element.appendChild(docLink);\n",
              "        }\n",
              "      </script>\n",
              "    </div>\n",
              "  </div>\n",
              "  "
            ]
          },
          "metadata": {},
          "execution_count": 93
        }
      ]
    },
    {
      "cell_type": "code",
      "source": [
        "usa_canada_users_df.shape"
      ],
      "metadata": {
        "colab": {
          "base_uri": "https://localhost:8080/"
        },
        "id": "wmHFgRK06bFI",
        "outputId": "43d20788-a194-4904-98a6-e082606606e8"
      },
      "execution_count": null,
      "outputs": [
        {
          "output_type": "execute_result",
          "data": {
            "text/plain": [
              "(93010, 7)"
            ]
          },
          "metadata": {},
          "execution_count": 94
        }
      ]
    },
    {
      "cell_type": "code",
      "source": [
        "usa_canada_users_df.drop(columns=['Age'], axis = 1, inplace = True)"
      ],
      "metadata": {
        "colab": {
          "base_uri": "https://localhost:8080/"
        },
        "id": "wy5UqMKX6fIL",
        "outputId": "116c79f9-9e5b-4501-c0e1-967f7a693a66"
      },
      "execution_count": null,
      "outputs": [
        {
          "output_type": "stream",
          "name": "stderr",
          "text": [
            "/usr/local/lib/python3.7/dist-packages/pandas/core/frame.py:4913: SettingWithCopyWarning: \n",
            "A value is trying to be set on a copy of a slice from a DataFrame\n",
            "\n",
            "See the caveats in the documentation: https://pandas.pydata.org/pandas-docs/stable/user_guide/indexing.html#returning-a-view-versus-a-copy\n",
            "  errors=errors,\n"
          ]
        }
      ]
    },
    {
      "cell_type": "code",
      "source": [
        "usa_canada_users_df.head()"
      ],
      "metadata": {
        "colab": {
          "base_uri": "https://localhost:8080/",
          "height": 206
        },
        "id": "09e-NYzn6nkW",
        "outputId": "ec638472-ac00-447f-92f1-0fae0f7ec0a3"
      },
      "execution_count": null,
      "outputs": [
        {
          "output_type": "execute_result",
          "data": {
            "text/plain": [
              "   User-ID        ISBN  Book-Rating                               Book-Title  \\\n",
              "1   278418  0446364193            0  Along Came a Spider (Alex Cross Novels)   \n",
              "3     7346  0446364193            0  Along Came a Spider (Alex Cross Novels)   \n",
              "4     8362  0446364193            0  Along Came a Spider (Alex Cross Novels)   \n",
              "6    11400  0446364193            0  Along Came a Spider (Alex Cross Novels)   \n",
              "8    14521  0446364193            0  Along Came a Spider (Alex Cross Novels)   \n",
              "\n",
              "   Total Rating Count                       Location  \n",
              "1                 193           omaha, nebraska, usa  \n",
              "3                 193     sunnyvale, california, usa  \n",
              "4                 193   los angeles, california, usa  \n",
              "6                 193        ottawa, ontario, canada  \n",
              "8                 193  providence, rhode island, usa  "
            ],
            "text/html": [
              "\n",
              "  <div id=\"df-bb1ce13b-dcbe-49c7-9d56-e7b8c967f934\">\n",
              "    <div class=\"colab-df-container\">\n",
              "      <div>\n",
              "<style scoped>\n",
              "    .dataframe tbody tr th:only-of-type {\n",
              "        vertical-align: middle;\n",
              "    }\n",
              "\n",
              "    .dataframe tbody tr th {\n",
              "        vertical-align: top;\n",
              "    }\n",
              "\n",
              "    .dataframe thead th {\n",
              "        text-align: right;\n",
              "    }\n",
              "</style>\n",
              "<table border=\"1\" class=\"dataframe\">\n",
              "  <thead>\n",
              "    <tr style=\"text-align: right;\">\n",
              "      <th></th>\n",
              "      <th>User-ID</th>\n",
              "      <th>ISBN</th>\n",
              "      <th>Book-Rating</th>\n",
              "      <th>Book-Title</th>\n",
              "      <th>Total Rating Count</th>\n",
              "      <th>Location</th>\n",
              "    </tr>\n",
              "  </thead>\n",
              "  <tbody>\n",
              "    <tr>\n",
              "      <th>1</th>\n",
              "      <td>278418</td>\n",
              "      <td>0446364193</td>\n",
              "      <td>0</td>\n",
              "      <td>Along Came a Spider (Alex Cross Novels)</td>\n",
              "      <td>193</td>\n",
              "      <td>omaha, nebraska, usa</td>\n",
              "    </tr>\n",
              "    <tr>\n",
              "      <th>3</th>\n",
              "      <td>7346</td>\n",
              "      <td>0446364193</td>\n",
              "      <td>0</td>\n",
              "      <td>Along Came a Spider (Alex Cross Novels)</td>\n",
              "      <td>193</td>\n",
              "      <td>sunnyvale, california, usa</td>\n",
              "    </tr>\n",
              "    <tr>\n",
              "      <th>4</th>\n",
              "      <td>8362</td>\n",
              "      <td>0446364193</td>\n",
              "      <td>0</td>\n",
              "      <td>Along Came a Spider (Alex Cross Novels)</td>\n",
              "      <td>193</td>\n",
              "      <td>los angeles, california, usa</td>\n",
              "    </tr>\n",
              "    <tr>\n",
              "      <th>6</th>\n",
              "      <td>11400</td>\n",
              "      <td>0446364193</td>\n",
              "      <td>0</td>\n",
              "      <td>Along Came a Spider (Alex Cross Novels)</td>\n",
              "      <td>193</td>\n",
              "      <td>ottawa, ontario, canada</td>\n",
              "    </tr>\n",
              "    <tr>\n",
              "      <th>8</th>\n",
              "      <td>14521</td>\n",
              "      <td>0446364193</td>\n",
              "      <td>0</td>\n",
              "      <td>Along Came a Spider (Alex Cross Novels)</td>\n",
              "      <td>193</td>\n",
              "      <td>providence, rhode island, usa</td>\n",
              "    </tr>\n",
              "  </tbody>\n",
              "</table>\n",
              "</div>\n",
              "      <button class=\"colab-df-convert\" onclick=\"convertToInteractive('df-bb1ce13b-dcbe-49c7-9d56-e7b8c967f934')\"\n",
              "              title=\"Convert this dataframe to an interactive table.\"\n",
              "              style=\"display:none;\">\n",
              "        \n",
              "  <svg xmlns=\"http://www.w3.org/2000/svg\" height=\"24px\"viewBox=\"0 0 24 24\"\n",
              "       width=\"24px\">\n",
              "    <path d=\"M0 0h24v24H0V0z\" fill=\"none\"/>\n",
              "    <path d=\"M18.56 5.44l.94 2.06.94-2.06 2.06-.94-2.06-.94-.94-2.06-.94 2.06-2.06.94zm-11 1L8.5 8.5l.94-2.06 2.06-.94-2.06-.94L8.5 2.5l-.94 2.06-2.06.94zm10 10l.94 2.06.94-2.06 2.06-.94-2.06-.94-.94-2.06-.94 2.06-2.06.94z\"/><path d=\"M17.41 7.96l-1.37-1.37c-.4-.4-.92-.59-1.43-.59-.52 0-1.04.2-1.43.59L10.3 9.45l-7.72 7.72c-.78.78-.78 2.05 0 2.83L4 21.41c.39.39.9.59 1.41.59.51 0 1.02-.2 1.41-.59l7.78-7.78 2.81-2.81c.8-.78.8-2.07 0-2.86zM5.41 20L4 18.59l7.72-7.72 1.47 1.35L5.41 20z\"/>\n",
              "  </svg>\n",
              "      </button>\n",
              "      \n",
              "  <style>\n",
              "    .colab-df-container {\n",
              "      display:flex;\n",
              "      flex-wrap:wrap;\n",
              "      gap: 12px;\n",
              "    }\n",
              "\n",
              "    .colab-df-convert {\n",
              "      background-color: #E8F0FE;\n",
              "      border: none;\n",
              "      border-radius: 50%;\n",
              "      cursor: pointer;\n",
              "      display: none;\n",
              "      fill: #1967D2;\n",
              "      height: 32px;\n",
              "      padding: 0 0 0 0;\n",
              "      width: 32px;\n",
              "    }\n",
              "\n",
              "    .colab-df-convert:hover {\n",
              "      background-color: #E2EBFA;\n",
              "      box-shadow: 0px 1px 2px rgba(60, 64, 67, 0.3), 0px 1px 3px 1px rgba(60, 64, 67, 0.15);\n",
              "      fill: #174EA6;\n",
              "    }\n",
              "\n",
              "    [theme=dark] .colab-df-convert {\n",
              "      background-color: #3B4455;\n",
              "      fill: #D2E3FC;\n",
              "    }\n",
              "\n",
              "    [theme=dark] .colab-df-convert:hover {\n",
              "      background-color: #434B5C;\n",
              "      box-shadow: 0px 1px 3px 1px rgba(0, 0, 0, 0.15);\n",
              "      filter: drop-shadow(0px 1px 2px rgba(0, 0, 0, 0.3));\n",
              "      fill: #FFFFFF;\n",
              "    }\n",
              "  </style>\n",
              "\n",
              "      <script>\n",
              "        const buttonEl =\n",
              "          document.querySelector('#df-bb1ce13b-dcbe-49c7-9d56-e7b8c967f934 button.colab-df-convert');\n",
              "        buttonEl.style.display =\n",
              "          google.colab.kernel.accessAllowed ? 'block' : 'none';\n",
              "\n",
              "        async function convertToInteractive(key) {\n",
              "          const element = document.querySelector('#df-bb1ce13b-dcbe-49c7-9d56-e7b8c967f934');\n",
              "          const dataTable =\n",
              "            await google.colab.kernel.invokeFunction('convertToInteractive',\n",
              "                                                     [key], {});\n",
              "          if (!dataTable) return;\n",
              "\n",
              "          const docLinkHtml = 'Like what you see? Visit the ' +\n",
              "            '<a target=\"_blank\" href=https://colab.research.google.com/notebooks/data_table.ipynb>data table notebook</a>'\n",
              "            + ' to learn more about interactive tables.';\n",
              "          element.innerHTML = '';\n",
              "          dataTable['output_type'] = 'display_data';\n",
              "          await google.colab.output.renderOutput(dataTable, element);\n",
              "          const docLink = document.createElement('div');\n",
              "          docLink.innerHTML = docLinkHtml;\n",
              "          element.appendChild(docLink);\n",
              "        }\n",
              "      </script>\n",
              "    </div>\n",
              "  </div>\n",
              "  "
            ]
          },
          "metadata": {},
          "execution_count": 96
        }
      ]
    },
    {
      "cell_type": "markdown",
      "source": [
        "**Cosine Similarity**\n",
        "\n",
        "We will use cosine similarity with respect to kNN. kNN helps us to compute the distance between two points (consider books as a point here). So, we can use cosine to find the angle of line between two distance. Cosine similarity gives us the similarity score between two points(books in this case)."
      ],
      "metadata": {
        "id": "3gwBXe867SCA"
      }
    },
    {
      "cell_type": "markdown",
      "source": [
        "We will convert dataframe into array."
      ],
      "metadata": {
        "id": "0FWcZnRC78Q4"
      }
    },
    {
      "cell_type": "code",
      "source": [
        "from scipy.sparse import csr_matrix\n",
        "\n",
        "usa_canada_users_df = usa_canada_users_df.drop_duplicates(['User-ID', 'Book-Title'])\n",
        "usa_canada_users_pivot = usa_canada_users_df.pivot(index = 'Book-Title', columns = 'User-ID', values = 'Book-Rating').fillna(0)"
      ],
      "metadata": {
        "id": "mnOY0CUU6tua"
      },
      "execution_count": null,
      "outputs": []
    },
    {
      "cell_type": "code",
      "source": [
        "usa_canada_users_pivot"
      ],
      "metadata": {
        "colab": {
          "base_uri": "https://localhost:8080/",
          "height": 516
        },
        "id": "EoWbQ_Wd9CM7",
        "outputId": "3dcf1ef3-86dc-4318-a860-744ac4690251"
      },
      "execution_count": null,
      "outputs": [
        {
          "output_type": "execute_result",
          "data": {
            "text/plain": [
              "User-ID                                             243     254     507     \\\n",
              "Book-Title                                                                   \n",
              "1984                                                   0.0     9.0     0.0   \n",
              "1st to Die: A Novel                                    0.0     0.0     0.0   \n",
              "2010: Odyssey Two                                      0.0     0.0     0.0   \n",
              "204 Rosewood Lane                                      0.0     0.0     0.0   \n",
              "2nd Chance                                             0.0     0.0     0.0   \n",
              "...                                                    ...     ...     ...   \n",
              "Year of Wonders                                        0.0     0.0     0.0   \n",
              "You Belong To Me                                       0.0     0.0     0.0   \n",
              "Zen and the Art of Motorcycle Maintenance: An I...     0.0     0.0     0.0   \n",
              "Zoya                                                   0.0     0.0     0.0   \n",
              "\\O\\\" Is for Outlaw\"                                    0.0     0.0     0.0   \n",
              "\n",
              "User-ID                                             638     741     882     \\\n",
              "Book-Title                                                                   \n",
              "1984                                                   0.0     0.0     0.0   \n",
              "1st to Die: A Novel                                    0.0     0.0     0.0   \n",
              "2010: Odyssey Two                                      0.0     0.0     0.0   \n",
              "204 Rosewood Lane                                      0.0     0.0     0.0   \n",
              "2nd Chance                                             9.0     0.0     0.0   \n",
              "...                                                    ...     ...     ...   \n",
              "Year of Wonders                                        0.0     0.0     0.0   \n",
              "You Belong To Me                                       0.0     0.0     0.0   \n",
              "Zen and the Art of Motorcycle Maintenance: An I...     0.0     0.0     0.0   \n",
              "Zoya                                                   0.0     0.0     0.0   \n",
              "\\O\\\" Is for Outlaw\"                                    0.0     0.0     0.0   \n",
              "\n",
              "User-ID                                             1435    1674    1733    \\\n",
              "Book-Title                                                                   \n",
              "1984                                                   0.0     0.0     0.0   \n",
              "1st to Die: A Novel                                    0.0     0.0     0.0   \n",
              "2010: Odyssey Two                                      0.0     0.0     0.0   \n",
              "204 Rosewood Lane                                      0.0     0.0     0.0   \n",
              "2nd Chance                                             0.0     0.0     0.0   \n",
              "...                                                    ...     ...     ...   \n",
              "Year of Wonders                                        0.0     0.0     0.0   \n",
              "You Belong To Me                                       0.0     0.0     0.0   \n",
              "Zen and the Art of Motorcycle Maintenance: An I...     0.0     0.0     0.0   \n",
              "Zoya                                                   0.0     0.0     0.0   \n",
              "\\O\\\" Is for Outlaw\"                                    0.0     0.0     0.0   \n",
              "\n",
              "User-ID                                             1848    ...  277928  \\\n",
              "Book-Title                                                  ...           \n",
              "1984                                                   0.0  ...     0.0   \n",
              "1st to Die: A Novel                                    0.0  ...     0.0   \n",
              "2010: Odyssey Two                                      0.0  ...     0.0   \n",
              "204 Rosewood Lane                                      0.0  ...     0.0   \n",
              "2nd Chance                                             0.0  ...     0.0   \n",
              "...                                                    ...  ...     ...   \n",
              "Year of Wonders                                        0.0  ...     0.0   \n",
              "You Belong To Me                                       0.0  ...     0.0   \n",
              "Zen and the Art of Motorcycle Maintenance: An I...     0.0  ...     0.0   \n",
              "Zoya                                                   0.0  ...     0.0   \n",
              "\\O\\\" Is for Outlaw\"                                    0.0  ...     0.0   \n",
              "\n",
              "User-ID                                             277965  278026  278137  \\\n",
              "Book-Title                                                                   \n",
              "1984                                                   0.0     0.0     0.0   \n",
              "1st to Die: A Novel                                    0.0     0.0     0.0   \n",
              "2010: Odyssey Two                                      0.0     0.0     0.0   \n",
              "204 Rosewood Lane                                      0.0     0.0     0.0   \n",
              "2nd Chance                                             0.0     0.0     0.0   \n",
              "...                                                    ...     ...     ...   \n",
              "Year of Wonders                                        0.0     0.0     0.0   \n",
              "You Belong To Me                                       0.0     0.0     0.0   \n",
              "Zen and the Art of Motorcycle Maintenance: An I...     0.0     0.0     0.0   \n",
              "Zoya                                                   0.0     0.0     0.0   \n",
              "\\O\\\" Is for Outlaw\"                                    0.0     0.0     0.0   \n",
              "\n",
              "User-ID                                             278144  278188  278418  \\\n",
              "Book-Title                                                                   \n",
              "1984                                                   0.0     0.0     0.0   \n",
              "1st to Die: A Novel                                    0.0     0.0     0.0   \n",
              "2010: Odyssey Two                                      0.0     0.0     0.0   \n",
              "204 Rosewood Lane                                      0.0     0.0     0.0   \n",
              "2nd Chance                                             0.0     0.0     0.0   \n",
              "...                                                    ...     ...     ...   \n",
              "Year of Wonders                                        0.0     0.0     0.0   \n",
              "You Belong To Me                                       0.0     0.0     0.0   \n",
              "Zen and the Art of Motorcycle Maintenance: An I...     0.0     0.0     0.0   \n",
              "Zoya                                                   0.0     0.0     0.0   \n",
              "\\O\\\" Is for Outlaw\"                                    0.0     0.0     0.0   \n",
              "\n",
              "User-ID                                             278582  278633  278843  \n",
              "Book-Title                                                                  \n",
              "1984                                                   0.0     0.0     0.0  \n",
              "1st to Die: A Novel                                    0.0     0.0     0.0  \n",
              "2010: Odyssey Two                                      0.0     0.0     0.0  \n",
              "204 Rosewood Lane                                      0.0     0.0     0.0  \n",
              "2nd Chance                                             0.0     0.0     0.0  \n",
              "...                                                    ...     ...     ...  \n",
              "Year of Wonders                                        0.0     0.0     0.0  \n",
              "You Belong To Me                                       0.0     0.0     0.0  \n",
              "Zen and the Art of Motorcycle Maintenance: An I...     0.0     0.0     0.0  \n",
              "Zoya                                                   0.0     0.0     0.0  \n",
              "\\O\\\" Is for Outlaw\"                                    0.0     0.0     0.0  \n",
              "\n",
              "[1031 rows x 2409 columns]"
            ],
            "text/html": [
              "\n",
              "  <div id=\"df-0d166cc2-de2c-4988-90a9-ab4617c7a35d\">\n",
              "    <div class=\"colab-df-container\">\n",
              "      <div>\n",
              "<style scoped>\n",
              "    .dataframe tbody tr th:only-of-type {\n",
              "        vertical-align: middle;\n",
              "    }\n",
              "\n",
              "    .dataframe tbody tr th {\n",
              "        vertical-align: top;\n",
              "    }\n",
              "\n",
              "    .dataframe thead th {\n",
              "        text-align: right;\n",
              "    }\n",
              "</style>\n",
              "<table border=\"1\" class=\"dataframe\">\n",
              "  <thead>\n",
              "    <tr style=\"text-align: right;\">\n",
              "      <th>User-ID</th>\n",
              "      <th>243</th>\n",
              "      <th>254</th>\n",
              "      <th>507</th>\n",
              "      <th>638</th>\n",
              "      <th>741</th>\n",
              "      <th>882</th>\n",
              "      <th>1435</th>\n",
              "      <th>1674</th>\n",
              "      <th>1733</th>\n",
              "      <th>1848</th>\n",
              "      <th>...</th>\n",
              "      <th>277928</th>\n",
              "      <th>277965</th>\n",
              "      <th>278026</th>\n",
              "      <th>278137</th>\n",
              "      <th>278144</th>\n",
              "      <th>278188</th>\n",
              "      <th>278418</th>\n",
              "      <th>278582</th>\n",
              "      <th>278633</th>\n",
              "      <th>278843</th>\n",
              "    </tr>\n",
              "    <tr>\n",
              "      <th>Book-Title</th>\n",
              "      <th></th>\n",
              "      <th></th>\n",
              "      <th></th>\n",
              "      <th></th>\n",
              "      <th></th>\n",
              "      <th></th>\n",
              "      <th></th>\n",
              "      <th></th>\n",
              "      <th></th>\n",
              "      <th></th>\n",
              "      <th></th>\n",
              "      <th></th>\n",
              "      <th></th>\n",
              "      <th></th>\n",
              "      <th></th>\n",
              "      <th></th>\n",
              "      <th></th>\n",
              "      <th></th>\n",
              "      <th></th>\n",
              "      <th></th>\n",
              "      <th></th>\n",
              "    </tr>\n",
              "  </thead>\n",
              "  <tbody>\n",
              "    <tr>\n",
              "      <th>1984</th>\n",
              "      <td>0.0</td>\n",
              "      <td>9.0</td>\n",
              "      <td>0.0</td>\n",
              "      <td>0.0</td>\n",
              "      <td>0.0</td>\n",
              "      <td>0.0</td>\n",
              "      <td>0.0</td>\n",
              "      <td>0.0</td>\n",
              "      <td>0.0</td>\n",
              "      <td>0.0</td>\n",
              "      <td>...</td>\n",
              "      <td>0.0</td>\n",
              "      <td>0.0</td>\n",
              "      <td>0.0</td>\n",
              "      <td>0.0</td>\n",
              "      <td>0.0</td>\n",
              "      <td>0.0</td>\n",
              "      <td>0.0</td>\n",
              "      <td>0.0</td>\n",
              "      <td>0.0</td>\n",
              "      <td>0.0</td>\n",
              "    </tr>\n",
              "    <tr>\n",
              "      <th>1st to Die: A Novel</th>\n",
              "      <td>0.0</td>\n",
              "      <td>0.0</td>\n",
              "      <td>0.0</td>\n",
              "      <td>0.0</td>\n",
              "      <td>0.0</td>\n",
              "      <td>0.0</td>\n",
              "      <td>0.0</td>\n",
              "      <td>0.0</td>\n",
              "      <td>0.0</td>\n",
              "      <td>0.0</td>\n",
              "      <td>...</td>\n",
              "      <td>0.0</td>\n",
              "      <td>0.0</td>\n",
              "      <td>0.0</td>\n",
              "      <td>0.0</td>\n",
              "      <td>0.0</td>\n",
              "      <td>0.0</td>\n",
              "      <td>0.0</td>\n",
              "      <td>0.0</td>\n",
              "      <td>0.0</td>\n",
              "      <td>0.0</td>\n",
              "    </tr>\n",
              "    <tr>\n",
              "      <th>2010: Odyssey Two</th>\n",
              "      <td>0.0</td>\n",
              "      <td>0.0</td>\n",
              "      <td>0.0</td>\n",
              "      <td>0.0</td>\n",
              "      <td>0.0</td>\n",
              "      <td>0.0</td>\n",
              "      <td>0.0</td>\n",
              "      <td>0.0</td>\n",
              "      <td>0.0</td>\n",
              "      <td>0.0</td>\n",
              "      <td>...</td>\n",
              "      <td>0.0</td>\n",
              "      <td>0.0</td>\n",
              "      <td>0.0</td>\n",
              "      <td>0.0</td>\n",
              "      <td>0.0</td>\n",
              "      <td>0.0</td>\n",
              "      <td>0.0</td>\n",
              "      <td>0.0</td>\n",
              "      <td>0.0</td>\n",
              "      <td>0.0</td>\n",
              "    </tr>\n",
              "    <tr>\n",
              "      <th>204 Rosewood Lane</th>\n",
              "      <td>0.0</td>\n",
              "      <td>0.0</td>\n",
              "      <td>0.0</td>\n",
              "      <td>0.0</td>\n",
              "      <td>0.0</td>\n",
              "      <td>0.0</td>\n",
              "      <td>0.0</td>\n",
              "      <td>0.0</td>\n",
              "      <td>0.0</td>\n",
              "      <td>0.0</td>\n",
              "      <td>...</td>\n",
              "      <td>0.0</td>\n",
              "      <td>0.0</td>\n",
              "      <td>0.0</td>\n",
              "      <td>0.0</td>\n",
              "      <td>0.0</td>\n",
              "      <td>0.0</td>\n",
              "      <td>0.0</td>\n",
              "      <td>0.0</td>\n",
              "      <td>0.0</td>\n",
              "      <td>0.0</td>\n",
              "    </tr>\n",
              "    <tr>\n",
              "      <th>2nd Chance</th>\n",
              "      <td>0.0</td>\n",
              "      <td>0.0</td>\n",
              "      <td>0.0</td>\n",
              "      <td>9.0</td>\n",
              "      <td>0.0</td>\n",
              "      <td>0.0</td>\n",
              "      <td>0.0</td>\n",
              "      <td>0.0</td>\n",
              "      <td>0.0</td>\n",
              "      <td>0.0</td>\n",
              "      <td>...</td>\n",
              "      <td>0.0</td>\n",
              "      <td>0.0</td>\n",
              "      <td>0.0</td>\n",
              "      <td>0.0</td>\n",
              "      <td>0.0</td>\n",
              "      <td>0.0</td>\n",
              "      <td>0.0</td>\n",
              "      <td>0.0</td>\n",
              "      <td>0.0</td>\n",
              "      <td>0.0</td>\n",
              "    </tr>\n",
              "    <tr>\n",
              "      <th>...</th>\n",
              "      <td>...</td>\n",
              "      <td>...</td>\n",
              "      <td>...</td>\n",
              "      <td>...</td>\n",
              "      <td>...</td>\n",
              "      <td>...</td>\n",
              "      <td>...</td>\n",
              "      <td>...</td>\n",
              "      <td>...</td>\n",
              "      <td>...</td>\n",
              "      <td>...</td>\n",
              "      <td>...</td>\n",
              "      <td>...</td>\n",
              "      <td>...</td>\n",
              "      <td>...</td>\n",
              "      <td>...</td>\n",
              "      <td>...</td>\n",
              "      <td>...</td>\n",
              "      <td>...</td>\n",
              "      <td>...</td>\n",
              "      <td>...</td>\n",
              "    </tr>\n",
              "    <tr>\n",
              "      <th>Year of Wonders</th>\n",
              "      <td>0.0</td>\n",
              "      <td>0.0</td>\n",
              "      <td>0.0</td>\n",
              "      <td>0.0</td>\n",
              "      <td>0.0</td>\n",
              "      <td>0.0</td>\n",
              "      <td>0.0</td>\n",
              "      <td>0.0</td>\n",
              "      <td>0.0</td>\n",
              "      <td>0.0</td>\n",
              "      <td>...</td>\n",
              "      <td>0.0</td>\n",
              "      <td>0.0</td>\n",
              "      <td>0.0</td>\n",
              "      <td>0.0</td>\n",
              "      <td>0.0</td>\n",
              "      <td>0.0</td>\n",
              "      <td>0.0</td>\n",
              "      <td>0.0</td>\n",
              "      <td>0.0</td>\n",
              "      <td>0.0</td>\n",
              "    </tr>\n",
              "    <tr>\n",
              "      <th>You Belong To Me</th>\n",
              "      <td>0.0</td>\n",
              "      <td>0.0</td>\n",
              "      <td>0.0</td>\n",
              "      <td>0.0</td>\n",
              "      <td>0.0</td>\n",
              "      <td>0.0</td>\n",
              "      <td>0.0</td>\n",
              "      <td>0.0</td>\n",
              "      <td>0.0</td>\n",
              "      <td>0.0</td>\n",
              "      <td>...</td>\n",
              "      <td>0.0</td>\n",
              "      <td>0.0</td>\n",
              "      <td>0.0</td>\n",
              "      <td>0.0</td>\n",
              "      <td>0.0</td>\n",
              "      <td>0.0</td>\n",
              "      <td>0.0</td>\n",
              "      <td>0.0</td>\n",
              "      <td>0.0</td>\n",
              "      <td>0.0</td>\n",
              "    </tr>\n",
              "    <tr>\n",
              "      <th>Zen and the Art of Motorcycle Maintenance: An Inquiry into Values</th>\n",
              "      <td>0.0</td>\n",
              "      <td>0.0</td>\n",
              "      <td>0.0</td>\n",
              "      <td>0.0</td>\n",
              "      <td>0.0</td>\n",
              "      <td>0.0</td>\n",
              "      <td>0.0</td>\n",
              "      <td>0.0</td>\n",
              "      <td>0.0</td>\n",
              "      <td>0.0</td>\n",
              "      <td>...</td>\n",
              "      <td>0.0</td>\n",
              "      <td>0.0</td>\n",
              "      <td>0.0</td>\n",
              "      <td>0.0</td>\n",
              "      <td>0.0</td>\n",
              "      <td>0.0</td>\n",
              "      <td>0.0</td>\n",
              "      <td>0.0</td>\n",
              "      <td>0.0</td>\n",
              "      <td>0.0</td>\n",
              "    </tr>\n",
              "    <tr>\n",
              "      <th>Zoya</th>\n",
              "      <td>0.0</td>\n",
              "      <td>0.0</td>\n",
              "      <td>0.0</td>\n",
              "      <td>0.0</td>\n",
              "      <td>0.0</td>\n",
              "      <td>0.0</td>\n",
              "      <td>0.0</td>\n",
              "      <td>0.0</td>\n",
              "      <td>0.0</td>\n",
              "      <td>0.0</td>\n",
              "      <td>...</td>\n",
              "      <td>0.0</td>\n",
              "      <td>0.0</td>\n",
              "      <td>0.0</td>\n",
              "      <td>0.0</td>\n",
              "      <td>0.0</td>\n",
              "      <td>0.0</td>\n",
              "      <td>0.0</td>\n",
              "      <td>0.0</td>\n",
              "      <td>0.0</td>\n",
              "      <td>0.0</td>\n",
              "    </tr>\n",
              "    <tr>\n",
              "      <th>\\O\\\" Is for Outlaw\"</th>\n",
              "      <td>0.0</td>\n",
              "      <td>0.0</td>\n",
              "      <td>0.0</td>\n",
              "      <td>0.0</td>\n",
              "      <td>0.0</td>\n",
              "      <td>0.0</td>\n",
              "      <td>0.0</td>\n",
              "      <td>0.0</td>\n",
              "      <td>0.0</td>\n",
              "      <td>0.0</td>\n",
              "      <td>...</td>\n",
              "      <td>0.0</td>\n",
              "      <td>0.0</td>\n",
              "      <td>0.0</td>\n",
              "      <td>0.0</td>\n",
              "      <td>0.0</td>\n",
              "      <td>0.0</td>\n",
              "      <td>0.0</td>\n",
              "      <td>0.0</td>\n",
              "      <td>0.0</td>\n",
              "      <td>0.0</td>\n",
              "    </tr>\n",
              "  </tbody>\n",
              "</table>\n",
              "<p>1031 rows × 2409 columns</p>\n",
              "</div>\n",
              "      <button class=\"colab-df-convert\" onclick=\"convertToInteractive('df-0d166cc2-de2c-4988-90a9-ab4617c7a35d')\"\n",
              "              title=\"Convert this dataframe to an interactive table.\"\n",
              "              style=\"display:none;\">\n",
              "        \n",
              "  <svg xmlns=\"http://www.w3.org/2000/svg\" height=\"24px\"viewBox=\"0 0 24 24\"\n",
              "       width=\"24px\">\n",
              "    <path d=\"M0 0h24v24H0V0z\" fill=\"none\"/>\n",
              "    <path d=\"M18.56 5.44l.94 2.06.94-2.06 2.06-.94-2.06-.94-.94-2.06-.94 2.06-2.06.94zm-11 1L8.5 8.5l.94-2.06 2.06-.94-2.06-.94L8.5 2.5l-.94 2.06-2.06.94zm10 10l.94 2.06.94-2.06 2.06-.94-2.06-.94-.94-2.06-.94 2.06-2.06.94z\"/><path d=\"M17.41 7.96l-1.37-1.37c-.4-.4-.92-.59-1.43-.59-.52 0-1.04.2-1.43.59L10.3 9.45l-7.72 7.72c-.78.78-.78 2.05 0 2.83L4 21.41c.39.39.9.59 1.41.59.51 0 1.02-.2 1.41-.59l7.78-7.78 2.81-2.81c.8-.78.8-2.07 0-2.86zM5.41 20L4 18.59l7.72-7.72 1.47 1.35L5.41 20z\"/>\n",
              "  </svg>\n",
              "      </button>\n",
              "      \n",
              "  <style>\n",
              "    .colab-df-container {\n",
              "      display:flex;\n",
              "      flex-wrap:wrap;\n",
              "      gap: 12px;\n",
              "    }\n",
              "\n",
              "    .colab-df-convert {\n",
              "      background-color: #E8F0FE;\n",
              "      border: none;\n",
              "      border-radius: 50%;\n",
              "      cursor: pointer;\n",
              "      display: none;\n",
              "      fill: #1967D2;\n",
              "      height: 32px;\n",
              "      padding: 0 0 0 0;\n",
              "      width: 32px;\n",
              "    }\n",
              "\n",
              "    .colab-df-convert:hover {\n",
              "      background-color: #E2EBFA;\n",
              "      box-shadow: 0px 1px 2px rgba(60, 64, 67, 0.3), 0px 1px 3px 1px rgba(60, 64, 67, 0.15);\n",
              "      fill: #174EA6;\n",
              "    }\n",
              "\n",
              "    [theme=dark] .colab-df-convert {\n",
              "      background-color: #3B4455;\n",
              "      fill: #D2E3FC;\n",
              "    }\n",
              "\n",
              "    [theme=dark] .colab-df-convert:hover {\n",
              "      background-color: #434B5C;\n",
              "      box-shadow: 0px 1px 3px 1px rgba(0, 0, 0, 0.15);\n",
              "      filter: drop-shadow(0px 1px 2px rgba(0, 0, 0, 0.3));\n",
              "      fill: #FFFFFF;\n",
              "    }\n",
              "  </style>\n",
              "\n",
              "      <script>\n",
              "        const buttonEl =\n",
              "          document.querySelector('#df-0d166cc2-de2c-4988-90a9-ab4617c7a35d button.colab-df-convert');\n",
              "        buttonEl.style.display =\n",
              "          google.colab.kernel.accessAllowed ? 'block' : 'none';\n",
              "\n",
              "        async function convertToInteractive(key) {\n",
              "          const element = document.querySelector('#df-0d166cc2-de2c-4988-90a9-ab4617c7a35d');\n",
              "          const dataTable =\n",
              "            await google.colab.kernel.invokeFunction('convertToInteractive',\n",
              "                                                     [key], {});\n",
              "          if (!dataTable) return;\n",
              "\n",
              "          const docLinkHtml = 'Like what you see? Visit the ' +\n",
              "            '<a target=\"_blank\" href=https://colab.research.google.com/notebooks/data_table.ipynb>data table notebook</a>'\n",
              "            + ' to learn more about interactive tables.';\n",
              "          element.innerHTML = '';\n",
              "          dataTable['output_type'] = 'display_data';\n",
              "          await google.colab.output.renderOutput(dataTable, element);\n",
              "          const docLink = document.createElement('div');\n",
              "          docLink.innerHTML = docLinkHtml;\n",
              "          element.appendChild(docLink);\n",
              "        }\n",
              "      </script>\n",
              "    </div>\n",
              "  </div>\n",
              "  "
            ]
          },
          "metadata": {},
          "execution_count": 98
        }
      ]
    },
    {
      "cell_type": "code",
      "source": [
        "usa_canada_users_matrix = csr_matrix(usa_canada_users_pivot.values)"
      ],
      "metadata": {
        "id": "UeACXuXz9RAW"
      },
      "execution_count": null,
      "outputs": []
    },
    {
      "cell_type": "code",
      "source": [
        "usa_canada_users_matrix"
      ],
      "metadata": {
        "colab": {
          "base_uri": "https://localhost:8080/"
        },
        "id": "KExaH6b39cb5",
        "outputId": "892379c4-d39e-41af-80a9-df296c315fa2"
      },
      "execution_count": null,
      "outputs": [
        {
          "output_type": "execute_result",
          "data": {
            "text/plain": [
              "<1031x2409 sparse matrix of type '<class 'numpy.float64'>'\n",
              "\twith 26736 stored elements in Compressed Sparse Row format>"
            ]
          },
          "metadata": {},
          "execution_count": 100
        }
      ]
    },
    {
      "cell_type": "markdown",
      "source": [
        "Finding Nearest Neighbors"
      ],
      "metadata": {
        "id": "SDIsL-ea9i1G"
      }
    },
    {
      "cell_type": "code",
      "source": [
        "from sklearn.neighbors import NearestNeighbors\n",
        "\n",
        "model_knn = NearestNeighbors(metric = 'cosine', algorithm = 'brute')\n",
        "model_knn.fit(usa_canada_users_matrix)"
      ],
      "metadata": {
        "colab": {
          "base_uri": "https://localhost:8080/"
        },
        "id": "wt62zg0_9ejt",
        "outputId": "0485a27e-7edd-4f77-bf31-c208c55c2b3b"
      },
      "execution_count": null,
      "outputs": [
        {
          "output_type": "execute_result",
          "data": {
            "text/plain": [
              "NearestNeighbors(algorithm='brute', metric='cosine')"
            ]
          },
          "metadata": {},
          "execution_count": 101
        }
      ]
    },
    {
      "cell_type": "markdown",
      "source": [
        "Selecting the one movie to test. Taking the whole row in pivot and finding out nearest neighbors using *model_knn.kneighbors*."
      ],
      "metadata": {
        "id": "2fvLnv5v-tv7"
      }
    },
    {
      "cell_type": "code",
      "source": [
        "query_index = np.random.choice(usa_canada_users_pivot.shape[0])\n",
        "print(query_index)\n",
        "distances, indices = model_knn.kneighbors(usa_canada_users_pivot.iloc[query_index, :].values.reshape(1, -1), n_neighbors = 5)"
      ],
      "metadata": {
        "colab": {
          "base_uri": "https://localhost:8080/"
        },
        "id": "4O4V1BxP-lmP",
        "outputId": "d22919a7-3d8f-4aba-dae3-53b01f2e0bef"
      },
      "execution_count": null,
      "outputs": [
        {
          "output_type": "stream",
          "name": "stdout",
          "text": [
            "0\n"
          ]
        }
      ]
    },
    {
      "cell_type": "markdown",
      "source": [
        "Checking the values of movie selected by query_index."
      ],
      "metadata": {
        "id": "KG0k7z0mBV_r"
      }
    },
    {
      "cell_type": "code",
      "source": [
        "usa_canada_users_pivot.iloc[query_index, :].values.reshape(1, -1)"
      ],
      "metadata": {
        "colab": {
          "base_uri": "https://localhost:8080/"
        },
        "id": "zuv072Z7912s",
        "outputId": "64138ed4-9313-48e9-abb5-338105c3eed9"
      },
      "execution_count": null,
      "outputs": [
        {
          "output_type": "execute_result",
          "data": {
            "text/plain": [
              "array([[0., 9., 0., ..., 0., 0., 0.]])"
            ]
          },
          "metadata": {},
          "execution_count": 103
        }
      ]
    },
    {
      "cell_type": "markdown",
      "source": [
        "Checking the name of movie."
      ],
      "metadata": {
        "id": "t8zv5dEFBcN2"
      }
    },
    {
      "cell_type": "code",
      "source": [
        "usa_canada_users_pivot.index[query_index]"
      ],
      "metadata": {
        "colab": {
          "base_uri": "https://localhost:8080/",
          "height": 35
        },
        "id": "Us2KqtqB_eq7",
        "outputId": "b6216eb5-687e-49cc-eff7-f549c33c4d2c"
      },
      "execution_count": null,
      "outputs": [
        {
          "output_type": "execute_result",
          "data": {
            "text/plain": [
              "'1984'"
            ],
            "application/vnd.google.colaboratory.intrinsic+json": {
              "type": "string"
            }
          },
          "metadata": {},
          "execution_count": 104
        }
      ]
    },
    {
      "cell_type": "markdown",
      "source": [
        "Top 5 movies recommended based on similarity."
      ],
      "metadata": {
        "id": "8UQOcACgBeeh"
      }
    },
    {
      "cell_type": "code",
      "source": [
        "for i in range(0, len(distances.flatten())):\n",
        "    if i == 0:\n",
        "        print(f\"Recommendation for {usa_canada_users_pivot.index[query_index]}\")\n",
        "    else:\n",
        "        print(f\"{i}) {usa_canada_users_pivot.index[indices.flatten()[i]]} , with similarity of {round((1 - distances.flatten()[i]) * 100, 2)} %\" )"
      ],
      "metadata": {
        "colab": {
          "base_uri": "https://localhost:8080/"
        },
        "id": "Q0Il0Nfw_s2h",
        "outputId": "8b9b762b-7c32-420c-b667-4d4e10fab89f"
      },
      "execution_count": null,
      "outputs": [
        {
          "output_type": "stream",
          "name": "stdout",
          "text": [
            "Recommendation for 1984\n",
            "1) Animal Farm , with similarity of 23.4 %\n",
            "2) American Psycho (Vintage Contemporaries) , with similarity of 19.38 %\n",
            "3) The Hitchhiker's Guide to the Galaxy , with similarity of 18.66 %\n",
            "4) Brave New World , with similarity of 18.18 %\n"
          ]
        }
      ]
    },
    {
      "cell_type": "code",
      "source": [
        "usa_canada_users_df"
      ],
      "metadata": {
        "id": "2QHMY3x_Au59",
        "colab": {
          "base_uri": "https://localhost:8080/",
          "height": 423
        },
        "outputId": "e6a38fc2-390d-40ce-94b1-f0c5f9d73100"
      },
      "execution_count": null,
      "outputs": [
        {
          "output_type": "execute_result",
          "data": {
            "text/plain": [
              "        User-ID        ISBN  Book-Rating  \\\n",
              "1        278418  0446364193            0   \n",
              "3          7346  0446364193            0   \n",
              "4          8362  0446364193            0   \n",
              "6         11400  0446364193            0   \n",
              "8         14521  0446364193            0   \n",
              "...         ...         ...          ...   \n",
              "105652   225087  0743406184            0   \n",
              "105653   231210  0743406184            0   \n",
              "105655   238781  0743406184           10   \n",
              "105658   274308  0743406184            0   \n",
              "105660   275970  0743406184            0   \n",
              "\n",
              "                                     Book-Title  Total Rating Count  \\\n",
              "1       Along Came a Spider (Alex Cross Novels)                 193   \n",
              "3       Along Came a Spider (Alex Cross Novels)                 193   \n",
              "4       Along Came a Spider (Alex Cross Novels)                 193   \n",
              "6       Along Came a Spider (Alex Cross Novels)                 193   \n",
              "8       Along Came a Spider (Alex Cross Novels)                 193   \n",
              "...                                         ...                 ...   \n",
              "105652                     If Only It Were True                  67   \n",
              "105653                     If Only It Were True                  67   \n",
              "105655                     If Only It Were True                  67   \n",
              "105658                     If Only It Were True                  67   \n",
              "105660                     If Only It Were True                  67   \n",
              "\n",
              "                             Location  \n",
              "1                omaha, nebraska, usa  \n",
              "3          sunnyvale, california, usa  \n",
              "4        los angeles, california, usa  \n",
              "6             ottawa, ontario, canada  \n",
              "8       providence, rhode island, usa  \n",
              "...                               ...  \n",
              "105652       toronto, ontario, canada  \n",
              "105653         roanoke, virginia, usa  \n",
              "105655  yucca valley, california, usa  \n",
              "105658     delray beach, florida, usa  \n",
              "105660  pittsburgh, pennsylvania, usa  \n",
              "\n",
              "[92195 rows x 6 columns]"
            ],
            "text/html": [
              "\n",
              "  <div id=\"df-55ab9327-6ebf-4dbe-be23-4e52bfb19097\">\n",
              "    <div class=\"colab-df-container\">\n",
              "      <div>\n",
              "<style scoped>\n",
              "    .dataframe tbody tr th:only-of-type {\n",
              "        vertical-align: middle;\n",
              "    }\n",
              "\n",
              "    .dataframe tbody tr th {\n",
              "        vertical-align: top;\n",
              "    }\n",
              "\n",
              "    .dataframe thead th {\n",
              "        text-align: right;\n",
              "    }\n",
              "</style>\n",
              "<table border=\"1\" class=\"dataframe\">\n",
              "  <thead>\n",
              "    <tr style=\"text-align: right;\">\n",
              "      <th></th>\n",
              "      <th>User-ID</th>\n",
              "      <th>ISBN</th>\n",
              "      <th>Book-Rating</th>\n",
              "      <th>Book-Title</th>\n",
              "      <th>Total Rating Count</th>\n",
              "      <th>Location</th>\n",
              "    </tr>\n",
              "  </thead>\n",
              "  <tbody>\n",
              "    <tr>\n",
              "      <th>1</th>\n",
              "      <td>278418</td>\n",
              "      <td>0446364193</td>\n",
              "      <td>0</td>\n",
              "      <td>Along Came a Spider (Alex Cross Novels)</td>\n",
              "      <td>193</td>\n",
              "      <td>omaha, nebraska, usa</td>\n",
              "    </tr>\n",
              "    <tr>\n",
              "      <th>3</th>\n",
              "      <td>7346</td>\n",
              "      <td>0446364193</td>\n",
              "      <td>0</td>\n",
              "      <td>Along Came a Spider (Alex Cross Novels)</td>\n",
              "      <td>193</td>\n",
              "      <td>sunnyvale, california, usa</td>\n",
              "    </tr>\n",
              "    <tr>\n",
              "      <th>4</th>\n",
              "      <td>8362</td>\n",
              "      <td>0446364193</td>\n",
              "      <td>0</td>\n",
              "      <td>Along Came a Spider (Alex Cross Novels)</td>\n",
              "      <td>193</td>\n",
              "      <td>los angeles, california, usa</td>\n",
              "    </tr>\n",
              "    <tr>\n",
              "      <th>6</th>\n",
              "      <td>11400</td>\n",
              "      <td>0446364193</td>\n",
              "      <td>0</td>\n",
              "      <td>Along Came a Spider (Alex Cross Novels)</td>\n",
              "      <td>193</td>\n",
              "      <td>ottawa, ontario, canada</td>\n",
              "    </tr>\n",
              "    <tr>\n",
              "      <th>8</th>\n",
              "      <td>14521</td>\n",
              "      <td>0446364193</td>\n",
              "      <td>0</td>\n",
              "      <td>Along Came a Spider (Alex Cross Novels)</td>\n",
              "      <td>193</td>\n",
              "      <td>providence, rhode island, usa</td>\n",
              "    </tr>\n",
              "    <tr>\n",
              "      <th>...</th>\n",
              "      <td>...</td>\n",
              "      <td>...</td>\n",
              "      <td>...</td>\n",
              "      <td>...</td>\n",
              "      <td>...</td>\n",
              "      <td>...</td>\n",
              "    </tr>\n",
              "    <tr>\n",
              "      <th>105652</th>\n",
              "      <td>225087</td>\n",
              "      <td>0743406184</td>\n",
              "      <td>0</td>\n",
              "      <td>If Only It Were True</td>\n",
              "      <td>67</td>\n",
              "      <td>toronto, ontario, canada</td>\n",
              "    </tr>\n",
              "    <tr>\n",
              "      <th>105653</th>\n",
              "      <td>231210</td>\n",
              "      <td>0743406184</td>\n",
              "      <td>0</td>\n",
              "      <td>If Only It Were True</td>\n",
              "      <td>67</td>\n",
              "      <td>roanoke, virginia, usa</td>\n",
              "    </tr>\n",
              "    <tr>\n",
              "      <th>105655</th>\n",
              "      <td>238781</td>\n",
              "      <td>0743406184</td>\n",
              "      <td>10</td>\n",
              "      <td>If Only It Were True</td>\n",
              "      <td>67</td>\n",
              "      <td>yucca valley, california, usa</td>\n",
              "    </tr>\n",
              "    <tr>\n",
              "      <th>105658</th>\n",
              "      <td>274308</td>\n",
              "      <td>0743406184</td>\n",
              "      <td>0</td>\n",
              "      <td>If Only It Were True</td>\n",
              "      <td>67</td>\n",
              "      <td>delray beach, florida, usa</td>\n",
              "    </tr>\n",
              "    <tr>\n",
              "      <th>105660</th>\n",
              "      <td>275970</td>\n",
              "      <td>0743406184</td>\n",
              "      <td>0</td>\n",
              "      <td>If Only It Were True</td>\n",
              "      <td>67</td>\n",
              "      <td>pittsburgh, pennsylvania, usa</td>\n",
              "    </tr>\n",
              "  </tbody>\n",
              "</table>\n",
              "<p>92195 rows × 6 columns</p>\n",
              "</div>\n",
              "      <button class=\"colab-df-convert\" onclick=\"convertToInteractive('df-55ab9327-6ebf-4dbe-be23-4e52bfb19097')\"\n",
              "              title=\"Convert this dataframe to an interactive table.\"\n",
              "              style=\"display:none;\">\n",
              "        \n",
              "  <svg xmlns=\"http://www.w3.org/2000/svg\" height=\"24px\"viewBox=\"0 0 24 24\"\n",
              "       width=\"24px\">\n",
              "    <path d=\"M0 0h24v24H0V0z\" fill=\"none\"/>\n",
              "    <path d=\"M18.56 5.44l.94 2.06.94-2.06 2.06-.94-2.06-.94-.94-2.06-.94 2.06-2.06.94zm-11 1L8.5 8.5l.94-2.06 2.06-.94-2.06-.94L8.5 2.5l-.94 2.06-2.06.94zm10 10l.94 2.06.94-2.06 2.06-.94-2.06-.94-.94-2.06-.94 2.06-2.06.94z\"/><path d=\"M17.41 7.96l-1.37-1.37c-.4-.4-.92-.59-1.43-.59-.52 0-1.04.2-1.43.59L10.3 9.45l-7.72 7.72c-.78.78-.78 2.05 0 2.83L4 21.41c.39.39.9.59 1.41.59.51 0 1.02-.2 1.41-.59l7.78-7.78 2.81-2.81c.8-.78.8-2.07 0-2.86zM5.41 20L4 18.59l7.72-7.72 1.47 1.35L5.41 20z\"/>\n",
              "  </svg>\n",
              "      </button>\n",
              "      \n",
              "  <style>\n",
              "    .colab-df-container {\n",
              "      display:flex;\n",
              "      flex-wrap:wrap;\n",
              "      gap: 12px;\n",
              "    }\n",
              "\n",
              "    .colab-df-convert {\n",
              "      background-color: #E8F0FE;\n",
              "      border: none;\n",
              "      border-radius: 50%;\n",
              "      cursor: pointer;\n",
              "      display: none;\n",
              "      fill: #1967D2;\n",
              "      height: 32px;\n",
              "      padding: 0 0 0 0;\n",
              "      width: 32px;\n",
              "    }\n",
              "\n",
              "    .colab-df-convert:hover {\n",
              "      background-color: #E2EBFA;\n",
              "      box-shadow: 0px 1px 2px rgba(60, 64, 67, 0.3), 0px 1px 3px 1px rgba(60, 64, 67, 0.15);\n",
              "      fill: #174EA6;\n",
              "    }\n",
              "\n",
              "    [theme=dark] .colab-df-convert {\n",
              "      background-color: #3B4455;\n",
              "      fill: #D2E3FC;\n",
              "    }\n",
              "\n",
              "    [theme=dark] .colab-df-convert:hover {\n",
              "      background-color: #434B5C;\n",
              "      box-shadow: 0px 1px 3px 1px rgba(0, 0, 0, 0.15);\n",
              "      filter: drop-shadow(0px 1px 2px rgba(0, 0, 0, 0.3));\n",
              "      fill: #FFFFFF;\n",
              "    }\n",
              "  </style>\n",
              "\n",
              "      <script>\n",
              "        const buttonEl =\n",
              "          document.querySelector('#df-55ab9327-6ebf-4dbe-be23-4e52bfb19097 button.colab-df-convert');\n",
              "        buttonEl.style.display =\n",
              "          google.colab.kernel.accessAllowed ? 'block' : 'none';\n",
              "\n",
              "        async function convertToInteractive(key) {\n",
              "          const element = document.querySelector('#df-55ab9327-6ebf-4dbe-be23-4e52bfb19097');\n",
              "          const dataTable =\n",
              "            await google.colab.kernel.invokeFunction('convertToInteractive',\n",
              "                                                     [key], {});\n",
              "          if (!dataTable) return;\n",
              "\n",
              "          const docLinkHtml = 'Like what you see? Visit the ' +\n",
              "            '<a target=\"_blank\" href=https://colab.research.google.com/notebooks/data_table.ipynb>data table notebook</a>'\n",
              "            + ' to learn more about interactive tables.';\n",
              "          element.innerHTML = '';\n",
              "          dataTable['output_type'] = 'display_data';\n",
              "          await google.colab.output.renderOutput(dataTable, element);\n",
              "          const docLink = document.createElement('div');\n",
              "          docLink.innerHTML = docLinkHtml;\n",
              "          element.appendChild(docLink);\n",
              "        }\n",
              "      </script>\n",
              "    </div>\n",
              "  </div>\n",
              "  "
            ]
          },
          "metadata": {},
          "execution_count": 106
        }
      ]
    },
    {
      "cell_type": "code",
      "source": [
        "# Keeping records where ratings are not 0.\n",
        "usa_canada_users_df= usa_canada_users_df[usa_canada_users_df['Book-Rating'] != 0]"
      ],
      "metadata": {
        "id": "iUyn0OOfEtBs"
      },
      "execution_count": null,
      "outputs": []
    },
    {
      "cell_type": "markdown",
      "source": [
        "**Model Building & Training**"
      ],
      "metadata": {
        "id": "H3AT-D8TapOF"
      }
    },
    {
      "cell_type": "markdown",
      "source": [
        "Recommender systems have a problem known as user cold-start, in which it is hard to provide personalized recommendations for users with none or a very few number of consumed items, due to the lack of information to model their preferences.  \n",
        "\n",
        "For this reason, we are keeping in the dataset only users with at least 10 interactions."
      ],
      "metadata": {
        "id": "6TQLxG8mB7pC"
      }
    },
    {
      "cell_type": "code",
      "source": [
        "user_interactions_count_df = usa_canada_users_df.groupby(['ISBN', 'User-ID']).size().groupby('User-ID').size()\n",
        "print('Number of users: %d' % len(user_interactions_count_df))\n",
        "\n",
        "users_with_enough_interactions_df = user_interactions_count_df[user_interactions_count_df >= 10].reset_index()[['User-ID']]\n",
        "print('Number of users with at least 10 interactions: %d' % len(users_with_enough_interactions_df))"
      ],
      "metadata": {
        "colab": {
          "base_uri": "https://localhost:8080/"
        },
        "id": "dsxZv1TcCAyV",
        "outputId": "808a039a-dbc3-48ac-f212-76e424cdbca7"
      },
      "execution_count": null,
      "outputs": [
        {
          "output_type": "stream",
          "name": "stdout",
          "text": [
            "Number of users: 2220\n",
            "Number of users with at least 10 interactions: 955\n"
          ]
        }
      ]
    },
    {
      "cell_type": "code",
      "source": [
        "print('Number of interactions: %d' % len(usa_canada_users_df))\n",
        "interactions_from_selected_users_df = usa_canada_users_df.merge(users_with_enough_interactions_df, \n",
        "               how = 'right',\n",
        "               left_on = 'User-ID',\n",
        "               right_on = 'User-ID')\n",
        "print('Number of interactions from users with at least 10 interactions: %d' % len(interactions_from_selected_users_df))"
      ],
      "metadata": {
        "colab": {
          "base_uri": "https://localhost:8080/"
        },
        "id": "jl2CHDRwCc80",
        "outputId": "51bff3f8-ecca-4299-ebdc-1668c52d9a96"
      },
      "execution_count": null,
      "outputs": [
        {
          "output_type": "stream",
          "name": "stdout",
          "text": [
            "Number of interactions: 26736\n",
            "Number of interactions from users with at least 10 interactions: 20899\n"
          ]
        }
      ]
    },
    {
      "cell_type": "code",
      "source": [
        "interactions_from_selected_users_df.head(10)"
      ],
      "metadata": {
        "colab": {
          "base_uri": "https://localhost:8080/",
          "height": 363
        },
        "id": "_FJmeUxaCvYM",
        "outputId": "55da258a-80fa-4328-d503-65eb38197d33"
      },
      "execution_count": null,
      "outputs": [
        {
          "output_type": "execute_result",
          "data": {
            "text/plain": [
              "   User-ID        ISBN  Book-Rating                  Book-Title  \\\n",
              "0      243  0446606383            6           The Midnight Club   \n",
              "1      243  0316776963            9      Me Talk Pretty One Day   \n",
              "2      243  0449006522            6         Manhattan Hunt Club   \n",
              "3      243  0316601950            9  The Pilot's Wife : A Novel   \n",
              "4      243  044023722X            7             A Painted House   \n",
              "5      243  0446364800            9      The General's Daughter   \n",
              "6      243  0316899984            7       River, Cross My Heart   \n",
              "7      243  0060915544           10              The Bean Trees   \n",
              "8      243  0060977493            7     The God of Small Things   \n",
              "9      243  0385720106            7          A Map of the World   \n",
              "\n",
              "   Total Rating Count                     Location  \n",
              "0                  62  arden hills, minnesota, usa  \n",
              "1                 255  arden hills, minnesota, usa  \n",
              "2                  58  arden hills, minnesota, usa  \n",
              "3                 290  arden hills, minnesota, usa  \n",
              "4                 386  arden hills, minnesota, usa  \n",
              "5                  89  arden hills, minnesota, usa  \n",
              "6                 116  arden hills, minnesota, usa  \n",
              "7                 204  arden hills, minnesota, usa  \n",
              "8                 153  arden hills, minnesota, usa  \n",
              "9                 183  arden hills, minnesota, usa  "
            ],
            "text/html": [
              "\n",
              "  <div id=\"df-673eb42e-8b3a-4eb2-b2a8-5c4947f8c1a7\">\n",
              "    <div class=\"colab-df-container\">\n",
              "      <div>\n",
              "<style scoped>\n",
              "    .dataframe tbody tr th:only-of-type {\n",
              "        vertical-align: middle;\n",
              "    }\n",
              "\n",
              "    .dataframe tbody tr th {\n",
              "        vertical-align: top;\n",
              "    }\n",
              "\n",
              "    .dataframe thead th {\n",
              "        text-align: right;\n",
              "    }\n",
              "</style>\n",
              "<table border=\"1\" class=\"dataframe\">\n",
              "  <thead>\n",
              "    <tr style=\"text-align: right;\">\n",
              "      <th></th>\n",
              "      <th>User-ID</th>\n",
              "      <th>ISBN</th>\n",
              "      <th>Book-Rating</th>\n",
              "      <th>Book-Title</th>\n",
              "      <th>Total Rating Count</th>\n",
              "      <th>Location</th>\n",
              "    </tr>\n",
              "  </thead>\n",
              "  <tbody>\n",
              "    <tr>\n",
              "      <th>0</th>\n",
              "      <td>243</td>\n",
              "      <td>0446606383</td>\n",
              "      <td>6</td>\n",
              "      <td>The Midnight Club</td>\n",
              "      <td>62</td>\n",
              "      <td>arden hills, minnesota, usa</td>\n",
              "    </tr>\n",
              "    <tr>\n",
              "      <th>1</th>\n",
              "      <td>243</td>\n",
              "      <td>0316776963</td>\n",
              "      <td>9</td>\n",
              "      <td>Me Talk Pretty One Day</td>\n",
              "      <td>255</td>\n",
              "      <td>arden hills, minnesota, usa</td>\n",
              "    </tr>\n",
              "    <tr>\n",
              "      <th>2</th>\n",
              "      <td>243</td>\n",
              "      <td>0449006522</td>\n",
              "      <td>6</td>\n",
              "      <td>Manhattan Hunt Club</td>\n",
              "      <td>58</td>\n",
              "      <td>arden hills, minnesota, usa</td>\n",
              "    </tr>\n",
              "    <tr>\n",
              "      <th>3</th>\n",
              "      <td>243</td>\n",
              "      <td>0316601950</td>\n",
              "      <td>9</td>\n",
              "      <td>The Pilot's Wife : A Novel</td>\n",
              "      <td>290</td>\n",
              "      <td>arden hills, minnesota, usa</td>\n",
              "    </tr>\n",
              "    <tr>\n",
              "      <th>4</th>\n",
              "      <td>243</td>\n",
              "      <td>044023722X</td>\n",
              "      <td>7</td>\n",
              "      <td>A Painted House</td>\n",
              "      <td>386</td>\n",
              "      <td>arden hills, minnesota, usa</td>\n",
              "    </tr>\n",
              "    <tr>\n",
              "      <th>5</th>\n",
              "      <td>243</td>\n",
              "      <td>0446364800</td>\n",
              "      <td>9</td>\n",
              "      <td>The General's Daughter</td>\n",
              "      <td>89</td>\n",
              "      <td>arden hills, minnesota, usa</td>\n",
              "    </tr>\n",
              "    <tr>\n",
              "      <th>6</th>\n",
              "      <td>243</td>\n",
              "      <td>0316899984</td>\n",
              "      <td>7</td>\n",
              "      <td>River, Cross My Heart</td>\n",
              "      <td>116</td>\n",
              "      <td>arden hills, minnesota, usa</td>\n",
              "    </tr>\n",
              "    <tr>\n",
              "      <th>7</th>\n",
              "      <td>243</td>\n",
              "      <td>0060915544</td>\n",
              "      <td>10</td>\n",
              "      <td>The Bean Trees</td>\n",
              "      <td>204</td>\n",
              "      <td>arden hills, minnesota, usa</td>\n",
              "    </tr>\n",
              "    <tr>\n",
              "      <th>8</th>\n",
              "      <td>243</td>\n",
              "      <td>0060977493</td>\n",
              "      <td>7</td>\n",
              "      <td>The God of Small Things</td>\n",
              "      <td>153</td>\n",
              "      <td>arden hills, minnesota, usa</td>\n",
              "    </tr>\n",
              "    <tr>\n",
              "      <th>9</th>\n",
              "      <td>243</td>\n",
              "      <td>0385720106</td>\n",
              "      <td>7</td>\n",
              "      <td>A Map of the World</td>\n",
              "      <td>183</td>\n",
              "      <td>arden hills, minnesota, usa</td>\n",
              "    </tr>\n",
              "  </tbody>\n",
              "</table>\n",
              "</div>\n",
              "      <button class=\"colab-df-convert\" onclick=\"convertToInteractive('df-673eb42e-8b3a-4eb2-b2a8-5c4947f8c1a7')\"\n",
              "              title=\"Convert this dataframe to an interactive table.\"\n",
              "              style=\"display:none;\">\n",
              "        \n",
              "  <svg xmlns=\"http://www.w3.org/2000/svg\" height=\"24px\"viewBox=\"0 0 24 24\"\n",
              "       width=\"24px\">\n",
              "    <path d=\"M0 0h24v24H0V0z\" fill=\"none\"/>\n",
              "    <path d=\"M18.56 5.44l.94 2.06.94-2.06 2.06-.94-2.06-.94-.94-2.06-.94 2.06-2.06.94zm-11 1L8.5 8.5l.94-2.06 2.06-.94-2.06-.94L8.5 2.5l-.94 2.06-2.06.94zm10 10l.94 2.06.94-2.06 2.06-.94-2.06-.94-.94-2.06-.94 2.06-2.06.94z\"/><path d=\"M17.41 7.96l-1.37-1.37c-.4-.4-.92-.59-1.43-.59-.52 0-1.04.2-1.43.59L10.3 9.45l-7.72 7.72c-.78.78-.78 2.05 0 2.83L4 21.41c.39.39.9.59 1.41.59.51 0 1.02-.2 1.41-.59l7.78-7.78 2.81-2.81c.8-.78.8-2.07 0-2.86zM5.41 20L4 18.59l7.72-7.72 1.47 1.35L5.41 20z\"/>\n",
              "  </svg>\n",
              "      </button>\n",
              "      \n",
              "  <style>\n",
              "    .colab-df-container {\n",
              "      display:flex;\n",
              "      flex-wrap:wrap;\n",
              "      gap: 12px;\n",
              "    }\n",
              "\n",
              "    .colab-df-convert {\n",
              "      background-color: #E8F0FE;\n",
              "      border: none;\n",
              "      border-radius: 50%;\n",
              "      cursor: pointer;\n",
              "      display: none;\n",
              "      fill: #1967D2;\n",
              "      height: 32px;\n",
              "      padding: 0 0 0 0;\n",
              "      width: 32px;\n",
              "    }\n",
              "\n",
              "    .colab-df-convert:hover {\n",
              "      background-color: #E2EBFA;\n",
              "      box-shadow: 0px 1px 2px rgba(60, 64, 67, 0.3), 0px 1px 3px 1px rgba(60, 64, 67, 0.15);\n",
              "      fill: #174EA6;\n",
              "    }\n",
              "\n",
              "    [theme=dark] .colab-df-convert {\n",
              "      background-color: #3B4455;\n",
              "      fill: #D2E3FC;\n",
              "    }\n",
              "\n",
              "    [theme=dark] .colab-df-convert:hover {\n",
              "      background-color: #434B5C;\n",
              "      box-shadow: 0px 1px 3px 1px rgba(0, 0, 0, 0.15);\n",
              "      filter: drop-shadow(0px 1px 2px rgba(0, 0, 0, 0.3));\n",
              "      fill: #FFFFFF;\n",
              "    }\n",
              "  </style>\n",
              "\n",
              "      <script>\n",
              "        const buttonEl =\n",
              "          document.querySelector('#df-673eb42e-8b3a-4eb2-b2a8-5c4947f8c1a7 button.colab-df-convert');\n",
              "        buttonEl.style.display =\n",
              "          google.colab.kernel.accessAllowed ? 'block' : 'none';\n",
              "\n",
              "        async function convertToInteractive(key) {\n",
              "          const element = document.querySelector('#df-673eb42e-8b3a-4eb2-b2a8-5c4947f8c1a7');\n",
              "          const dataTable =\n",
              "            await google.colab.kernel.invokeFunction('convertToInteractive',\n",
              "                                                     [key], {});\n",
              "          if (!dataTable) return;\n",
              "\n",
              "          const docLinkHtml = 'Like what you see? Visit the ' +\n",
              "            '<a target=\"_blank\" href=https://colab.research.google.com/notebooks/data_table.ipynb>data table notebook</a>'\n",
              "            + ' to learn more about interactive tables.';\n",
              "          element.innerHTML = '';\n",
              "          dataTable['output_type'] = 'display_data';\n",
              "          await google.colab.output.renderOutput(dataTable, element);\n",
              "          const docLink = document.createElement('div');\n",
              "          docLink.innerHTML = docLinkHtml;\n",
              "          element.appendChild(docLink);\n",
              "        }\n",
              "      </script>\n",
              "    </div>\n",
              "  </div>\n",
              "  "
            ]
          },
          "metadata": {},
          "execution_count": 110
        }
      ]
    },
    {
      "cell_type": "code",
      "source": [
        "# Before log transformation\n",
        "plt.figure(figsize=(8, 5))\n",
        "sns.histplot(interactions_from_selected_users_df.groupby(['ISBN', 'User-ID'])['Book-Rating'].sum(), kde=True)\n",
        "plt.show()"
      ],
      "metadata": {
        "colab": {
          "base_uri": "https://localhost:8080/",
          "height": 334
        },
        "id": "HGCiyAHTDQMO",
        "outputId": "080aa211-8ee7-4b91-e508-34dc99593851"
      },
      "execution_count": null,
      "outputs": [
        {
          "output_type": "display_data",
          "data": {
            "text/plain": [
              "<Figure size 576x360 with 1 Axes>"
            ],
            "image/png": "[encoded data removed]"
          },
          "metadata": {
            "needs_background": "light"
          }
        }
      ]
    },
    {
      "cell_type": "markdown",
      "source": [
        "Applying log transformation."
      ],
      "metadata": {
        "id": "OG4HzqWCEHT1"
      }
    },
    {
      "cell_type": "code",
      "source": [
        "import math\n",
        "def smooth_user_preference(x):\n",
        "    return math.log(1+x, 2)\n",
        "    \n",
        "interactions_full_df = interactions_from_selected_users_df.groupby(['ISBN', 'User-ID'])['Book-Rating'].sum().apply(smooth_user_preference).reset_index()\n",
        "print('Number of unique user/item interactions: %d' % len(interactions_full_df))\n",
        "interactions_full_df.head()"
      ],
      "metadata": {
        "colab": {
          "base_uri": "https://localhost:8080/",
          "height": 223
        },
        "id": "PpaFyoU6EFlR",
        "outputId": "d39fe3e1-8f37-433c-fee3-3c4bbcac174e"
      },
      "execution_count": null,
      "outputs": [
        {
          "output_type": "stream",
          "name": "stdout",
          "text": [
            "Number of unique user/item interactions: 20899\n"
          ]
        },
        {
          "output_type": "execute_result",
          "data": {
            "text/plain": [
              "         ISBN  User-ID  Book-Rating\n",
              "0  002026478X    95359     3.459432\n",
              "1  002026478X   104113     2.584963\n",
              "2  002026478X   248718     3.459432\n",
              "3  002026478X   264947     3.169925\n",
              "4  002026478X   271448     2.584963"
            ],
            "text/html": [
              "\n",
              "  <div id=\"df-fdbea1da-7f01-4734-9a66-cc14569fc010\">\n",
              "    <div class=\"colab-df-container\">\n",
              "      <div>\n",
              "<style scoped>\n",
              "    .dataframe tbody tr th:only-of-type {\n",
              "        vertical-align: middle;\n",
              "    }\n",
              "\n",
              "    .dataframe tbody tr th {\n",
              "        vertical-align: top;\n",
              "    }\n",
              "\n",
              "    .dataframe thead th {\n",
              "        text-align: right;\n",
              "    }\n",
              "</style>\n",
              "<table border=\"1\" class=\"dataframe\">\n",
              "  <thead>\n",
              "    <tr style=\"text-align: right;\">\n",
              "      <th></th>\n",
              "      <th>ISBN</th>\n",
              "      <th>User-ID</th>\n",
              "      <th>Book-Rating</th>\n",
              "    </tr>\n",
              "  </thead>\n",
              "  <tbody>\n",
              "    <tr>\n",
              "      <th>0</th>\n",
              "      <td>002026478X</td>\n",
              "      <td>95359</td>\n",
              "      <td>3.459432</td>\n",
              "    </tr>\n",
              "    <tr>\n",
              "      <th>1</th>\n",
              "      <td>002026478X</td>\n",
              "      <td>104113</td>\n",
              "      <td>2.584963</td>\n",
              "    </tr>\n",
              "    <tr>\n",
              "      <th>2</th>\n",
              "      <td>002026478X</td>\n",
              "      <td>248718</td>\n",
              "      <td>3.459432</td>\n",
              "    </tr>\n",
              "    <tr>\n",
              "      <th>3</th>\n",
              "      <td>002026478X</td>\n",
              "      <td>264947</td>\n",
              "      <td>3.169925</td>\n",
              "    </tr>\n",
              "    <tr>\n",
              "      <th>4</th>\n",
              "      <td>002026478X</td>\n",
              "      <td>271448</td>\n",
              "      <td>2.584963</td>\n",
              "    </tr>\n",
              "  </tbody>\n",
              "</table>\n",
              "</div>\n",
              "      <button class=\"colab-df-convert\" onclick=\"convertToInteractive('df-fdbea1da-7f01-4734-9a66-cc14569fc010')\"\n",
              "              title=\"Convert this dataframe to an interactive table.\"\n",
              "              style=\"display:none;\">\n",
              "        \n",
              "  <svg xmlns=\"http://www.w3.org/2000/svg\" height=\"24px\"viewBox=\"0 0 24 24\"\n",
              "       width=\"24px\">\n",
              "    <path d=\"M0 0h24v24H0V0z\" fill=\"none\"/>\n",
              "    <path d=\"M18.56 5.44l.94 2.06.94-2.06 2.06-.94-2.06-.94-.94-2.06-.94 2.06-2.06.94zm-11 1L8.5 8.5l.94-2.06 2.06-.94-2.06-.94L8.5 2.5l-.94 2.06-2.06.94zm10 10l.94 2.06.94-2.06 2.06-.94-2.06-.94-.94-2.06-.94 2.06-2.06.94z\"/><path d=\"M17.41 7.96l-1.37-1.37c-.4-.4-.92-.59-1.43-.59-.52 0-1.04.2-1.43.59L10.3 9.45l-7.72 7.72c-.78.78-.78 2.05 0 2.83L4 21.41c.39.39.9.59 1.41.59.51 0 1.02-.2 1.41-.59l7.78-7.78 2.81-2.81c.8-.78.8-2.07 0-2.86zM5.41 20L4 18.59l7.72-7.72 1.47 1.35L5.41 20z\"/>\n",
              "  </svg>\n",
              "      </button>\n",
              "      \n",
              "  <style>\n",
              "    .colab-df-container {\n",
              "      display:flex;\n",
              "      flex-wrap:wrap;\n",
              "      gap: 12px;\n",
              "    }\n",
              "\n",
              "    .colab-df-convert {\n",
              "      background-color: #E8F0FE;\n",
              "      border: none;\n",
              "      border-radius: 50%;\n",
              "      cursor: pointer;\n",
              "      display: none;\n",
              "      fill: #1967D2;\n",
              "      height: 32px;\n",
              "      padding: 0 0 0 0;\n",
              "      width: 32px;\n",
              "    }\n",
              "\n",
              "    .colab-df-convert:hover {\n",
              "      background-color: #E2EBFA;\n",
              "      box-shadow: 0px 1px 2px rgba(60, 64, 67, 0.3), 0px 1px 3px 1px rgba(60, 64, 67, 0.15);\n",
              "      fill: #174EA6;\n",
              "    }\n",
              "\n",
              "    [theme=dark] .colab-df-convert {\n",
              "      background-color: #3B4455;\n",
              "      fill: #D2E3FC;\n",
              "    }\n",
              "\n",
              "    [theme=dark] .colab-df-convert:hover {\n",
              "      background-color: #434B5C;\n",
              "      box-shadow: 0px 1px 3px 1px rgba(0, 0, 0, 0.15);\n",
              "      filter: drop-shadow(0px 1px 2px rgba(0, 0, 0, 0.3));\n",
              "      fill: #FFFFFF;\n",
              "    }\n",
              "  </style>\n",
              "\n",
              "      <script>\n",
              "        const buttonEl =\n",
              "          document.querySelector('#df-fdbea1da-7f01-4734-9a66-cc14569fc010 button.colab-df-convert');\n",
              "        buttonEl.style.display =\n",
              "          google.colab.kernel.accessAllowed ? 'block' : 'none';\n",
              "\n",
              "        async function convertToInteractive(key) {\n",
              "          const element = document.querySelector('#df-fdbea1da-7f01-4734-9a66-cc14569fc010');\n",
              "          const dataTable =\n",
              "            await google.colab.kernel.invokeFunction('convertToInteractive',\n",
              "                                                     [key], {});\n",
              "          if (!dataTable) return;\n",
              "\n",
              "          const docLinkHtml = 'Like what you see? Visit the ' +\n",
              "            '<a target=\"_blank\" href=https://colab.research.google.com/notebooks/data_table.ipynb>data table notebook</a>'\n",
              "            + ' to learn more about interactive tables.';\n",
              "          element.innerHTML = '';\n",
              "          dataTable['output_type'] = 'display_data';\n",
              "          await google.colab.output.renderOutput(dataTable, element);\n",
              "          const docLink = document.createElement('div');\n",
              "          docLink.innerHTML = docLinkHtml;\n",
              "          element.appendChild(docLink);\n",
              "        }\n",
              "      </script>\n",
              "    </div>\n",
              "  </div>\n",
              "  "
            ]
          },
          "metadata": {},
          "execution_count": 112
        }
      ]
    },
    {
      "cell_type": "code",
      "source": [
        "## Plot after log transformation\n",
        "plt.figure(figsize=(8, 5))\n",
        "sns.histplot(interactions_from_selected_users_df.groupby(['ISBN', 'User-ID'])['Book-Rating'].sum(), kde=True)\n",
        "plt.show()"
      ],
      "metadata": {
        "colab": {
          "base_uri": "https://localhost:8080/",
          "height": 334
        },
        "id": "HfPDWbpCEdyJ",
        "outputId": "cbc96110-e18a-4f31-a54d-c3eedcc71ea6"
      },
      "execution_count": null,
      "outputs": [
        {
          "output_type": "display_data",
          "data": {
            "text/plain": [
              "<Figure size 576x360 with 1 Axes>"
            ],
            "image/png": "[encoded data removed]"
          },
          "metadata": {
            "needs_background": "light"
          }
        }
      ]
    },
    {
      "cell_type": "markdown",
      "source": [
        "Splitting dataset into train-test split."
      ],
      "metadata": {
        "id": "CNjFHd8xavkT"
      }
    },
    {
      "cell_type": "code",
      "source": [
        "from sklearn.model_selection import train_test_split\n",
        "\n",
        "\n",
        "train_df, test_df = train_test_split(interactions_full_df,\n",
        "                                     stratify = interactions_full_df['User-ID'],\n",
        "                                     test_size = 0.20,\n",
        "                                     random_state = 0\n",
        "                                     )\n",
        "\n",
        "print('Number of Train set: %d' % len(train_df))\n",
        "print('Number of Test set: %d' % len(test_df))"
      ],
      "metadata": {
        "colab": {
          "base_uri": "https://localhost:8080/"
        },
        "id": "3KSCWnm1aXPU",
        "outputId": "f04f1867-2d8a-47d7-c7d2-f20058f9e0b9"
      },
      "execution_count": null,
      "outputs": [
        {
          "output_type": "stream",
          "name": "stdout",
          "text": [
            "Number of Train set: 16719\n",
            "Number of Test set: 4180\n"
          ]
        }
      ]
    },
    {
      "cell_type": "code",
      "source": [
        "train_df.head()"
      ],
      "metadata": {
        "colab": {
          "base_uri": "https://localhost:8080/",
          "height": 206
        },
        "id": "botbX9TIbkAO",
        "outputId": "0b1839af-da9e-4229-f0d6-ea7b42487a6f"
      },
      "execution_count": null,
      "outputs": [
        {
          "output_type": "execute_result",
          "data": {
            "text/plain": [
              "             ISBN  User-ID  Book-Rating\n",
              "18872  0743206029    39773     3.321928\n",
              "789    0060987529   266865     2.584963\n",
              "20328  0971880107   136139     1.584963\n",
              "20058  0812550706   271176     3.459432\n",
              "11363  0446360589   189558     3.169925"
            ],
            "text/html": [
              "\n",
              "  <div id=\"df-5665d23f-63f5-4d4a-ad59-01008141e5a0\">\n",
              "    <div class=\"colab-df-container\">\n",
              "      <div>\n",
              "<style scoped>\n",
              "    .dataframe tbody tr th:only-of-type {\n",
              "        vertical-align: middle;\n",
              "    }\n",
              "\n",
              "    .dataframe tbody tr th {\n",
              "        vertical-align: top;\n",
              "    }\n",
              "\n",
              "    .dataframe thead th {\n",
              "        text-align: right;\n",
              "    }\n",
              "</style>\n",
              "<table border=\"1\" class=\"dataframe\">\n",
              "  <thead>\n",
              "    <tr style=\"text-align: right;\">\n",
              "      <th></th>\n",
              "      <th>ISBN</th>\n",
              "      <th>User-ID</th>\n",
              "      <th>Book-Rating</th>\n",
              "    </tr>\n",
              "  </thead>\n",
              "  <tbody>\n",
              "    <tr>\n",
              "      <th>18872</th>\n",
              "      <td>0743206029</td>\n",
              "      <td>39773</td>\n",
              "      <td>3.321928</td>\n",
              "    </tr>\n",
              "    <tr>\n",
              "      <th>789</th>\n",
              "      <td>0060987529</td>\n",
              "      <td>266865</td>\n",
              "      <td>2.584963</td>\n",
              "    </tr>\n",
              "    <tr>\n",
              "      <th>20328</th>\n",
              "      <td>0971880107</td>\n",
              "      <td>136139</td>\n",
              "      <td>1.584963</td>\n",
              "    </tr>\n",
              "    <tr>\n",
              "      <th>20058</th>\n",
              "      <td>0812550706</td>\n",
              "      <td>271176</td>\n",
              "      <td>3.459432</td>\n",
              "    </tr>\n",
              "    <tr>\n",
              "      <th>11363</th>\n",
              "      <td>0446360589</td>\n",
              "      <td>189558</td>\n",
              "      <td>3.169925</td>\n",
              "    </tr>\n",
              "  </tbody>\n",
              "</table>\n",
              "</div>\n",
              "      <button class=\"colab-df-convert\" onclick=\"convertToInteractive('df-5665d23f-63f5-4d4a-ad59-01008141e5a0')\"\n",
              "              title=\"Convert this dataframe to an interactive table.\"\n",
              "              style=\"display:none;\">\n",
              "        \n",
              "  <svg xmlns=\"http://www.w3.org/2000/svg\" height=\"24px\"viewBox=\"0 0 24 24\"\n",
              "       width=\"24px\">\n",
              "    <path d=\"M0 0h24v24H0V0z\" fill=\"none\"/>\n",
              "    <path d=\"M18.56 5.44l.94 2.06.94-2.06 2.06-.94-2.06-.94-.94-2.06-.94 2.06-2.06.94zm-11 1L8.5 8.5l.94-2.06 2.06-.94-2.06-.94L8.5 2.5l-.94 2.06-2.06.94zm10 10l.94 2.06.94-2.06 2.06-.94-2.06-.94-.94-2.06-.94 2.06-2.06.94z\"/><path d=\"M17.41 7.96l-1.37-1.37c-.4-.4-.92-.59-1.43-.59-.52 0-1.04.2-1.43.59L10.3 9.45l-7.72 7.72c-.78.78-.78 2.05 0 2.83L4 21.41c.39.39.9.59 1.41.59.51 0 1.02-.2 1.41-.59l7.78-7.78 2.81-2.81c.8-.78.8-2.07 0-2.86zM5.41 20L4 18.59l7.72-7.72 1.47 1.35L5.41 20z\"/>\n",
              "  </svg>\n",
              "      </button>\n",
              "      \n",
              "  <style>\n",
              "    .colab-df-container {\n",
              "      display:flex;\n",
              "      flex-wrap:wrap;\n",
              "      gap: 12px;\n",
              "    }\n",
              "\n",
              "    .colab-df-convert {\n",
              "      background-color: #E8F0FE;\n",
              "      border: none;\n",
              "      border-radius: 50%;\n",
              "      cursor: pointer;\n",
              "      display: none;\n",
              "      fill: #1967D2;\n",
              "      height: 32px;\n",
              "      padding: 0 0 0 0;\n",
              "      width: 32px;\n",
              "    }\n",
              "\n",
              "    .colab-df-convert:hover {\n",
              "      background-color: #E2EBFA;\n",
              "      box-shadow: 0px 1px 2px rgba(60, 64, 67, 0.3), 0px 1px 3px 1px rgba(60, 64, 67, 0.15);\n",
              "      fill: #174EA6;\n",
              "    }\n",
              "\n",
              "    [theme=dark] .colab-df-convert {\n",
              "      background-color: #3B4455;\n",
              "      fill: #D2E3FC;\n",
              "    }\n",
              "\n",
              "    [theme=dark] .colab-df-convert:hover {\n",
              "      background-color: #434B5C;\n",
              "      box-shadow: 0px 1px 3px 1px rgba(0, 0, 0, 0.15);\n",
              "      filter: drop-shadow(0px 1px 2px rgba(0, 0, 0, 0.3));\n",
              "      fill: #FFFFFF;\n",
              "    }\n",
              "  </style>\n",
              "\n",
              "      <script>\n",
              "        const buttonEl =\n",
              "          document.querySelector('#df-5665d23f-63f5-4d4a-ad59-01008141e5a0 button.colab-df-convert');\n",
              "        buttonEl.style.display =\n",
              "          google.colab.kernel.accessAllowed ? 'block' : 'none';\n",
              "\n",
              "        async function convertToInteractive(key) {\n",
              "          const element = document.querySelector('#df-5665d23f-63f5-4d4a-ad59-01008141e5a0');\n",
              "          const dataTable =\n",
              "            await google.colab.kernel.invokeFunction('convertToInteractive',\n",
              "                                                     [key], {});\n",
              "          if (!dataTable) return;\n",
              "\n",
              "          const docLinkHtml = 'Like what you see? Visit the ' +\n",
              "            '<a target=\"_blank\" href=https://colab.research.google.com/notebooks/data_table.ipynb>data table notebook</a>'\n",
              "            + ' to learn more about interactive tables.';\n",
              "          element.innerHTML = '';\n",
              "          dataTable['output_type'] = 'display_data';\n",
              "          await google.colab.output.renderOutput(dataTable, element);\n",
              "          const docLink = document.createElement('div');\n",
              "          docLink.innerHTML = docLinkHtml;\n",
              "          element.appendChild(docLink);\n",
              "        }\n",
              "      </script>\n",
              "    </div>\n",
              "  </div>\n",
              "  "
            ]
          },
          "metadata": {},
          "execution_count": 115
        }
      ]
    },
    {
      "cell_type": "code",
      "source": [
        "test_df.head()"
      ],
      "metadata": {
        "colab": {
          "base_uri": "https://localhost:8080/",
          "height": 206
        },
        "id": "9AwKAHS8bn7-",
        "outputId": "b52f0504-0879-476e-b040-859bc4782029"
      },
      "execution_count": null,
      "outputs": [
        {
          "output_type": "execute_result",
          "data": {
            "text/plain": [
              "             ISBN  User-ID  Book-Rating\n",
              "15435  0553275976    96357     3.321928\n",
              "14526  0515121843   144531     3.169925\n",
              "7949   0425097722   128835     3.169925\n",
              "10195  0440217547    62272     3.321928\n",
              "3978   0345339703   171118     3.169925"
            ],
            "text/html": [
              "\n",
              "  <div id=\"df-f0d2cae2-7654-4ee8-b706-9ea3a9f57c44\">\n",
              "    <div class=\"colab-df-container\">\n",
              "      <div>\n",
              "<style scoped>\n",
              "    .dataframe tbody tr th:only-of-type {\n",
              "        vertical-align: middle;\n",
              "    }\n",
              "\n",
              "    .dataframe tbody tr th {\n",
              "        vertical-align: top;\n",
              "    }\n",
              "\n",
              "    .dataframe thead th {\n",
              "        text-align: right;\n",
              "    }\n",
              "</style>\n",
              "<table border=\"1\" class=\"dataframe\">\n",
              "  <thead>\n",
              "    <tr style=\"text-align: right;\">\n",
              "      <th></th>\n",
              "      <th>ISBN</th>\n",
              "      <th>User-ID</th>\n",
              "      <th>Book-Rating</th>\n",
              "    </tr>\n",
              "  </thead>\n",
              "  <tbody>\n",
              "    <tr>\n",
              "      <th>15435</th>\n",
              "      <td>0553275976</td>\n",
              "      <td>96357</td>\n",
              "      <td>3.321928</td>\n",
              "    </tr>\n",
              "    <tr>\n",
              "      <th>14526</th>\n",
              "      <td>0515121843</td>\n",
              "      <td>144531</td>\n",
              "      <td>3.169925</td>\n",
              "    </tr>\n",
              "    <tr>\n",
              "      <th>7949</th>\n",
              "      <td>0425097722</td>\n",
              "      <td>128835</td>\n",
              "      <td>3.169925</td>\n",
              "    </tr>\n",
              "    <tr>\n",
              "      <th>10195</th>\n",
              "      <td>0440217547</td>\n",
              "      <td>62272</td>\n",
              "      <td>3.321928</td>\n",
              "    </tr>\n",
              "    <tr>\n",
              "      <th>3978</th>\n",
              "      <td>0345339703</td>\n",
              "      <td>171118</td>\n",
              "      <td>3.169925</td>\n",
              "    </tr>\n",
              "  </tbody>\n",
              "</table>\n",
              "</div>\n",
              "      <button class=\"colab-df-convert\" onclick=\"convertToInteractive('df-f0d2cae2-7654-4ee8-b706-9ea3a9f57c44')\"\n",
              "              title=\"Convert this dataframe to an interactive table.\"\n",
              "              style=\"display:none;\">\n",
              "        \n",
              "  <svg xmlns=\"http://www.w3.org/2000/svg\" height=\"24px\"viewBox=\"0 0 24 24\"\n",
              "       width=\"24px\">\n",
              "    <path d=\"M0 0h24v24H0V0z\" fill=\"none\"/>\n",
              "    <path d=\"M18.56 5.44l.94 2.06.94-2.06 2.06-.94-2.06-.94-.94-2.06-.94 2.06-2.06.94zm-11 1L8.5 8.5l.94-2.06 2.06-.94-2.06-.94L8.5 2.5l-.94 2.06-2.06.94zm10 10l.94 2.06.94-2.06 2.06-.94-2.06-.94-.94-2.06-.94 2.06-2.06.94z\"/><path d=\"M17.41 7.96l-1.37-1.37c-.4-.4-.92-.59-1.43-.59-.52 0-1.04.2-1.43.59L10.3 9.45l-7.72 7.72c-.78.78-.78 2.05 0 2.83L4 21.41c.39.39.9.59 1.41.59.51 0 1.02-.2 1.41-.59l7.78-7.78 2.81-2.81c.8-.78.8-2.07 0-2.86zM5.41 20L4 18.59l7.72-7.72 1.47 1.35L5.41 20z\"/>\n",
              "  </svg>\n",
              "      </button>\n",
              "      \n",
              "  <style>\n",
              "    .colab-df-container {\n",
              "      display:flex;\n",
              "      flex-wrap:wrap;\n",
              "      gap: 12px;\n",
              "    }\n",
              "\n",
              "    .colab-df-convert {\n",
              "      background-color: #E8F0FE;\n",
              "      border: none;\n",
              "      border-radius: 50%;\n",
              "      cursor: pointer;\n",
              "      display: none;\n",
              "      fill: #1967D2;\n",
              "      height: 32px;\n",
              "      padding: 0 0 0 0;\n",
              "      width: 32px;\n",
              "    }\n",
              "\n",
              "    .colab-df-convert:hover {\n",
              "      background-color: #E2EBFA;\n",
              "      box-shadow: 0px 1px 2px rgba(60, 64, 67, 0.3), 0px 1px 3px 1px rgba(60, 64, 67, 0.15);\n",
              "      fill: #174EA6;\n",
              "    }\n",
              "\n",
              "    [theme=dark] .colab-df-convert {\n",
              "      background-color: #3B4455;\n",
              "      fill: #D2E3FC;\n",
              "    }\n",
              "\n",
              "    [theme=dark] .colab-df-convert:hover {\n",
              "      background-color: #434B5C;\n",
              "      box-shadow: 0px 1px 3px 1px rgba(0, 0, 0, 0.15);\n",
              "      filter: drop-shadow(0px 1px 2px rgba(0, 0, 0, 0.3));\n",
              "      fill: #FFFFFF;\n",
              "    }\n",
              "  </style>\n",
              "\n",
              "      <script>\n",
              "        const buttonEl =\n",
              "          document.querySelector('#df-f0d2cae2-7654-4ee8-b706-9ea3a9f57c44 button.colab-df-convert');\n",
              "        buttonEl.style.display =\n",
              "          google.colab.kernel.accessAllowed ? 'block' : 'none';\n",
              "\n",
              "        async function convertToInteractive(key) {\n",
              "          const element = document.querySelector('#df-f0d2cae2-7654-4ee8-b706-9ea3a9f57c44');\n",
              "          const dataTable =\n",
              "            await google.colab.kernel.invokeFunction('convertToInteractive',\n",
              "                                                     [key], {});\n",
              "          if (!dataTable) return;\n",
              "\n",
              "          const docLinkHtml = 'Like what you see? Visit the ' +\n",
              "            '<a target=\"_blank\" href=https://colab.research.google.com/notebooks/data_table.ipynb>data table notebook</a>'\n",
              "            + ' to learn more about interactive tables.';\n",
              "          element.innerHTML = '';\n",
              "          dataTable['output_type'] = 'display_data';\n",
              "          await google.colab.output.renderOutput(dataTable, element);\n",
              "          const docLink = document.createElement('div');\n",
              "          docLink.innerHTML = docLinkHtml;\n",
              "          element.appendChild(docLink);\n",
              "        }\n",
              "      </script>\n",
              "    </div>\n",
              "  </div>\n",
              "  "
            ]
          },
          "metadata": {},
          "execution_count": 116
        }
      ]
    },
    {
      "cell_type": "markdown",
      "source": [
        "Creating a sparse pivot table with users as rows and book as columns for train_df."
      ],
      "metadata": {
        "id": "y7AejcuicEtf"
      }
    },
    {
      "cell_type": "code",
      "source": [
        "user_items_pivot = train_df.pivot(index = 'User-ID',\n",
        "                                  columns = 'ISBN',\n",
        "                                  values = 'Book-Rating'\n",
        "                                  ).fillna(0)"
      ],
      "metadata": {
        "id": "9iw9WX7hcA7W"
      },
      "execution_count": null,
      "outputs": []
    },
    {
      "cell_type": "code",
      "source": [
        "user_items_pivot.head()"
      ],
      "metadata": {
        "colab": {
          "base_uri": "https://localhost:8080/",
          "height": 348
        },
        "id": "BlbuRwIqcvsQ",
        "outputId": "5522d23d-4ccf-42ed-ca44-9e1b7f9ae18d"
      },
      "execution_count": null,
      "outputs": [
        {
          "output_type": "execute_result",
          "data": {
            "text/plain": [
              "ISBN     002026478X  002542730X  0060008032  006001203X  0060085444  \\\n",
              "User-ID                                                               \n",
              "243             0.0         0.0         0.0         0.0         0.0   \n",
              "254             0.0         0.0         0.0         0.0         0.0   \n",
              "638             0.0         0.0         0.0         0.0         0.0   \n",
              "882             0.0         0.0         0.0         0.0         0.0   \n",
              "1435            0.0         0.0         0.0         0.0         0.0   \n",
              "\n",
              "ISBN     0060096195  0060168013  006016848X  0060173289  0060175400  ...  \\\n",
              "User-ID                                                              ...   \n",
              "243             0.0         0.0         0.0         0.0         0.0  ...   \n",
              "254             0.0         0.0         0.0         0.0         0.0  ...   \n",
              "638             0.0         0.0         0.0         0.0         0.0  ...   \n",
              "882             0.0         0.0         0.0         0.0         0.0  ...   \n",
              "1435            0.0         0.0         0.0         0.0         0.0  ...   \n",
              "\n",
              "ISBN     1573225517  1573225789  1573227331  1573228214  1573229326  \\\n",
              "User-ID                                                               \n",
              "243             0.0         0.0         0.0         0.0         0.0   \n",
              "254             0.0         0.0         0.0         0.0         0.0   \n",
              "638             0.0         0.0         0.0         0.0         0.0   \n",
              "882             0.0         0.0         0.0         0.0         0.0   \n",
              "1435            0.0         0.0         0.0         0.0         0.0   \n",
              "\n",
              "ISBN     1573229571  1573229725  1576737330  1592400876  1878424319  \n",
              "User-ID                                                              \n",
              "243             0.0         0.0         0.0         0.0         0.0  \n",
              "254             0.0         0.0         0.0         0.0         0.0  \n",
              "638             0.0         0.0         0.0         0.0         0.0  \n",
              "882             0.0         0.0         0.0         0.0         0.0  \n",
              "1435            0.0         0.0         0.0         0.0         0.0  \n",
              "\n",
              "[5 rows x 1222 columns]"
            ],
            "text/html": [
              "\n",
              "  <div id=\"df-de47bae7-01bc-441e-b7f7-a3926e89bb1d\">\n",
              "    <div class=\"colab-df-container\">\n",
              "      <div>\n",
              "<style scoped>\n",
              "    .dataframe tbody tr th:only-of-type {\n",
              "        vertical-align: middle;\n",
              "    }\n",
              "\n",
              "    .dataframe tbody tr th {\n",
              "        vertical-align: top;\n",
              "    }\n",
              "\n",
              "    .dataframe thead th {\n",
              "        text-align: right;\n",
              "    }\n",
              "</style>\n",
              "<table border=\"1\" class=\"dataframe\">\n",
              "  <thead>\n",
              "    <tr style=\"text-align: right;\">\n",
              "      <th>ISBN</th>\n",
              "      <th>002026478X</th>\n",
              "      <th>002542730X</th>\n",
              "      <th>0060008032</th>\n",
              "      <th>006001203X</th>\n",
              "      <th>0060085444</th>\n",
              "      <th>0060096195</th>\n",
              "      <th>0060168013</th>\n",
              "      <th>006016848X</th>\n",
              "      <th>0060173289</th>\n",
              "      <th>0060175400</th>\n",
              "      <th>...</th>\n",
              "      <th>1573225517</th>\n",
              "      <th>1573225789</th>\n",
              "      <th>1573227331</th>\n",
              "      <th>1573228214</th>\n",
              "      <th>1573229326</th>\n",
              "      <th>1573229571</th>\n",
              "      <th>1573229725</th>\n",
              "      <th>1576737330</th>\n",
              "      <th>1592400876</th>\n",
              "      <th>1878424319</th>\n",
              "    </tr>\n",
              "    <tr>\n",
              "      <th>User-ID</th>\n",
              "      <th></th>\n",
              "      <th></th>\n",
              "      <th></th>\n",
              "      <th></th>\n",
              "      <th></th>\n",
              "      <th></th>\n",
              "      <th></th>\n",
              "      <th></th>\n",
              "      <th></th>\n",
              "      <th></th>\n",
              "      <th></th>\n",
              "      <th></th>\n",
              "      <th></th>\n",
              "      <th></th>\n",
              "      <th></th>\n",
              "      <th></th>\n",
              "      <th></th>\n",
              "      <th></th>\n",
              "      <th></th>\n",
              "      <th></th>\n",
              "      <th></th>\n",
              "    </tr>\n",
              "  </thead>\n",
              "  <tbody>\n",
              "    <tr>\n",
              "      <th>243</th>\n",
              "      <td>0.0</td>\n",
              "      <td>0.0</td>\n",
              "      <td>0.0</td>\n",
              "      <td>0.0</td>\n",
              "      <td>0.0</td>\n",
              "      <td>0.0</td>\n",
              "      <td>0.0</td>\n",
              "      <td>0.0</td>\n",
              "      <td>0.0</td>\n",
              "      <td>0.0</td>\n",
              "      <td>...</td>\n",
              "      <td>0.0</td>\n",
              "      <td>0.0</td>\n",
              "      <td>0.0</td>\n",
              "      <td>0.0</td>\n",
              "      <td>0.0</td>\n",
              "      <td>0.0</td>\n",
              "      <td>0.0</td>\n",
              "      <td>0.0</td>\n",
              "      <td>0.0</td>\n",
              "      <td>0.0</td>\n",
              "    </tr>\n",
              "    <tr>\n",
              "      <th>254</th>\n",
              "      <td>0.0</td>\n",
              "      <td>0.0</td>\n",
              "      <td>0.0</td>\n",
              "      <td>0.0</td>\n",
              "      <td>0.0</td>\n",
              "      <td>0.0</td>\n",
              "      <td>0.0</td>\n",
              "      <td>0.0</td>\n",
              "      <td>0.0</td>\n",
              "      <td>0.0</td>\n",
              "      <td>...</td>\n",
              "      <td>0.0</td>\n",
              "      <td>0.0</td>\n",
              "      <td>0.0</td>\n",
              "      <td>0.0</td>\n",
              "      <td>0.0</td>\n",
              "      <td>0.0</td>\n",
              "      <td>0.0</td>\n",
              "      <td>0.0</td>\n",
              "      <td>0.0</td>\n",
              "      <td>0.0</td>\n",
              "    </tr>\n",
              "    <tr>\n",
              "      <th>638</th>\n",
              "      <td>0.0</td>\n",
              "      <td>0.0</td>\n",
              "      <td>0.0</td>\n",
              "      <td>0.0</td>\n",
              "      <td>0.0</td>\n",
              "      <td>0.0</td>\n",
              "      <td>0.0</td>\n",
              "      <td>0.0</td>\n",
              "      <td>0.0</td>\n",
              "      <td>0.0</td>\n",
              "      <td>...</td>\n",
              "      <td>0.0</td>\n",
              "      <td>0.0</td>\n",
              "      <td>0.0</td>\n",
              "      <td>0.0</td>\n",
              "      <td>0.0</td>\n",
              "      <td>0.0</td>\n",
              "      <td>0.0</td>\n",
              "      <td>0.0</td>\n",
              "      <td>0.0</td>\n",
              "      <td>0.0</td>\n",
              "    </tr>\n",
              "    <tr>\n",
              "      <th>882</th>\n",
              "      <td>0.0</td>\n",
              "      <td>0.0</td>\n",
              "      <td>0.0</td>\n",
              "      <td>0.0</td>\n",
              "      <td>0.0</td>\n",
              "      <td>0.0</td>\n",
              "      <td>0.0</td>\n",
              "      <td>0.0</td>\n",
              "      <td>0.0</td>\n",
              "      <td>0.0</td>\n",
              "      <td>...</td>\n",
              "      <td>0.0</td>\n",
              "      <td>0.0</td>\n",
              "      <td>0.0</td>\n",
              "      <td>0.0</td>\n",
              "      <td>0.0</td>\n",
              "      <td>0.0</td>\n",
              "      <td>0.0</td>\n",
              "      <td>0.0</td>\n",
              "      <td>0.0</td>\n",
              "      <td>0.0</td>\n",
              "    </tr>\n",
              "    <tr>\n",
              "      <th>1435</th>\n",
              "      <td>0.0</td>\n",
              "      <td>0.0</td>\n",
              "      <td>0.0</td>\n",
              "      <td>0.0</td>\n",
              "      <td>0.0</td>\n",
              "      <td>0.0</td>\n",
              "      <td>0.0</td>\n",
              "      <td>0.0</td>\n",
              "      <td>0.0</td>\n",
              "      <td>0.0</td>\n",
              "      <td>...</td>\n",
              "      <td>0.0</td>\n",
              "      <td>0.0</td>\n",
              "      <td>0.0</td>\n",
              "      <td>0.0</td>\n",
              "      <td>0.0</td>\n",
              "      <td>0.0</td>\n",
              "      <td>0.0</td>\n",
              "      <td>0.0</td>\n",
              "      <td>0.0</td>\n",
              "      <td>0.0</td>\n",
              "    </tr>\n",
              "  </tbody>\n",
              "</table>\n",
              "<p>5 rows × 1222 columns</p>\n",
              "</div>\n",
              "      <button class=\"colab-df-convert\" onclick=\"convertToInteractive('df-de47bae7-01bc-441e-b7f7-a3926e89bb1d')\"\n",
              "              title=\"Convert this dataframe to an interactive table.\"\n",
              "              style=\"display:none;\">\n",
              "        \n",
              "  <svg xmlns=\"http://www.w3.org/2000/svg\" height=\"24px\"viewBox=\"0 0 24 24\"\n",
              "       width=\"24px\">\n",
              "    <path d=\"M0 0h24v24H0V0z\" fill=\"none\"/>\n",
              "    <path d=\"M18.56 5.44l.94 2.06.94-2.06 2.06-.94-2.06-.94-.94-2.06-.94 2.06-2.06.94zm-11 1L8.5 8.5l.94-2.06 2.06-.94-2.06-.94L8.5 2.5l-.94 2.06-2.06.94zm10 10l.94 2.06.94-2.06 2.06-.94-2.06-.94-.94-2.06-.94 2.06-2.06.94z\"/><path d=\"M17.41 7.96l-1.37-1.37c-.4-.4-.92-.59-1.43-.59-.52 0-1.04.2-1.43.59L10.3 9.45l-7.72 7.72c-.78.78-.78 2.05 0 2.83L4 21.41c.39.39.9.59 1.41.59.51 0 1.02-.2 1.41-.59l7.78-7.78 2.81-2.81c.8-.78.8-2.07 0-2.86zM5.41 20L4 18.59l7.72-7.72 1.47 1.35L5.41 20z\"/>\n",
              "  </svg>\n",
              "      </button>\n",
              "      \n",
              "  <style>\n",
              "    .colab-df-container {\n",
              "      display:flex;\n",
              "      flex-wrap:wrap;\n",
              "      gap: 12px;\n",
              "    }\n",
              "\n",
              "    .colab-df-convert {\n",
              "      background-color: #E8F0FE;\n",
              "      border: none;\n",
              "      border-radius: 50%;\n",
              "      cursor: pointer;\n",
              "      display: none;\n",
              "      fill: #1967D2;\n",
              "      height: 32px;\n",
              "      padding: 0 0 0 0;\n",
              "      width: 32px;\n",
              "    }\n",
              "\n",
              "    .colab-df-convert:hover {\n",
              "      background-color: #E2EBFA;\n",
              "      box-shadow: 0px 1px 2px rgba(60, 64, 67, 0.3), 0px 1px 3px 1px rgba(60, 64, 67, 0.15);\n",
              "      fill: #174EA6;\n",
              "    }\n",
              "\n",
              "    [theme=dark] .colab-df-convert {\n",
              "      background-color: #3B4455;\n",
              "      fill: #D2E3FC;\n",
              "    }\n",
              "\n",
              "    [theme=dark] .colab-df-convert:hover {\n",
              "      background-color: #434B5C;\n",
              "      box-shadow: 0px 1px 3px 1px rgba(0, 0, 0, 0.15);\n",
              "      filter: drop-shadow(0px 1px 2px rgba(0, 0, 0, 0.3));\n",
              "      fill: #FFFFFF;\n",
              "    }\n",
              "  </style>\n",
              "\n",
              "      <script>\n",
              "        const buttonEl =\n",
              "          document.querySelector('#df-de47bae7-01bc-441e-b7f7-a3926e89bb1d button.colab-df-convert');\n",
              "        buttonEl.style.display =\n",
              "          google.colab.kernel.accessAllowed ? 'block' : 'none';\n",
              "\n",
              "        async function convertToInteractive(key) {\n",
              "          const element = document.querySelector('#df-de47bae7-01bc-441e-b7f7-a3926e89bb1d');\n",
              "          const dataTable =\n",
              "            await google.colab.kernel.invokeFunction('convertToInteractive',\n",
              "                                                     [key], {});\n",
              "          if (!dataTable) return;\n",
              "\n",
              "          const docLinkHtml = 'Like what you see? Visit the ' +\n",
              "            '<a target=\"_blank\" href=https://colab.research.google.com/notebooks/data_table.ipynb>data table notebook</a>'\n",
              "            + ' to learn more about interactive tables.';\n",
              "          element.innerHTML = '';\n",
              "          dataTable['output_type'] = 'display_data';\n",
              "          await google.colab.output.renderOutput(dataTable, element);\n",
              "          const docLink = document.createElement('div');\n",
              "          docLink.innerHTML = docLinkHtml;\n",
              "          element.appendChild(docLink);\n",
              "        }\n",
              "      </script>\n",
              "    </div>\n",
              "  </div>\n",
              "  "
            ]
          },
          "metadata": {},
          "execution_count": 118
        }
      ]
    },
    {
      "cell_type": "code",
      "source": [
        "user_ids = list(user_items_pivot.index)\n",
        "user_ids[:10]"
      ],
      "metadata": {
        "colab": {
          "base_uri": "https://localhost:8080/"
        },
        "id": "s_sMwfpWzD8f",
        "outputId": "3c028a83-fc14-4da0-fc6f-be7d23373717"
      },
      "execution_count": null,
      "outputs": [
        {
          "output_type": "execute_result",
          "data": {
            "text/plain": [
              "[243, 254, 638, 882, 1435, 2276, 2766, 2891, 3167, 3373]"
            ]
          },
          "metadata": {},
          "execution_count": 119
        }
      ]
    },
    {
      "cell_type": "markdown",
      "source": [
        "Creating a sparse matrix of pivot created above."
      ],
      "metadata": {
        "id": "c2jUI4kYrBPq"
      }
    },
    {
      "cell_type": "code",
      "source": [
        "user_items_matrix = user_items_pivot.values"
      ],
      "metadata": {
        "id": "rPjHQ35ycyGi"
      },
      "execution_count": null,
      "outputs": []
    },
    {
      "cell_type": "code",
      "source": [
        "user_items_matrix"
      ],
      "metadata": {
        "colab": {
          "base_uri": "https://localhost:8080/"
        },
        "id": "a424R1sBrQET",
        "outputId": "be96cb7d-39a0-4b69-ff20-7e3f173472c3"
      },
      "execution_count": null,
      "outputs": [
        {
          "output_type": "execute_result",
          "data": {
            "text/plain": [
              "array([[0.        , 0.        , 0.        , ..., 0.        , 0.        ,\n",
              "        0.        ],\n",
              "       [0.        , 0.        , 0.        , ..., 0.        , 0.        ,\n",
              "        0.        ],\n",
              "       [0.        , 0.        , 0.        , ..., 0.        , 0.        ,\n",
              "        0.        ],\n",
              "       ...,\n",
              "       [0.        , 3.45943162, 0.        , ..., 0.        , 0.        ,\n",
              "        0.        ],\n",
              "       [0.        , 0.        , 0.        , ..., 0.        , 0.        ,\n",
              "        0.        ],\n",
              "       [0.        , 0.        , 0.        , ..., 0.        , 0.        ,\n",
              "        0.        ]])"
            ]
          },
          "metadata": {},
          "execution_count": 121
        }
      ]
    },
    {
      "cell_type": "markdown",
      "source": [
        "**SVD - Latent Factor Model Collaborative Filtering**\n",
        "\n",
        "SVD of Singular Value Decomposition a method from linear algebra that has been generally used as a dimensionality reduction technique in machine learning. SVD is a matrix factorisation technique, which reduces the number of features of a dataset by reducing the space dimension from N-dimension to K-dimension (where K < N). In the context of the recommender system, the SVD is used as a collaborative filtering technique. It uses a matrix structure where each row represents a user(User-ID in this case), and each column represents an item(Book ISBN in this case). The elements of this matrix are the ratings that are given to items by users(Book rating given by user). It provides another way to factorize a matrix, into singular vectors and singular values."
      ],
      "metadata": {
        "id": "rdabOHw1sLGa"
      }
    },
    {
      "cell_type": "code",
      "source": [
        "from sklearn.metrics.pairwise import cosine_similarity\n",
        "from scipy.sparse.linalg import svds"
      ],
      "metadata": {
        "id": "5n-3tXfzrRmh"
      },
      "execution_count": null,
      "outputs": []
    },
    {
      "cell_type": "code",
      "source": [
        "## Number of factors tp factor the the user-item matrix\n",
        "NUMBER_OF_FACTORS = 35\n",
        "\n",
        "## Performing matrix factorization of user_items_matrix\n",
        "U, sigma, Vt = svds(user_items_matrix, k = NUMBER_OF_FACTORS)"
      ],
      "metadata": {
        "id": "uF-dPZYFt4Ut"
      },
      "execution_count": null,
      "outputs": []
    },
    {
      "cell_type": "code",
      "source": [
        "## Checking the shape of user_items_matrix and U\n",
        "\n",
        "print(user_items_matrix.shape)\n",
        "print(U.shape)"
      ],
      "metadata": {
        "colab": {
          "base_uri": "https://localhost:8080/"
        },
        "id": "_Xgdc0EYuzWk",
        "outputId": "e31f0d0b-9b65-41ce-ad1a-fb84824253af"
      },
      "execution_count": null,
      "outputs": [
        {
          "output_type": "stream",
          "name": "stdout",
          "text": [
            "(955, 1222)\n",
            "(955, 35)\n"
          ]
        }
      ]
    },
    {
      "cell_type": "code",
      "source": [
        "sigma = np.diag(sigma)\n",
        "sigma.shape"
      ],
      "metadata": {
        "colab": {
          "base_uri": "https://localhost:8080/"
        },
        "id": "bDSGzJYsu_ZZ",
        "outputId": "98284344-7bbf-4eb2-c0b3-1e4b4f2a012b"
      },
      "execution_count": null,
      "outputs": [
        {
          "output_type": "execute_result",
          "data": {
            "text/plain": [
              "(35, 35)"
            ]
          },
          "metadata": {},
          "execution_count": 144
        }
      ]
    },
    {
      "cell_type": "code",
      "source": [
        "Vt.shape"
      ],
      "metadata": {
        "colab": {
          "base_uri": "https://localhost:8080/"
        },
        "id": "aiP0U4yOvLTl",
        "outputId": "14f20a0d-ed67-4432-8c13-d4982f109ea2"
      },
      "execution_count": null,
      "outputs": [
        {
          "output_type": "execute_result",
          "data": {
            "text/plain": [
              "(35, 1222)"
            ]
          },
          "metadata": {},
          "execution_count": 145
        }
      ]
    },
    {
      "cell_type": "markdown",
      "source": [
        "Reconstructing the original matrix by multiplying with its factors. The resulting matrix will no be sparse matrix. It is predicted values for the items user haven't yet interacted with. "
      ],
      "metadata": {
        "id": "2MhOh3S7wqkE"
      }
    },
    {
      "cell_type": "code",
      "source": [
        "predicted_user_ratings = np.dot(np.dot(U, sigma), Vt)"
      ],
      "metadata": {
        "id": "HE0ZVGRGvXEC"
      },
      "execution_count": null,
      "outputs": []
    },
    {
      "cell_type": "code",
      "source": [
        "predicted_user_ratings"
      ],
      "metadata": {
        "colab": {
          "base_uri": "https://localhost:8080/"
        },
        "id": "cVZNyvWTxe0g",
        "outputId": "40bcfc18-2c6a-4242-9974-da64ec6863da"
      },
      "execution_count": null,
      "outputs": [
        {
          "output_type": "execute_result",
          "data": {
            "text/plain": [
              "array([[ 0.01658262, -0.0220575 ,  0.00143377, ..., -0.00997101,\n",
              "        -0.0570089 ,  0.08859391],\n",
              "       [-0.00221785, -0.08554052, -0.05197322, ...,  0.01764234,\n",
              "         0.05870067,  0.08527407],\n",
              "       [ 0.01152721,  0.02229621,  0.02767934, ...,  0.08389558,\n",
              "         0.16844137,  0.20272861],\n",
              "       ...,\n",
              "       [-0.03406975,  0.08790837,  0.00334709, ..., -0.00100631,\n",
              "         0.06508313,  0.05980029],\n",
              "       [-0.00518621,  0.00390277,  0.0330896 , ...,  0.04901228,\n",
              "         0.0680719 ,  0.02118436],\n",
              "       [ 0.01590805,  0.06287774, -0.01269708, ..., -0.0209057 ,\n",
              "        -0.04781043,  0.10075088]])"
            ]
          },
          "metadata": {},
          "execution_count": 147
        }
      ]
    },
    {
      "cell_type": "code",
      "source": [
        "predicted_user_ratings.shape"
      ],
      "metadata": {
        "colab": {
          "base_uri": "https://localhost:8080/"
        },
        "id": "ruDpUfh4xgfO",
        "outputId": "d4fa0e17-2fe9-4be5-d0c4-e71fa6f1b1e2"
      },
      "execution_count": null,
      "outputs": [
        {
          "output_type": "execute_result",
          "data": {
            "text/plain": [
              "(955, 1222)"
            ]
          },
          "metadata": {},
          "execution_count": 148
        }
      ]
    },
    {
      "cell_type": "markdown",
      "source": [
        "Creating a dataframe from predicted ratings for each user."
      ],
      "metadata": {
        "id": "DI4sVGZIxm2l"
      }
    },
    {
      "cell_type": "code",
      "source": [
        "## Converting predicted ratings matrix into dataframe\n",
        "\n",
        "pred_df = pd.DataFrame(predicted_user_ratings, columns = user_items_pivot.columns, index = user_ids).transpose()"
      ],
      "metadata": {
        "id": "xpV_KjlYxkjL"
      },
      "execution_count": null,
      "outputs": []
    },
    {
      "cell_type": "code",
      "source": [
        "pred_df.head()"
      ],
      "metadata": {
        "colab": {
          "base_uri": "https://localhost:8080/",
          "height": 331
        },
        "id": "1Hen3Ppyy2BN",
        "outputId": "badce4bd-67cc-4a39-abbd-ac37b5443d38"
      },
      "execution_count": null,
      "outputs": [
        {
          "output_type": "execute_result",
          "data": {
            "text/plain": [
              "              243       254       638       882       1435      2276    \\\n",
              "ISBN                                                                     \n",
              "002026478X  0.016583 -0.002218  0.011527 -0.021410  0.019405  0.025006   \n",
              "002542730X -0.022058 -0.085541  0.022296  0.001632  0.100533  0.021104   \n",
              "0060008032  0.001434 -0.051973  0.027679 -0.010476  0.036853  0.017741   \n",
              "006001203X -0.054559 -0.002567  0.160421 -0.012430  0.014109  0.049441   \n",
              "0060085444  0.026311  0.050692  0.013939  0.002898 -0.038169  0.012150   \n",
              "\n",
              "              2766      2891      3167      3373    ...    274061    274308  \\\n",
              "ISBN                                                ...                       \n",
              "002026478X  0.024564  0.004840 -0.004790  0.008498  ...  0.020933 -0.010232   \n",
              "002542730X  0.121860 -0.081497  0.059821  0.029680  ...  0.036568  0.006711   \n",
              "0060008032 -0.004298  0.005058  0.033468  0.018805  ...  0.012257  0.032218   \n",
              "006001203X -0.032911 -0.031510  0.006714  0.035335  ... -0.057022 -0.041405   \n",
              "0060085444 -0.121897 -0.029767 -0.028443  0.002766  ... -0.071760  0.000775   \n",
              "\n",
              "              275970    276050    276165    276231    276680    277427  \\\n",
              "ISBN                                                                     \n",
              "002026478X -0.011736  0.017818  0.078407 -0.034912  0.014223 -0.034070   \n",
              "002542730X  0.071490  0.189958  0.164812 -0.111060  0.062522  0.087908   \n",
              "0060008032  0.066352  0.004094  0.012647  0.021793  0.021118  0.003347   \n",
              "006001203X -0.021008  0.018517  0.032845 -0.046619  0.095644  0.006540   \n",
              "0060085444 -0.034379  0.117211  0.305922 -0.027570 -0.029836  0.081104   \n",
              "\n",
              "              278026    278633  \n",
              "ISBN                            \n",
              "002026478X -0.005186  0.015908  \n",
              "002542730X  0.003903  0.062878  \n",
              "0060008032  0.033090 -0.012697  \n",
              "006001203X  0.026117  0.076272  \n",
              "0060085444  0.012975 -0.034105  \n",
              "\n",
              "[5 rows x 955 columns]"
            ],
            "text/html": [
              "\n",
              "  <div id=\"df-4fe7766a-918e-4eb4-85d1-a48479f08383\">\n",
              "    <div class=\"colab-df-container\">\n",
              "      <div>\n",
              "<style scoped>\n",
              "    .dataframe tbody tr th:only-of-type {\n",
              "        vertical-align: middle;\n",
              "    }\n",
              "\n",
              "    .dataframe tbody tr th {\n",
              "        vertical-align: top;\n",
              "    }\n",
              "\n",
              "    .dataframe thead th {\n",
              "        text-align: right;\n",
              "    }\n",
              "</style>\n",
              "<table border=\"1\" class=\"dataframe\">\n",
              "  <thead>\n",
              "    <tr style=\"text-align: right;\">\n",
              "      <th></th>\n",
              "      <th>243</th>\n",
              "      <th>254</th>\n",
              "      <th>638</th>\n",
              "      <th>882</th>\n",
              "      <th>1435</th>\n",
              "      <th>2276</th>\n",
              "      <th>2766</th>\n",
              "      <th>2891</th>\n",
              "      <th>3167</th>\n",
              "      <th>3373</th>\n",
              "      <th>...</th>\n",
              "      <th>274061</th>\n",
              "      <th>274308</th>\n",
              "      <th>275970</th>\n",
              "      <th>276050</th>\n",
              "      <th>276165</th>\n",
              "      <th>276231</th>\n",
              "      <th>276680</th>\n",
              "      <th>277427</th>\n",
              "      <th>278026</th>\n",
              "      <th>278633</th>\n",
              "    </tr>\n",
              "    <tr>\n",
              "      <th>ISBN</th>\n",
              "      <th></th>\n",
              "      <th></th>\n",
              "      <th></th>\n",
              "      <th></th>\n",
              "      <th></th>\n",
              "      <th></th>\n",
              "      <th></th>\n",
              "      <th></th>\n",
              "      <th></th>\n",
              "      <th></th>\n",
              "      <th></th>\n",
              "      <th></th>\n",
              "      <th></th>\n",
              "      <th></th>\n",
              "      <th></th>\n",
              "      <th></th>\n",
              "      <th></th>\n",
              "      <th></th>\n",
              "      <th></th>\n",
              "      <th></th>\n",
              "      <th></th>\n",
              "    </tr>\n",
              "  </thead>\n",
              "  <tbody>\n",
              "    <tr>\n",
              "      <th>002026478X</th>\n",
              "      <td>0.016583</td>\n",
              "      <td>-0.002218</td>\n",
              "      <td>0.011527</td>\n",
              "      <td>-0.021410</td>\n",
              "      <td>0.019405</td>\n",
              "      <td>0.025006</td>\n",
              "      <td>0.024564</td>\n",
              "      <td>0.004840</td>\n",
              "      <td>-0.004790</td>\n",
              "      <td>0.008498</td>\n",
              "      <td>...</td>\n",
              "      <td>0.020933</td>\n",
              "      <td>-0.010232</td>\n",
              "      <td>-0.011736</td>\n",
              "      <td>0.017818</td>\n",
              "      <td>0.078407</td>\n",
              "      <td>-0.034912</td>\n",
              "      <td>0.014223</td>\n",
              "      <td>-0.034070</td>\n",
              "      <td>-0.005186</td>\n",
              "      <td>0.015908</td>\n",
              "    </tr>\n",
              "    <tr>\n",
              "      <th>002542730X</th>\n",
              "      <td>-0.022058</td>\n",
              "      <td>-0.085541</td>\n",
              "      <td>0.022296</td>\n",
              "      <td>0.001632</td>\n",
              "      <td>0.100533</td>\n",
              "      <td>0.021104</td>\n",
              "      <td>0.121860</td>\n",
              "      <td>-0.081497</td>\n",
              "      <td>0.059821</td>\n",
              "      <td>0.029680</td>\n",
              "      <td>...</td>\n",
              "      <td>0.036568</td>\n",
              "      <td>0.006711</td>\n",
              "      <td>0.071490</td>\n",
              "      <td>0.189958</td>\n",
              "      <td>0.164812</td>\n",
              "      <td>-0.111060</td>\n",
              "      <td>0.062522</td>\n",
              "      <td>0.087908</td>\n",
              "      <td>0.003903</td>\n",
              "      <td>0.062878</td>\n",
              "    </tr>\n",
              "    <tr>\n",
              "      <th>0060008032</th>\n",
              "      <td>0.001434</td>\n",
              "      <td>-0.051973</td>\n",
              "      <td>0.027679</td>\n",
              "      <td>-0.010476</td>\n",
              "      <td>0.036853</td>\n",
              "      <td>0.017741</td>\n",
              "      <td>-0.004298</td>\n",
              "      <td>0.005058</td>\n",
              "      <td>0.033468</td>\n",
              "      <td>0.018805</td>\n",
              "      <td>...</td>\n",
              "      <td>0.012257</td>\n",
              "      <td>0.032218</td>\n",
              "      <td>0.066352</td>\n",
              "      <td>0.004094</td>\n",
              "      <td>0.012647</td>\n",
              "      <td>0.021793</td>\n",
              "      <td>0.021118</td>\n",
              "      <td>0.003347</td>\n",
              "      <td>0.033090</td>\n",
              "      <td>-0.012697</td>\n",
              "    </tr>\n",
              "    <tr>\n",
              "      <th>006001203X</th>\n",
              "      <td>-0.054559</td>\n",
              "      <td>-0.002567</td>\n",
              "      <td>0.160421</td>\n",
              "      <td>-0.012430</td>\n",
              "      <td>0.014109</td>\n",
              "      <td>0.049441</td>\n",
              "      <td>-0.032911</td>\n",
              "      <td>-0.031510</td>\n",
              "      <td>0.006714</td>\n",
              "      <td>0.035335</td>\n",
              "      <td>...</td>\n",
              "      <td>-0.057022</td>\n",
              "      <td>-0.041405</td>\n",
              "      <td>-0.021008</td>\n",
              "      <td>0.018517</td>\n",
              "      <td>0.032845</td>\n",
              "      <td>-0.046619</td>\n",
              "      <td>0.095644</td>\n",
              "      <td>0.006540</td>\n",
              "      <td>0.026117</td>\n",
              "      <td>0.076272</td>\n",
              "    </tr>\n",
              "    <tr>\n",
              "      <th>0060085444</th>\n",
              "      <td>0.026311</td>\n",
              "      <td>0.050692</td>\n",
              "      <td>0.013939</td>\n",
              "      <td>0.002898</td>\n",
              "      <td>-0.038169</td>\n",
              "      <td>0.012150</td>\n",
              "      <td>-0.121897</td>\n",
              "      <td>-0.029767</td>\n",
              "      <td>-0.028443</td>\n",
              "      <td>0.002766</td>\n",
              "      <td>...</td>\n",
              "      <td>-0.071760</td>\n",
              "      <td>0.000775</td>\n",
              "      <td>-0.034379</td>\n",
              "      <td>0.117211</td>\n",
              "      <td>0.305922</td>\n",
              "      <td>-0.027570</td>\n",
              "      <td>-0.029836</td>\n",
              "      <td>0.081104</td>\n",
              "      <td>0.012975</td>\n",
              "      <td>-0.034105</td>\n",
              "    </tr>\n",
              "  </tbody>\n",
              "</table>\n",
              "<p>5 rows × 955 columns</p>\n",
              "</div>\n",
              "      <button class=\"colab-df-convert\" onclick=\"convertToInteractive('df-4fe7766a-918e-4eb4-85d1-a48479f08383')\"\n",
              "              title=\"Convert this dataframe to an interactive table.\"\n",
              "              style=\"display:none;\">\n",
              "        \n",
              "  <svg xmlns=\"http://www.w3.org/2000/svg\" height=\"24px\"viewBox=\"0 0 24 24\"\n",
              "       width=\"24px\">\n",
              "    <path d=\"M0 0h24v24H0V0z\" fill=\"none\"/>\n",
              "    <path d=\"M18.56 5.44l.94 2.06.94-2.06 2.06-.94-2.06-.94-.94-2.06-.94 2.06-2.06.94zm-11 1L8.5 8.5l.94-2.06 2.06-.94-2.06-.94L8.5 2.5l-.94 2.06-2.06.94zm10 10l.94 2.06.94-2.06 2.06-.94-2.06-.94-.94-2.06-.94 2.06-2.06.94z\"/><path d=\"M17.41 7.96l-1.37-1.37c-.4-.4-.92-.59-1.43-.59-.52 0-1.04.2-1.43.59L10.3 9.45l-7.72 7.72c-.78.78-.78 2.05 0 2.83L4 21.41c.39.39.9.59 1.41.59.51 0 1.02-.2 1.41-.59l7.78-7.78 2.81-2.81c.8-.78.8-2.07 0-2.86zM5.41 20L4 18.59l7.72-7.72 1.47 1.35L5.41 20z\"/>\n",
              "  </svg>\n",
              "      </button>\n",
              "      \n",
              "  <style>\n",
              "    .colab-df-container {\n",
              "      display:flex;\n",
              "      flex-wrap:wrap;\n",
              "      gap: 12px;\n",
              "    }\n",
              "\n",
              "    .colab-df-convert {\n",
              "      background-color: #E8F0FE;\n",
              "      border: none;\n",
              "      border-radius: 50%;\n",
              "      cursor: pointer;\n",
              "      display: none;\n",
              "      fill: #1967D2;\n",
              "      height: 32px;\n",
              "      padding: 0 0 0 0;\n",
              "      width: 32px;\n",
              "    }\n",
              "\n",
              "    .colab-df-convert:hover {\n",
              "      background-color: #E2EBFA;\n",
              "      box-shadow: 0px 1px 2px rgba(60, 64, 67, 0.3), 0px 1px 3px 1px rgba(60, 64, 67, 0.15);\n",
              "      fill: #174EA6;\n",
              "    }\n",
              "\n",
              "    [theme=dark] .colab-df-convert {\n",
              "      background-color: #3B4455;\n",
              "      fill: #D2E3FC;\n",
              "    }\n",
              "\n",
              "    [theme=dark] .colab-df-convert:hover {\n",
              "      background-color: #434B5C;\n",
              "      box-shadow: 0px 1px 3px 1px rgba(0, 0, 0, 0.15);\n",
              "      filter: drop-shadow(0px 1px 2px rgba(0, 0, 0, 0.3));\n",
              "      fill: #FFFFFF;\n",
              "    }\n",
              "  </style>\n",
              "\n",
              "      <script>\n",
              "        const buttonEl =\n",
              "          document.querySelector('#df-4fe7766a-918e-4eb4-85d1-a48479f08383 button.colab-df-convert');\n",
              "        buttonEl.style.display =\n",
              "          google.colab.kernel.accessAllowed ? 'block' : 'none';\n",
              "\n",
              "        async function convertToInteractive(key) {\n",
              "          const element = document.querySelector('#df-4fe7766a-918e-4eb4-85d1-a48479f08383');\n",
              "          const dataTable =\n",
              "            await google.colab.kernel.invokeFunction('convertToInteractive',\n",
              "                                                     [key], {});\n",
              "          if (!dataTable) return;\n",
              "\n",
              "          const docLinkHtml = 'Like what you see? Visit the ' +\n",
              "            '<a target=\"_blank\" href=https://colab.research.google.com/notebooks/data_table.ipynb>data table notebook</a>'\n",
              "            + ' to learn more about interactive tables.';\n",
              "          element.innerHTML = '';\n",
              "          dataTable['output_type'] = 'display_data';\n",
              "          await google.colab.output.renderOutput(dataTable, element);\n",
              "          const docLink = document.createElement('div');\n",
              "          docLink.innerHTML = docLinkHtml;\n",
              "          element.appendChild(docLink);\n",
              "        }\n",
              "      </script>\n",
              "    </div>\n",
              "  </div>\n",
              "  "
            ]
          },
          "metadata": {},
          "execution_count": 150
        }
      ]
    },
    {
      "cell_type": "markdown",
      "source": [
        "**Creating a Recommender Class for Collaborative Filtering**"
      ],
      "metadata": {
        "id": "pmdwbaaozfe2"
      }
    },
    {
      "cell_type": "code",
      "source": [
        "import random"
      ],
      "metadata": {
        "id": "7DE-F8AyzZvy"
      },
      "execution_count": null,
      "outputs": []
    },
    {
      "cell_type": "code",
      "source": [
        "class Recommender:\n",
        "\n",
        "    MODEL_NAME = 'Collaborative Filtering'\n",
        "\n",
        "    def __init__(self, predictions_df):\n",
        "        self.predictions_df = predictions_df\n",
        "\n",
        "    def get_model_name(self):\n",
        "        return self.MODEL_NAME\n",
        "    \n",
        "    def recommend_items(self, user_id, items_to_ignore = [], topn = 10):\n",
        "        # Get and sort the user's predictions\n",
        "        sorted_user_predictions = self.predictions_df[user_id].sort_values(ascending=False).reset_index().rename(columns={user_id: 'recStrength'})\n",
        "\n",
        "        # Recommend the highest predicted rating content that the user hasn't seen yet.\n",
        "        recommendations_df = sorted_user_predictions[~sorted_user_predictions['ISBN'].isin(items_to_ignore)].sort_values('recStrength', ascending = False).head(topn)\n",
        "        recommendations_df = recommendations_df.merge(books_df,on='ISBN',how='inner')\n",
        "        recommendations_df = recommendations_df[['ISBN','Book-Title','recStrength']]\n",
        "\n",
        "        return recommendations_df\n",
        "\n",
        "recommender_model = Recommender(pred_df)"
      ],
      "metadata": {
        "id": "N1W_qhc2ztRe"
      },
      "execution_count": null,
      "outputs": []
    },
    {
      "cell_type": "markdown",
      "source": [
        "**Recommender Model Evaluation**\n",
        "\n",
        "In Recommender Systems, there are a set metrics commonly used for evaluation. We choose to work with **Top-N accuracy metrics**, which evaluates the accuracy of the top recommendations provided to a user, comparing to the items the user has actually interacted in test set.\n",
        "\n",
        "This evaluation method works as follows:\n",
        "\n",
        "* For each user\n",
        "    *  For each item the user has interacted in test set\n",
        "        *  Sample 100 other items the user has never interacted.   \n",
        "        *  Ask the recommender model to produce a ranked list of recommended items, from a set composed of one interacted item and the 100 non-interacted items\n",
        "        *  Compute the Top-N accuracy metrics for this user and interacted item from the recommendations ranked list\n",
        "*  Aggregate the global Top-N accuracy metrics"
      ],
      "metadata": {
        "id": "t6gFwp_91kEs"
      }
    },
    {
      "cell_type": "code",
      "source": [
        "#Indexing by personId to speed up the searches during evaluation\n",
        "interactions_full_indexed_df = interactions_full_df.set_index('User-ID')\n",
        "interactions_train_indexed_df = train_df.set_index('User-ID')\n",
        "interactions_test_indexed_df = test_df.set_index('User-ID')"
      ],
      "metadata": {
        "id": "afHvr2fq1g2b"
      },
      "execution_count": null,
      "outputs": []
    },
    {
      "cell_type": "markdown",
      "source": [
        "The Top-N accuracy metric choosen was **Recall@N** which evaluates whether the interacted item is among the top N items (hit) in the ranked list of recommendations for a user."
      ],
      "metadata": {
        "id": "CNUcS2udFrsy"
      }
    },
    {
      "cell_type": "code",
      "source": [
        "def get_items_interacted(UserID, interactions_df):\n",
        "    interacted_items = interactions_df.loc[UserID]['ISBN']\n",
        "    return set(interacted_items if type(interacted_items) == pd.Series else [interacted_items])"
      ],
      "metadata": {
        "id": "UrULRd20Fnz1"
      },
      "execution_count": null,
      "outputs": []
    },
    {
      "cell_type": "code",
      "source": [
        "class ModelRecommender:\n",
        "\n",
        "    # Function for getting the set of items which a user has not interacted with\n",
        "    def get_not_interacted_items_sample(self, UserID, sample_size, seed=42):\n",
        "        interacted_items = get_items_interacted(UserID, interactions_full_indexed_df)\n",
        "        all_items = set(usa_canada_users_df['ISBN'])\n",
        "        non_interacted_items = all_items - interacted_items\n",
        "\n",
        "        random.seed(seed)\n",
        "        non_interacted_items_sample = random.sample(non_interacted_items, sample_size)\n",
        "        return set(non_interacted_items_sample)\n",
        "\n",
        "    # Function to verify whether a particular item_id was present in the set of top N recommended items\n",
        "    def _verify_hit_top_n(self, item_id, recommended_items, topn):        \n",
        "            try:\n",
        "                index = next(i for i, c in enumerate(recommended_items) if c == item_id)\n",
        "            except:\n",
        "                index = -1\n",
        "            hit = int(index in range(0, topn))\n",
        "            return hit, index\n",
        "    \n",
        "    # Function to evaluate the performance of model for each user\n",
        "    def evaluate_model_for_user(self, model, person_id):\n",
        "        \n",
        "        # Getting the items in test set\n",
        "        interacted_values_testset = interactions_test_indexed_df.loc[person_id]\n",
        "        \n",
        "        if type(interacted_values_testset['ISBN']) == pd.Series:\n",
        "            person_interacted_items_testset = set(interacted_values_testset['ISBN'])\n",
        "        else:\n",
        "            person_interacted_items_testset = set([str(interacted_values_testset['ISBN'])])\n",
        "            \n",
        "        interacted_items_count_testset = len(person_interacted_items_testset) \n",
        "\n",
        "        # Getting a ranked recommendation list from the model for a given user\n",
        "        person_recs_df = model.recommend_items(person_id, items_to_ignore=get_items_interacted(person_id, interactions_train_indexed_df),topn=10000000000)\n",
        "        print('Recommendation for User-ID = ',person_id)\n",
        "        print(person_recs_df.head(10))\n",
        "\n",
        "        # Function to evaluate the performance of model at overall level\n",
        "    def recommend_book(self, model ,userid):\n",
        "        \n",
        "        person_metrics = self.evaluate_model_for_user(model, userid)  \n",
        "        return\n",
        "\n",
        "model_recommender = ModelRecommender()"
      ],
      "metadata": {
        "id": "g7SX7q-rF10c"
      },
      "execution_count": null,
      "outputs": []
    },
    {
      "cell_type": "markdown",
      "source": [
        "Checking users having interaction of atleast 10 and present in out interaction_full_df."
      ],
      "metadata": {
        "id": "R-W3jNQPGdat"
      }
    },
    {
      "cell_type": "code",
      "source": [
        "print(list(interactions_full_indexed_df.index.values))"
      ],
      "metadata": {
        "colab": {
          "base_uri": "https://localhost:8080/"
        },
        "id": "qSRvcQGvGEQQ",
        "outputId": "08397004-4cd2-43a6-978d-7742f7e70ce8"
      },
      "execution_count": null,
      "outputs": [
        {
          "output_type": "stream",
          "name": "stdout",
          "text": [
            "[95359, 104113, 248718, 264947, 271448, 12538, 16996, 41084, 52584, 110934, 113270, 128835, 150979, 174216, 179734, 183995, 208671, 225763, 229741, 269566, 277427, 93426, 135149, 142715, 165308, 205980, 265115, 265889, 271705, 16795, 31315, 61854, 131046, 235282, 242106, 242143, 6563, 13552, 117251, 144531, 149934, 182993, 207148, 258185, 265889, 276165, 7125, 7346, 8067, 13552, 25409, 28204, 93426, 95173, 95359, 125692, 127359, 138198, 181687, 210874, 228868, 246507, 251422, 113270, 146803, 218608, 13850, 15049, 16634, 31556, 32802, 39281, 59150, 96440, 141491, 144478, 145369, 165308, 246513, 29526, 78448, 86189, 110912, 133747, 137589, 141710, 145641, 196502, 222035, 240219, 276050, 21014, 55187, 69078, 95359, 100459, 105214, 110912, 130571, 138578, 146803, 150979, 201677, 37712, 69078, 77809, 142256, 174326, 178920, 201677, 218552, 248464, 250184, 10447, 91058, 154730, 201677, 224349, 6563, 8245, 28177, 29526, 48046, 55187, 69078, 100459, 110912, 111174, 116904, 142524, 236757, 242299, 8253, 31393, 43910, 46398, 48046, 63938, 69389, 90616, 101876, 108005, 124874, 126604, 141491, 172742, 195904, 206563, 226965, 235282, 264543, 6251, 16634, 17003, 34588, 36907, 51883, 56856, 60244, 60337, 63956, 68984, 75591, 81977, 85757, 87555, 94347, 95173, 95359, 97874, 100459, 106007, 110912, 114868, 122440, 126604, 142524, 145641, 154070, 157273, 157811, 164323, 178199, 180042, 183995, 187762, 218568, 222296, 225763, 234828, 245410, 6575, 8066, 13850, 20180, 21576, 22074, 29259, 30735, 33818, 34300, 35859, 36609, 41455, 41841, 51450, 55492, 57398, 60244, 64436, 76818, 86720, 98904, 110934, 110973, 123056, 135045, 137589, 140223, 141710, 149069, 153662, 154070, 160819, 172742, 177090, 178667, 196077, 211344, 220240, 221948, 227025, 228764, 244627, 259035, 269890, 271705, 16996, 103336, 167812, 208829, 225087, 240567, 271176, 275970, 32773, 87555, 112083, 177432, 185722, 229741, 243, 1435, 4017, 6563, 8253, 10447, 12538, 16488, 17003, 21011, 21014, 30994, 46443, 69078, 72214, 76352, 88733, 95359, 104113, 105979, 112026, 113270, 114868, 115003, 138777, 143415, 155147, 174216, 209174, 220597, 221445, 225087, 230522, 232131, 235935, 236757, 245371, 264543, 271144, 10447, 21618, 23872, 60337, 66878, 94347, 95359, 105374, 129716, 144038, 157811, 162738, 169682, 175052, 204864, 217375, 224809, 229741, 271144, 275970, 17003, 19664, 21014, 69078, 76352, 76499, 88937, 115003, 143415, 144038, 187256, 220597, 225087, 232131, 242299, 17003, 30994, 36606, 39281, 62891, 75591, 76352, 78783, 95359, 98263, 105937, 110912, 144038, 168064, 172742, 225087, 228681, 2891, 6575, 8253, 10447, 12824, 14422, 19842, 20180, 21014, 21404, 21576, 26621, 27472, 30972, 32250, 36606, 40889, 52917, 53392, 53418, 56447, 57398, 60244, 62862, 68555, 77809, 83637, 88733, 88937, 95932, 96357, 101606, 103336, 109574, 110912, 114544, 120908, 126492, 128085, 135045, 137211, 137589, 139387, 142715, 143163, 147141, 158254, 165308, 172512, 174596, 180042, 182459, 182993, 187256, 190925, 193676, 195694, 196077, 202277, 203240, 204864, 206563, 208829, 209373, 210874, 212923, 216670, 218552, 221445, 222220, 229741, 236757, 242299, 243236, 253871, 254201, 260897, 268032, 268110, 271448, 276231, 4017, 8253, 23768, 55490, 69078, 75149, 85526, 115435, 126492, 144531, 219683, 228021, 240567, 266226, 266865, 37644, 85526, 117251, 136348, 143415, 156150, 206944, 266226, 7125, 8253, 13273, 16795, 20180, 22074, 22625, 28177, 30533, 30994, 31393, 43619, 62862, 73044, 75149, 77809, 85526, 103336, 105979, 107784, 112001, 113270, 113904, 114544, 115572, 116758, 124874, 126693, 135149, 136382, 137589, 138543, 138844, 141491, 141493, 142121, 142479, 144038, 145641, 158254, 160558, 174326, 204864, 206944, 234828, 236757, 271195, 21014, 31393, 53418, 81771, 93092, 111174, 142121, 144555, 187256, 238613, 6242, 6575, 7283, 23768, 35859, 37712, 41781, 51526, 64436, 75149, 76352, 77181, 89602, 91832, 95359, 101305, 113270, 120908, 122801, 130571, 132375, 135458, 148744, 150979, 155147, 168954, 173415, 175052, 181687, 190741, 195904, 206534, 212923, 223087, 224764, 232131, 236757, 252695, 255489, 264657, 267033, 273086, 273979, 6242, 31826, 36907, 55927, 85526, 165308, 169682, 203240, 271195, 17003, 30487, 48046, 69078, 87555, 97874, 105374, 108155, 114868, 126388, 126604, 147141, 160558, 165319, 174596, 178667, 178920, 210485, 218552, 220688, 222035, 227447, 237748, 243360, 246513, 249894, 250925, 258534, 265313, 266865, 2766, 6242, 20172, 21011, 50225, 53241, 56447, 85526, 105517, 110934, 113519, 121170, 137688, 159033, 188010, 194600, 218121, 229741, 271705, 21014, 37712, 43246, 46443, 51742, 88733, 89602, 91113, 102705, 110912, 122801, 129084, 135831, 138777, 158254, 165308, 189835, 223154, 240567, 268110, 271144, 4017, 60337, 69156, 75591, 86189, 94787, 141493, 144531, 153513, 231210, 243360, 10314, 10447, 14422, 16795, 19664, 20180, 28177, 38273, 40914, 53241, 55927, 61854, 75081, 75591, 77181, 85757, 91832, 95359, 101606, 101876, 103336, 105979, 106007, 109574, 110912, 110973, 117251, 122429, 126395, 127233, 154730, 162639, 167471, 172512, 172742, 180042, 193676, 204864, 206534, 209756, 211344, 212923, 223154, 235935, 240219, 243294, 254201, 254299, 264031, 265115, 268622, 270605, 276231, 243, 8253, 8454, 21404, 22625, 28177, 36907, 81977, 101305, 115003, 115435, 138198, 143415, 145449, 167812, 203240, 206563, 206944, 243879, 6242, 6543, 6563, 6575, 7283, 7346, 8454, 16106, 23511, 28177, 37712, 60244, 63394, 77809, 89602, 91113, 96440, 96448, 104113, 110934, 115003, 115435, 121170, 125039, 130571, 135351, 138844, 142524, 147141, 150979, 153513, 162639, 165308, 168047, 170513, 184299, 220688, 224430, 225763, 227520, 228021, 229741, 234359, 254299, 255489, 259930, 264657, 271448, 6563, 8454, 10447, 20172, 37644, 49460, 53241, 78783, 89602, 94787, 95359, 95932, 96440, 96448, 105214, 110934, 114444, 121170, 135149, 138543, 142121, 144038, 150896, 157273, 165308, 171445, 196466, 196502, 203240, 204864, 210485, 224430, 259930, 266865, 271195, 8454, 22625, 30994, 36907, 44893, 53241, 62542, 87712, 93092, 110934, 113270, 114544, 126196, 140358, 142256, 174326, 200226, 220688, 223154, 224764, 229313, 229551, 230522, 231210, 232131, 235282, 264031, 266056, 270554, 276680, 278633, 25409, 46398, 52917, 85526, 86189, 129084, 138777, 160819, 168064, 204864, 239584, 240403, 242083, 245645, 252820, 11224, 31556, 102647, 124487, 128835, 156269, 6251, 6543, 7915, 8067, 11224, 16795, 23768, 30035, 30276, 33124, 35859, 40914, 42093, 46443, 59390, 64436, 69156, 88793, 95359, 101620, 104144, 104636, 104665, 115003, 130571, 133571, 135149, 136010, 136326, 145641, 146113, 148590, 153662, 165308, 167471, 177458, 179433, 193778, 202277, 218568, 226553, 236757, 239584, 242299, 245410, 250184, 259260, 277427, 278026, 4938, 14521, 15408, 19664, 28177, 31393, 62891, 70666, 78448, 91103, 93047, 95932, 101305, 110373, 115692, 127129, 138995, 153662, 158433, 162052, 181176, 185233, 207259, 214786, 218608, 232131, 249628, 250925, 264031, 272573, 20180, 41781, 43687, 55492, 56307, 65584, 86145, 126693, 137688, 138995, 142121, 160558, 178199, 273086, 6543, 40943, 41455, 58594, 108799, 135458, 183046, 221732, 234828, 236058, 265313, 270352, 8245, 85656, 184513, 190925, 200226, 251140, 266056, 19842, 23872, 52917, 88738, 126492, 217318, 224764, 232131, 232945, 6563, 19842, 28177, 37712, 62862, 95359, 106225, 114544, 127826, 139913, 144531, 147847, 162639, 163804, 169699, 177375, 202277, 224138, 237990, 250184, 255489, 260897, 260944, 31556, 44893, 97721, 113519, 170513, 211426, 246311, 263163, 270554, 271195, 16106, 55187, 56959, 72214, 97721, 170513, 218568, 254299, 266056, 271144, 188273, 190925, 201677, 204457, 41781, 112001, 142479, 157811, 190923, 190925, 268622, 8245, 17859, 66680, 93629, 162639, 192710, 196077, 254465, 16795, 33818, 37712, 85526, 87555, 111174, 114988, 128325, 129716, 139359, 174596, 188010, 198046, 234359, 239584, 270605, 15049, 21014, 36907, 48494, 88733, 93092, 100459, 100906, 104399, 104636, 110934, 115572, 155014, 155147, 177458, 179734, 196502, 197659, 223190, 263163, 264321, 265313, 269566, 275970, 14521, 16795, 21014, 21404, 31556, 32773, 49460, 55492, 55892, 81977, 85426, 93047, 104657, 110934, 126492, 135149, 135351, 137688, 138543, 138844, 147141, 150979, 153513, 165308, 165758, 170634, 174596, 178920, 179734, 185176, 218121, 229741, 240403, 245649, 250184, 271448, 276680, 13273, 16795, 85426, 110934, 125039, 126492, 126604, 135149, 135351, 142524, 143964, 147141, 165758, 174596, 179734, 185176, 227447, 228021, 229741, 240403, 21404, 55892, 110934, 135149, 135351, 138543, 165758, 179734, 218121, 228021, 229741, 240403, 254, 7346, 60244, 93092, 104636, 104665, 105054, 105374, 124876, 133689, 136205, 162639, 171118, 193458, 195694, 201684, 206534, 226965, 229741, 7346, 12538, 27472, 30035, 55892, 78834, 85426, 96448, 123257, 139742, 156150, 165308, 194600, 196077, 217375, 224430, 226545, 240700, 271448, 39773, 41084, 51526, 65663, 75819, 98391, 110973, 135149, 143211, 154529, 155580, 234828, 264031, 274308, 16488, 16795, 20180, 21014, 21031, 21356, 30735, 35859, 37712, 44728, 45557, 51992, 68555, 78448, 81771, 95359, 98263, 110973, 113519, 123094, 126903, 148744, 203240, 204864, 243236, 243360, 251422, 266056, 271144, 271195, 22625, 85526, 4017, 9856, 55492, 69078, 276050, 6251, 21031, 32773, 37950, 51526, 55187, 56447, 58594, 63956, 69355, 101851, 101876, 122801, 139387, 147224, 150979, 168064, 171295, 179978, 189835, 207494, 211426, 219683, 220688, 226965, 249894, 251003, 251422, 29855, 39345, 66680, 128835, 160681, 189080, 190923, 196160, 53241, 56447, 62891, 69078, 85526, 88937, 89602, 110912, 113270, 115435, 168954, 170513, 204864, 209160, 242299, 245371, 249894, 76818, 93047, 129716, 133747, 156269, 164323, 173415, 234359, 234828, 246311, 268110, 14521, 16996, 21014, 62891, 75149, 146803, 159506, 177432, 189835, 200226, 219683, 221948, 240567, 271195, 10314, 16795, 46398, 75591, 95359, 133747, 136010, 143968, 172742, 196047, 206534, 213126, 222296, 229741, 235105, 270605, 8253, 10314, 21014, 30487, 37712, 46398, 75591, 93629, 95359, 100906, 114544, 125039, 141710, 149934, 203240, 223154, 243236, 4017, 16795, 62862, 91103, 93092, 110973, 113270, 113519, 114544, 138844, 178199, 190459, 195904, 270605, 270801, 278633, 6543, 10447, 13273, 29209, 30533, 32773, 34588, 36135, 65258, 68555, 73044, 86189, 102275, 110440, 113270, 127359, 148744, 162639, 170634, 174326, 200226, 204813, 210485, 218121, 224249, 265115, 270605, 7346, 10447, 34588, 102275, 113270, 120598, 127826, 148744, 200226, 265115, 4017, 5582, 8067, 20180, 28634, 37712, 43246, 62891, 68555, 69211, 78834, 89602, 101305, 101620, 104636, 110912, 112083, 114544, 114868, 123257, 126604, 127233, 143968, 150968, 153662, 168064, 178199, 179734, 184424, 189973, 190925, 196077, 197364, 207782, 219546, 220688, 224430, 229313, 229741, 238889, 242106, 251140, 254465, 265115, 272573, 278633, 62891, 85526, 225763, 5582, 6242, 6575, 7125, 8454, 21014, 30081, 31393, 40914, 51450, 52584, 56554, 60244, 78783, 94347, 95359, 97721, 98263, 105979, 109899, 120908, 125692, 135149, 141493, 142121, 145641, 162738, 188010, 193499, 203240, 209174, 210485, 224430, 228868, 242299, 265889, 266056, 270352, 273979, 6575, 7346, 21014, 36606, 37712, 46443, 60244, 61427, 65663, 76499, 88793, 102967, 106225, 108155, 110912, 121170, 136348, 138543, 144531, 165308, 167812, 181687, 187256, 203240, 211426, 212923, 221445, 229011, 239584, 264657, 265115, 266056, 268622, 270713, 271705, 275970, 6575, 8454, 13552, 20180, 36907, 40943, 50073, 60244, 73044, 91113, 100906, 101620, 156150, 160819, 174596, 189973, 193458, 202277, 206944, 220688, 224430, 229011, 248718, 251140, 254465, 263877, 269835, 271705, 8066, 30972, 37644, 43246, 51742, 63938, 114868, 133747, 135351, 136139, 168954, 177072, 188010, 190741, 196077, 220240, 227705, 267033, 268032, 13552, 21484, 30735, 55799, 87555, 93426, 94347, 105979, 124874, 138543, 142524, 153718, 156150, 227447, 229011, 254299, 256843, 260897, 261829, 41841, 44728, 89602, 7158, 8454, 10314, 16795, 31315, 41841, 44893, 46398, 48975, 50895, 65258, 70052, 74286, 87555, 93092, 100459, 114544, 122429, 126903, 139359, 140358, 160819, 172742, 174326, 215988, 227025, 234359, 240567, 259035, 264031, 264082, 266865, 278633, 6242, 8245, 22625, 29209, 62862, 95359, 100906, 101305, 112001, 115003, 127359, 136348, 156150, 160819, 169233, 187256, 224249, 225763, 244171, 246507, 273979, 254, 2891, 6543, 6575, 8066, 8454, 8681, 16718, 16795, 21011, 22625, 29259, 31393, 35859, 36606, 37712, 46443, 51450, 56554, 60244, 60337, 66878, 69971, 73044, 74286, 75149, 81216, 86189, 88229, 89602, 95173, 106225, 108155, 121170, 126395, 128325, 129084, 133296, 135351, 135831, 136205, 136491, 141491, 146803, 152651, 161039, 163804, 168047, 171445, 172512, 178199, 178667, 184424, 187256, 193458, 195904, 203240, 204813, 210485, 210874, 218568, 220240, 221948, 223154, 226205, 228681, 230522, 232106, 234359, 235935, 238613, 240219, 240567, 242299, 243294, 255489, 256843, 259260, 263325, 264543, 266283, 266865, 270605, 8454, 20172, 49460, 61038, 85426, 89602, 96440, 110934, 122801, 168954, 193499, 204813, 204864, 232964, 240144, 269890, 270801, 16106, 25409, 52584, 52917, 56447, 60244, 67547, 70594, 95359, 105374, 142121, 167471, 224349, 240144, 242083, 246311, 246507, 250925, 265115, 265313, 17003, 21014, 34300, 51526, 64436, 68555, 73044, 93092, 116758, 129074, 150968, 178199, 182993, 187517, 215986, 217375, 223787, 242646, 256843, 268622, 13273, 14422, 16634, 36907, 39345, 42093, 60244, 67547, 69078, 91113, 95359, 97754, 114988, 135149, 142121, 239584, 242299, 246311, 265889, 270554, 16795, 40415, 55892, 98391, 108005, 113519, 123095, 124874, 127826, 136348, 139913, 169233, 207782, 223501, 223787, 224249, 232964, 243879, 246311, 246634, 250184, 271705, 8454, 28204, 43246, 50073, 75149, 100459, 184424, 188273, 194600, 204457, 207148, 240567, 257028, 8245, 62862, 95316, 100459, 102705, 127359, 142479, 150968, 196466, 224249, 240568, 8454, 10314, 21618, 26621, 63938, 86189, 110934, 133571, 153662, 213126, 219546, 225763, 271448, 275970, 2891, 8066, 8245, 8454, 21011, 28177, 36907, 46398, 48046, 69971, 75149, 80810, 81771, 85426, 86189, 90616, 91113, 97874, 104657, 115003, 133689, 142256, 147224, 154730, 158254, 162738, 165319, 168816, 184424, 187517, 190459, 192710, 203240, 204864, 210874, 217375, 222296, 223566, 224764, 231827, 234359, 251394, 261829, 264657, 266056, 270801, 273086, 7125, 7915, 10447, 16106, 37712, 89602, 108005, 211426, 226545, 229551, 237748, 276680, 43246, 55492, 75149, 76499, 100906, 136491, 141710, 159033, 168047, 178920, 6242, 6575, 16795, 55892, 89602, 138777, 141710, 166596, 169682, 224809, 268110, 270713, 4017, 6242, 6575, 8681, 36135, 40914, 86189, 95359, 133571, 142524, 222296, 6242, 6575, 7915, 8245, 8681, 10314, 10560, 12538, 16795, 20180, 21014, 22074, 26544, 29526, 30487, 30735, 32250, 35859, 40415, 41455, 43687, 44252, 51992, 53174, 53241, 55799, 60244, 62862, 67547, 68555, 70415, 73044, 81771, 85526, 91113, 93629, 95359, 95903, 101305, 102705, 105937, 110912, 111190, 113519, 115003, 115572, 116758, 122440, 122793, 124874, 126604, 127233, 129716, 135831, 138777, 139387, 139742, 141493, 141710, 142479, 146113, 155014, 155147, 165308, 169699, 172061, 180042, 181687, 183046, 187256, 189835, 190925, 196077, 198046, 200226, 201677, 204864, 206944, 223501, 224349, 229313, 236757, 237748, 240567, 242299, 245649, 246634, 255489, 261829, 264321, 270554, 270605, 270713, 270820, 271448, 271705, 7346, 8253, 38023, 49212, 69971, 82407, 91113, 95359, 115003, 130571, 136348, 153662, 169663, 196466, 204864, 211426, 245645, 259629, 6242, 6575, 8066, 20180, 36907, 46398, 69078, 95359, 110934, 114544, 180042, 181687, 189973, 206563, 215988, 223087, 246507, 21618, 22625, 48975, 106225, 136348, 192710, 200226, 201677, 21356, 27740, 77809, 110912, 142524, 165319, 201674, 250709, 69156, 69389, 98391, 136326, 157273, 159506, 163804, 226205, 226545, 8067, 23768, 46909, 62542, 69156, 69389, 76151, 98391, 98723, 100846, 101620, 104636, 136326, 146803, 157273, 190923, 191716, 201684, 226205, 226553, 235105, 6575, 7346, 13273, 25981, 46909, 60621, 63854, 69156, 69389, 76151, 98391, 114988, 136326, 144531, 145449, 157273, 193499, 200226, 225087, 226879, 227705, 235105, 235392, 235935, 241980, 244171, 258534, 265115, 274308, 43246, 50225, 97754, 114988, 156150, 178667, 185176, 194600, 206563, 218568, 231210, 249894, 268032, 269835, 6563, 7283, 16106, 21014, 35857, 35859, 41841, 56447, 60050, 60244, 61854, 62862, 69078, 81492, 85757, 95359, 102967, 105979, 122429, 124874, 133747, 135265, 136326, 141493, 143968, 167812, 174304, 181687, 182993, 194600, 196077, 201447, 211344, 213126, 220688, 223087, 224430, 228868, 229741, 235105, 240035, 242143, 251140, 255489, 260183, 260897, 269890, 271705, 273979, 276050, 6242, 6575, 49460, 69078, 94347, 110934, 124876, 142121, 143415, 145449, 155580, 165758, 173415, 214786, 221948, 223501, 228764, 240219, 246311, 270801, 7125, 8067, 51450, 76151, 98391, 112001, 120908, 135265, 174596, 182993, 201674, 224764, 235935, 3373, 6242, 16795, 21011, 28177, 36606, 56554, 73044, 100264, 108799, 136139, 160819, 163488, 164323, 171445, 196502, 198046, 206944, 216683, 221948, 245645, 249894, 251422, 271448, 276165, 16795, 17003, 21014, 36135, 36606, 43246, 55492, 58594, 69389, 73044, 81771, 85757, 95359, 98391, 105937, 109574, 121170, 123095, 126196, 133747, 135831, 144038, 168064, 170947, 178667, 193898, 206944, 207148, 208829, 237748, 245649, 270554, 271448, 6543, 8067, 25981, 41781, 46909, 62542, 69156, 69389, 76151, 98391, 114988, 129074, 146113, 157273, 165308, 177458, 218608, 221870, 226553, 232964, 241980, 258185, 46398, 49460, 162639, 223431, 224430, 231210, 270801, 276680, 17003, 43910, 51526, 66574, 69971, 105979, 136139, 178199, 184424, 196466, 202277, 210485, 210587, 229313, 235282, 243879, 273979, 276680, 16795, 19711, 21011, 21356, 37712, 75591, 77181, 78834, 89602, 95359, 105937, 110912, 112001, 139359, 142121, 144038, 218608, 253871, 259260, 264031, 7346, 16916, 23872, 28634, 38023, 48025, 53174, 56959, 85426, 87141, 101851, 123981, 126388, 126492, 129084, 140223, 144478, 147847, 158295, 162639, 185233, 187145, 209756, 214786, 219683, 220240, 225379, 237534, 240035, 241666, 245371, 250962, 254206, 258534, 259629, 264321, 266226, 268032, 268300, 21014, 31315, 200226, 201677, 225087, 245645, 266056, 6251, 25981, 95903, 98758, 173481, 189558, 196738, 214786, 225595, 6251, 7915, 25981, 30035, 35859, 37208, 43687, 51450, 60244, 62272, 63854, 69156, 69389, 84024, 100846, 101620, 104636, 104665, 110934, 126395, 131046, 135045, 136326, 136348, 136382, 144318, 144531, 158295, 162639, 173415, 179433, 188273, 204457, 208147, 218568, 221445, 226205, 226553, 226879, 241980, 245410, 247447, 258534, 271448, 8067, 8245, 85656, 91113, 114368, 117251, 141493, 162639, 173481, 184513, 187517, 201447, 242083, 251140, 265115, 5582, 6575, 7346, 8067, 16795, 30735, 33974, 37950, 43246, 44252, 60244, 60621, 63854, 69389, 100264, 101620, 104636, 107021, 110934, 126395, 131046, 135045, 136326, 136382, 144318, 144531, 146113, 158295, 163804, 173415, 177090, 179433, 188273, 200226, 201674, 204457, 218552, 222220, 225763, 227520, 241980, 245410, 247447, 258534, 263645, 265889, 69697, 76151, 91113, 114368, 135149, 174596, 203240, 209756, 242083, 265115, 8067, 21014, 21659, 25981, 30735, 35859, 37208, 42093, 62272, 63854, 69389, 76818, 84024, 101620, 104636, 107021, 110934, 126395, 131046, 135045, 136326, 136382, 144318, 146113, 147847, 154070, 158295, 174726, 177458, 179433, 188273, 200226, 201674, 201684, 204457, 208147, 218568, 226205, 226553, 231827, 240567, 241980, 245410, 247447, 258534, 8245, 18082, 91113, 110973, 114368, 162738, 194676, 221732, 238849, 247447, 251140, 261829, 5582, 7346, 7915, 27740, 30035, 37208, 38273, 42093, 63854, 69389, 76818, 84024, 92810, 100264, 100846, 101620, 104636, 107021, 110934, 126395, 136326, 136382, 144318, 146113, 154730, 159506, 177458, 179433, 188273, 193898, 196738, 200226, 201674, 202277, 204457, 205980, 211426, 226553, 240567, 241980, 245410, 256843, 258534, 8245, 16795, 21014, 61901, 104144, 115003, 162639, 190741, 218121, 225087, 245645, 6543, 10314, 30276, 55492, 74286, 98391, 122793, 127129, 152186, 154070, 155014, 174216, 198046, 225379, 235105, 242646, 248464, 268300, 271448, 6251, 6543, 6575, 7346, 7915, 8067, 16795, 25981, 35859, 37208, 38273, 41084, 42458, 43246, 55799, 60621, 76151, 101620, 104636, 106007, 107021, 110934, 111190, 136382, 144318, 144531, 162639, 177072, 177090, 179433, 183046, 190925, 193499, 196077, 201674, 204591, 208147, 221705, 226553, 241980, 245410, 245650, 247447, 256843, 258534, 265115, 8067, 30276, 44728, 51450, 55493, 81492, 107021, 111190, 114368, 134797, 172742, 174596, 236172, 247241, 256843, 265115, 8067, 13273, 25981, 37208, 38273, 56307, 60244, 60707, 62542, 67840, 74056, 88733, 98391, 104636, 131046, 135149, 144531, 152186, 156467, 177458, 193499, 221445, 221705, 226553, 232131, 235105, 241980, 261829, 265115, 265889, 8067, 19842, 37208, 46909, 60707, 74056, 98391, 98723, 107784, 114988, 145449, 156467, 167471, 213150, 221445, 235935, 236757, 241980, 250925, 270801, 25409, 45557, 60707, 65584, 74056, 135149, 136010, 154469, 156467, 201969, 213150, 241980, 258185, 16996, 65584, 91113, 107021, 114368, 137589, 155580, 162639, 174216, 236757, 246507, 251140, 25409, 25981, 30035, 37950, 47316, 76818, 91113, 110934, 136382, 142121, 144318, 145449, 146113, 148590, 162639, 163804, 172742, 177072, 193499, 196077, 200226, 208147, 210485, 226879, 232131, 240567, 241980, 245410, 247447, 254465, 256843, 258534, 6575, 30035, 30994, 37950, 40889, 56959, 110912, 136010, 146803, 148590, 148744, 152186, 181687, 183046, 188273, 235105, 247447, 256843, 6575, 43687, 46909, 60244, 62272, 76818, 94787, 102647, 104636, 110934, 126395, 143837, 144318, 144531, 153718, 158295, 163804, 177375, 178667, 188273, 196047, 196160, 204457, 222220, 228868, 240567, 241980, 247447, 249862, 249894, 251843, 258534, 261829, 274308, 3373, 13552, 33580, 54335, 70594, 75819, 128085, 188022, 196738, 202277, 212923, 226205, 226616, 266056, 21014, 36135, 39281, 50073, 110973, 134797, 154992, 181687, 196466, 228681, 229551, 4017, 7346, 12538, 34300, 36609, 43246, 60050, 60337, 81492, 88229, 91113, 95359, 97874, 104665, 105979, 107784, 114544, 150979, 167812, 181687, 196466, 207782, 210485, 219546, 222220, 224138, 224809, 225763, 226553, 227447, 235282, 246311, 246634, 253871, 256843, 259035, 260183, 261829, 270554, 271705, 278633, 7158, 16795, 31315, 43246, 63854, 69389, 88793, 98391, 127359, 135045, 139359, 150979, 162052, 168064, 187145, 198046, 204813, 223787, 224349, 237748, 17859, 53418, 95932, 106007, 122440, 123825, 133689, 223501, 227025, 253871, 16634, 21014, 27472, 45557, 53241, 60244, 65258, 91103, 95359, 104113, 104636, 105517, 106225, 114544, 116758, 126604, 136010, 140358, 143968, 145449, 146803, 153662, 153797, 165308, 171445, 173415, 174326, 177090, 187256, 196077, 203240, 216670, 225763, 227705, 229551, 236058, 260897, 266283, 266865, 270801, 6251, 8253, 8454, 16795, 21014, 29526, 30487, 46398, 51992, 69389, 70415, 76151, 76942, 98904, 103336, 110973, 115003, 115435, 132375, 133747, 138844, 144038, 160819, 162052, 182993, 193458, 195904, 208671, 218552, 225763, 240567, 248477, 254299, 258938, 270554, 271448, 243, 8253, 8454, 10314, 13273, 14422, 21011, 22625, 29855, 30276, 30972, 33818, 33974, 34588, 35857, 36907, 38273, 52584, 53174, 63938, 73044, 75149, 81298, 88229, 95359, 96357, 101876, 102705, 104636, 105979, 110912, 114544, 126903, 133689, 138844, 142479, 144531, 144555, 145641, 166596, 169663, 172742, 177072, 183046, 187256, 187517, 189973, 193499, 208147, 209174, 215988, 221948, 227884, 229313, 232131, 237990, 240219, 251140, 254465, 255489, 256407, 258938, 264321, 265115, 269566, 270605, 273979, 25981, 53220, 55892, 56554, 76151, 98391, 119575, 127359, 135265, 143175, 162738, 187256, 224349, 251843, 21031, 46909, 53220, 55492, 98391, 101876, 114368, 130474, 163804, 177072, 178199, 223501, 224764, 225595, 55490, 55493, 66878, 81848, 115692, 140358, 143175, 178199, 183995, 209373, 218552, 235392, 638, 2766, 4017, 8253, 10560, 11224, 13273, 16795, 17003, 22625, 23768, 27472, 28204, 28634, 29855, 35859, 36609, 40914, 41781, 44252, 46398, 50073, 50895, 52584, 55927, 56447, 56959, 62862, 62891, 63854, 69078, 70052, 72214, 75819, 76151, 77181, 77809, 78448, 78783, 81492, 81597, 81977, 86189, 88229, 89602, 90616, 91103, 95359, 97874, 98391, 98904, 105517, 105979, 106225, 112001, 112026, 112083, 113270, 113519, 114368, 114444, 115003, 116904, 126903, 130571, 133689, 134797, 135351, 138578, 139359, 139387, 139913, 141902, 142715, 143175, 144531, 144555, 147141, 148744, 148898, 152186, 153797, 154070, 155580, 157273, 158295, 160681, 163804, 164323, 167471, 167812, 168816, 172512, 173415, 174304, 180042, 187256, 190459, 192093, 193499, 194600, 196077, 196466, 198046, 204864, 210485, 210587, 215988, 216670, 216683, 218121, 218568, 220240, 221445, 222035, 222296, 223501, 224430, 224764, 225379, 225595, 225810, 227447, 227884, 228579, 229551, 234828, 235105, 235282, 236058, 238120, 239584, 246311, 246507, 246634, 248477, 251140, 252071, 254465, 256843, 259035, 260897, 261829, 263645, 264031, 266283, 266865, 268032, 268110, 268300, 271448, 272573, 276680, 278633, 13273, 50225, 95173, 160401, 162780, 174304, 207148, 209174, 239584, 242299, 254299, 263325, 31315, 41084, 53174, 55490, 62272, 114368, 140358, 163570, 207782, 218608, 222220, 246634, 638, 13273, 31315, 79977, 87141, 88738, 95316, 98391, 114368, 125519, 130474, 138578, 145369, 201674, 216670, 221445, 234165, 241980, 276231, 638, 27617, 31315, 40415, 53174, 81848, 98391, 114368, 115692, 125519, 130474, 138578, 149069, 158295, 160401, 162639, 201674, 225087, 225763, 16795, 31315, 35859, 81848, 105937, 110912, 114368, 145369, 201674, 242646, 260944, 264947, 16795, 31315, 62542, 110912, 114368, 138578, 140358, 145369, 149069, 217318, 223154, 62542, 119575, 125519, 145369, 149069, 6563, 41084, 48975, 62272, 66878, 76151, 251843, 14422, 33818, 110973, 183046, 188273, 210587, 240568, 638, 13850, 16795, 22625, 31556, 36715, 37644, 56856, 59150, 60244, 61854, 70666, 74286, 75819, 78834, 88122, 95359, 96357, 104113, 109779, 121170, 124874, 129716, 136491, 150979, 153513, 155014, 158254, 163488, 168954, 174304, 177432, 182459, 189080, 200226, 201526, 204864, 206944, 208815, 211426, 219683, 221732, 226616, 228021, 229741, 237534, 240567, 248477, 268300, 270605, 271176, 271448, 276165, 243, 638, 6575, 10314, 17003, 21618, 43910, 49460, 56447, 56959, 78834, 80683, 82407, 88793, 89602, 91058, 94347, 95173, 95932, 98758, 111174, 121170, 123981, 138777, 139387, 155580, 171445, 174726, 181687, 193499, 213126, 218568, 220688, 229741, 235282, 239584, 242083, 248477, 261829, 264321, 268622, 270713, 277427, 8245, 15408, 25409, 63956, 67547, 75081, 100906, 110934, 129716, 138844, 143968, 189973, 222220, 225810, 237748, 246634, 43910, 49460, 78834, 88793, 114988, 115435, 135149, 142121, 220688, 222220, 229741, 235282, 242083, 244171, 260183, 638, 8454, 15408, 87555, 196077, 266865, 8454, 29855, 31315, 51526, 60244, 75591, 95316, 95932, 124874, 129716, 141710, 142524, 162780, 188273, 204457, 236757, 256407, 270554, 16795, 98391, 113270, 121170, 162780, 230522, 10314, 14422, 21014, 29855, 102967, 126196, 135149, 193458, 224809, 236757, 240568, 242106, 251843, 255489, 11224, 14422, 16795, 22625, 53174, 70415, 98391, 135149, 155580, 167800, 168245, 184424, 8454, 43246, 62542, 62862, 88793, 116904, 121170, 122793, 124874, 132375, 139913, 160401, 165308, 194600, 209174, 215988, 236757, 271195, 16795, 28204, 30533, 39281, 41455, 43619, 52584, 62862, 78448, 100846, 121170, 136205, 148590, 194600, 240567, 249695, 255489, 263325, 21014, 40943, 43246, 46398, 52584, 60244, 65663, 89602, 101876, 113270, 126693, 127826, 134797, 141710, 157273, 168064, 174216, 188273, 194600, 223087, 223501, 236283, 240567, 263325, 266865, 638, 10447, 21014, 105979, 110912, 141710, 143175, 174216, 174326, 187145, 203764, 204457, 244627, 260944, 243, 4017, 22625, 30985, 41841, 74286, 89602, 100459, 102705, 105214, 114544, 116758, 117111, 127129, 138844, 144318, 153662, 194600, 209756, 251422, 263325, 264543, 273979, 278633, 638, 8245, 13850, 26544, 43246, 59390, 90616, 97874, 106225, 113270, 141902, 146113, 148898, 172512, 178667, 181176, 182527, 194600, 226205, 235282, 252071, 268932, 98391, 106849, 162738, 204457, 208671, 216466, 229313, 252071, 256843, 119575, 225087, 225763, 259901, 263877, 93092, 271705, 40889, 51252, 55490, 80683, 87141, 93629, 128835, 218608, 266226, 56856, 93629, 95359, 102967, 153662, 160681, 165319, 184299, 207246, 209160, 225379, 232964, 268300, 4938, 6323, 16634, 23872, 26621, 29259, 31315, 43687, 48046, 53174, 55490, 55734, 75485, 87555, 95932, 101606, 101876, 112001, 112093, 114368, 114444, 123094, 126492, 129716, 135265, 136491, 138543, 140358, 147141, 152099, 158295, 172742, 177432, 185233, 188010, 197364, 199515, 211426, 225379, 229313, 236757, 237534, 238613, 242083, 242106, 243360, 245410, 250962, 254201, 255489, 260183, 261998, 268300, 269835, 40330, 55490, 76942, 99955, 123544, 135360, 160681, 165758, 169682, 189516, 219683, 226879, 264321, 271176, 17859, 123825, 158295, 166123, 217318, 5582, 56554, 93629, 103336, 105214, 114368, 138543, 199515, 250962, 261998, 271195, 3167, 17003, 20172, 23872, 29259, 32773, 35836, 37950, 43687, 55490, 55734, 81597, 87555, 88937, 93047, 95316, 101606, 103336, 104399, 110373, 110934, 111174, 112093, 113904, 114368, 115572, 119575, 123094, 124597, 126492, 129716, 133571, 135458, 136491, 140358, 147141, 147847, 153513, 153797, 155014, 158254, 163488, 178240, 185233, 199515, 211426, 214786, 223190, 226879, 226965, 227705, 229313, 229741, 230522, 237534, 241666, 242083, 245410, 249862, 252820, 255489, 259629, 261998, 270713, 271195, 271558, 272573, 22625, 31393, 31556, 40889, 60244, 63956, 65258, 68984, 76818, 81848, 87555, 88122, 88733, 100459, 110934, 126388, 135360, 138995, 140358, 148744, 159506, 166123, 170513, 189835, 196160, 201526, 207246, 210485, 225379, 228021, 232106, 249862, 266226, 268300, 271176, 272573, 274061, 16795, 23872, 25981, 57398, 81492, 81848, 88937, 126388, 138543, 138995, 150896, 153662, 159506, 162738, 171118, 171295, 205980, 207246, 208406, 215986, 218552, 228579, 232106, 232131, 243294, 251394, 254201, 259901, 271176, 276050, 638, 37950, 48494, 53174, 115572, 126388, 138543, 138995, 155014, 159506, 162738, 182459, 196160, 215986, 225379, 228579, 232106, 249862, 276050, 31556, 57398, 60244, 115572, 126388, 131046, 135149, 138543, 138995, 159506, 162738, 164728, 166123, 177432, 179734, 182459, 189835, 190923, 225379, 228579, 232106, 243294, 259901, 271176, 276050, 6543, 13850, 16795, 21356, 21484, 21576, 23872, 29209, 30533, 32773, 35859, 38023, 40330, 60244, 69078, 76352, 81492, 85426, 94347, 114444, 137589, 137688, 143415, 152099, 153662, 159033, 159506, 177432, 181176, 187145, 201526, 213150, 216683, 228021, 228998, 249862, 260897, 270605, 273086, 7346, 14422, 21484, 55927, 64436, 69971, 93629, 106007, 108799, 109779, 117251, 128835, 169779, 196502, 210485, 218121, 221445, 228021, 242083, 271705, 75819, 88937, 129074, 153662, 159506, 196077, 224138, 234828, 8681, 16634, 22625, 30735, 37644, 46398, 53174, 63956, 81977, 91113, 100906, 103336, 110973, 115572, 119575, 156150, 160819, 163488, 221948, 226965, 261603, 264321, 270713, 43687, 63394, 75485, 87555, 101606, 114368, 123094, 123544, 126492, 129716, 136010, 136491, 138543, 140358, 147141, 158295, 188010, 199515, 210485, 211426, 235392, 237534, 242106, 245410, 250962, 251394, 261998, 268300, 9856, 41084, 62891, 65663, 69211, 70666, 77480, 104665, 107244, 109899, 123544, 129084, 136348, 137211, 138198, 144478, 158433, 159858, 162639, 169779, 170513, 177432, 177458, 181176, 187256, 196738, 201684, 204591, 208406, 214786, 227705, 234828, 251422, 259629, 52584, 70666, 169779, 170513, 206438, 28634, 41084, 41455, 72523, 78448, 120598, 123544, 126388, 177458, 224349, 7346, 9856, 23872, 31393, 34588, 46398, 55799, 64436, 73044, 77480, 89602, 91113, 95359, 97874, 101876, 102647, 105517, 105979, 110912, 110934, 122801, 133571, 139387, 140223, 142121, 142524, 154529, 167746, 193458, 204864, 212923, 218608, 220597, 223644, 232131, 239584, 248464, 250962, 252820, 255489, 270554, 271195, 6575, 8245, 83637, 86189, 95359, 133571, 137211, 137688, 158295, 169233, 224764, 225763, 251843, 6575, 8253, 31393, 36907, 76499, 114444, 123825, 197364, 209160, 214786, 270713, 15408, 78448, 94347, 115435, 125039, 237534, 35859, 38023, 95359, 110973, 133571, 135045, 138543, 195694, 237271, 237534, 242106, 259629, 268300, 271558, 3167, 7346, 12824, 14521, 21014, 28634, 29259, 35857, 37712, 40330, 41084, 43687, 46398, 49212, 51883, 53418, 62891, 68984, 70594, 70666, 80810, 93629, 95359, 96357, 96448, 104665, 105058, 109779, 123544, 123883, 124597, 126388, 128835, 135045, 140223, 143211, 162639, 164323, 177458, 185233, 187624, 202277, 208406, 209373, 210485, 214786, 218568, 223087, 224349, 225087, 226545, 226879, 229741, 231351, 232945, 234828, 237534, 238065, 240567, 241666, 245410, 259629, 261603, 269566, 273086, 21618, 30735, 52584, 53241, 60244, 85526, 114868, 126736, 162639, 189973, 207148, 216683, 271448, 57398, 62891, 65258, 65663, 70666, 75819, 96357, 100906, 126388, 132375, 140358, 167471, 171295, 177458, 224138, 249628, 250925, 252695, 1435, 16795, 35857, 61854, 62891, 70666, 85656, 87141, 88733, 95359, 102647, 102967, 108285, 136010, 155014, 158433, 160558, 169233, 190925, 197659, 210485, 224349, 227705, 231827, 243360, 261603, 272573, 274308, 7283, 7346, 14422, 25981, 41455, 51252, 62891, 70666, 72523, 73588, 82497, 93179, 93629, 95359, 95991, 96357, 105979, 107244, 110373, 126388, 160558, 164728, 171295, 174596, 183995, 203764, 204591, 206438, 229011, 234828, 238120, 245410, 250709, 274056, 93629, 104636, 123981, 125519, 158295, 196738, 217318, 222941, 255489, 16795, 31826, 37950, 158433, 193529, 214786, 227705, 232131, 241666, 9856, 16795, 28634, 31826, 42914, 55490, 106849, 110973, 123981, 135045, 159506, 193529, 227705, 234828, 244627, 270820, 16795, 19711, 27472, 27617, 31826, 32802, 39345, 110912, 115490, 123981, 126492, 126736, 158433, 196738, 231351, 247852, 254465, 31826, 32802, 51883, 111174, 193529, 225595, 227705, 10560, 13552, 27472, 55490, 57398, 87555, 95932, 106849, 111174, 126492, 129716, 135265, 136010, 170513, 187762, 195694, 213126, 225763, 226965, 250962, 259629, 261998, 268300, 270713, 271195, 23872, 34588, 43687, 55490, 73588, 87555, 101606, 107784, 114368, 114444, 119575, 123094, 126492, 129716, 138543, 140358, 152186, 165758, 177432, 185233, 187762, 199515, 207782, 208406, 211426, 224764, 226965, 229313, 237534, 238120, 240035, 242106, 245410, 250962, 251394, 255489, 261998, 268300, 271195, 276050, 28634, 31826, 33124, 37950, 158295, 158433, 225595, 231351, 3373, 68555, 104636, 124487, 126736, 158295, 185233, 196738, 248496, 258884, 1435, 16488, 16795, 21014, 22625, 30735, 40889, 52917, 88122, 88738, 89602, 92810, 93092, 123825, 139387, 144555, 163570, 165758, 196077, 216683, 221445, 258938, 261998, 264543, 270713, 7346, 28634, 41455, 41841, 42914, 65663, 87141, 98904, 104144, 105054, 105517, 123544, 126736, 159033, 159506, 203764, 207259, 209373, 213126, 214786, 216670, 225087, 228681, 266056, 267635, 6575, 23872, 36907, 60244, 95359, 105517, 112083, 135351, 177432, 184299, 196160, 211426, 228998, 242083, 256402, 268032, 6251, 46398, 62862, 81216, 97874, 112083, 128835, 133747, 143415, 174304, 205735, 222220, 231210, 264321, 31826, 35836, 55490, 86720, 126492, 135045, 144478, 158433, 178240, 221870, 225087, 227705, 231351, 232131, 240035, 37712, 57398, 115490, 138543, 185233, 187762, 219683, 226879, 226965, 242106, 250962, 261998, 269890, 30035, 41084, 42458, 55892, 70594, 70666, 107244, 164323, 203764, 204591, 214786, 217318, 227705, 234828, 252695, 259629, 268032, 3167, 34300, 34588, 51883, 69211, 70666, 77480, 96448, 105058, 105937, 135045, 138543, 152186, 159506, 181176, 203240, 203764, 209373, 225087, 259629, 261603, 273086, 48025, 73588, 95359, 126492, 126736, 138578, 181176, 238120, 37712, 95359, 147141, 173415, 185233, 187762, 199515, 224764, 225087, 226965, 250962, 261998, 264082, 55490, 95359, 102647, 193898, 207259, 217318, 95359, 120396, 140358, 196738, 217318, 41455, 41781, 53174, 68555, 95359, 126736, 140358, 196738, 6575, 56447, 69971, 72214, 82407, 124874, 128835, 183046, 239584, 261829, 268110, 271176, 21404, 37950, 124874, 171118, 235105, 236757, 241666, 41455, 123981, 189973, 201447, 218552, 235282, 251140, 255489, 38273, 50730, 58594, 79740, 98686, 108285, 124487, 144318, 174216, 178199, 193499, 193529, 196077, 232945, 240035, 244627, 247852, 258534, 20060, 35859, 46909, 50073, 126492, 128085, 173415, 193898, 197364, 204864, 209373, 235282, 247852, 258534, 16106, 25409, 50073, 53220, 95359, 127359, 172061, 173415, 187256, 197364, 204864, 222035, 225379, 247852, 258534, 11245, 22074, 25409, 38273, 46909, 65584, 83287, 98686, 102275, 128085, 173415, 193499, 197364, 204864, 223431, 237990, 258534, 261829, 274308, 277427, 6575, 8245, 20060, 29526, 56447, 56959, 94347, 135831, 136348, 153662, 181687, 224349, 245410, 246311, 268110, 16795, 19085, 30994, 34588, 40889, 48494, 53174, 53418, 59172, 64310, 69971, 81492, 92810, 100846, 106007, 115435, 129084, 135149, 159858, 177432, 207259, 213126, 214786, 224349, 225595, 225886, 254144, 267635, 100846, 101876, 116904, 16634, 110934, 144478, 196738, 208671, 236058, 261829, 265115, 265313, 23872, 113904, 119575, 126492, 138543, 195694, 207494, 226965, 227705, 237534, 252071, 261998, 19085, 126492, 143175, 219683, 226965, 237534, 261998, 4017, 21404, 36907, 105517, 115003, 147224, 193458, 246634, 270801, 6073, 52917, 96357, 101606, 126604, 140358, 163570, 165758, 170513, 172742, 199515, 214786, 220597, 225763, 25409, 89602, 92810, 140223, 178920, 214786, 230522, 243236, 16795, 29526, 43246, 60244, 88229, 104636, 123095, 138844, 141491, 182527, 200226, 203240, 224430, 251422, 264031, 270554, 6543, 8253, 20180, 37712, 51742, 53392, 67547, 77809, 114988, 128085, 135149, 141493, 158254, 174216, 174304, 187145, 219546, 224764, 227025, 239584, 271705, 276680, 16795, 49460, 64436, 73651, 75591, 95359, 103336, 111174, 113270, 115003, 117111, 119517, 124874, 154992, 174216, 189973, 200226, 203240, 209373, 210485, 223087, 224430, 226553, 228998, 268110, 16795, 20180, 21011, 22625, 29855, 43246, 87712, 98263, 102705, 104657, 113270, 123981, 127129, 138844, 144555, 160819, 178667, 230522, 240219, 256843, 263877, 264031, 265115, 266865, 270554, 7283, 19085, 25981, 48025, 65584, 89602, 91113, 95359, 182459, 207782, 210485, 236283, 276231, 47316, 79266, 116904, 135149, 135458, 139913, 223190, 256843, 259035, 266056, 4017, 21576, 22625, 26544, 35857, 41841, 43246, 62862, 64436, 73044, 74286, 78783, 91103, 98263, 104665, 113519, 123095, 137589, 139913, 142715, 148898, 163804, 178199, 189973, 195904, 203240, 208671, 209174, 222296, 251843, 254299, 260897, 263877, 270713, 271448, 52584, 59172, 69355, 105214, 110973, 126492, 161039, 167746, 170513, 187624, 197364, 197659, 220240, 221705, 225595, 234828, 259901, 264031, 274061, 276165, 6543, 7346, 16106, 21011, 31393, 39281, 43246, 60244, 73651, 78783, 88793, 111174, 113270, 113519, 117251, 119517, 136348, 141493, 160819, 162738, 184513, 210485, 265115, 271448, 8066, 8245, 43619, 50895, 88733, 100459, 130571, 132375, 136139, 194600, 215988, 245645, 35836, 36606, 65584, 106225, 130571, 162738, 181687, 201969, 208147, 231210, 232131, 2276, 31556, 50895, 76352, 84024, 88738, 112026, 136348, 144318, 155580, 188022, 208147, 232131, 27740, 35859, 79977, 90616, 98391, 115692, 120396, 136326, 138578, 178199, 225087, 234359, 10447, 16106, 44893, 51883, 55734, 60244, 69971, 81771, 115003, 135351, 153662, 187145, 193499, 240567, 270801, 30276, 46909, 50895, 114368, 123883, 178667, 194676, 204813, 216012, 249628, 273113, 13552, 25981, 47316, 50073, 82497, 114368, 123883, 135149, 154070, 177090, 216012, 259930, 73651, 114368, 123883, 154070, 171638, 194676, 216012, 221705, 227520, 273113, 882, 114368, 123883, 126693, 182527, 189516, 216012, 273113, 114368, 123883, 207349, 227520, 247447, 264082, 273113, 114368, 120908, 123883, 165308, 177374, 220597, 227520, 254144, 273113, 42458, 82497, 114368, 120908, 123883, 126693, 153718, 203799, 213531, 220597, 273113, 6575, 56554, 62891, 93426, 121170, 127359, 139742, 140358, 144531, 149934, 162639, 179734, 194600, 215988, 220688, 251422, 258938, 25409, 31315, 93426, 98391, 210874, 251422, 30276, 114368, 123883, 126693, 153662, 154469, 177374, 227520, 247241, 247447, 264082, 273113, 13552, 51450, 69697, 114368, 123883, 153662, 153718, 203799, 247241, 264082, 273113, 26544, 30994, 48494, 114368, 120908, 123883, 135265, 139913, 177374, 227520, 264082, 273113, 882, 13552, 31315, 114368, 123883, 140358, 153662, 153718, 165308, 177374, 216683, 220597, 227520, 273113, 13552, 114368, 123883, 124487, 220597, 254144, 273113, 21031, 57398, 114368, 117111, 139913, 153662, 153718, 177374, 227520, 264031, 42458, 109491, 114368, 165308, 177374, 189516, 216683, 227520, 253871, 25981, 81492, 107784, 143175, 185722, 187517, 205735, 235935, 15408, 21014, 36907, 37712, 69078, 86189, 105979, 114868, 187145, 192710, 260897, 60244, 86189, 213126, 20172, 50225, 69078, 91113, 101305, 108005, 111174, 128085, 141710, 143968, 157273, 169663, 218552, 224349, 229551, 235105, 246634, 69078, 75591, 101305, 195904, 55490, 145449, 185233, 258534, 8454, 13273, 16795, 43246, 52584, 105214, 119517, 124874, 143415, 147224, 218568, 224430, 246311, 268110, 270554, 4017, 21014, 24921, 55799, 69078, 91113, 91832, 95359, 105979, 139913, 140358, 141491, 177072, 189835, 195904, 196077, 206563, 224430, 232131, 252071, 6575, 7158, 16795, 55799, 85757, 97754, 128325, 139913, 143415, 200226, 203240, 205980, 224249, 267033, 27617, 36606, 55490, 98391, 105214, 110973, 112001, 124876, 126492, 130474, 136326, 140358, 142121, 158295, 163570, 165758, 184532, 185233, 189835, 197659, 209373, 224809, 274061, 69389, 87712, 91103, 100459, 106225, 122793, 139742, 140358, 142256, 166596, 174326, 178667, 187517, 201677, 222296, 237748, 252695, 10314, 10447, 19664, 21014, 28177, 35859, 40415, 60244, 67840, 69078, 85426, 95173, 110934, 111190, 112001, 114544, 114988, 115003, 121170, 132375, 135831, 136491, 148744, 160558, 169233, 177375, 178199, 188273, 190925, 204864, 264543, 266865, 271448, 10314, 28177, 56447, 60244, 89602, 108155, 115435, 122793, 136139, 138844, 174326, 189080, 194600, 224809, 245649, 257028, 271448, 273979, 10447, 28177, 30994, 35857, 35859, 39281, 43619, 78834, 94347, 105979, 110973, 138844, 142715, 153662, 188010, 198046, 203240, 206944, 227025, 240568, 243360, 254465, 268932, 273979, 16795, 23768, 35857, 46398, 74286, 100846, 109899, 120598, 206944, 224430, 250962, 252695, 271448, 278633, 8253, 8681, 17003, 20172, 40415, 55490, 86189, 95359, 101606, 105214, 162639, 162738, 177458, 215986, 246311, 8253, 8454, 51742, 82407, 94347, 122429, 137688, 158254, 4017, 23768, 28177, 61854, 100459, 115435, 137589, 138578, 142715, 153662, 184424, 187145, 208829, 229741, 251394, 271448, 6242, 23768, 37644, 37712, 53392, 69971, 81771, 113270, 130571, 138543, 148590, 200226, 4017, 6242, 6575, 21011, 21014, 53392, 60244, 66680, 69078, 85757, 89602, 101305, 102967, 114544, 130571, 135149, 136491, 169663, 190925, 218121, 246311, 249628, 252695, 268110, 269835, 6242, 6575, 28177, 60244, 61038, 101305, 133747, 204864, 243236, 246311, 270605, 270713, 6575, 7915, 16795, 22625, 31393, 35857, 37644, 46398, 55493, 64436, 91058, 94347, 107784, 113519, 114444, 114544, 115003, 115435, 124874, 130571, 135831, 136382, 137589, 138844, 141491, 141902, 145641, 147847, 153513, 153662, 160819, 165308, 167746, 177375, 187145, 193499, 196077, 196466, 201677, 208829, 209174, 210485, 217375, 224249, 224430, 231210, 238065, 264657, 266056, 273979, 4017, 6242, 7283, 16106, 16795, 21014, 21404, 28177, 30972, 30994, 35859, 41841, 46398, 53174, 85426, 88229, 95359, 96440, 98263, 100846, 105058, 113519, 114544, 114868, 116758, 117111, 122793, 138844, 139742, 152651, 187145, 192093, 195904, 203764, 209174, 224249, 238065, 250184, 263163, 264321, 265889, 270554, 270713, 271448, 6251, 6575, 16634, 40330, 48046, 85757, 88793, 95359, 96440, 105937, 116758, 121170, 128085, 150979, 160819, 162052, 166596, 187762, 220688, 231210, 243879, 246311, 258534, 260897, 6242, 7346, 8253, 16795, 19842, 21014, 21031, 30533, 34300, 64436, 85526, 89602, 91113, 95359, 97754, 101305, 112001, 114544, 115003, 122801, 123095, 139359, 142479, 142524, 144038, 145449, 168954, 177375, 203240, 204864, 215986, 215988, 222296, 223431, 223501, 224430, 224809, 225763, 243879, 246311, 246634, 254299, 260897, 10314, 75591, 85757, 91113, 136139, 139359, 158254, 167812, 181687, 198046, 207782, 210587, 213126, 276680, 3373, 6251, 7125, 14422, 16795, 21576, 22625, 28177, 30081, 31315, 34300, 35857, 37712, 39281, 41841, 43246, 48025, 53392, 55493, 60244, 62862, 63938, 75485, 75591, 81298, 86189, 88937, 89602, 94347, 95359, 100459, 114544, 123095, 126196, 136139, 138844, 139387, 140358, 147847, 149934, 153662, 160819, 165308, 165319, 174326, 174596, 184513, 191716, 204864, 205980, 208829, 210485, 210874, 221948, 223501, 224249, 240567, 254299, 256843, 266283, 273979, 276680, 6575, 7125, 8067, 10560, 25409, 36609, 39281, 40914, 78834, 81848, 83637, 105374, 116758, 123981, 135149, 150979, 195694, 210485, 223087, 223154, 224249, 224349, 225763, 236172, 239584, 250184, 265115, 7346, 16795, 21014, 32250, 56856, 74286, 85656, 108285, 115692, 174326, 179978, 248496, 2276, 6073, 6575, 16634, 16795, 30735, 36907, 37644, 75485, 78834, 85426, 89602, 95932, 105517, 108155, 123544, 129716, 140223, 156150, 158433, 165319, 172742, 177432, 189835, 207782, 218121, 218608, 228021, 251140, 254206, 265313, 270713, 271176, 3167, 12538, 24933, 52917, 56856, 75819, 76499, 85526, 96440, 104657, 107784, 137589, 146113, 158254, 179734, 205980, 225087, 882, 16634, 31826, 45557, 48494, 51252, 52584, 55492, 69232, 93629, 136382, 147847, 159506, 200226, 216683, 225810, 229741, 230522, 254465, 255489, 264082, 268032, 6251, 31556, 96448, 147847, 162052, 165319, 210485, 228021, 230522, 275970, 16795, 37950, 46398, 83287, 135149, 153797, 158295, 185233, 6323, 13552, 21014, 28634, 30972, 32250, 33124, 59390, 81597, 85656, 100906, 104636, 123981, 135149, 140358, 143211, 144555, 155014, 190923, 202462, 208829, 231351, 234828, 235392, 236172, 237271, 240567, 241666, 255489, 274308, 7346, 13552, 27617, 35857, 40943, 51883, 70415, 190708, 208829, 243236, 30985, 38273, 51992, 63394, 104636, 138543, 196502, 218121, 235105, 6323, 30533, 35859, 43246, 55490, 59390, 82407, 85993, 100459, 106849, 141902, 156300, 158295, 177072, 189558, 202462, 207499, 210485, 213531, 222941, 241666, 260944, 17859, 23511, 29259, 35859, 46909, 62862, 85993, 100459, 104636, 106849, 123981, 156150, 189516, 189558, 190925, 193778, 207499, 222941, 223154, 224430, 231351, 247752, 258534, 13552, 23768, 29259, 32250, 32802, 35859, 37644, 39281, 39345, 43246, 53220, 78783, 81597, 95359, 98904, 100459, 104211, 104636, 104665, 122440, 129084, 146113, 156150, 156467, 193778, 204457, 222035, 232106, 235392, 241666, 247752, 270713, 271558, 274308, 78783, 130571, 148744, 219683, 224430, 225087, 256402, 43687, 44893, 85757, 87555, 89602, 93047, 111174, 128835, 156150, 173415, 205980, 260897, 60244, 91113, 94347, 124874, 136139, 147141, 183046, 208829, 215988, 235105, 241980, 266865, 4017, 10314, 16795, 22625, 30081, 34300, 66680, 73044, 91103, 95359, 102705, 110912, 113270, 116758, 122793, 138844, 140358, 142256, 148744, 174326, 184424, 187517, 194600, 196047, 218608, 231210, 270713, 57398, 58594, 158295, 167746, 172742, 177072, 223501, 257028, 258534, 34300, 35836, 41455, 51526, 67840, 88229, 91113, 92810, 126196, 136139, 158295, 162639, 163804, 174596, 178199, 182993, 201684, 208829, 209373, 224809, 244627, 246311, 278026, 7346, 37712, 38023, 56856, 102647, 147847, 150896, 153662, 229741, 271705, 12824, 13273, 16634, 19085, 26621, 41841, 58594, 67840, 89602, 110973, 125039, 136205, 165319, 171118, 225886, 228021, 228998, 236058, 242083, 254, 5582, 6251, 21404, 29526, 42093, 55490, 56447, 81492, 89602, 95932, 100459, 109779, 114988, 124874, 124876, 135360, 142524, 152099, 155014, 159858, 165319, 204864, 206534, 224249, 225379, 232131, 236058, 271558, 7125, 10447, 29855, 35859, 52584, 65258, 65584, 73044, 78783, 98904, 100459, 114868, 121170, 123981, 136205, 136382, 138844, 153662, 160819, 174326, 178667, 181687, 184424, 188010, 190925, 203240, 216683, 224430, 227025, 234828, 240568, 242143, 258938, 263325, 268110, 270713, 271448, 6251, 50225, 114988, 142524, 156150, 174596, 6251, 6543, 36609, 46398, 52917, 58594, 64436, 70594, 89602, 95173, 167471, 173415, 181176, 203240, 204864, 235105, 241980, 242083, 242299, 249894, 60707, 190708, 227447, 240700, 248477, 265889, 20060, 65584, 95359, 124487, 130571, 143163, 152186, 227447, 228681, 235282, 258534, 5582, 7125, 25409, 91113, 112026, 196077, 220688, 223154, 254144, 7346, 8245, 88793, 104636, 165308, 178199, 229551, 63938, 102967, 114544, 115003, 270352, 6575, 7346, 8253, 9417, 21404, 27472, 42093, 48046, 55493, 75591, 81977, 89602, 95932, 183046, 213126, 228021, 239584, 272573, 275970, 6543, 39773, 44893, 55892, 60244, 70594, 89602, 93047, 111174, 114988, 135045, 181176, 203240, 213126, 241980, 266865, 59390, 155014, 169699, 180042, 201447, 265313, 4017, 10314, 29855, 30487, 61427, 82407, 87712, 95359, 98263, 105058, 105979, 114544, 115003, 135149, 138578, 139387, 148744, 150979, 187517, 192093, 213126, 223154, 223431, 224430, 224809, 226965, 229313, 236757, 237271, 242143, 246634, 55490, 101851, 108005, 115692, 149069, 182993, 225379, 242083, 254206, 255489, 258534, 268300, 25981, 89602, 100459, 142121, 149934, 162639, 166596, 175052, 210485, 240219, 264657, 268110, 25981, 59172, 91058, 114368, 153662, 225087, 248477, 253871, 55892, 75485, 100264, 112001, 135265, 140358, 226965, 227884, 237271, 251843, 270820, 31315, 40914, 46443, 55493, 105517, 154730, 180042, 189835, 209373, 4017, 6575, 16795, 22625, 43246, 53392, 69078, 94347, 95359, 104144, 195904, 224138, 234359, 268110, 270605, 271448, 98904, 128085, 144038, 165308, 207782, 263645, 6575, 16718, 16996, 19664, 25409, 26593, 26621, 30081, 40943, 51450, 55493, 61427, 62862, 74056, 78783, 85426, 85757, 98723, 104657, 114868, 119575, 120908, 122429, 125692, 133689, 133747, 143175, 143968, 157273, 158254, 158295, 164323, 181687, 182993, 188010, 194600, 201447, 201674, 207148, 210874, 225763, 226545, 235935, 246513, 251140, 252071, 258938, 263325, 268110, 276050, 6563, 8067, 21484, 36609, 40914, 46909, 56554, 93426, 95359, 99955, 109491, 172512, 196077, 209174, 215988, 229551, 252071, 276050, 7346, 21014, 26593, 40914, 60244, 74056, 78783, 85757, 104657, 105979, 120908, 127359, 138844, 164323, 179734, 181687, 182993, 210874, 215988, 218568, 221445, 223087, 223566, 226545, 229741, 246513, 254465, 258938, 265115, 276050, 16718, 65584, 78783, 81216, 91113, 114868, 127233, 138844, 141493, 164323, 210485, 229551, 250962, 31315, 36609, 74056, 81848, 98391, 144531, 162052, 194600, 226545, 229551, 265889, 6563, 31393, 92810, 113519, 135831, 238120, 638, 16795, 21014, 29855, 56959, 105214, 135360, 137589, 169663, 174304, 175052, 178920, 189835, 210485, 271144, 276050, 6242, 37712, 40889, 46398, 59150, 69971, 78448, 81298, 143415, 174304, 177072, 181176, 193676, 211426, 229741, 261829, 263163, 266865, 53174, 70666, 81597, 114368, 243294, 11224, 28204, 37950, 81848, 97754, 101851, 114368, 126903, 146803, 185176, 213150, 6323, 22074, 28204, 75819, 114368, 114868, 146803, 150896, 160681, 168816, 170947, 184513, 237271, 241980, 246507, 249695, 251003, 40889, 77809, 114368, 123094, 126492, 136382, 143163, 146803, 158433, 170947, 185176, 200226, 207499, 208829, 226545, 249695, 251003, 260944, 270820, 277427, 31315, 93179, 95359, 114368, 136382, 146803, 154469, 184513, 193898, 197659, 249695, 270820, 8067, 21659, 26593, 31315, 77480, 87141, 110440, 114368, 123094, 158295, 178240, 184513, 185176, 208829, 221445, 224349, 249695, 268622, 31393, 56447, 57398, 95359, 101305, 135045, 139913, 141710, 145449, 147224, 153513, 155147, 162052, 180042, 181176, 193458, 201526, 224349, 230522, 245410, 249628, 266283, 75591, 167812, 239584, 30081, 36606, 69078, 115435, 126196, 192710, 204864, 231210, 239584, 254299, 7346, 62891, 75591, 76818, 88738, 95359, 98686, 100906, 105517, 107784, 125692, 135045, 136205, 143837, 172742, 174304, 231827, 241666, 242083, 252071, 6251, 6563, 6575, 13552, 13850, 19711, 21576, 22625, 28177, 30735, 34588, 36907, 40889, 43246, 46398, 50225, 61901, 70666, 73044, 76151, 77181, 78448, 87555, 102967, 105517, 105979, 106225, 110912, 124874, 128325, 129074, 133689, 137589, 145641, 147847, 153797, 163804, 177375, 181687, 183995, 188273, 190708, 191716, 224430, 229313, 232106, 235282, 236283, 243294, 245645, 253871, 263163, 266056, 271176, 271195, 4017, 39281, 46398, 69971, 80810, 93047, 95359, 100906, 105937, 130571, 156150, 159858, 167471, 196466, 214786, 222296, 268932, 276050, 277427, 36907, 37950, 63956, 74056, 172512, 204864, 208829, 220688, 227705, 244171, 248718, 250962, 273086, 87141, 114368, 126492, 132375, 140358, 146803, 170947, 184513, 200226, 224349, 225087, 241980, 249695, 251003, 260944, 4938, 16795, 21404, 30533, 50225, 52584, 83287, 95173, 95359, 101606, 105979, 113270, 115435, 121170, 123825, 126693, 127826, 128835, 130571, 133747, 140223, 141710, 158433, 167471, 170513, 175052, 208406, 217318, 218121, 228998, 231210, 246311, 256407, 261829, 266056, 269566, 270820, 87141, 91058, 114368, 115692, 130474, 140358, 146803, 153662, 170634, 170947, 207499, 232964, 249695, 251003, 252820, 29526, 31315, 79977, 85993, 100459, 114368, 126388, 127359, 146803, 149069, 187256, 208829, 241980, 16795, 28177, 43910, 88229, 101305, 143415, 222220, 223087, 232131, 235282, 236757, 21356, 22625, 31315, 33974, 34588, 53220, 60337, 64436, 75819, 76151, 100846, 111174, 114368, 115003, 115435, 116904, 125519, 130571, 140358, 145641, 147224, 149069, 187256, 193778, 210485, 215988, 252820, 259629, 4017, 21576, 30985, 46398, 52584, 53174, 62862, 91103, 100459, 114544, 142256, 174326, 184424, 187145, 200226, 251140, 13273, 16795, 25981, 51883, 66680, 69211, 101620, 106225, 110912, 114368, 115692, 125519, 126492, 143175, 157811, 162639, 235105, 2891, 13273, 35857, 38023, 55892, 87555, 95359, 111174, 243879, 265889, 276680, 277427, 13273, 21011, 21014, 27740, 30487, 37712, 69078, 85757, 87555, 90616, 115003, 162639, 239584, 246311, 638, 882, 7283, 7915, 10560, 11224, 13273, 13552, 14521, 16795, 20172, 30276, 31826, 37712, 39281, 39345, 48046, 50895, 53174, 55927, 61038, 62542, 67840, 68555, 68984, 69156, 70594, 75485, 75819, 77181, 79740, 81977, 86189, 89602, 92810, 93629, 97874, 98391, 100846, 101305, 105979, 107784, 114868, 115003, 120908, 128085, 131046, 136491, 137211, 142524, 146803, 152651, 153797, 154730, 157273, 159033, 161039, 162738, 167746, 168954, 169663, 170513, 171638, 174304, 178199, 187256, 195904, 201677, 204457, 204813, 207246, 209373, 210485, 214786, 216466, 218552, 218608, 220688, 223501, 223566, 223787, 225595, 226205, 227705, 228868, 229313, 229551, 229741, 230522, 232106, 232131, 235105, 236172, 237271, 237748, 240567, 242083, 242646, 243879, 244171, 246507, 246634, 250962, 251422, 251843, 263325, 268622, 274308, 276165, 276680, 277427, 638, 2276, 10447, 16795, 23768, 29526, 41841, 60244, 64436, 65584, 66680, 76151, 81492, 91058, 91103, 93629, 98758, 101620, 102647, 104636, 108005, 114368, 126903, 127233, 136382, 139742, 140358, 141491, 162639, 165308, 177375, 189080, 193676, 196466, 197659, 204457, 208829, 211344, 223154, 224809, 256843, 271448, 13273, 25981, 33818, 39281, 43246, 55492, 56554, 70594, 79977, 110440, 112001, 126492, 144318, 144531, 153797, 190923, 196077, 210587, 237271, 249628, 2766, 23511, 65663, 73044, 136205, 160558, 224249, 228681, 254299, 258938, 40415, 69078, 77809, 95173, 95359, 98723, 135360, 136348, 142121, 148898, 181687, 182993, 201677, 220688, 223087, 224430, 226545, 235105, 246513, 255489, 258938, 266056, 268622, 12538, 39281, 69078, 69971, 77809, 81492, 81848, 88937, 89602, 122801, 139359, 169663, 187145, 210485, 239584, 29209, 43910, 50895, 54335, 56554, 63854, 70594, 98391, 126492, 130474, 131046, 139913, 182993, 210587, 223501, 224764, 228579, 232131, 235105, 237271, 21031, 28634, 36606, 39281, 39345, 53220, 55492, 56554, 60621, 64436, 68555, 70594, 75819, 97874, 113270, 114368, 126492, 127233, 136491, 153797, 190708, 208829, 227025, 228764, 235105, 237271, 241980, 251843, 53392, 60244, 63938, 69355, 100906, 109574, 113904, 124874, 150979, 161039, 193499, 218552, 223787, 235105, 259930, 264031, 270554, 243, 6575, 8454, 12824, 16795, 31393, 37712, 60244, 61427, 66680, 78783, 85526, 94347, 96357, 100459, 103336, 113270, 114544, 138777, 138844, 142256, 155147, 162639, 163804, 166596, 174326, 196077, 223154, 238849, 263325, 266056, 36907, 37712, 75591, 91058, 91832, 114988, 124874, 167812, 173415, 190741, 196077, 224809, 229011, 273086, 6543, 37712, 40889, 60244, 62542, 62862, 63938, 66574, 69078, 85526, 85757, 89602, 91113, 114988, 115003, 122429, 155580, 169663, 190925, 221948, 223431, 223787, 224138, 264543, 8253, 8454, 10314, 62862, 91113, 124874, 141491, 167812, 168954, 189835, 193499, 203240, 210587, 212923, 236058, 264031, 270801, 275970, 6543, 6575, 7283, 8245, 21014, 22625, 35859, 43246, 67547, 69971, 75591, 105937, 105979, 110912, 111174, 115003, 121170, 127359, 139359, 142524, 162052, 168816, 169663, 204864, 206944, 208829, 212923, 213126, 218121, 231210, 235935, 238120, 242106, 245371, 251394, 263325, 268110, 270554, 270605, 275970, 17003, 21014, 23768, 28177, 60244, 73044, 89602, 90616, 105374, 114414, 127233, 142524, 168064, 208829, 213126, 215988, 229741, 234359, 246507, 270554, 7346, 16106, 40943, 46443, 55492, 56554, 75591, 81216, 84024, 105979, 114868, 135351, 139387, 150979, 168954, 201674, 221445, 234359, 237748, 246507, 250184, 259035, 6251, 25981, 37712, 56959, 60244, 75591, 76499, 110440, 115572, 162639, 174304, 189835, 203240, 216683, 240700, 268110, 1435, 24933, 93629, 98758, 102359, 110973, 140358, 150968, 158295, 189835, 29526, 46398, 83637, 114988, 129716, 149934, 163804, 189835, 193499, 254201, 26621, 27617, 66680, 146803, 173415, 174216, 31315, 66680, 80810, 130571, 173415, 223501, 227447, 31315, 86189, 158295, 174216, 193898, 237271, 249628, 25981, 56554, 126736, 146803, 156150, 173415, 204457, 207259, 208829, 237271, 16795, 41084, 68984, 83637, 102359, 112083, 125519, 159033, 183061, 219683, 225810, 228998, 271195, 31315, 35859, 66680, 189080, 247852, 31315, 69933, 98904, 106849, 115692, 140358, 156150, 208829, 234165, 260944, 30487, 43910, 78834, 126693, 142524, 200226, 225087, 235282, 19085, 64310, 81848, 98391, 115692, 148744, 183995, 229313, 31315, 39281, 53220, 80810, 101876, 115692, 126736, 146803, 187256, 193898, 251843, 254, 29526, 30735, 46398, 69078, 101851, 129716, 133571, 136348, 142524, 178920, 190741, 223787, 235105, 24933, 27740, 76151, 114368, 123883, 140358, 207349, 227520, 273113, 7346, 27740, 30735, 35859, 69389, 90616, 98391, 100846, 136205, 139913, 152186, 166123, 183995, 189973, 195904, 206563, 236283, 237271, 240144, 268032, 26593, 63854, 66680, 98391, 16795, 21014, 35857, 39281, 43910, 44728, 98391, 129716, 177375, 190925, 223087, 224809, 235282, 255489, 264031, 46909, 76151, 98391, 123883, 130474, 153662, 177374, 187517, 207349, 216012, 273113, 24933, 31315, 76151, 79977, 84024, 98391, 163804, 232106, 235105, 276231, 98391, 3373, 13273, 30735, 46398, 63854, 64310, 72214, 81848, 90616, 98391, 100846, 158295, 225087, 226205, 232131, 235105, 236283, 252695, 29259, 43246, 93426, 98391, 122801, 127233, 157811, 163570, 187256, 223787, 224349, 251843, 50895, 59390, 63854, 67840, 81848, 98391, 115692, 133416, 154469, 177072, 193898, 223501, 224764, 237271, 274308, 16634, 32773, 35857, 37950, 40330, 41084, 55187, 56856, 63394, 66574, 78834, 80683, 88122, 95359, 96357, 101851, 126492, 133747, 135149, 148744, 166123, 174304, 178667, 187145, 187624, 201526, 207246, 211344, 218608, 219546, 225763, 228998, 230522, 231210, 240567, 265313, 277427, 35859, 136139, 153662, 158295, 185233, 227705, 232964, 30985, 66574, 70666, 78448, 95991, 127233, 218121, 234828, 245371, 248718, 249628, 254206, 255489, 21618, 66878, 73044, 93629, 96357, 114414, 133747, 147224, 181687, 232131, 245645, 276680, 35836, 37950, 60050, 114444, 162738, 209756, 232106, 31393, 70594, 93047, 99955, 109574, 127359, 128835, 149069, 9417, 37950, 48025, 59172, 213126, 232131, 240035, 79977, 125692, 126492, 135149, 150896, 164728, 173415, 193529, 197659, 202462, 207259, 227705, 232945, 254206, 259629, 267033, 271558, 13552, 31826, 41084, 106849, 114444, 160401, 214786, 270713, 20180, 43246, 66574, 94787, 109779, 160558, 163570, 165758, 184299, 184532, 209160, 209373, 248464, 252820, 254206, 16795, 28634, 31315, 52584, 87141, 107784, 126388, 273979, 13552, 16795, 31826, 35859, 41084, 48025, 56554, 98758, 100459, 102647, 123981, 133689, 135045, 142121, 158295, 177432, 190925, 194676, 216683, 227705, 234828, 237271, 253871, 270820, 63938, 66574, 87141, 88122, 114444, 127233, 164728, 177432, 190923, 232945, 234828, 235105, 248718, 259629, 265313, 21031, 105517, 224764, 228579, 231351, 4938, 9856, 13552, 16795, 25981, 31826, 48025, 101620, 107784, 135045, 152099, 158295, 168064, 184299, 185722, 208671, 216683, 66574, 68555, 70666, 78448, 79977, 88122, 110373, 188010, 202462, 232945, 235105, 248718, 265313, 274056, 277427, 7915, 16488, 22074, 60244, 105517, 114544, 127826, 141710, 147224, 152186, 153513, 153662, 154730, 166596, 201677, 215988, 223087, 223154, 234828, 265115, 12538, 31826, 35836, 46398, 48025, 60050, 70666, 97721, 98758, 114444, 168064, 196738, 207259, 213126, 244627, 264082, 2276, 9856, 16795, 77480, 78448, 80810, 197659, 203799, 209373, 218608, 227705, 228579, 270820, 135045, 177432, 227705, 271558, 274061, 25981, 144478, 227705, 235105, 250925, 19711, 31826, 37950, 41084, 48025, 55490, 61854, 75485, 107244, 123981, 126693, 135045, 156300, 160401, 193898, 261829, 33124, 81597, 85993, 123981, 154469, 158295, 163804, 189558, 207494, 214786, 227705, 235105, 258534, 261829, 11245, 102359, 114544, 115692, 138995, 190923, 227705, 232945, 248718, 254206, 259629, 274308, 13552, 31826, 37950, 48025, 55490, 59172, 104665, 135045, 156300, 158295, 177432, 178667, 227705, 232131, 255489, 261829, 35859, 66680, 81597, 85993, 104211, 158295, 187517, 189558, 207494, 222941, 227705, 258534, 271558, 13552, 31826, 35836, 41084, 48025, 77480, 77809, 87141, 98758, 104665, 106849, 156300, 178667, 185722, 194676, 227705, 231351, 240035, 249628, 31826, 37950, 42914, 55490, 135045, 158295, 162052, 177432, 184299, 240035, 31315, 78448, 123744, 123981, 141710, 228579, 234828, 28634, 33124, 35859, 66680, 81597, 85993, 95359, 119575, 125692, 130571, 154469, 158295, 189558, 222941, 227705, 235105, 258534, 263645, 13552, 31826, 35836, 48025, 82497, 158295, 158433, 194600, 203799, 227705, 240035, 39281, 55187, 75819, 107784, 137211, 138995, 143175, 158433, 159506, 197659, 202462, 227705, 232945, 265313, 274056, 4938, 13552, 19085, 30972, 31826, 48025, 70666, 73588, 95359, 104665, 114444, 123095, 156300, 158295, 177432, 227705, 234828, 270820, 31315, 78448, 93179, 107784, 133571, 196738, 221870, 245410, 31826, 35836, 40889, 41084, 48025, 55490, 104665, 123095, 124487, 156300, 158295, 168064, 170513, 207782, 242646, 6575, 8245, 16795, 44728, 72523, 78834, 135149, 221445, 223087, 226965, 232131, 235282, 269566, 271448, 35859, 79740, 81597, 85993, 95359, 104211, 127359, 154469, 189558, 234828, 244627, 258534, 31826, 41781, 61854, 73588, 78448, 97721, 158295, 158433, 177432, 193529, 232106, 81597, 84024, 85993, 158295, 189558, 227705, 241666, 258185, 258534, 31826, 41084, 98758, 106849, 156300, 231351, 234828, 241666, 261829, 22074, 48494, 66574, 69211, 73651, 79977, 124487, 124942, 158433, 184299, 189516, 209373, 232945, 235105, 248718, 254206, 265313, 271558, 28634, 35836, 47316, 55892, 59172, 85656, 97721, 126736, 158433, 194600, 225595, 227705, 241666, 20060, 53220, 55490, 94787, 223431, 225763, 234828, 245410, 35859, 81597, 85993, 104211, 120093, 127359, 154469, 189558, 201969, 227705, 19085, 102647, 164728, 188022, 249628, 250709, 31315, 31826, 51252, 55490, 101620, 106849, 126388, 144478, 158433, 207259, 225595, 227705, 95991, 110373, 123883, 189558, 196738, 197659, 202462, 209373, 232945, 248718, 250709, 7346, 21014, 28634, 29259, 29855, 32250, 48025, 57398, 78783, 81597, 98686, 106849, 115435, 120396, 140358, 162639, 193778, 193898, 207259, 222941, 223154, 225087, 234828, 241666, 243360, 247752, 258534, 270713, 276231, 42093, 69697, 76151, 91113, 114368, 123883, 138995, 153662, 223190, 227520, 247752, 265889, 82497, 107784, 141493, 158433, 188022, 196738, 213150, 234828, 50073, 93179, 102275, 104399, 108285, 123981, 145369, 158295, 207494, 231827, 234828, 241666, 258884, 73651, 107784, 188022, 250709, 254201, 5582, 8253, 36606, 37950, 40330, 60337, 97874, 114414, 183046, 207246, 242143, 243360, 268932, 124487, 136205, 163804, 189558, 193898, 235105, 241666, 258185, 13552, 20060, 28634, 31826, 55490, 59172, 85993, 135045, 158433, 201674, 216466, 241666, 247852, 7346, 13552, 17859, 29259, 43619, 49212, 54884, 69933, 81597, 100459, 106225, 106849, 110373, 120396, 123825, 133416, 140358, 143837, 189516, 189558, 193778, 202462, 203799, 207499, 223154, 225087, 241666, 247752, 258534, 276231, 19085, 69211, 120396, 123981, 126736, 199515, 231827, 28634, 65584, 223644, 227705, 241666, 245410, 56959, 57398, 68555, 82497, 98758, 104211, 136205, 189558, 223431, 235105, 258534, 31826, 37950, 55490, 78448, 87141, 102647, 133689, 185722, 204864, 231351, 241666, 268300, 273979, 21014, 30035, 30972, 32250, 98904, 100459, 120396, 143837, 148590, 171118, 190925, 193778, 222941, 227705, 235392, 252695, 270713, 21356, 76942, 143175, 232945, 235105, 265313, 40415, 44728, 70052, 95359, 98686, 104665, 113904, 136348, 158295, 171118, 187517, 189558, 238889, 257028, 264947, 266283, 276231, 3373, 28634, 56959, 57398, 104399, 231827, 234828, 241666, 16795, 21014, 22625, 35859, 43910, 61427, 74286, 75591, 91103, 94347, 114544, 120598, 122793, 125692, 138844, 166596, 189973, 196047, 196466, 234359, 237990, 240568, 263325, 270605, 102647, 107784, 184299, 202462, 214786, 250709, 6323, 33124, 84024, 123981, 136205, 154469, 158295, 189558, 226616, 232131, 245650, 243, 16916, 19711, 21014, 30972, 39345, 43246, 43619, 73588, 78783, 81597, 81848, 104211, 106849, 123981, 124487, 140358, 154469, 178240, 193778, 202462, 225087, 227705, 244627, 247752, 258534, 264082, 276231, 69211, 107784, 110373, 158433, 164728, 202462, 250709, 16795, 54884, 65584, 104399, 123744, 123981, 126693, 126736, 193529, 201674, 227447, 19664, 21014, 22625, 26544, 43619, 43910, 53241, 60050, 61427, 66680, 72523, 95359, 105979, 114544, 116904, 138844, 162639, 192710, 224430, 226965, 234359, 235282, 242143, 264543, 6575, 115435, 204864, 240567, 66680, 81597, 104211, 110912, 162639, 163804, 189558, 190925, 201969, 227705, 237990, 241980, 258185, 258534, 263877, 11224, 13552, 17859, 21659, 31315, 57398, 72523, 78448, 78783, 81597, 106849, 123825, 135149, 141902, 143837, 162738, 193778, 204864, 225087, 245410, 247752, 250925, 261829, 264082, 264321, 270713, 274308, 19085, 68555, 81848, 87141, 156300, 164728, 165758, 207259, 225379, 232945, 235105, 254201, 254206, 2276, 13552, 28634, 78783, 81848, 101876, 111190, 131046, 132375, 147847, 152186, 165319, 185233, 258534, 263645, 271558, 16795, 77480, 104399, 112001, 193458, 241666, 245410, 271558, 28634, 35859, 66680, 104211, 114444, 115490, 120598, 144555, 154469, 206563, 227447, 227705, 258185, 267635, 17859, 30972, 37950, 57398, 66680, 80810, 110373, 114414, 124942, 133416, 143211, 156300, 182527, 187624, 189558, 193778, 247752, 250925, 257028, 276050, 7346, 19085, 79740, 86720, 107784, 175052, 222035, 229011, 16795, 28634, 69355, 81216, 115692, 119575, 120598, 171638, 207259, 2766, 58594, 89602, 115490, 135149, 214786, 5582, 30276, 43246, 114368, 123883, 140358, 153662, 170947, 218608, 225763, 227447, 227520, 236172, 247447, 256407, 269890, 28634, 38273, 84024, 110934, 120396, 128085, 166123, 169699, 214786, 235105, 237990, 240035, 258534, 267635, 882, 22625, 27472, 69078, 115003, 116904, 163488, 196077, 197364, 226965, 236058, 237748, 16795, 19711, 33124, 35859, 38273, 108799, 159506, 201969, 207494, 214786, 217318, 225763, 250709, 255489, 28634, 37950, 38273, 55734, 59390, 64310, 76942, 94787, 123056, 140358, 162639, 188022, 189080, 193778, 227025, 247752, 250925, 258534, 276231, 11245, 69211, 81848, 87141, 88122, 165758, 188022, 232945, 248718, 271558, 16795, 20060, 112001, 193458, 27472, 65584, 69211, 85993, 101620, 104399, 112001, 156300, 190708, 223431, 241980, 210485, 266056, 3167, 5582, 50895, 69697, 95316, 98391, 114368, 123883, 153662, 187256, 190925, 227447, 227520, 32802, 65584, 210485, 224349, 225087, 234828, 244627, 266056, 16795, 20060, 33124, 38273, 46909, 66680, 104211, 124487, 128085, 158295, 193898, 197659, 201969, 214786, 223431, 232131, 245650, 255489, 258185, 258534, 267635, 2276, 20060, 28634, 30035, 35859, 38273, 42458, 51742, 53220, 56959, 82497, 83287, 92810, 98904, 101876, 144318, 167471, 188022, 232131, 250925, 256407, 257028, 258534, 263645, 5582, 50895, 69697, 79740, 91058, 92810, 98391, 114368, 140358, 153662, 153718, 156467, 177090, 223190, 227520, 227705, 252695, 254144, 638, 22074, 36715, 224249, 19085, 25981, 30985, 69211, 87141, 91113, 207259, 265313, 6575, 21011, 73044, 76499, 136139, 173415, 212923, 263325, 268110, 271448, 22074, 87141, 101606, 124487, 222941, 229011, 261829, 8067, 30276, 98391, 114368, 123883, 142256, 153662, 156467, 158295, 177090, 227520, 235392, 245410, 247447, 258185, 30276, 47316, 50895, 60621, 114368, 123883, 153662, 153718, 156269, 177090, 220597, 227520, 247447, 258185, 38273, 50895, 66680, 104211, 124487, 158295, 222035, 223431, 263645, 53220, 54335, 95991, 185176, 188022, 235105, 98391, 104144, 114368, 123883, 153662, 156467, 227520, 25409, 40415, 54335, 56307, 60621, 78783, 89602, 104636, 164323, 165319, 175052, 190925, 267635, 48025, 55492, 69971, 91113, 104211, 135149, 142256, 165319, 189558, 223566, 229313, 254465, 254, 22625, 23872, 29526, 30735, 37208, 55492, 69389, 75591, 75819, 83637, 85993, 88122, 93047, 100906, 101851, 102647, 104399, 105054, 110912, 110934, 114368, 115572, 116904, 123257, 124876, 136491, 143964, 162639, 168047, 170634, 179734, 179978, 181176, 185176, 193676, 211426, 215986, 223501, 226965, 229741, 232131, 232964, 240700, 248477, 271176, 276165, 8245, 10560, 12824, 21014, 31393, 37950, 47316, 56447, 57398, 81492, 88733, 104636, 105517, 110973, 114581, 126736, 129074, 137589, 145369, 147141, 150896, 153662, 153718, 156269, 157273, 159506, 165308, 167800, 169682, 170513, 172512, 173415, 177375, 183061, 184532, 205735, 208815, 216466, 220688, 224138, 228021, 238889, 242083, 249628, 263163, 265313, 274308, 6251, 23872, 29526, 30735, 36907, 55492, 56959, 60707, 69389, 74056, 85993, 88122, 100906, 101851, 102647, 110934, 115572, 116904, 124876, 136491, 140358, 162639, 167800, 168047, 170513, 170634, 177374, 179734, 179978, 181176, 185176, 187624, 207494, 211426, 215986, 226965, 229741, 232131, 232964, 240144, 240700, 242106, 248477, 263163, 269566, 271176, 271705, 276165, 254, 9856, 10560, 12824, 21576, 31393, 69211, 69697, 88733, 93047, 104399, 104636, 115490, 123744, 129074, 135149, 138995, 147141, 153662, 169682, 177375, 183061, 184532, 193676, 194676, 196738, 205735, 208406, 208815, 220688, 228021, 238889, 242083, 249862, 261603, 265313, 254, 6251, 13273, 23872, 25409, 29526, 30735, 55492, 60707, 69389, 69697, 74056, 75819, 85993, 87555, 88122, 88733, 93047, 101851, 110912, 110934, 116904, 123257, 124876, 136491, 153662, 162639, 165758, 168047, 170513, 170634, 177374, 177375, 179978, 184532, 185176, 193499, 195904, 205735, 208406, 223190, 226965, 232964, 240144, 240700, 242106, 248477, 248718, 271176, 276165, 6563, 10560, 21576, 51526, 100906, 104636, 105517, 114581, 115572, 126388, 137589, 143837, 153718, 159506, 165308, 172512, 179734, 183061, 193676, 196738, 208815, 220688, 229741, 238889, 242083, 249894, 258534, 260897, 271448, 6251, 6563, 10560, 21576, 22625, 25409, 30735, 40415, 54335, 55492, 69156, 69389, 69697, 74056, 75819, 78834, 85993, 88733, 94787, 95359, 98904, 100906, 101851, 102647, 105517, 115572, 116904, 123257, 124597, 126693, 127233, 135149, 136491, 143163, 144478, 145449, 146803, 147141, 153662, 156150, 159506, 168954, 169682, 170634, 174596, 179734, 179978, 183061, 185176, 185233, 190708, 195904, 208406, 208815, 215986, 220688, 223431, 226965, 229741, 232964, 235105, 240144, 240403, 242083, 242106, 247447, 248477, 249894, 260897, 265889, 271176, 271448, 276165, 7346, 27740, 40943, 46398, 88733, 125692, 126395, 143163, 143837, 156269, 177374, 183061, 196738, 214786, 263163, 271558, 275970, 5582, 84024, 105517, 106007, 140223, 153662, 59172, 68555, 69232, 104636, 109491, 114368, 200226, 216683, 244627, 9417, 25981, 51252, 104636, 114368, 133689, 160401, 216683, 8245, 16996, 19842, 112001, 114544, 162052, 200226, 207148, 226616, 243294, 245645, 251843, 16795, 51252, 70415, 104636, 109899, 114368, 13552, 62272, 68555, 104636, 107784, 109491, 114368, 218552, 238065, 14422, 20060, 27617, 102967, 114988, 197659, 224764, 228998, 55490, 60244, 75591, 76499, 80683, 133571, 137688, 144038, 152186, 160819, 165319, 177432, 206534, 208829, 219546, 219683, 235105, 242083, 263163, 275970, 29259, 31826, 35859, 55799, 104636, 107021, 61038, 100264, 104636, 109491, 114368, 179734, 216683, 225087, 237271, 246513, 13552, 59172, 68555, 104636, 114368, 156467, 200226, 277427, 16795, 59172, 62272, 104636, 114368, 147847, 246513, 254465, 9417, 13552, 16795, 25981, 62272, 68555, 100264, 104636, 114368, 133689, 216683, 11245, 23872, 31826, 104636, 107784, 190925, 238120, 242646, 249628, 13552, 62272, 68555, 104636, 108005, 114368, 216683, 225087, 30533, 48494, 70415, 123981, 133571, 200226, 235105, 236283, 245645, 258185, 13552, 51883, 62272, 64310, 104636, 133689, 156150, 242143, 2766, 23768, 51883, 61427, 114581, 127129, 160681, 200226, 205980, 223431, 6251, 12824, 28634, 38023, 53174, 62891, 65584, 69211, 75819, 80810, 85426, 85993, 93629, 105054, 106007, 115435, 126388, 126492, 135045, 135265, 144555, 155014, 196738, 204864, 217318, 220688, 225087, 225379, 227705, 232945, 234828, 237534, 249628, 250925, 254206, 261829, 263325, 264321, 265313, 266226, 266283, 266865, 268300, 271558, 271705, 276165, 9417, 25981, 61038, 69232, 104636, 114368, 120093, 133689, 254465, 271448, 8245, 108155, 112001, 114544, 127826, 144318, 160681, 192710, 230522, 13552, 24921, 25981, 59172, 104636, 109491, 114368, 160401, 203764, 225087, 248496, 254465, 2766, 6323, 14521, 16795, 21014, 36606, 53418, 57398, 59150, 68984, 72523, 100906, 112001, 114581, 127129, 128835, 155147, 193676, 206563, 243294, 243360, 245645, 254465, 260897, 261603, 267033, 269835, 8245, 8253, 16488, 20060, 21659, 27472, 28634, 29259, 30972, 30994, 35859, 37950, 39345, 48494, 51252, 55734, 56856, 72523, 86189, 87141, 88733, 91103, 93179, 95932, 102647, 102967, 104636, 104665, 105979, 107244, 107784, 108285, 114414, 114868, 123056, 123544, 125519, 126492, 126736, 127826, 134797, 135045, 137589, 140358, 141493, 147847, 148744, 153718, 154469, 156467, 158295, 158433, 159506, 162738, 164323, 170947, 174326, 174596, 187145, 190923, 196047, 197364, 202462, 207259, 209160, 210485, 218568, 226545, 227705, 234828, 235392, 240567, 242083, 243294, 245371, 249628, 255489, 6073, 6563, 12824, 13552, 23872, 28634, 33818, 56307, 69232, 70666, 75081, 87141, 95991, 100459, 101620, 101851, 102647, 104636, 104665, 107244, 110934, 112001, 112093, 114368, 120093, 123544, 126492, 126736, 135045, 135149, 136491, 140358, 150979, 153662, 155014, 162639, 162738, 163570, 164323, 172512, 177072, 178240, 180042, 182459, 196047, 197659, 217318, 218552, 218568, 221445, 222035, 224349, 226545, 228764, 229011, 237271, 238120, 240035, 242083, 243294, 245371, 248496, 251140, 261829, 268032, 268300, 51883, 61038, 62272, 104636, 145449, 223190, 6543, 7915, 30276, 31556, 32773, 37712, 53174, 57398, 59150, 68555, 69971, 75149, 82407, 86189, 123883, 133689, 135458, 166596, 167746, 168245, 169233, 223154, 226545, 236757, 239584, 242106, 247447, 251843, 259035, 261829, 269890, 276231, 91103, 108155, 235935, 245645, 254144, 269566, 14422, 16996, 55187, 91103, 102967, 112001, 114581, 124487, 127826, 137589, 166596, 247241, 6323, 6563, 14521, 16634, 16795, 23511, 47316, 48025, 49212, 59150, 70666, 87141, 98686, 101876, 102647, 104636, 105979, 109779, 124942, 125519, 126492, 126736, 135149, 137589, 153662, 156467, 158433, 159506, 160681, 168954, 170947, 172061, 177072, 180042, 182459, 197659, 208829, 218552, 225087, 226545, 229011, 234828, 238889, 240567, 243294, 258534, 259629, 265115, 270820, 271448, 274308, 6073, 13552, 16795, 16916, 21659, 22074, 28634, 30035, 30985, 31315, 37950, 56856, 68555, 70052, 93629, 95932, 102647, 104636, 104665, 105517, 105979, 124942, 125519, 126492, 135149, 135265, 137589, 140358, 144478, 153662, 153718, 154469, 156467, 158295, 162738, 163570, 164323, 171118, 173481, 177072, 187762, 204457, 207259, 207499, 207782, 208829, 209373, 218568, 221445, 225087, 226545, 229741, 231351, 232945, 237271, 240035, 240567, 242083, 255489, 258534, 259629, 268032, 7915, 8245, 30994, 32773, 37712, 37950, 53174, 55799, 68555, 78783, 86189, 91113, 124487, 135458, 136010, 156150, 168245, 189835, 220597, 226545, 235392, 242106, 251843, 256402, 259035, 70052, 120093, 188273, 190708, 224764, 264031, 276231, 29259, 30985, 33124, 123825, 217318, 16795, 23872, 24921, 40889, 61038, 62272, 68555, 69232, 123095, 133416, 133689, 142256, 254465, 264082, 273979, 21014, 30276, 30994, 32773, 37712, 68555, 86189, 135458, 136205, 156150, 168245, 226545, 251843, 256402, 259035, 276231, 17859, 39281, 70415, 241666, 243360, 268032, 2766, 3167, 21484, 23872, 27472, 36606, 46443, 56447, 60244, 95359, 104636, 136491, 150979, 162052, 189835, 230522, 236058, 249894, 269566, 4938, 11224, 13552, 23511, 28634, 30487, 36606, 37950, 39345, 40889, 41084, 42458, 48025, 56856, 68555, 81848, 87141, 102647, 104636, 106225, 107784, 123544, 125519, 126736, 135149, 137589, 140358, 144478, 144555, 153797, 158433, 159506, 168954, 177072, 178240, 202462, 218568, 223644, 224138, 227705, 229011, 235935, 240567, 242083, 250925, 271558, 272573, 7915, 16795, 21014, 21659, 34588, 50073, 95359, 102705, 110934, 123825, 135360, 148590, 150979, 173481, 182993, 194600, 205980, 209756, 227884, 6575, 43246, 52584, 105517, 127826, 138543, 139913, 196047, 207148, 216683, 223154, 250184, 259629, 24921, 40889, 43619, 165308, 196077, 208671, 225810, 254144, 2276, 7346, 13552, 18082, 22074, 23511, 28634, 36135, 39345, 53418, 56856, 65584, 68555, 70666, 91113, 93092, 102647, 105979, 124597, 126492, 139742, 141493, 150979, 158433, 162738, 170947, 173481, 174726, 178667, 202462, 203799, 214786, 216670, 218121, 220240, 232945, 238889, 242083, 256407, 258884, 264082, 265115, 268622, 272573, 40889, 61038, 104636, 213150, 2766, 49460, 110973, 112001, 114581, 128835, 130571, 137589, 160681, 192710, 194600, 239584, 242143, 243294, 245645, 251843, 254144, 254465, 259260, 276680, 13552, 16795, 35857, 37950, 39345, 53418, 55734, 55892, 56856, 59150, 70666, 102647, 104636, 104665, 105979, 106007, 107784, 108285, 109899, 110373, 114868, 114988, 117111, 122440, 126736, 127826, 140358, 150979, 158295, 169779, 213150, 218608, 238889, 240567, 242083, 258884, 6251, 14521, 16795, 16916, 30972, 37712, 39773, 47316, 55799, 60621, 69232, 70052, 78783, 81848, 91103, 96357, 107784, 113904, 123825, 135045, 135149, 168245, 168954, 192710, 200226, 236757, 238065, 240567, 242646, 243360, 244627, 251422, 274056, 48975, 86189, 110440, 112001, 113519, 127826, 162639, 164323, 173481, 175052, 209756, 235392, 242143, 260944, 6563, 43619, 105054, 110440, 112001, 114544, 127826, 164323, 208671, 245645, 247241, 264947, 265115, 267033, 20060, 76942, 96357, 111174, 120396, 124487, 128085, 135045, 135149, 139742, 168245, 230522, 234828, 240567, 6251, 12824, 16795, 28634, 52584, 62891, 65584, 126492, 135265, 138578, 144555, 154070, 162738, 189558, 189835, 190708, 206563, 209756, 219683, 224764, 225763, 227705, 232945, 265313, 266865, 8245, 9856, 11224, 13552, 20060, 40889, 46909, 54884, 56856, 68555, 78448, 85993, 88937, 93092, 101620, 104636, 117111, 123981, 125519, 127826, 135149, 140358, 141493, 144531, 156467, 180042, 214786, 217318, 217375, 223644, 227705, 232945, 238889, 242083, 242143, 248496, 249628, 258185, 265115, 277427, 59172, 177375, 59172, 87712, 93092, 104636, 112026, 134797, 179734, 53220, 104636, 115692, 120598, 104636, 138198, 168245, 174326, 179734, 264031, 120396, 149934, 154529, 7346, 21659, 24921, 30487, 38273, 40889, 41841, 43619, 56307, 68555, 70666, 80810, 88937, 97721, 102647, 104636, 107244, 112001, 125519, 136382, 137589, 154469, 159506, 169699, 173481, 174726, 193529, 196047, 201684, 209373, 223644, 227705, 228579, 229011, 232131, 232945, 236172, 238889, 241666, 251843, 264082, 268622, 24933, 25981, 33124, 53220, 56959, 124942, 158295, 232131, 7158, 16795, 27472, 28634, 32250, 40889, 91103, 97754, 110973, 114544, 123825, 138844, 143415, 150979, 156150, 181687, 196466, 223501, 227884, 238065, 240568, 249695, 258534, 261829, 270713, 6073, 6563, 7915, 16795, 17859, 18082, 21659, 30533, 35857, 50225, 54884, 60050, 69933, 87712, 95359, 100846, 104636, 105054, 110373, 110912, 112083, 113904, 114368, 114544, 117111, 120908, 124487, 129084, 135149, 142715, 152651, 153797, 156150, 156467, 162639, 167800, 168064, 172061, 189973, 193676, 203240, 210485, 215988, 222220, 224249, 226965, 231210, 231827, 238065, 242143, 244627, 249628, 251422, 254465, 256407, 260897, 266283, 272573, 278633, 7346, 11224, 13552, 23511, 30533, 31315, 54884, 70666, 75819, 79740, 105979, 107784, 112093, 120396, 122440, 124487, 125519, 134797, 153513, 154730, 159506, 193529, 193898, 198046, 214786, 216670, 216683, 218121, 229011, 232131, 232945, 236172, 240567, 241666, 241980, 244627, 258534, 258884, 273979, 882, 14422, 20060, 22074, 29209, 76942, 78448, 97754, 134797, 141493, 142256, 168245, 177375, 207259, 235935, 21014, 24921, 31393, 48025, 60244, 67547, 78783, 91103, 108005, 114581, 127359, 135149, 152651, 153797, 164323, 190459, 223431, 240144, 242143, 245645, 251843, 259035, 260897, 266865, 53220, 60621, 67840, 102275, 126903, 232945, 277427, 2276, 7346, 11245, 22074, 25981, 43619, 53220, 68555, 70666, 75819, 82497, 87141, 95359, 97721, 101620, 106225, 124487, 126492, 135149, 137589, 141491, 168816, 174216, 174726, 181687, 209174, 217318, 217375, 221445, 229313, 232945, 236172, 240567, 242083, 242299, 249628, 271195, 3373, 16795, 23768, 40889, 48025, 86720, 95359, 110440, 114444, 140358, 154529, 159858, 160401, 162639, 162738, 163804, 165758, 204813, 218568, 224809, 241980, 245650, 253871, 260944, 25409, 86720, 90616, 162639, 163804, 173415, 182527, 241980, 274308, 277427, 143175, 238065, 243, 7283, 8066, 22074, 28634, 30487, 30972, 30994, 38273, 41781, 48025, 54335, 64310, 68555, 69971, 74286, 82497, 93179, 100264, 101620, 104665, 106225, 112001, 114544, 122429, 122440, 126196, 135149, 141710, 146113, 156467, 164323, 164728, 165308, 170513, 172512, 178667, 181687, 196047, 206563, 208147, 216683, 217318, 223154, 225886, 228681, 240567, 242299, 243294, 244627, 249628, 249695, 258534, 271448, 271558, 272573, 7346, 20060, 39345, 41841, 43619, 48494, 52917, 53220, 55799, 62862, 64310, 82497, 92810, 105979, 112001, 126693, 158433, 172742, 173481, 174726, 177072, 178199, 196047, 207782, 209373, 217318, 223644, 232945, 237271, 240567, 258534, 261829, 267635, 270605, 7125, 8067, 13552, 64436, 98391, 107021, 127233, 153662, 156467, 159033, 201447, 207148, 246513, 247447, 265889, 11245, 13552, 28634, 30533, 53220, 54335, 82497, 91103, 91832, 117111, 164323, 174726, 223431, 225886, 240567, 271558, 32773, 38273, 76499, 104211, 104636, 109899, 114988, 122429, 135149, 165308, 170513, 204864, 218121, 239584, 240144, 240700, 242299, 246507, 249862, 256843, 260183, 269566, 271176, 15049, 91832, 95359, 100906, 107784, 114444, 123883, 128835, 138777, 138995, 189835, 223154, 245410, 252695, 258534, 6251, 27472, 37644, 46443, 56959, 88733, 93426, 95359, 95932, 105214, 105517, 115572, 142121, 144531, 148744, 162639, 172061, 173415, 175052, 189835, 196160, 203240, 218121, 235105, 240700, 263163, 266056, 271448, 272573, 14521, 16996, 37712, 102967, 130571, 133747, 187256, 278633, 7346, 16795, 37644, 40943, 62542, 95359, 145641, 172061, 172742, 196502, 204864, 211344, 230522, 240144, 268932, 271448, 3167, 6251, 31556, 56959, 60244, 80810, 93047, 95359, 109779, 122429, 123257, 135149, 150979, 165319, 168064, 171118, 203240, 207782, 211344, 223154, 224349, 225810, 235105, 240144, 251140, 261603, 263163, 265313, 271144, 6251, 30533, 46398, 87141, 89602, 95359, 96440, 127359, 157273, 159858, 165758, 179433, 184299, 187762, 223154, 225379, 268300, 8253, 41841, 51526, 53174, 69971, 76499, 76818, 88937, 101851, 123544, 129084, 156150, 169682, 184299, 204864, 218568, 219683, 234828, 250962, 259901, 264321, 267635, 16634, 31315, 32773, 42093, 63394, 76151, 89602, 91113, 98686, 108799, 124876, 177458, 195694, 240144, 247447, 261829, 48046, 88122, 115435, 128085, 133571, 135458, 159506, 167471, 177432, 201526, 236058, 250709, 250962, 4938, 20172, 25409, 37950, 44893, 100906, 160401, 165319, 171118, 177432, 178199, 197659, 230522, 234828, 248718, 251003, 271705, 2766, 4017, 8253, 9417, 10314, 13850, 21576, 27472, 31556, 37712, 37950, 40330, 46443, 55187, 57398, 59172, 89602, 95359, 100459, 102647, 104657, 105979, 110934, 113519, 114414, 115003, 123883, 128325, 129074, 136205, 136491, 138543, 145449, 147847, 159033, 168047, 171118, 174304, 177432, 181176, 184299, 187145, 193676, 200226, 201526, 207246, 209160, 229741, 231210, 236058, 240567, 245371, 247447, 251422, 256407, 257028, 260897, 263325, 271176, 6251, 21659, 46909, 56959, 110934, 169663, 173481, 235105, 236283, 255489, 52584, 132375, 240035, 52584, 55490, 55892, 95359, 98758, 102967, 120093, 126903, 142256, 206534, 248496, 277427, 7346, 154529, 159506, 162639, 268032, 16795, 81597, 156467, 163804, 177090, 235935, 263877, 107784, 120093, 142256, 190925, 240035, 247447, 248496, 259629, 13552, 154469, 196738, 247447, 27472, 86145, 99955, 128835, 162639, 173415, 197659, 7346, 16634, 17859, 41455, 68555, 93629, 100459, 102647, 110373, 169779, 189558, 196738, 201447, 201684, 203764, 221445, 221705, 227705, 232945, 252695, 16916, 35859, 68555, 88733, 93629, 95991, 114988, 124942, 154469, 158295, 161039, 189558, 190923, 207499, 265115, 267635, 16795, 21484, 25981, 49212, 64310, 109574, 135149, 137211, 147847, 172061, 189835, 193676, 234828, 238120, 248496, 248718, 270713, 16795, 18082, 19085, 21031, 28177, 33818, 53174, 53220, 70052, 83287, 96357, 100459, 102647, 104636, 123825, 125519, 137211, 143175, 144478, 145369, 150979, 154469, 173481, 202462, 217375, 223644, 232945, 234165, 240567, 254465, 267635, 15049, 96357, 150968, 193676, 254465, 243, 14422, 21031, 68555, 70052, 87141, 101876, 104211, 110373, 132375, 140358, 143175, 149069, 163570, 184513, 203764, 225763, 243360, 7346, 14422, 16488, 21484, 37712, 40943, 76818, 109574, 110934, 115572, 123094, 123981, 187145, 190923, 195694, 230522, 254465, 255489, 266226, 270713, 68555, 147847, 193898, 258884, 30735, 35859, 66878, 73044, 81298, 93629, 95359, 104144, 153662, 164323, 167746, 187256, 212923, 216683, 229551, 243236, 254299, 263877, 5582, 13552, 14422, 16795, 21659, 28634, 29855, 39281, 55492, 59269, 60050, 62891, 65258, 69232, 85526, 91103, 101876, 103336, 104665, 109574, 110440, 119575, 126693, 153718, 153797, 163804, 168816, 183995, 213150, 218608, 224249, 229313, 232131, 250709, 251003, 253871, 260897, 268110, 275970, 2766, 4017, 21031, 48975, 49460, 61038, 66680, 68555, 91103, 167812, 208829, 230522, 232964, 254465, 266056, 16795, 22625, 36606, 39281, 46398, 55187, 63956, 83637, 100459, 124874, 139359, 142121, 220240, 225087, 226965, 248464, 252820, 260183, 266865, 267033, 16795, 21014, 26544, 46398, 75081, 78448, 109574, 148744, 168245, 177375, 178199, 180042, 187256, 190708, 193676, 194600, 8253, 23768, 27617, 85993, 153718, 154992, 158295, 167812, 169699, 181687, 208671, 248477, 638, 39773, 112001, 162639, 168954, 201677, 248477, 260944, 271705, 638, 23511, 28634, 43246, 74056, 113270, 142715, 145369, 148898, 236283, 273113, 638, 103336, 122429, 125039, 167812, 177375, 224349, 248477, 273113, 158295, 236172, 259629, 24933, 98391, 100846, 158295, 217318, 235105, 25981, 29209, 114368, 140358, 146113, 260944, 55493, 69232, 81597, 92810, 110934, 114368, 136139, 193898, 251843, 260944, 76151, 98391, 98723, 158295, 171638, 216012, 260944, 263645, 265889, 278026, 20060, 76151, 154529, 193898, 218552, 225087, 6575, 16795, 70415, 92810, 98391, 113270, 135149, 152651, 165308, 184424, 207148, 208671, 253871, 273113, 638, 7158, 25981, 36606, 50895, 98391, 204813, 236283, 638, 8253, 16795, 50895, 79977, 81848, 98391, 112001, 113270, 123095, 134797, 138578, 150968, 162738, 170947, 183061, 185722, 204813, 221705, 236283, 254299, 254465, 268932, 6251, 17003, 19711, 36907, 37712, 40415, 55492, 55892, 69971, 75485, 75591, 78834, 85526, 93092, 97874, 105054, 105374, 105979, 108005, 114868, 117111, 122440, 131046, 139359, 167471, 207782, 220240, 220688, 232131, 255489, 274308, 7158, 16718, 16795, 24921, 50895, 56554, 97874, 122793, 148898, 150968, 185722, 204813, 236283, 50730, 135149, 199515, 241666, 255489, 277427, 6563, 19711, 35836, 53220, 81848, 189558, 196077, 204864, 258534, 273979, 276050, 6575, 36135, 48025, 87141, 110912, 114988, 196738, 208406, 231210, 236283, 244171, 248718, 6323, 19085, 30972, 53220, 55490, 95359, 100264, 110912, 122793, 125519, 126736, 129084, 145369, 158295, 158433, 178199, 178667, 204864, 207499, 214786, 221445, 232945, 240567, 242646, 247752, 254201, 254465, 264321, 269890, 272573, 51883, 70415, 122793, 123095, 226616, 241666, 250709, 13552, 39345, 104636, 107784, 124942, 168064, 48025, 104636, 123981, 136348, 143211, 189558, 204864, 224349, 225595, 225886, 256407, 42458, 112001, 120598, 123981, 164728, 167471, 187517, 201969, 204864, 217318, 225763, 242646, 250925, 14422, 23872, 61854, 97754, 104636, 120093, 120396, 142479, 225087, 14422, 50225, 51252, 60621, 68555, 70666, 81216, 143211, 187256, 214786, 217318, 234828, 254206, 260944, 8245, 26544, 28634, 42458, 53220, 84024, 100459, 104636, 173481, 196738, 207499, 232131, 258534, 269890, 272573, 32802, 47316, 69933, 104211, 124487, 154469, 189558, 204864, 207782, 217318, 223644, 254465, 258534, 65584, 81597, 104636, 208897, 18082, 21618, 36715, 216683, 248718, 266056, 33124, 111190, 193898, 207259, 224764, 232131, 274056, 6575, 55892, 89602, 92810, 106007, 108799, 124487, 140358, 203799, 211426, 214786, 221732, 225087, 241980, 242646, 245650, 263163, 39281, 53220, 59172, 72523, 80810, 98758, 101876, 104636, 125519, 141493, 142256, 145369, 213531, 234165, 238065, 254201, 256407, 258534, 38273, 100846, 143211, 158295, 174726, 210485, 216670, 217318, 222941, 224138, 232945, 236172, 7158, 16718, 16795, 18082, 19664, 27472, 36606, 41841, 43246, 46398, 49212, 53174, 56554, 59390, 65663, 68555, 70666, 99955, 101876, 117111, 120598, 120908, 123095, 123883, 126903, 133689, 139913, 141493, 143163, 145641, 147847, 148898, 149934, 155014, 159033, 162780, 181176, 185722, 187256, 193778, 201674, 216683, 236283, 238613, 250184, 253871, 254465, 256843, 258938, 269835, 271448, 273113, 11245, 23511, 30994, 33124, 69211, 87141, 104211, 106007, 154529, 156150, 182527, 214786, 222941, 225087, 255489, 6543, 7158, 30972, 32802, 46909, 53220, 55490, 64310, 95359, 105937, 125519, 132375, 204864, 207782, 208406, 221445, 221732, 222035, 225087, 232945, 234165, 240567, 256843, 258534, 261829, 263877, 31315, 50895, 57398, 81597, 94787, 107021, 111190, 135149, 31315, 35836, 46909, 53220, 100264, 104636, 110934, 123825, 133296, 134797, 144478, 145369, 149069, 154469, 190925, 197659, 199515, 217318, 218608, 221445, 221732, 223644, 225087, 258534, 269890, 8245, 68555, 70666, 100846, 101876, 139742, 154529, 184513, 190923, 193898, 200226, 203764, 207259, 217318, 223154, 232945, 243, 35859, 50730, 69933, 100459, 141493, 204864, 221732, 232106, 258534, 267635, 272573, 6575, 8067, 16488, 23872, 25981, 30972, 40889, 43246, 48494, 52584, 56554, 59390, 75081, 93092, 96357, 105979, 124487, 125692, 134797, 141902, 143163, 162780, 170947, 172512, 177458, 182459, 184424, 185722, 218552, 225087, 228764, 230522, 236283, 249628, 257028, 264321, 20060, 26544, 59390, 81597, 102275, 104636, 111190, 119575, 129084, 182527, 208897, 215988, 232131, 244627, 264082, 16795, 18082, 23511, 43619, 46909, 48025, 50895, 55490, 55734, 84024, 95359, 102275, 102647, 104144, 108285, 108799, 127233, 133416, 136010, 142256, 149069, 154469, 185233, 196160, 217318, 218608, 221732, 222941, 223154, 224809, 232945, 236757, 240567, 242646, 246513, 256843, 266283, 276231, 30972, 51992, 53220, 70666, 102647, 106007, 120396, 124487, 182527, 193898, 196047, 217318, 221445, 228681, 229313, 261829, 265115, 271558, 41841, 135149, 203764, 223154, 237990, 261829, 95316, 95359, 100846, 201674, 208897, 232945, 28177, 33124, 41455, 46909, 77480, 105517, 123825, 126736, 133296, 154469, 167746, 196077, 199515, 207782, 223644, 226965, 232131, 234165, 258534, 261829, 263877, 266056, 269890, 23511, 38273, 41781, 43246, 67840, 70666, 92810, 101876, 107244, 196738, 203764, 217318, 231351, 277427, 7158, 16795, 28634, 39773, 43246, 43619, 54335, 73044, 107784, 113270, 123883, 133689, 135149, 143163, 153718, 162639, 185722, 188010, 220688, 224430, 226205, 236283, 237990, 240700, 247447, 250184, 252071, 253871, 254465, 264947, 270554, 2276, 28634, 61901, 120598, 135149, 154469, 217318, 223154, 223644, 234165, 16795, 24933, 28634, 37950, 43619, 53220, 55493, 92810, 95316, 101876, 104211, 105058, 119575, 120396, 123981, 125519, 135149, 154469, 208897, 213531, 253871, 258534, 260897, 265115, 19711, 50895, 84024, 102275, 119575, 154469, 225595, 252695, 16795, 158295, 208897, 231351, 6543, 9417, 16795, 27472, 29209, 30276, 32802, 33124, 35859, 41781, 51450, 53220, 55187, 62542, 69389, 77480, 81216, 82497, 83287, 84024, 86145, 95359, 104144, 104211, 104636, 115435, 125519, 128085, 136382, 147847, 152651, 177458, 184513, 187624, 189516, 189558, 190741, 190925, 199515, 204591, 213150, 217318, 222035, 222220, 223644, 225810, 228764, 228868, 232945, 235282, 236058, 242143, 246513, 254201, 258185, 258534, 261829, 266056, 29209, 30972, 33124, 38273, 43246, 83287, 95903, 108005, 127129, 128325, 135149, 139742, 182527, 200226, 226965, 236172, 240403, 7158, 16795, 24921, 24933, 36606, 54335, 62862, 63394, 78783, 92810, 102967, 123883, 130571, 136382, 138995, 143163, 167812, 168245, 173481, 185722, 206563, 242299, 247447, 251422, 8067, 13552, 21576, 30276, 79266, 81492, 98391, 104636, 107021, 114368, 133689, 143175, 146113, 168954, 193499, 216012, 217375, 223154, 247447, 251422, 258938, 40914, 79266, 98391, 216012, 247447, 258185, 30972, 33124, 50895, 69355, 187256, 221705, 232945, 235935, 252071, 7158, 18082, 44728, 53174, 112001, 116904, 122793, 138543, 154469, 156300, 163488, 170634, 190925, 208671, 226965, 235935, 246513, 254465, 259035, 261829, 266865, 11245, 20060, 26593, 32802, 34588, 47316, 50225, 55490, 95316, 95359, 105058, 132375, 177072, 193898, 208406, 214786, 221445, 221705, 221732, 227447, 232131, 232945, 234165, 240567, 241980, 261829, 274308, 276231, 21356, 56307, 82497, 83287, 101606, 221705, 20060, 27472, 112001, 124942, 135149, 193458, 221705, 240568, 242646, 261829, 2766, 14521, 25409, 35857, 40889, 48975, 55799, 66680, 93092, 97874, 106007, 127129, 173481, 185722, 203240, 208829, 237990, 254299, 259035, 265115, 13850, 20060, 35836, 39281, 40415, 48025, 53220, 66878, 77480, 98758, 108799, 125519, 137688, 143175, 158295, 166123, 167800, 169233, 190925, 201674, 204864, 222220, 225087, 232945, 234165, 266056, 2276, 35859, 43246, 48025, 50895, 53220, 62542, 84024, 102275, 104211, 106849, 110912, 110934, 119575, 126492, 133416, 137688, 143415, 177072, 187256, 187624, 193898, 201969, 204864, 207499, 217318, 218552, 228764, 234165, 241980, 251140, 256843, 261829, 264947, 8067, 47316, 190925, 208897, 6563, 28177, 28634, 30985, 32802, 35859, 50895, 53220, 67840, 95359, 104211, 214786, 217318, 223154, 223431, 59172, 126395, 184424, 216670, 252071, 266283, 270820, 16795, 163570, 6323, 11245, 20060, 33124, 42458, 70594, 86145, 88937, 110973, 119575, 204864, 217318, 225595, 245650, 250925, 36135, 44252, 77181, 89602, 96440, 97754, 105979, 110934, 115435, 126604, 130571, 135351, 139359, 153513, 159858, 211344, 215988, 222296, 224349, 268110, 271195, 6242, 30081, 33974, 43246, 55493, 60244, 66574, 75591, 95359, 97754, 114544, 115435, 115490, 122793, 136139, 181687, 209174, 213126, 235935, 240219, 242299, 245649, 248477, 265889, 276050, 1435, 6575, 7158, 8066, 13273, 16795, 20180, 26544, 33580, 39281, 43619, 43910, 52584, 53418, 55187, 56856, 62862, 70052, 79977, 88229, 88733, 88937, 98263, 101606, 102705, 104636, 105979, 113270, 113519, 113904, 114544, 115572, 123095, 130571, 138578, 141902, 142121, 142715, 155147, 164323, 174326, 178240, 179734, 188010, 189973, 192093, 193676, 196466, 197364, 201447, 212923, 222296, 224809, 227884, 229313, 231210, 232131, 232964, 235282, 240567, 240568, 249695, 251140, 252071, 253871, 258938, 259629, 264031, 270605, 270713, 271448, 272573, 85757, 98758, 98904, 105979, 122801, 156150, 178199, 209174, 243879, 6563, 33580, 41455, 44893, 60244, 84024, 91113, 110934, 115003, 117251, 122793, 127826, 136348, 144038, 148590, 162738, 173415, 181687, 213126, 224430, 226205, 227884, 97874, 113519, 168954, 225087, 37950, 46909, 61427, 64436, 73044, 132375, 150968, 167812, 224430, 225810, 238065, 242646, 278633, 48025, 76942, 109574, 126604, 135149, 142479, 165758, 175052, 259629, 3373, 7346, 38273, 52917, 77480, 84024, 98904, 100846, 104636, 124487, 128835, 139913, 143837, 162052, 164323, 189516, 206563, 207494, 227025, 228681, 258534, 276050, 30972, 38273, 40415, 60244, 83287, 89602, 104636, 123056, 132375, 157273, 158295, 164323, 166596, 172742, 175052, 190925, 234165, 245650, 258534, 2766, 25981, 30487, 39773, 60244, 67840, 69078, 88738, 95173, 95932, 101305, 114988, 126604, 127359, 132375, 135149, 138777, 144038, 177375, 204864, 206944, 210587, 224138, 232131, 236757, 239584, 266283, 243, 16106, 16795, 23511, 48025, 92810, 181687, 187517, 193458, 208829, 219683, 232945, 278026, 52584, 60707, 87141, 91103, 107784, 159858, 209373, 216683, 268032, 41841, 123094, 163570, 166596, 189835, 197659, 225087, 234828, 8253, 10447, 16634, 36606, 52917, 69355, 70052, 87555, 88937, 93047, 93629, 95359, 95932, 104113, 110912, 115490, 116904, 122793, 122801, 123544, 128085, 129716, 135045, 155147, 177432, 197364, 204864, 209756, 212923, 218568, 224349, 231210, 235105, 236172, 248718, 261829, 271705, 33124, 76352, 101305, 147847, 189835, 197659, 234828, 237748, 7346, 20180, 26593, 30735, 51742, 60244, 73588, 79266, 95991, 104636, 105979, 112026, 125692, 138844, 139913, 152186, 156269, 162052, 164323, 172512, 172742, 196077, 218568, 231210, 240144, 258534, 278026, 7346, 21404, 28204, 30735, 35859, 51742, 52917, 53220, 79266, 95991, 104636, 123981, 139913, 148744, 156269, 157273, 158295, 162052, 164323, 169779, 187517, 191716, 218568, 225763, 258534, 88738, 107244, 112093, 137688, 156269, 183046, 245650, 247241, 252071, 17859, 44728, 51742, 70415, 78783, 83287, 89602, 95991, 104636, 139913, 143837, 156269, 162052, 164323, 177090, 191716, 206563, 208671, 209160, 221445, 238849, 258534, 21659, 78783, 83287, 88733, 98904, 104636, 110373, 124942, 133747, 139913, 155014, 156269, 164323, 183995, 208671, 212923, 258534, 258884, 264947, 20180, 37208, 51742, 79266, 83287, 104636, 155014, 156269, 162052, 164323, 166123, 169779, 201969, 227447, 238849, 258534, 268032, 20180, 30735, 35859, 55799, 70415, 73588, 76942, 79266, 83287, 95991, 98904, 104636, 130571, 156269, 162052, 164323, 169779, 177432, 191716, 208671, 209160, 231210, 234828, 238849, 258534, 267635, 278026, 21659, 43246, 47316, 78783, 88733, 102275, 104211, 104636, 110373, 123056, 143837, 156269, 162052, 164323, 196077, 207499, 231210, 232131, 258534, 264947, 35859, 37208, 50225, 60621, 84024, 98904, 101876, 123744, 137211, 139913, 152186, 204457, 204813, 206563, 208671, 225886, 238849, 258534, 264947, 29259, 34300, 36606, 104636, 123825, 126196, 178199, 196738, 217318, 23768, 30081, 30994, 36606, 69078, 75591, 78783, 86189, 95359, 101305, 110934, 116758, 132375, 143415, 166596, 172061, 234359, 264543, 274056, 278633, 30735, 69078, 69971, 95359, 114868, 128085, 141710, 222296, 252695, 268110, 19664, 43619, 43910, 53241, 75591, 140358, 235282, 276680, 4017, 6575, 35859, 39281, 60244, 149934, 221948, 238120, 252071, 255489, 268110, 271448, 2891, 60244, 75591, 81977, 90616, 113519, 123056, 128835, 143415, 170513, 171118, 203240, 268110, 31826, 33818, 35836, 98758, 98904, 105517, 114444, 122440, 153662, 184299, 218568, 234828, 254206, 258534, 31826, 35859, 41084, 51883, 98904, 104665, 105517, 110973, 123544, 126492, 178667, 185233, 197364, 209373, 214786, 235282, 16718, 31826, 34300, 41084, 52584, 55490, 66680, 98904, 109574, 126492, 152099, 158295, 184299, 211426, 214786, 227705, 252820, 268932, 274061, 53392, 93179, 98904, 138543, 140358, 144318, 158295, 224764, 232106, 31826, 42914, 43246, 98904, 123544, 126492, 163570, 177458, 196738, 208406, 234828, 265313, 274061, 276165, 13552, 31826, 42914, 47316, 51883, 98904, 122440, 126492, 140358, 144318, 155014, 184532, 219546, 227705, 235105, 240035, 252820, 265313, 274061, 31826, 35859, 59172, 65584, 69389, 93092, 126492, 128835, 138995, 154469, 184532, 219683, 229313, 259901, 4938, 13552, 31826, 33818, 35859, 55490, 59172, 66574, 66680, 69355, 75485, 85656, 98904, 123544, 123981, 126388, 126492, 128835, 152099, 160558, 163570, 177432, 184299, 193458, 196738, 214786, 219683, 223566, 232106, 236283, 241980, 252820, 254206, 274061, 27617, 33818, 55490, 70666, 95359, 106007, 109779, 110973, 114444, 123544, 140358, 158295, 162738, 163570, 206438, 210485, 211426, 219683, 226879, 234828, 237534, 238849, 242083, 265313, 268300, 274061, 16795, 33580, 33818, 37950, 52584, 54884, 59269, 98758, 120093, 152099, 177432, 187145, 189835, 219683, 248464, 260944, 264031, 40330, 55490, 69389, 70666, 95359, 104399, 133689, 140223, 163570, 219683, 248464, 33818, 37950, 55490, 59172, 109779, 123544, 140358, 158433, 163570, 177432, 184299, 189835, 211426, 238849, 242083, 254206, 274061, 278633, 6575, 44252, 48046, 87555, 88122, 156150, 204864, 218608, 228021, 260183, 28177, 37950, 44252, 51992, 124876, 153797, 177432, 182459, 184299, 184532, 187762, 193676, 206438, 240035, 259901, 260944, 16634, 21404, 22625, 28204, 48025, 78783, 86145, 87141, 93179, 106225, 114988, 142121, 156150, 172512, 172742, 199515, 228579, 246507, 254, 31826, 35859, 37950, 59172, 105054, 105517, 107784, 109779, 122440, 126492, 140358, 158295, 160558, 163570, 165758, 177432, 178667, 184532, 214786, 216683, 219683, 234828, 237271, 240035, 241980, 248464, 254206, 33974, 69389, 93047, 153662, 160558, 177432, 177458, 184532, 209174, 219683, 227447, 229741, 254206, 259901, 270820, 37950, 69389, 87141, 104399, 109779, 123544, 135045, 163570, 184532, 197364, 219683, 223644, 241980, 259901, 270820, 16795, 31826, 62891, 87141, 104399, 107784, 123544, 126388, 153662, 165758, 177432, 184299, 184532, 189835, 197659, 204864, 258534, 259901, 274061, 16795, 33818, 33974, 35859, 55187, 59172, 87141, 98758, 104399, 123544, 160558, 189835, 193529, 197364, 230522, 245371, 253871, 259901, 271558, 20180, 21014, 56554, 60244, 102359, 104665, 112001, 121170, 122440, 126492, 133689, 154529, 170513, 185233, 193458, 196502, 197659, 204864, 219683, 240035, 242083, 248464, 251394, 268032, 271558, 25981, 31826, 56554, 59172, 101876, 104665, 105517, 122440, 123544, 126492, 158295, 177432, 184299, 184532, 193458, 245371, 248464, 261603, 31826, 37950, 51883, 53174, 59172, 95903, 98758, 98904, 102647, 107784, 114414, 133689, 152099, 153662, 158433, 159506, 160558, 162738, 163570, 184299, 196077, 199515, 219546, 241980, 254465, 258534, 259901, 23872, 87141, 102647, 107784, 177072, 229011, 263877, 31826, 33818, 37950, 42914, 56554, 98758, 98904, 104665, 109779, 114414, 123981, 126492, 158433, 161039, 177432, 184532, 189835, 193529, 196160, 199515, 204864, 219546, 235282, 254206, 259629, 259901, 270820, 274061, 16795, 31826, 34300, 37950, 48025, 51526, 55490, 95932, 98904, 104399, 123981, 160558, 163570, 177458, 193529, 219683, 242083, 259901, 270820, 23872, 31826, 33818, 63394, 89602, 98904, 105054, 110973, 112001, 158433, 163570, 165308, 177432, 177458, 184532, 193529, 223566, 234828, 258534, 259901, 264031, 268300, 274061, 37950, 53220, 97754, 133296, 140358, 163570, 217318, 242143, 244627, 251843, 256843, 31826, 39345, 56554, 97721, 98904, 106849, 123981, 154469, 155014, 158295, 158433, 165319, 174216, 227705, 1435, 25981, 35859, 56856, 70666, 72523, 93179, 104665, 144478, 173481, 194600, 201684, 203764, 208829, 209174, 218552, 241666, 259629, 16795, 31826, 33818, 52584, 59172, 63394, 98758, 109574, 140358, 143163, 154469, 158433, 160558, 161039, 163570, 165758, 184299, 184532, 187762, 190459, 219546, 219683, 227705, 240035, 241980, 259901, 264031, 20180, 31826, 33818, 66680, 98904, 109574, 110973, 177432, 184299, 184532, 193458, 223566, 236757, 240035, 241666, 253871, 258534, 264031, 274061, 98723, 148744, 150979, 232945, 258534, 7346, 31315, 48025, 91113, 95173, 95359, 126492, 128085, 135045, 143163, 204591, 204864, 236172, 258534, 19085, 31826, 34300, 51252, 61854, 94787, 106849, 112001, 122440, 140358, 170513, 187762, 189835, 206438, 219683, 258534, 274061, 27617, 33580, 66680, 95903, 109779, 123544, 136010, 142715, 160558, 162738, 163804, 177432, 189835, 195694, 196160, 200226, 206438, 224764, 236283, 252820, 258534, 33580, 37950, 66680, 109779, 123544, 136010, 160558, 163804, 177432, 185233, 189835, 196160, 200226, 206438, 224764, 236283, 258534, 272573, 33580, 35859, 66680, 95903, 109779, 123544, 123981, 136010, 160558, 163804, 177432, 189835, 195694, 200226, 206438, 224764, 236283, 252820, 258534, 33580, 35859, 37950, 66680, 109779, 123544, 123981, 136010, 153662, 160558, 163804, 177432, 185233, 189835, 200226, 206438, 224764, 236283, 258534, 27617, 33580, 66680, 95903, 109779, 123544, 136010, 160558, 163804, 177432, 195694, 200226, 206438, 224764, 236283, 252820, 258534, 23872, 27617, 66680, 109779, 123544, 123981, 160558, 163804, 177432, 185233, 196160, 200226, 206438, 224764, 236283, 51526, 65584, 94787, 123981, 152099, 165758, 178667, 187762, 245649, 5582, 37712, 40415, 46398, 56856, 60244, 75819, 78834, 96357, 105058, 127359, 157811, 159506, 252820, 264543, 264657, 270713, 83287, 126604, 168047, 201684, 209756, 274056, 6543, 50225, 76818, 179433, 190741, 193529, 204457, 248464, 251843, 269890, 85656, 91103, 172061, 228868, 15408, 16795, 55799, 65663, 95173, 114414, 127233, 141710, 141902, 142256, 164728, 189835, 206944, 263877, 266865, 271448, 40415, 74286, 87712, 114544, 116758, 136382, 160819, 163488, 190459, 224430, 227884, 271448, 273979, 24921, 30533, 51450, 73651, 114581, 127826, 135149, 139742, 164323, 178667, 200226, 209756, 238613, 10447, 16106, 26544, 75081, 79740, 105979, 125692, 160819, 168954, 209174, 210485, 229011, 260897, 264321, 264657, 128325, 160819, 228681, 19842, 50073, 65584, 87712, 98686, 112001, 223431, 225810, 237271, 261829, 276050, 67840, 95359, 101876, 114988, 138578, 217318, 278026, 67840, 91103, 93179, 123825, 217318, 225886, 259930, 1435, 53220, 62542, 65584, 67840, 114414, 124487, 217318, 236283, 244627, 264031, 266056, 21014, 54335, 103336, 112001, 114581, 164323, 249628, 254, 15408, 16795, 23872, 30081, 44252, 49460, 55490, 60244, 67547, 69078, 75485, 80683, 87555, 95359, 109779, 112083, 123544, 129716, 160681, 164728, 177432, 215986, 219683, 224349, 240567, 242083, 244171, 271705, 254, 7346, 15408, 37950, 44252, 49460, 78834, 81298, 101876, 112083, 123544, 123883, 138543, 160558, 164323, 174304, 179734, 206438, 231210, 240567, 2891, 4017, 11224, 77181, 78448, 81977, 98263, 100459, 133747, 138198, 138777, 169682, 171295, 193458, 228021, 270713, 3373, 6242, 22625, 36907, 40330, 63956, 80683, 92810, 95932, 100459, 102359, 105214, 105517, 129716, 148744, 165319, 171295, 174326, 178667, 224138, 264543, 266283, 271144, 30533, 69078, 76499, 76818, 105979, 178667, 190925, 254299, 274308, 8454, 17003, 48046, 60337, 66574, 75591, 76499, 81771, 87555, 89602, 95359, 98263, 115003, 115490, 158254, 196077, 197364, 201526, 204864, 209756, 213126, 223154, 227025, 247852, 251140, 268110, 270605, 4017, 51992, 70052, 73044, 107784, 158254, 164728, 168816, 210485, 268110, 271705, 274061, 21356, 36606, 40914, 62891, 78783, 120908, 145369, 160401, 171445, 183061, 212923, 227705, 240219, 6575, 7915, 8245, 10447, 21014, 26544, 29209, 29259, 31556, 37712, 46398, 51526, 55492, 75149, 77809, 85526, 103336, 106225, 110440, 110973, 112093, 113519, 114988, 120908, 121170, 126693, 135149, 136491, 139913, 142256, 144555, 150979, 165319, 168954, 174596, 182459, 188010, 194600, 196077, 201677, 205980, 206944, 207782, 211426, 216670, 220688, 224349, 229313, 236757, 238613, 240567, 251422, 266056, 266283, 270713, 270801, 270820, 273086, 30994, 37644, 60337, 66680, 74286, 88793, 89602, 94347, 95359, 98263, 108155, 114544, 130571, 163804, 238065, 263877, 4017, 8245, 14422, 22625, 30972, 31393, 74286, 89602, 100459, 114544, 115003, 116758, 124874, 129084, 135831, 138198, 138844, 140358, 142256, 142715, 153718, 160819, 167471, 206563, 208147, 218608, 222296, 240567, 254299, 264031, 270554, 271448, 271558, 22074, 28177, 36135, 62542, 114988, 154730, 221948, 244171, 276680, 8245, 10447, 10560, 21014, 26621, 29209, 33974, 43246, 113519, 115003, 156150, 166596, 168047, 210485, 210587, 224349, 235935, 236757, 246507, 277427, 114544, 221948, 7346, 102647, 104636, 139913, 148744, 149069, 171118, 196466, 275970, 19711, 104636, 123056, 123095, 129074, 136205, 138844, 149069, 171118, 225810, 4938, 28204, 35859, 51252, 88733, 95359, 104636, 123095, 124597, 129074, 148744, 171118, 258185, 159033, 13552, 31315, 57398, 114368, 144318, 153662, 167800, 177374, 200226, 227520, 247241, 264082, 273113, 8245, 31315, 69697, 114368, 114414, 123883, 129084, 153718, 177374, 200226, 227447, 227520, 247241, 264082, 273113, 29526, 48494, 77480, 101876, 139913, 146113, 154469, 159858, 203240, 221705, 227520, 247447, 261829, 267033, 270713, 13552, 16795, 29855, 76151, 111174, 123825, 123883, 153662, 157811, 190708, 196502, 200226, 203764, 228764, 253871, 254465, 7125, 104636, 112001, 123883, 153662, 163804, 165308, 216683, 226545, 227520, 273113, 48494, 81492, 104636, 123883, 153662, 200226, 207349, 225087, 247447, 273113, 13552, 40889, 79740, 104211, 123883, 129084, 144531, 153662, 153718, 165308, 194676, 200226, 207349, 218552, 227520, 252695, 259930, 264082, 273113, 18082, 76151, 79740, 123883, 143175, 153662, 167800, 169699, 187256, 189973, 218552, 226545, 228764, 254465, 265115, 273113, 26544, 30276, 40889, 104211, 112001, 123883, 123981, 144531, 153662, 165308, 200226, 207349, 218552, 254465, 273113, 13552, 40889, 123883, 135149, 153662, 153718, 194676, 207349, 218552, 227520, 247241, 252695, 259930, 264031, 273113, 13552, 31393, 40889, 57398, 107021, 123883, 153662, 153718, 177090, 194676, 207349, 210485, 218552, 227520, 252695, 273113, 56554, 112001, 123883, 144318, 200226, 207349, 273113, 45557, 109899, 114368, 123883, 126693, 207349, 227520, 264031, 13552, 30276, 40889, 69933, 73651, 109491, 114368, 123883, 124487, 144318, 153662, 156467, 194676, 200226, 208829, 227520, 228764, 229011, 260944, 266056, 273113, 4938, 16795, 30533, 83637, 108005, 144531, 162639, 207148, 213150, 244627, 75591, 102647, 136382, 149069, 157273, 159033, 183046, 202277, 259260, 30276, 40889, 48494, 82497, 112001, 153662, 158295, 184532, 200226, 227520, 246634, 252695, 254465, 273113, 13552, 19711, 69933, 73651, 106007, 114368, 123883, 124487, 153662, 153718, 156467, 163804, 165308, 167800, 177374, 200226, 207349, 216683, 227520, 229011, 247241, 252695, 258185, 273113, 13552, 26544, 40889, 48494, 73651, 93426, 109899, 114368, 120908, 123883, 124487, 153662, 153718, 156467, 177374, 194676, 200226, 208671, 209756, 224764, 227520, 228764, 247241, 247447, 252695, 258185, 273113, 40889, 59172, 68984, 73651, 109491, 114368, 119517, 123883, 153662, 164728, 178667, 189835, 189973, 200226, 204591, 226965, 227520, 237990, 264031, 264947, 273979, 278026, 32802, 80810, 153662, 190741, 203799, 204591, 226545, 237990, 247447, 255489, 8245, 19842, 35836, 51450, 59172, 73651, 82497, 98391, 109491, 114368, 123883, 129084, 139913, 144531, 153662, 158295, 177090, 177374, 178667, 184532, 189516, 200226, 213531, 216683, 219683, 220240, 220597, 225087, 227520, 228764, 247447, 264082, 273113, 31393, 41781, 51450, 73651, 79266, 109491, 114368, 123883, 130571, 139913, 153662, 158295, 177090, 177374, 189516, 200226, 201674, 207349, 213531, 217375, 219683, 220597, 227520, 247241, 247447, 264031, 273113, 56447, 68555, 79266, 119517, 153718, 156467, 160401, 189516, 216466, 247447, 264947, 266056, 51450, 69232, 73651, 98391, 109899, 114368, 123883, 129084, 153662, 158295, 165308, 189516, 200226, 201674, 203799, 208829, 213531, 216012, 216683, 219683, 220240, 220597, 227520, 237990, 247447, 254144, 273113, 22074, 30985, 68555, 203799, 217318, 221705, 10560, 31315, 46398, 76151, 89602, 114444, 133296, 153718, 171118, 193499, 195694, 235105, 244627, 268300, 13552, 46909, 112001, 119517, 126736, 138198, 153662, 194676, 216683, 223190, 227520, 238849, 254465, 259930, 882, 40889, 41781, 50073, 91113, 133296, 147141, 153718, 171638, 193499, 201674, 227520, 247447, 264031, 30276, 56307, 80810, 107021, 203799, 221870, 237990, 13552, 72214, 79266, 91058, 98391, 104636, 114368, 114544, 123883, 153662, 177090, 204591, 204813, 213150, 216012, 218608, 226965, 227520, 234359, 259035, 259930, 265889, 273113, 276165, 16795, 54335, 72214, 79266, 98391, 114368, 123883, 153662, 171638, 177090, 200226, 204591, 213150, 216012, 225087, 227520, 234359, 253871, 259035, 265889, 273113, 276165, 16795, 30276, 54335, 69232, 72214, 79266, 91058, 98391, 114368, 123883, 130474, 153662, 156467, 167800, 171638, 204591, 213150, 216012, 226965, 234359, 236283, 247447, 259035, 259930, 265889, 273113, 276165, 31826, 35859, 55892, 75485, 110973, 153662, 158295, 161039, 184299, 185233, 210485, 236283, 237271, 254206, 274061, 22625, 29526, 53392, 137688, 267033, 8454, 11224, 91103, 162639, 25981, 31315, 126196, 137589, 165308, 188273, 192710, 201677, 209756, 218568, 225763, 8681, 69971, 70594, 87555, 97874, 101305, 107784, 110973, 122429, 171445, 187145, 201674, 218552, 221732, 225595, 245371, 251140, 255489, 271705, 143964, 157273, 165308, 203240, 41781, 66680, 130474, 136205, 153662, 158295, 158433, 244171, 260944, 20172, 43910, 80683, 87555, 137589, 169682, 194600, 204864, 224764, 226616, 235282, 243360, 260183, 6251, 11224, 16634, 23872, 110934, 137688, 174304, 177432, 224138, 258534, 2891, 36715, 40330, 94347, 100906, 105937, 110934, 138543, 147224, 150896, 173415, 198046, 201526, 216683, 228021, 230522, 14521, 16634, 74286, 123094, 135045, 178920, 209160, 6073, 30081, 32773, 47316, 55187, 74056, 102705, 110934, 111190, 152186, 181176, 229011, 242083, 261829, 31556, 37712, 38023, 40943, 42914, 55492, 69389, 95359, 96448, 100906, 104636, 107784, 138543, 142524, 144531, 148744, 153662, 160558, 168064, 196077, 230522, 249862, 36606, 39773, 42914, 69389, 70415, 104636, 105517, 123257, 125039, 138543, 150896, 153662, 155147, 160558, 162639, 201684, 230522, 247852, 249862, 263163, 271144, 271705, 40943, 69389, 104636, 125039, 138543, 153662, 189835, 230522, 247852, 249862, 271705, 882, 15049, 16795, 21014, 30735, 43687, 55493, 65663, 85526, 95903, 107784, 110912, 113270, 127359, 138543, 155014, 158433, 177432, 187145, 189973, 190923, 208829, 220688, 223501, 228764, 230522, 232945, 232964, 234828, 236757, 240035, 245371, 269566, 269890, 270713, 15049, 21014, 22625, 31315, 37950, 43687, 47316, 48494, 60621, 65663, 102967, 110912, 113270, 124876, 142256, 155014, 178240, 189973, 190923, 208671, 218121, 223501, 225087, 232945, 240035, 270713, 271558, 273086, 37712, 45557, 53418, 61038, 110934, 157811, 171445, 193458, 223190, 235105, 274056, 13552, 14422, 19842, 35836, 40943, 53174, 53418, 68555, 78448, 87141, 105979, 121170, 126492, 147847, 150896, 154529, 174726, 177432, 196738, 208829, 30735, 37208, 142256, 162738, 211426, 240035, 276231, 2276, 79977, 112001, 206563, 208406, 13552, 26593, 153662, 213150, 248718, 259629, 79977, 105058, 114368, 123883, 140358, 153662, 177090, 194676, 200226, 216466, 217318, 227520, 273113, 8245, 16795, 21014, 21618, 27472, 30972, 53174, 76151, 93629, 95316, 95359, 136382, 143415, 144318, 155147, 163804, 174596, 177432, 189835, 190708, 197364, 214786, 216670, 221445, 223190, 226965, 227705, 241666, 251843, 20180, 26593, 30735, 33974, 38273, 46398, 69389, 73588, 79266, 98723, 104636, 107244, 139913, 141710, 157273, 158295, 162052, 162738, 164323, 166123, 172742, 177432, 191716, 218568, 226965, 258534, 264947, 7915, 30081, 30533, 52584, 60244, 75081, 89602, 93092, 100906, 104636, 111190, 115490, 125519, 139359, 165758, 167812, 174304, 175052, 220688, 239584, 240700, 245645, 249862, 255489, 270605, 48494, 79740, 93179, 112001, 123883, 153662, 194600, 200226, 213531, 227520, 273113, 6073, 21404, 43687, 55927, 73044, 78448, 101305, 114544, 123544, 123825, 135360, 203240, 229011, 259930, 37644, 38273, 40943, 41455, 42914, 59172, 60244, 77181, 104399, 105979, 137589, 147847, 154992, 189835, 197364, 204864, 207246, 210485, 223566, 230522, 271448, 6543, 89602, 95359, 105374, 105517, 114414, 140223, 158433, 159033, 159506, 165758, 192093, 231210, 14521, 16488, 49460, 59150, 75591, 76352, 93629, 95359, 96357, 107784, 110934, 156467, 230522, 234828, 245410, 16488, 20172, 46398, 55490, 63956, 69078, 77181, 83637, 94347, 96357, 104113, 111174, 142524, 153662, 208406, 211426, 236757, 21014, 75591, 153513, 156269, 189973, 190925, 248718, 251843, 23872, 30276, 36606, 46398, 63394, 74286, 93092, 104636, 112001, 112026, 142256, 163488, 163804, 194600, 206944, 218608, 229741, 232131, 246311, 249894, 20180, 30735, 35859, 44728, 46398, 51742, 53220, 56959, 69389, 79266, 104636, 123744, 155014, 156269, 158295, 162052, 162738, 164323, 178667, 189080, 191716, 206563, 208671, 218568, 241666, 258534, 258884, 2766, 6575, 22074, 27472, 30735, 35836, 37712, 44728, 51742, 61854, 63394, 66878, 69156, 69389, 83287, 95359, 98723, 101876, 104636, 105937, 107244, 112093, 126903, 128835, 136382, 141710, 144318, 149069, 156269, 162052, 164323, 169779, 183995, 184299, 187624, 189973, 195694, 202277, 209373, 218568, 225810, 225886, 256843, 258534, 268032, 276050, 20180, 30735, 33974, 37950, 38023, 46398, 50730, 60244, 69156, 69389, 73588, 95991, 97754, 104211, 104636, 105937, 107244, 108005, 139913, 141710, 144318, 156269, 157273, 162052, 164323, 171118, 172742, 202277, 206563, 208406, 208671, 227447, 231210, 256843, 258534, 258884, 268032, 14422, 20180, 28204, 30735, 31556, 50730, 51742, 53220, 60621, 69156, 69389, 79266, 83287, 101876, 104636, 105937, 139913, 146113, 156269, 158295, 162052, 164323, 177432, 201969, 202277, 227447, 256843, 258534, 258884, 265115, 277427, 21659, 38023, 70666, 94347, 100846, 109779, 116904, 123544, 123883, 125039, 153662, 171295, 174304, 207246, 224138, 229741, 251422, 15049, 43687, 47316, 65663, 95359, 124876, 178240, 178667, 187256, 223501, 224764, 232945, 269566, 274056, 31393, 106007, 209756, 222296, 264082, 6323, 7346, 20180, 26593, 30735, 37950, 46398, 69389, 79266, 104636, 112026, 123744, 130571, 137211, 139913, 141710, 156269, 157273, 162052, 164323, 172512, 183995, 191716, 206563, 207499, 208671, 231210, 238849, 241666, 258534, 79740, 112001, 114368, 123883, 153662, 200226, 273113, 79977, 87141, 110373, 112001, 124487, 206563, 228998, 15049, 76942, 93179, 104665, 113270, 124876, 160558, 178240, 189973, 211426, 223501, 224764, 232945, 240035, 244627, 270713, 273086, 276231, 112001, 114368, 119517, 123883, 124487, 153662, 252695, 273113, 55734, 66680, 81597, 84024, 93179, 102275, 113270, 113904, 158295, 178199, 236757, 247447, 251843, 258884, 35836, 81216, 106849, 110973, 126736, 146803, 158295, 244627, 251422, 16795, 31315, 46909, 109491, 112001, 114368, 119517, 123883, 144531, 153662, 200226, 273113, 12538, 16795, 21014, 27617, 45557, 55927, 56959, 69697, 70666, 76499, 77809, 87555, 105374, 109574, 137589, 143163, 159033, 162052, 164323, 185233, 201526, 224138, 240700, 246311, 247447, 266226, 270713, 16795, 28204, 49212, 85656, 86145, 88738, 153662, 158295, 225087, 232131, 69355, 103336, 105214, 115435, 170513, 218121, 218552, 224249, 6251, 7346, 29259, 50730, 51450, 84024, 88738, 99955, 106225, 112093, 133689, 146113, 162639, 187517, 189973, 193778, 221870, 242106, 251003, 30035, 39281, 48975, 83287, 93179, 113270, 153662, 173481, 198046, 221870, 251843, 255489, 12824, 23872, 31315, 48025, 48046, 55892, 70052, 70415, 110373, 143837, 144478, 154469, 158295, 200226, 201969, 207349, 217318, 220597, 238889, 251843, 16634, 42093, 60244, 61427, 69971, 91113, 123981, 135458, 135831, 143211, 162738, 171118, 269890, 271176, 16795, 22074, 83287, 134797, 197364, 216683, 227705, 17859, 30972, 87712, 93179, 113270, 126736, 137688, 148590, 152186, 158295, 169699, 173481, 190459, 225087, 247752, 251843, 254144, 258185, 258884, 27617, 31315, 144478, 148590, 158295, 247241, 247447, 247752, 265115, 6543, 79740, 95359, 112093, 190925, 193778, 227447, 228998, 235105, 242106, 252695, 259260, 11224, 16795, 30985, 69933, 88738, 104636, 107784, 122793, 143175, 254465, 73588, 86720, 108285, 123981, 158295, 189558, 204864, 217375, 241666, 264082, 8681, 36606, 86189, 95359, 124874, 197659, 232131, 23872, 33124, 36715, 37950, 61427, 98758, 130571, 140223, 169699, 213150, 230522, 25981, 37208, 104636, 133416, 153662, 158295, 184513, 204591, 221705, 241666, 242646, 247752, 261829, 273979, 26621, 39773, 115003, 123744, 136348, 136382, 172742, 236058, 245650, 252695, 255489, 265889, 268110, 277427, 20060, 33818, 47316, 104144, 144318, 158295, 193898, 252695, 82497, 93179, 104636, 153662, 154469, 158295, 204591, 207259, 220597, 232131, 232945, 247241, 251843, 258884, 16634, 158295, 234828, 237990, 241666, 31315, 98686, 123981, 139913, 173415, 258534, 35859, 39345, 82497, 95316, 95359, 102647, 104636, 126492, 203764, 212923, 235935, 258534, 16795, 25981, 31315, 46909, 82497, 86720, 120396, 158295, 208829, 209373, 225087, 232131, 255489, 258534, 8067, 41781, 88738, 95359, 99955, 175052, 193778, 221870, 228998, 242106, 882, 8681, 10314, 21404, 93047, 95359, 96357, 98758, 100906, 104636, 105517, 110973, 120396, 123981, 126736, 153662, 158433, 163570, 165758, 169663, 172742, 183046, 211344, 211426, 220597, 222296, 224349, 225087, 238889, 240567, 248718, 251843, 276231, 33974, 55734, 59150, 91832, 95359, 104657, 115490, 140358, 218608, 261829, 263645, 270352, 270820, 66680, 98391, 111174, 114544, 120396, 123883, 140358, 188273, 16795, 64310, 228868, 241666, 244627, 23511, 30985, 30994, 39345, 40889, 76818, 107021, 114544, 120598, 167746, 200226, 248718, 6575, 8067, 50730, 75591, 88738, 112093, 146113, 177374, 183046, 193778, 227447, 242106, 247241, 259260, 8067, 50730, 62862, 92810, 99955, 112093, 135351, 175052, 183046, 193778, 223087, 242106, 259260, 264082, 183046, 189973, 229011, 8067, 53220, 61854, 133416, 148590, 190925, 241980, 2276, 53220, 110912, 120396, 122793, 126693, 139913, 158295, 166123, 182993, 208897, 238889, 241980, 261829, 264947, 30276, 106007, 156467, 158295, 226545, 268032, 269890, 30276, 37208, 82497, 104636, 133416, 139913, 158295, 162639, 190925, 217318, 225087, 232945, 247752, 30735, 51450, 61901, 114868, 114988, 162639, 183046, 193778, 218121, 240219, 242106, 52584, 83287, 83637, 88738, 99955, 106225, 111190, 135149, 162780, 190925, 245650, 252695, 9417, 104144, 110934, 133416, 135149, 139913, 148590, 162639, 187145, 208897, 231351, 241980, 263877, 274308, 37950, 41455, 43246, 56307, 86720, 92810, 119575, 133416, 163570, 167471, 208897, 223501, 231351, 237990, 241980, 274308, 35836, 53220, 80810, 95359, 102275, 104636, 104665, 124942, 129084, 158295, 167746, 173481, 204591, 206563, 224764, 225886, 227705, 232945, 247447, 16795, 31826, 40889, 48046, 65584, 79740, 83287, 95359, 110912, 112001, 124487, 135149, 158433, 196160, 225595, 236757, 241980, 261829, 268300, 19085, 41455, 104144, 107784, 124487, 133416, 158295, 232945, 234359, 242106, 254144, 255489, 16795, 31826, 37950, 43687, 48046, 65584, 68555, 86145, 124487, 135149, 203799, 261829, 267033, 19085, 19711, 27472, 31826, 86145, 156300, 177458, 201674, 207782, 216466, 219683, 221705, 241666, 244627, 253871, 268032, 270820, 29209, 70666, 143175, 159858, 171445, 187256, 189835, 214786, 254299, 28634, 38273, 114444, 126196, 133416, 139913, 232945, 247752, 254465, 27740, 33818, 37208, 86720, 101606, 104665, 120396, 144318, 158295, 187256, 204591, 240035, 242106, 247447, 247752, 251003, 258185, 28634, 32802, 47316, 60621, 61901, 69933, 80810, 124487, 126196, 135149, 140358, 184513, 193898, 235935, 242646, 37208, 69933, 80810, 110373, 110934, 126196, 162639, 223431, 242646, 247447, 247752, 255489, 258185, 2276, 16916, 44728, 113270, 140358, 175052, 190925, 232945, 247241, 247752, 276231, 8245, 26544, 122793, 126196, 153662, 183995, 188273, 265889, 266056, 273113, 91113, 120396, 123883, 134797, 188273, 223190, 7158, 16795, 29209, 31826, 34588, 50073, 95903, 104399, 106849, 110973, 225810, 236283, 241666, 255489, 9856, 31826, 37950, 41781, 55734, 69355, 91113, 97721, 104211, 126388, 144478, 177375, 181176, 193458, 193499, 196160, 221705, 224809, 226616, 229313, 234165, 236283, 7125, 9417, 31826, 65584, 77480, 130474, 133296, 135149, 203799, 30276, 76151, 98391, 104144, 127129, 136010, 140358, 156467, 171638, 187256, 209373, 229011, 242646, 2276, 30276, 51883, 56307, 76151, 98391, 104144, 106007, 138198, 158295, 163804, 217318, 223501, 225886, 247752, 253871, 263645, 26544, 50895, 98391, 123883, 154070, 156467, 188273, 273113, 2276, 65584, 67840, 85993, 125519, 126693, 133416, 148590, 247752, 256843, 270820, 24933, 25981, 39345, 98904, 126196, 193898, 216670, 235935, 242646, 244627, 247447, 251843, 261829, 27740, 87712, 16795, 55490, 81848, 98391, 130474, 187256, 225595, 253871, 258938, 276231, 7158, 55892, 98391, 136326, 143175, 158295, 196160, 216466, 224809, 253871, 258938, 260944, 254, 8253, 8681, 29526, 30735, 33580, 36606, 37208, 60050, 60707, 61901, 69389, 75819, 87712, 88122, 90616, 100906, 101851, 105054, 114368, 115572, 116904, 124876, 135458, 136491, 162639, 170634, 171295, 179734, 179978, 189835, 208829, 211426, 215986, 223501, 226965, 229741, 232964, 240144, 240700, 248477, 271176, 276165, 6563, 10560, 21484, 22625, 30533, 30735, 31393, 31556, 32773, 35859, 55492, 56447, 57398, 75591, 81492, 82407, 85426, 85993, 87141, 88733, 92810, 100846, 101851, 104636, 104665, 107784, 114581, 126736, 129074, 135045, 135360, 138777, 138995, 146803, 147141, 150968, 153662, 153718, 157273, 159506, 160558, 162639, 169682, 170513, 172512, 173415, 175052, 177375, 181176, 182459, 184532, 193676, 196160, 205735, 206438, 208815, 216466, 220688, 224138, 229313, 232131, 238065, 238889, 240144, 242083, 242106, 245649, 247447, 249628, 249862, 250184, 264543, 265313, 269566, 270820, 271705, 6575, 7346, 7915, 8245, 43246, 52584, 60244, 67840, 73044, 75591, 77181, 91058, 95359, 127233, 128325, 135149, 150979, 158254, 170513, 171638, 175052, 193499, 194600, 210485, 220240, 236172, 236757, 238613, 242083, 246513, 255489, 254, 36907, 60244, 87555, 88733, 115572, 124876, 135458, 165319, 177432, 179734, 184299, 185176, 223501, 225379, 226965, 234828, 2766, 6543, 42093, 49212, 60244, 64436, 98391, 100906, 106225, 239584, 246311, 275970, 6563, 10447, 21356, 23511, 23768, 55187, 105979, 108005, 117251, 124874, 165319, 223501, 232131, 236058, 270801, 24933, 59269, 67840, 69933, 93047, 102359, 143163, 158295, 236283, 268300, 25981, 31315, 55493, 98686, 100459, 102359, 126492, 140358, 178667, 184532, 185233, 189835, 225087, 236283, 248464, 252820, 16634, 102359, 112001, 126492, 133689, 136010, 185233, 209373, 236283, 252071, 254206, 274061, 69389, 100459, 126492, 158433, 161039, 163570, 168816, 185233, 189835, 236283, 254206, 19711, 21659, 23768, 30487, 40889, 59150, 74286, 124874, 138844, 147847, 148744, 163804, 168954, 175052, 232131, 251140, 23872, 27617, 48046, 66680, 110973, 126492, 158295, 161039, 165758, 178199, 184299, 184532, 185233, 209373, 254206, 6575, 23768, 46398, 56447, 69355, 69389, 75081, 77809, 81216, 137589, 143163, 268932, 270713, 271448, 16718, 16795, 29526, 40914, 60244, 85993, 123095, 125519, 137688, 148744, 157273, 162639, 165308, 168816, 196502, 220240, 232131, 242299, 248477, 11224, 30487, 36135, 67840, 73044, 75591, 96440, 150896, 150979, 152651, 160819, 171295, 181687, 201677, 229741, 231210, 638, 4017, 7346, 11224, 19664, 29526, 34588, 49460, 53241, 75591, 114868, 123056, 135149, 140358, 142524, 173415, 178920, 192710, 211344, 220240, 222220, 243879, 248477, 256843, 259260, 263163, 264543, 46398, 63854, 92810, 138844, 143964, 182527, 187256, 194600, 213150, 230522, 236757, 6251, 13273, 29526, 43910, 68555, 112026, 126196, 136348, 139913, 147847, 220688, 235282, 245649, 253871, 23768, 60337, 140358, 142524, 143968, 7158, 12538, 35859, 43619, 83287, 104636, 144318, 196738, 213531, 226616, 271448, 6575, 7346, 8067, 16795, 22074, 23511, 32250, 35859, 42093, 43246, 43687, 44252, 46909, 55187, 56959, 60244, 60621, 60707, 62272, 69389, 88738, 94787, 101620, 102647, 104636, 110934, 115003, 135351, 136326, 136348, 144318, 144531, 145641, 153718, 163804, 173415, 179433, 183046, 188273, 201684, 204457, 218552, 218568, 218608, 222220, 226545, 240567, 241980, 245410, 247447, 258534, 261829, 278026, 45557, 80810, 98904, 109491, 115490, 117251, 128085, 144318, 144555, 190708, 227447, 244627, 2891, 21576, 30533, 34300, 40914, 40943, 43910, 48046, 56447, 69078, 74286, 75081, 95359, 98723, 100846, 104636, 104665, 105374, 105979, 106007, 108155, 109574, 112001, 114868, 115003, 116758, 124874, 138844, 141493, 145641, 152099, 155580, 163488, 163804, 167812, 174304, 180042, 190459, 193676, 197364, 204457, 209160, 210485, 216466, 222296, 225087, 229313, 231210, 232131, 235282, 238120, 251140, 254201, 259260, 263325, 264321, 270554, 270801, 273086, 276231, 3167, 7283, 24933, 41841, 76499, 95359, 101606, 110440, 127826, 157811, 167800, 178199, 225763, 234828, 238613, 11245, 31826, 35859, 47316, 48975, 65584, 104636, 108799, 126903, 141493, 174726, 190925, 193499, 210485, 216683, 228764, 235282, 240219, 11245, 13273, 21014, 31826, 35859, 104636, 107244, 225087, 229011, 238120, 243294, 31826, 59172, 70415, 104636, 114444, 123981, 126736, 158295, 173481, 221870, 238120, 264082, 271448, 11245, 17859, 30972, 31826, 35857, 46909, 57398, 81597, 104636, 125519, 168064, 193898, 270713, 28204, 32250, 42458, 63854, 70052, 95316, 110912, 130571, 133416, 136205, 218552, 250925, 6323, 37950, 63854, 93426, 98758, 133416, 162639, 179433, 183046, 224764, 265889, 55493, 123825, 168245, 254201, 26544, 102275, 134797, 141491, 141493, 150968, 160401, 168245, 171638, 190925, 196466, 223431, 226553, 237990, 266056, 882, 25981, 65584, 76151, 93426, 98391, 141493, 153662, 156467, 158295, 168245, 193499, 3373, 30972, 31826, 81597, 101876, 104636, 133747, 135351, 173481, 254, 6563, 8253, 12538, 16795, 24921, 30735, 33818, 36907, 55799, 56554, 63854, 76499, 77809, 79740, 87712, 88229, 91103, 93092, 100459, 101876, 114544, 115003, 123825, 124597, 126492, 129084, 138578, 143211, 152186, 153513, 153797, 154070, 164323, 167471, 174726, 180042, 182993, 190459, 205735, 218552, 218608, 220688, 221445, 221732, 221870, 240567, 251422, 253871, 263877, 264543, 267033, 273113, 274056, 276050, 35836, 91113, 104211, 105058, 110912, 137688, 143163, 217318, 232945, 12538, 31826, 43619, 51883, 61854, 70666, 104399, 106849, 126492, 128835, 138198, 140358, 152099, 158295, 158433, 163570, 177432, 182459, 184299, 187256, 193529, 193676, 209373, 219683, 271558, 274061, 276050, 1435, 19085, 28177, 28634, 31826, 40889, 53220, 89602, 95932, 98758, 98904, 105054, 106007, 106849, 121170, 126492, 135045, 139387, 148744, 184299, 219683, 224764, 20060, 30972, 61901, 78448, 143163, 158295, 172742, 217318, 232945, 258534, 3373, 10560, 13273, 16106, 21618, 26621, 28204, 29209, 33580, 37712, 43687, 44728, 50225, 54335, 55927, 62862, 65258, 68984, 70594, 85757, 89602, 92810, 95359, 100846, 110912, 110973, 115692, 128085, 138995, 142121, 154529, 156150, 159033, 164323, 179433, 188022, 190708, 193499, 196738, 198046, 202462, 204813, 207246, 207782, 209373, 211344, 212923, 218552, 223154, 223431, 225763, 226205, 226616, 228868, 235282, 236172, 237534, 240144, 240567, 244171, 245410, 251843, 255489, 261829, 263877, 276165, 3373, 43687, 50895, 54335, 65584, 86145, 90616, 92810, 105979, 128085, 196738, 197659, 223087, 255489, 263325, 48975, 69697, 105054, 114368, 126196, 136382, 153662, 177458, 184532, 194676, 240035, 247447, 65584, 69697, 79740, 86720, 114368, 136348, 162639, 184532, 194676, 203764, 225087, 227520, 229011, 261829, 48975, 104636, 120396, 122793, 140358, 207148, 223190, 237990, 265115, 20060, 84024, 95316, 108285, 133416, 193898, 217318, 218552, 227447, 7125, 27472, 37950, 41781, 47316, 67840, 86145, 86720, 95316, 95359, 123056, 154469, 223501, 225087, 227447, 265889, 126693, 134797, 142256, 146113, 223501, 33974, 37208, 67840, 126196, 144531, 153662, 156467, 168245, 208147, 4017, 7158, 8245, 22625, 30533, 30972, 30994, 61427, 73044, 100459, 104113, 113519, 114544, 127129, 138543, 138844, 139742, 145641, 174326, 184424, 192710, 236757, 239584, 240568, 271448, 278633, 92810, 101606, 136010, 143163, 204864, 217318, 232945, 258534, 261829, 10447, 16795, 19842, 20180, 21014, 28177, 28634, 35836, 56447, 68555, 75819, 91103, 95903, 107784, 109574, 115435, 126492, 134797, 148898, 153662, 214786, 219683, 227025, 236283, 241980, 242083, 254144, 259629, 259901, 269835, 272573, 274061, 16795, 20060, 35836, 69211, 92810, 104144, 110934, 128085, 201969, 204864, 209373, 217318, 224809, 225087, 225595, 227520, 247241, 250709, 268622, 43246, 61901, 70052, 78783, 102705, 113519, 123825, 200226, 218552, 230522, 247241, 269566, 31826, 33818, 38023, 56856, 81298, 94787, 95359, 102647, 107784, 112026, 184299, 187762, 193458, 207782, 210485, 216683, 219683, 231827, 232964, 240035, 240700, 248464, 254206, 258534, 272573, 274061, 7346, 36606, 61038, 93047, 106849, 112001, 154992, 196502, 220240, 231210, 242646, 263163, 10314, 167746, 211426, 221445, 229313, 4017, 7158, 16795, 16996, 21014, 30487, 37712, 51992, 56959, 69156, 75591, 84024, 85526, 95932, 98263, 101305, 110934, 111174, 113904, 127129, 129084, 135360, 137688, 162639, 184424, 185176, 197364, 207494, 218121, 243879, 250184, 252820, 259629, 266283, 16795, 30276, 48975, 70052, 78448, 104636, 120396, 123883, 126736, 153662, 193898, 226545, 247447, 13552, 14521, 16795, 26621, 104636, 114368, 133296, 146113, 174304, 179978, 205735, 241980, 242299, 254465, 270352, 28634, 114544, 137589, 144038, 209756, 252695, 274056, 23872, 31826, 98723, 104636, 125519, 190741, 205980, 229011, 241666, 249695, 260944, 264082, 7346, 27472, 32773, 43687, 95316, 123544, 136491, 138198, 155147, 163488, 168816, 169699, 173415, 178920, 181176, 197364, 201526, 211344, 211426, 218121, 227884, 230522, 240568, 245650, 267033, 269566, 13552, 16795, 114368, 123257, 133296, 152186, 190708, 200226, 253871, 254465, 9417, 13552, 25981, 37950, 59172, 102359, 104636, 114368, 114414, 123257, 123744, 133296, 143163, 216683, 254465, 270352, 11245, 28204, 31826, 55490, 81597, 104636, 126736, 141493, 158295, 17003, 60707, 95359, 98686, 127359, 147224, 230522, 251394, 6563, 26544, 31315, 62272, 74056, 78783, 78834, 83637, 105517, 114368, 120908, 123544, 140358, 147847, 169233, 178667, 189835, 194600, 210485, 224249, 245410, 252071, 254465, 13552, 51883, 102359, 104636, 107784, 114368, 133296, 185233, 241980, 254465, 270352, 13552, 59172, 102359, 104636, 114368, 115490, 115692, 123257, 133296, 241980, 254465, 270352, 9417, 13552, 37950, 102359, 104636, 107784, 114368, 133296, 174304, 205735, 241980, 254465, 270352, 7346, 8253, 11245, 31826, 81597, 102275, 109899, 226545, 243294, 8245, 16795, 76942, 109574, 110912, 110973, 140358, 181176, 208406, 232964, 236172, 237990, 252820, 270713, 6563, 28634, 48025, 78783, 153797, 169233, 189835, 205735, 208897, 245410, 246513, 254465, 256843, 63394, 78834, 91832, 94347, 98686, 105517, 108285, 109574, 117251, 140358, 156150, 160558, 187624, 189835, 228021, 234828, 237748, 258534, 31556, 35857, 35859, 40889, 59269, 61854, 81597, 104636, 110973, 114444, 126395, 133571, 153662, 236283, 31556, 59269, 81597, 98723, 104636, 107784, 126736, 180042, 248496, 6575, 29855, 30994, 37950, 53220, 98758, 105517, 107784, 115003, 133689, 204864, 210485, 270820, 11245, 31826, 37950, 48975, 69389, 81597, 102967, 104636, 147847, 190925, 193529, 193898, 201447, 225087, 229011, 243294, 258884, 9417, 59172, 104636, 114368, 123257, 147847, 241980, 254465, 270352, 272573, 9417, 104399, 104636, 114368, 123257, 133296, 147847, 174304, 238120, 241980, 270352, 68555, 76151, 120093, 123883, 229011, 247447, 264082, 30276, 31826, 70415, 88733, 102647, 104636, 125519, 135149, 173481, 216683, 225087, 226545, 234828, 235282, 243294, 246513, 249628, 249862, 259629, 263877, 2276, 7346, 32773, 83287, 156467, 172061, 174726, 222941, 227705, 93629, 101876, 108285, 135360, 241666, 243236, 243360, 255489, 269890, 32773, 80683, 80810, 163488, 168816, 169699, 216012, 226616, 232131, 269566, 13273, 23872, 27472, 32802, 59269, 95359, 104636, 107784, 125519, 147847, 158295, 208897, 218568, 221870, 226545, 240568, 243294, 254144, 8253, 11245, 31826, 40889, 102647, 104636, 105517, 119575, 135149, 135351, 147847, 178667, 193898, 201447, 213531, 225087, 241666, 241980, 247752, 264082, 272573, 11245, 30972, 31826, 36135, 43619, 46398, 64310, 79740, 102967, 104636, 110973, 125519, 168064, 173481, 201969, 213531, 7346, 26593, 31826, 41084, 81597, 95359, 123981, 137211, 158295, 174726, 226616, 227705, 240568, 243294, 249862, 264082, 267033, 8066, 27740, 48046, 55492, 56856, 104657, 109574, 123094, 153797, 187145, 193458, 204864, 230522, 264321, 264543, 30533, 100264, 104636, 123981, 141493, 147847, 149069, 153662, 228764, 13273, 25981, 29259, 31826, 59269, 104636, 173481, 229011, 235282, 237271, 241666, 264031, 264082, 268032, 17859, 29855, 36715, 95991, 96448, 102647, 182459, 185233, 187517, 218121, 218608, 220240, 230522, 266056, 77480, 100459, 223501, 13552, 114368, 129716, 140358, 247852, 882, 6575, 37712, 41084, 54884, 58594, 60244, 60337, 66680, 69078, 75591, 77809, 88229, 88733, 89602, 112001, 113904, 114988, 122801, 124874, 135149, 136139, 160819, 185176, 193458, 195904, 204864, 223431, 242083, 247752, 271176, 271195, 51992, 65258, 75485, 230522, 266865, 69078, 95173, 110934, 174596, 63956, 138844, 21014, 60244, 105214, 128325, 135360, 162738, 169663, 215986, 243879, 246311, 638, 10314, 21011, 35857, 69389, 108155, 136139, 198046, 206563, 11224, 29526, 39773, 75819, 105058, 108799, 159033, 163570, 177072, 177458, 235935, 39773, 55490, 56856, 75819, 91103, 93179, 162639, 171295, 174596, 187256, 245410, 260944, 8066, 16634, 31556, 77809, 101606, 155147, 187145, 85757, 263163, 31315, 35859, 130474, 178199, 218552, 220688, 235282, 250184, 260944, 6073, 62891, 66574, 69078, 88229, 101606, 104113, 105517, 129716, 136491, 144038, 187145, 242083, 6251, 6575, 8454, 21011, 36606, 38023, 50225, 60244, 93047, 156150, 189973, 202277, 252820, 263163, 277427, 36907, 51742, 75591, 95359, 102967, 105214, 105979, 129074, 157811, 187145, 206534, 209756, 220597, 246311, 257028, 8066, 17003, 75591, 85426, 89602, 94347, 95359, 105979, 143163, 187256, 203240, 218552, 221948, 224349, 231827, 242083, 245410, 249628, 252695, 264657, 267033, 270605, 44252, 62891, 69078, 95359, 98758, 237534, 242083, 242299, 243360, 245649, 260183, 261829, 266865, 6073, 16106, 100906, 106007, 110934, 126604, 167812, 189973, 222296, 246311, 30994, 96357, 141710, 143163, 143415, 195904, 211344, 223154, 224138, 230522, 6575, 7915, 8681, 14422, 16795, 22625, 40889, 46398, 51526, 55187, 62891, 91113, 110934, 132375, 135360, 209756, 218608, 248718, 266226, 270605, 638, 6242, 6575, 12538, 16795, 21014, 28177, 33818, 40943, 43910, 53174, 60244, 75591, 80683, 81492, 89602, 98904, 104113, 115490, 125692, 133689, 143968, 148898, 150968, 150979, 156150, 160819, 163488, 169233, 187145, 204864, 210874, 218552, 235282, 243879, 254465, 258938, 264543, 276050, 6242, 43687, 56959, 60244, 63938, 66574, 78834, 88937, 95359, 96440, 101606, 115003, 124597, 128835, 135149, 153662, 164323, 170513, 177458, 215988, 217375, 224809, 230522, 268110, 2766, 6563, 6575, 9856, 30533, 60244, 75591, 89602, 91832, 107021, 124487, 146113, 193898, 224249, 225810, 6073, 6543, 21484, 28177, 85757, 110973, 113270, 113519, 135831, 212923, 882, 4017, 6242, 6251, 6575, 8253, 16634, 21014, 22625, 27472, 30994, 37712, 40330, 41841, 43246, 55187, 55927, 76151, 78448, 80683, 81597, 82407, 85757, 86189, 91103, 98263, 99955, 101876, 102967, 105937, 112026, 113270, 113519, 127826, 133747, 137589, 140358, 153662, 153797, 154070, 162639, 168047, 169663, 174326, 177090, 178199, 184424, 204864, 215988, 222035, 223087, 227705, 232131, 236058, 236757, 242083, 255489, 261829, 263325, 264657, 268932, 269566, 270554, 276231, 16634, 95359, 101305, 153513, 245371, 261829, 16795, 21484, 30081, 30276, 36907, 37712, 43910, 48046, 96357, 96448, 104113, 117251, 120093, 136491, 138543, 150896, 159506, 189080, 206944, 211426, 221948, 224138, 237748, 240567, 242083, 270605, 31315, 39773, 70052, 81597, 143175, 189080, 203799, 260944, 16795, 31826, 61901, 81771, 108005, 122793, 127233, 143968, 153662, 159033, 179978, 200226, 278633, 17859, 120598, 195904, 201447, 249628, 260944, 21576, 76499, 93426, 126492, 129716, 136491, 209174, 226553, 31315, 69389, 69933, 76151, 81597, 184513, 213150, 21014, 36606, 51992, 136348, 251843, 1435, 4017, 6242, 6251, 6575, 14422, 28634, 30276, 46398, 54884, 56959, 60244, 85526, 98904, 101876, 102967, 117111, 142121, 152651, 165319, 181687, 187145, 192093, 208671, 209174, 211426, 240567, 251394, 264543, 269835, 4017, 6242, 10314, 10447, 16795, 21356, 21659, 22074, 23872, 30533, 35859, 37712, 46443, 61427, 69078, 81977, 88229, 98263, 105979, 110912, 110934, 110973, 115003, 122429, 122793, 135149, 135360, 148744, 162780, 187145, 194600, 200226, 209756, 224430, 238065, 240567, 264947, 271144, 271448, 1435, 15408, 39345, 54884, 61038, 105517, 113270, 130571, 152651, 187256, 195904, 229313, 231210, 237990, 256407, 270820, 21011, 23768, 27472, 56447, 72214, 95359, 114988, 120908, 127233, 136382, 138578, 143968, 147224, 239584, 251140, 255489, 271448, 4938, 40914, 52584, 153662, 154992, 208671, 258938, 263645, 22625, 28634, 44252, 52584, 56856, 59150, 65258, 69078, 78448, 79977, 139387, 174216, 211426, 224249, 240567, 251843, 255489, 263325, 23768, 25981, 31315, 33580, 35859, 44893, 50895, 51992, 69389, 76151, 105214, 108005, 110973, 135149, 161039, 184532, 185233, 236283, 241980, 252071, 263877, 6563, 7346, 19711, 28634, 31393, 37712, 51526, 52584, 61038, 78783, 81597, 81771, 102705, 106225, 109574, 112001, 112026, 147847, 182459, 200226, 206534, 207246, 213126, 237990, 245645, 264543, 8245, 16795, 41084, 56856, 61038, 62891, 69078, 83637, 98263, 100906, 101305, 103336, 110912, 112083, 113519, 129716, 135831, 141710, 150979, 154992, 156269, 167746, 187145, 190741, 204864, 216466, 218552, 231210, 246311, 248477, 263325, 270352, 8245, 16795, 21014, 36609, 37712, 43910, 86189, 112001, 139913, 142715, 162780, 196077, 201677, 207148, 245649, 252071, 264031, 278633, 13273, 14422, 35859, 52584, 56554, 73044, 88793, 89602, 102275, 115003, 124874, 162639, 163804, 170947, 196077, 208147, 210485, 213150, 226879, 240403, 246513, 264657, 266056, 4017, 22625, 69078, 88937, 135831, 142479, 144038, 169233, 190741, 201677, 16795, 21011, 30533, 62862, 78783, 112001, 114544, 138578, 184424, 276680, 31315, 39773, 55493, 56959, 59269, 76151, 87712, 95903, 126388, 140358, 158295, 160401, 232106, 241980, 31315, 35857, 59269, 66680, 81597, 98391, 136348, 144555, 216012, 216466, 232106, 235935, 278026, 13273, 16795, 27472, 27617, 31826, 38273, 49460, 54884, 70415, 76151, 78834, 98391, 114444, 126492, 130474, 187256, 189835, 223566, 224809, 236283, 237748, 27617, 75819, 76151, 110973, 163570, 170513, 184532, 189080, 189835, 219683, 236283, 241980, 259629, 274061, 27740, 36606, 78834, 85757, 93092, 105214, 122429, 146803, 152186, 203240, 248718, 255489, 30735, 139359, 184424, 238613, 240567, 115003, 123825, 126196, 141902, 145641, 192710, 206563, 230522, 269835, 16488, 36715, 55799, 63956, 72523, 95359, 110973, 141710, 167471, 172742, 182459, 263325, 264543, 271448, 190925, 215988, 6575, 7346, 10314, 20180, 36606, 36609, 55927, 86189, 110973, 116904, 128325, 136348, 137688, 142715, 143415, 162639, 215988, 224430, 225763, 226879, 232131, 238613, 260897, 270605, 270713, 6543, 16795, 23872, 27617, 31826, 55490, 110973, 115692, 126492, 160401, 165758, 223787, 224809, 236283, 10447, 16795, 21011, 22625, 36907, 39281, 41455, 60244, 63938, 74286, 91113, 93629, 108005, 115003, 116758, 121170, 122793, 126196, 133689, 136139, 137688, 138543, 138844, 140358, 144531, 181687, 185233, 208147, 215988, 222296, 223787, 242299, 271448, 638, 140358, 147847, 277427, 46909, 165308, 66680, 114544, 122793, 126196, 143175, 244627, 266056, 10314, 16795, 41455, 43910, 194600, 235282, 138543, 150968, 154992, 167746, 10447, 21404, 34588, 36135, 43246, 48046, 51742, 55187, 65258, 96448, 125039, 135831, 177072, 236283, 266283, 268622, 277427, 33974, 46909, 50730, 104636, 235282, 240568, 6563, 7125, 7283, 8066, 8454, 10314, 10560, 13552, 14422, 16718, 16795, 23768, 25409, 26621, 30487, 35857, 35859, 40943, 43910, 48494, 50730, 52584, 60050, 60244, 67547, 69078, 81492, 81771, 82407, 83287, 89602, 95932, 97754, 98723, 105979, 106225, 108155, 113270, 114444, 119575, 120908, 121170, 125692, 135831, 139359, 143175, 144531, 150968, 173415, 190925, 196502, 203240, 208147, 210587, 210874, 215986, 216466, 221445, 223087, 224249, 224430, 225763, 227705, 231210, 235392, 235935, 242299, 253871, 260897, 268622, 270801, 270820, 10314, 30487, 43910, 97754, 98391, 119575, 143415, 182993, 217375, 228868, 235282, 251422, 13552, 21031, 25409, 36609, 56554, 88793, 105979, 127359, 142715, 146803, 149934, 173415, 190925, 200226, 222220, 223154, 231210, 235935, 246507, 246513, 21484, 55927, 89602, 114544, 117251, 192093, 206944, 218608, 270713, 20060, 33818, 34300, 55187, 101876, 105058, 126388, 187624, 206563, 226965, 234828, 268032, 7158, 27472, 31826, 33124, 37950, 48025, 95359, 105058, 124597, 126492, 128835, 136382, 158295, 182459, 184299, 232131, 236058, 258534, 263877, 273979, 25981, 72214, 112001, 133296, 141493, 144478, 153662, 162639, 193499, 225087, 256843, 47316, 53220, 104144, 137688, 143163, 232945, 235935, 258534, 4017, 13552, 20060, 28634, 40889, 61901, 95359, 97874, 104636, 144555, 60050, 85656, 93047, 98904, 105214, 112001, 136010, 163570, 181176, 265313, 31826, 40889, 40943, 46909, 48025, 104636, 141491, 154730, 225087, 229011, 235282, 254144, 261829, 264082, 19085, 48046, 102647, 121170, 135149, 144318, 178199, 204864, 225595, 234828, 268032, 268932, 7125, 11224, 21031, 39773, 61901, 75819, 105937, 155580, 201677, 224764, 276680, 6563, 8066, 20060, 50225, 60244, 89602, 101305, 103336, 105979, 159033, 164323, 178199, 206944, 232131, 246634, 265115, 268110, 2766, 15408, 22074, 30533, 31393, 37208, 60244, 68555, 75819, 110912, 114988, 126604, 128085, 132375, 135360, 137589, 156150, 164323, 216466, 218568, 225763, 270801, 8454, 16718, 43910, 56554, 60244, 62862, 64436, 81848, 89602, 91113, 93426, 95359, 108799, 116758, 133747, 136348, 143211, 173415, 181687, 182993, 209174, 215988, 229313, 235282, 253871, 254465, 268110, 16996, 40914, 43910, 56554, 81848, 93426, 133747, 179734, 201447, 206944, 235282, 246507, 6543, 8066, 10560, 41084, 60244, 72214, 88793, 89602, 120908, 136139, 140358, 141710, 159033, 175052, 209373, 221445, 8454, 97874, 182993, 259035, 7125, 13552, 25409, 27617, 30081, 31315, 91113, 98723, 144531, 153662, 207148, 217375, 235282, 236757, 7125, 21618, 66878, 95903, 125519, 184424, 202277, 229741, 16795, 23768, 34300, 55493, 61901, 78783, 89602, 95173, 124874, 200226, 215988, 231210, 261829, 264031, 6251, 30735, 40889, 49212, 60707, 78834, 89602, 95173, 96440, 101606, 114988, 168064, 178667, 179734, 183046, 211344, 226879, 245410, 252695, 55492, 70666, 21356, 100459, 174326, 260897, 15408, 17003, 35859, 43246, 53241, 74056, 101305, 106225, 123883, 140358, 145449, 196077, 235282, 10314, 16795, 35857, 51450, 51992, 55799, 64436, 78834, 95359, 113519, 123095, 126196, 160401, 174216, 236283, 263645, 13273, 15408, 108799, 163570, 187145, 236283, 242106, 264321, 274061, 6563, 7125, 7346, 7915, 10447, 13552, 13850, 16718, 16795, 21576, 22625, 36606, 36907, 39773, 40889, 41781, 60621, 61901, 75081, 75819, 85993, 89602, 97874, 98391, 105979, 108005, 110912, 112001, 117251, 122429, 122793, 128325, 130571, 139913, 141493, 142256, 148898, 152651, 168064, 181687, 182993, 190925, 204813, 208671, 209756, 217375, 221445, 223154, 235935, 236283, 249894, 253871, 256843, 258938, 263325, 270713, 270820, 271176, 271195, 6563, 16718, 16795, 31315, 38023, 46398, 60244, 85426, 85526, 95359, 108005, 137211, 138578, 143163, 147141, 170634, 210485, 236283, 242143, 266056, 6251, 16106, 16795, 25409, 62862, 63854, 90616, 122440, 158254, 165319, 196077, 201684, 217375, 222296, 224349, 224430, 225763, 229741, 246311, 258938, 16795, 33124, 52584, 56856, 60244, 68984, 95991, 105517, 122440, 177072, 183995, 187256, 196077, 226205, 35859, 41084, 44252, 48046, 55892, 89602, 112001, 189835, 204864, 220240, 242299, 261829, 6073, 46398, 48046, 75591, 76499, 94347, 97754, 101305, 115003, 142524, 173415, 204864, 219683, 223644, 228681, 7346, 13273, 29209, 60337, 103336, 110934, 115003, 165308, 177375, 196466, 204864, 210485, 218568, 244171, 3167, 6575, 18082, 25981, 31556, 36715, 41455, 44252, 55799, 61427, 68984, 70666, 85526, 93047, 105517, 125692, 133747, 138198, 140223, 143163, 143837, 145641, 148744, 155147, 156300, 162639, 188010, 211426, 218608, 219683, 220240, 224349, 236283, 238120, 242083, 245371, 258938, 261829, 264321, 13273, 59150, 61427, 68984, 106007, 136205, 197659, 226965, 238120, 242083, 2891, 6575, 7346, 17003, 28204, 30276, 30533, 35859, 36907, 45557, 52584, 52917, 60244, 60707, 68984, 69971, 70052, 76818, 80683, 86145, 96357, 101851, 113519, 122793, 123056, 135149, 137589, 138198, 143415, 144038, 144555, 153662, 157273, 158254, 166596, 171118, 182527, 192093, 200226, 206944, 218568, 224138, 229313, 232131, 238065, 240567, 245371, 266226, 267033, 269566, 270605, 270713, 1435, 6575, 7346, 43246, 45557, 48494, 52584, 69971, 70052, 95359, 101851, 104113, 110912, 124597, 135149, 138543, 171118, 171445, 178920, 197364, 206944, 207259, 208147, 211426, 235105, 243294, 245410, 254299, 274056, 19664, 52584, 81977, 102647, 107784, 110934, 117251, 133747, 139359, 162639, 218568, 231210, 240219, 8253, 17003, 21356, 30735, 36907, 45557, 52584, 53418, 60244, 69971, 100906, 124597, 129084, 150979, 160401, 160819, 167471, 175052, 177072, 193458, 193898, 240567, 266283, 271705, 6575, 21618, 37712, 67547, 75591, 96357, 126736, 133747, 153513, 169663, 204864, 222296, 224138, 224349, 234828, 258884, 264543, 82407, 114544, 242299, 245645, 6563, 7125, 8067, 16795, 60244, 70415, 136348, 156467, 162738, 172742, 178199, 221445, 235935, 266283, 21404, 21484, 30533, 31393, 36907, 53241, 60244, 70052, 100459, 104113, 106007, 110912, 114544, 135149, 160681, 162780, 187256, 189835, 208147, 226965, 229313, 243236, 261829, 268622, 270554, 271448, 30533, 175052, 177375, 189080, 193676, 221948, 252695, 49212, 52584, 85426, 95359, 109574, 166596, 185722, 193458, 248496, 270820, 46398, 89602, 113270, 126604, 129074, 159033, 271448, 13850, 56959, 76942, 78783, 91832, 127826, 143968, 144531, 162639, 164323, 175052, 187256, 190925, 191716, 212923, 227884, 234828, 237990, 238120, 251422, 256402, 259629, 264543, 56307, 105517, 165308, 177072, 192093, 209756, 230522, 266283, 10447, 31556, 48025, 83637, 174726, 210485, 212923, 240403, 259930, 30735, 78783, 81848, 93179, 97754, 158295, 162052, 236283, 30735, 31393, 34588, 90616, 91058, 145449, 146113, 156269, 225087, 236283, 258884, 16634, 70594, 86145, 87555, 95359, 105979, 126604, 133747, 222035, 239584, 250925, 255489, 2276, 8454, 23768, 25409, 30487, 49460, 78783, 91113, 96448, 102967, 113270, 115003, 120908, 121170, 127359, 130571, 132375, 139359, 142524, 168064, 187256, 188010, 192093, 192710, 194600, 198046, 217375, 236058, 251394, 251843, 258534, 258938, 260897, 270713, 23872, 37950, 53174, 152099, 187624, 226205, 261603, 100906, 135149, 251843, 261603, 3167, 28177, 35836, 46443, 55187, 60244, 77809, 88937, 91113, 104657, 126388, 127826, 140223, 154529, 165319, 184299, 187256, 204864, 207494, 234828, 238889, 240035, 249894, 251394, 270713, 271176, 274308, 8681, 56447, 85426, 106007, 115490, 135360, 144038, 171445, 222296, 224138, 50895, 54335, 98391, 237990, 15049, 16795, 16916, 34588, 35859, 47316, 56447, 60244, 76352, 81848, 87141, 96357, 114444, 123095, 123744, 141491, 141493, 143964, 148744, 153662, 160401, 162639, 170513, 174216, 177072, 177458, 190459, 204864, 208671, 208815, 208829, 219546, 223190, 226545, 241980, 245645, 256402, 266056, 269890, 273979, 15049, 16916, 33580, 37644, 43246, 68984, 81298, 101606, 107784, 110973, 123095, 128085, 134797, 140358, 141491, 141493, 141902, 143964, 156300, 160401, 177072, 189080, 208671, 208815, 219546, 241980, 242083, 256402, 266056, 12538, 15049, 16795, 16916, 25981, 27472, 35859, 37644, 39773, 47316, 55492, 56447, 68984, 69389, 81298, 87141, 101606, 123095, 140358, 143964, 153662, 156300, 177072, 208815, 256402, 261829, 15049, 16916, 25981, 29259, 37644, 47316, 81298, 101606, 107784, 110973, 123095, 128085, 140358, 143964, 156300, 160401, 208671, 208815, 256402, 15049, 16795, 16916, 25981, 29259, 37644, 47316, 68984, 81298, 123095, 143964, 177072, 208671, 208815, 35859, 60244, 68984, 136382, 141493, 177458, 183046, 242299, 251003, 122429, 127826, 159033, 183046, 200226, 275970, 6242, 8066, 20172, 21014, 34588, 35859, 69355, 110973, 115692, 133747, 153797, 174596, 184424, 187145, 195904, 204457, 234359, 246311, 251843, 6575, 16795, 37712, 42093, 81216, 85526, 101606, 101851, 114868, 122429, 127826, 137688, 171118, 183046, 220688, 229741, 230522, 240144, 240403, 268110, 269835, 271195, 275970, 5582, 16795, 35857, 83287, 89602, 143964, 153662, 177072, 208406, 209756, 220240, 231210, 231827, 232131, 235282, 242083, 254201, 266226, 268932, 13850, 15049, 29259, 53418, 69078, 81771, 95903, 98263, 150979, 174304, 179978, 201684, 269566, 13850, 15049, 29259, 32773, 35857, 40889, 78783, 81771, 105517, 109574, 150979, 196077, 196502, 200226, 201684, 218608, 226553, 227520, 1435, 2766, 11224, 21031, 21404, 30972, 31826, 37950, 38023, 46398, 55187, 60050, 65258, 77480, 93047, 102275, 114988, 126693, 132375, 136139, 138844, 142479, 160681, 167800, 168047, 184424, 187145, 187256, 201969, 220688, 223566, 224809, 237271, 249862, 251422, 257028, 258938, 260897, 271448, 2891, 8245, 37712, 60244, 104144, 104636, 122429, 162639, 181687, 223501, 6543, 6563, 6575, 13273, 23768, 25409, 43246, 64436, 95991, 136326, 136348, 162780, 201447, 206534, 218568, 223087, 224430, 225763, 251843, 255489, 6543, 6575, 7125, 21576, 43246, 46443, 62542, 64436, 69971, 70594, 75149, 88793, 89602, 91058, 95173, 95359, 95991, 110912, 110934, 113270, 114988, 115003, 128325, 135351, 136326, 136348, 141710, 145449, 162780, 171118, 177072, 210485, 213126, 218568, 221445, 235935, 251843, 6543, 21576, 56959, 70594, 75149, 88793, 89602, 91058, 95991, 110912, 110934, 114988, 142121, 160819, 190925, 210485, 210587, 212923, 213126, 234359, 2891, 6251, 8454, 16795, 49460, 60050, 66574, 75149, 108005, 195904, 201447, 228579, 271448, 6575, 14422, 16106, 22074, 41781, 43687, 47316, 48494, 49212, 49460, 54335, 60244, 67840, 70594, 75149, 88793, 89602, 95173, 98263, 110912, 110934, 113270, 114988, 126196, 133571, 138844, 141493, 141710, 145449, 164323, 202277, 210485, 210587, 221445, 224349, 226205, 228868, 235935, 265115, 265889, 93047, 234165, 265313, 25981, 31315, 56307, 104144, 126196, 162639, 172512, 252695, 265889, 35836, 104665, 106225, 122793, 163804, 188022, 207148, 216466, 240568, 242646, 244627, 5582, 40889, 76151, 91113, 114368, 146803, 156467, 208897, 225810, 228868, 263645, 265889, 25981, 28634, 56554, 132375, 133296, 134797, 148898, 156467, 271448, 82497, 98391, 119517, 126196, 134797, 139913, 156467, 208147, 223190, 66680, 98391, 119575, 134797, 148898, 162639, 216012, 265115, 265889, 8067, 65584, 76151, 98391, 119517, 119575, 136326, 144531, 162639, 229011, 276165, 7346, 13850, 29259, 35859, 39281, 53392, 57398, 105517, 113519, 150979, 170513, 171118, 220688, 225087, 256402, 257028, 243, 1435, 7158, 7346, 10447, 11224, 14422, 16718, 29259, 37950, 40889, 48494, 110373, 113519, 125519, 168816, 170634, 185233, 200226, 210485, 236283, 265115, 271448, 7346, 14422, 16718, 37950, 76352, 93092, 105517, 113519, 125519, 174304, 247752, 16795, 23872, 28177, 31556, 46398, 51742, 55493, 66878, 78783, 80810, 104636, 105374, 114544, 135265, 141493, 143163, 145369, 150979, 154992, 164728, 171445, 173415, 183061, 190459, 193676, 194600, 208671, 209373, 223087, 249894, 264031, 264543, 5582, 10314, 16795, 29259, 35857, 55493, 76352, 85426, 104636, 105517, 112001, 122793, 138844, 148744, 153662, 170634, 185233, 188010, 200226, 251843, 259260, 261829, 268932, 29259, 37950, 59269, 99955, 123883, 125519, 143163, 208671, 248477, 21011, 23872, 35859, 40889, 44252, 46398, 55492, 62891, 78783, 87712, 112026, 114544, 135265, 141493, 145369, 154992, 160401, 171445, 174304, 183061, 208671, 227025, 240219, 254144, 2766, 12538, 42914, 76352, 81492, 104636, 105517, 123744, 138578, 143964, 203799, 223566, 236283, 258938, 271448, 7346, 9856, 30985, 44728, 55492, 81298, 83287, 95359, 123981, 126736, 169779, 209756, 216683, 218121, 231210, 244627, 273979, 4017, 28177, 66680, 73044, 91103, 95359, 108005, 113519, 142256, 162639, 181687, 187517, 226965, 246311, 29526, 43910, 69078, 106225, 171445, 184424, 223501, 239584, 255489, 8066, 8681, 36715, 44893, 58594, 101606, 156150, 184299, 220688, 229741, 252820, 4017, 6242, 6543, 10314, 20180, 38023, 43910, 49212, 62862, 78783, 140358, 145449, 145641, 148744, 157273, 178667, 212923, 223087, 224138, 231210, 235282, 236058, 264543, 268110, 6242, 8681, 36715, 66574, 75149, 121170, 201447, 229313, 229741, 246311, 6242, 130571, 140223, 164323, 165758, 197364, 220597, 229313, 242083, 246311, 248477, 260183, 270713, 6242, 10314, 16795, 44893, 51526, 66574, 85757, 89602, 91113, 101606, 110934, 117251, 121170, 123095, 133747, 144531, 164323, 215986, 215988, 224249, 224349, 229313, 229741, 261829, 21014, 37712, 73044, 85757, 98723, 101606, 106225, 121170, 153718, 164323, 165308, 215986, 229011, 240219, 243236, 248477, 6575, 26621, 43910, 89602, 144531, 162639, 246311, 14521, 55187, 60244, 141902, 143964, 147847, 150979, 162639, 197659, 208671, 226553, 240403, 21576, 43246, 60244, 70594, 85757, 93047, 93426, 131046, 136491, 157811, 171118, 210485, 244171, 249894, 271448, 36907, 39281, 46398, 62862, 97754, 97874, 105517, 106849, 117111, 125519, 157273, 163804, 216683]\n"
          ]
        }
      ]
    },
    {
      "cell_type": "markdown",
      "source": [
        "Testing our model by taking input as user id."
      ],
      "metadata": {
        "id": "NIFD_d4UGN_n"
      }
    },
    {
      "cell_type": "code",
      "source": [
        "user=int(input(\"Enter User ID from above list for book recommendation:  \"))\n",
        "model_recommender.recommend_book(recommender_model,user)"
      ],
      "metadata": {
        "colab": {
          "base_uri": "https://localhost:8080/"
        },
        "id": "n7kWdd2pGH1W",
        "outputId": "510eea58-c7e3-4250-f061-f816c6c032f3"
      },
      "execution_count": null,
      "outputs": [
        {
          "output_type": "stream",
          "name": "stdout",
          "text": [
            "Enter User ID from above list for book recommendation:  128835\n",
            "Recommendation for User-ID =  128835\n",
            "         ISBN                                         Book-Title  recStrength\n",
            "0  0671027360                                Angels &amp; Demons     0.645795\n",
            "1  0553284789  F Is for Fugitive (Kinsey Millhone Mysteries (...     0.542957\n",
            "2  0345353145                                             Sphere     0.534913\n",
            "3  0312924585                               Silence of the Lambs     0.499819\n",
            "4  0452282152                          Girl with a Pearl Earring     0.494316\n",
            "5  0449221482                                  J Is for Judgment     0.488719\n",
            "6  0446310786                              To Kill a Mockingbird     0.481691\n",
            "7  0449221512                                  I Is for Innocent     0.475776\n",
            "8  0553280341  B Is for Burglar (Kinsey Millhone Mysteries (P...     0.457365\n",
            "9  0446672211  Where the Heart Is (Oprah's Book Club (Paperba...     0.441396\n"
          ]
        }
      ]
    },
    {
      "cell_type": "code",
      "source": [
        "#Top-N accuracy metrics consts\n",
        "EVAL_RANDOM_SAMPLE_NON_INTERACTED_ITEMS = 100\n",
        "\n",
        "class ModelEvaluator:\n",
        "\n",
        "    # Function for getting the set of items which a user has not interacted with\n",
        "    def get_not_interacted_items_sample(self, UserID, sample_size, seed=42):\n",
        "        interacted_items = get_items_interacted(UserID, interactions_full_indexed_df)\n",
        "        all_items = set(usa_canada_users_df['ISBN'])\n",
        "        non_interacted_items = all_items - interacted_items\n",
        "\n",
        "        random.seed(seed)\n",
        "        non_interacted_items_sample = random.sample(non_interacted_items, sample_size)\n",
        "        return set(non_interacted_items_sample)\n",
        "\n",
        "    # Function to verify whether a particular item_id was present in the set of top N recommended items\n",
        "    def _verify_hit_top_n(self, item_id, recommended_items, topn):        \n",
        "            try:\n",
        "                index = next(i for i, c in enumerate(recommended_items) if c == item_id)\n",
        "            except:\n",
        "                index = -1\n",
        "            hit = int(index in range(0, topn))\n",
        "            return hit, index\n",
        "    \n",
        "    # Function to evaluate the performance of model for each user\n",
        "    def evaluate_model_for_user(self, model, person_id):\n",
        "        \n",
        "        # Getting the items in test set\n",
        "        interacted_values_testset = interactions_test_indexed_df.loc[person_id]\n",
        "        \n",
        "        if type(interacted_values_testset['ISBN']) == pd.Series:\n",
        "            person_interacted_items_testset = set(interacted_values_testset['ISBN'])\n",
        "        else:\n",
        "            person_interacted_items_testset = set([str(interacted_values_testset['ISBN'])])\n",
        "            \n",
        "        interacted_items_count_testset = len(person_interacted_items_testset) \n",
        "\n",
        "        # Getting a ranked recommendation list from the model for a given user\n",
        "        person_recs_df = model.recommend_items(person_id, items_to_ignore=get_items_interacted(person_id, interactions_train_indexed_df),topn=10000000000)\n",
        "\n",
        "        hits_at_5_count = 0\n",
        "        hits_at_10_count = 0\n",
        "        hits_at_15_count = 0\n",
        "\n",
        "        # For each item the user has interacted in test set\n",
        "        for item_id in person_interacted_items_testset:\n",
        "            \n",
        "            # Getting a random sample of 100 items the user has not interacted with\n",
        "            non_interacted_items_sample = self.get_not_interacted_items_sample(person_id, sample_size=EVAL_RANDOM_SAMPLE_NON_INTERACTED_ITEMS, seed=item_id)    #%(2**32))\n",
        "\n",
        "            # Combining the current interacted item with the 100 random items\n",
        "            items_to_filter_recs = non_interacted_items_sample.union(set([item_id]))\n",
        "\n",
        "            # Filtering only recommendations that are either the interacted item or from a random sample of 100 non-interacted items\n",
        "            valid_recs_df = person_recs_df[person_recs_df['ISBN'].isin(items_to_filter_recs)]                    \n",
        "            valid_recs = valid_recs_df['ISBN'].values\n",
        "            \n",
        "            # Verifying if the current interacted item is among the Top-N recommended items\n",
        "            hit_at_5, index_at_5 = self._verify_hit_top_n(item_id, valid_recs, 5)\n",
        "            hits_at_5_count += hit_at_5\n",
        "            hit_at_10, index_at_10 = self._verify_hit_top_n(item_id, valid_recs, 10)\n",
        "            hits_at_10_count += hit_at_10\n",
        "            hit_at_15, index_at_15 = self._verify_hit_top_n(item_id, valid_recs, 15)\n",
        "            hits_at_15_count += hit_at_15\n",
        "\n",
        "        # Recall is the rate of the interacted items that are ranked among the Top-N recommended items\n",
        "        recall_at_5 = hits_at_5_count / float(interacted_items_count_testset)\n",
        "        recall_at_10 = hits_at_10_count / float(interacted_items_count_testset)\n",
        "        recall_at_15 = hits_at_15_count / float(interacted_items_count_testset)\n",
        "\n",
        "        person_metrics = {'hits@5_count':hits_at_5_count, \n",
        "                          'hits@10_count':hits_at_10_count, \n",
        "                          'hits@15_count':hits_at_15_count,\n",
        "                          'interacted_count': interacted_items_count_testset,\n",
        "                          'recall@5': recall_at_5,\n",
        "                          'recall@10': recall_at_10,\n",
        "                          'recall@15': recall_at_15}\n",
        "        return person_metrics\n",
        "\n",
        "    # Function to evaluate the performance of model at overall level\n",
        "    def evaluate_model(self, model):\n",
        "        \n",
        "        people_metrics = []\n",
        "        \n",
        "        for idx, person_id in enumerate(list(interactions_test_indexed_df.index.unique().values)):    \n",
        "            person_metrics = self.evaluate_model_for_user(model, person_id)  \n",
        "            person_metrics['User-ID'] = person_id\n",
        "            people_metrics.append(person_metrics)\n",
        "            \n",
        "        print('%d users processed' % idx)\n",
        "\n",
        "        detailed_results_df = pd.DataFrame(people_metrics).sort_values('interacted_count', ascending=False)\n",
        "        \n",
        "        global_recall_at_5 = detailed_results_df['hits@5_count'].sum() / float(detailed_results_df['interacted_count'].sum())\n",
        "        global_recall_at_10 = detailed_results_df['hits@10_count'].sum() / float(detailed_results_df['interacted_count'].sum())\n",
        "        global_recall_at_15 = detailed_results_df['hits@15_count'].sum() / float(detailed_results_df['interacted_count'].sum())\n",
        "        \n",
        "        global_metrics = {'modelName': model.get_model_name(),\n",
        "                          'recall@5': global_recall_at_5,\n",
        "                          'recall@10': global_recall_at_10,\n",
        "                          'recall@15': global_recall_at_15}    \n",
        "        return global_metrics, detailed_results_df\n",
        "    \n",
        "model_evaluator = ModelEvaluator()"
      ],
      "metadata": {
        "id": "n8_p0PNAGSXG"
      },
      "execution_count": null,
      "outputs": []
    },
    {
      "cell_type": "code",
      "source": [
        "print('Evaluating Collaborative Filtering (SVD Matrix Factorization) model...')\n",
        "global_metrics, detailed_results_df = model_evaluator.evaluate_model(recommender_model)\n",
        "\n",
        "print('\\nGlobal metrics:\\n%s' % global_metrics)\n",
        "detailed_results_df.head(10)"
      ],
      "metadata": {
        "colab": {
          "base_uri": "https://localhost:8080/",
          "height": 450
        },
        "id": "BFqjFpiVHWPC",
        "outputId": "22c11b1b-63e8-4af6-f7dc-ff9902254fe6"
      },
      "execution_count": null,
      "outputs": [
        {
          "output_type": "stream",
          "name": "stdout",
          "text": [
            "Evaluating Collaborative Filtering (SVD Matrix Factorization) model...\n",
            "954 users processed\n",
            "\n",
            "Global metrics:\n",
            "{'modelName': 'Collaborative Filtering', 'recall@5': 0.2566985645933014, 'recall@10': 0.35909090909090907, 'recall@15': 0.4368421052631579}\n"
          ]
        },
        {
          "output_type": "execute_result",
          "data": {
            "text/plain": [
              "     hits@5_count  hits@10_count  hits@15_count  interacted_count  recall@5  \\\n",
              "127             5              6             10                34  0.147059   \n",
              "74              5              7             10                29  0.172414   \n",
              "45             10             12             14                28  0.357143   \n",
              "77              8              8              9                22  0.363636   \n",
              "10              4              5              6                21  0.190476   \n",
              "278            15             17             17                20  0.750000   \n",
              "216             9             10             14                19  0.473684   \n",
              "223             3              5              7                19  0.157895   \n",
              "23              8             10             11                17  0.470588   \n",
              "66              1              1              2                16  0.062500   \n",
              "\n",
              "     recall@10  recall@15  User-ID  \n",
              "127   0.176471   0.294118    16795  \n",
              "74    0.241379   0.344828    95359  \n",
              "45    0.428571   0.500000   104636  \n",
              "77    0.363636   0.409091   153662  \n",
              "10    0.238095   0.285714   158295  \n",
              "278   0.850000   0.850000   114368  \n",
              "216   0.526316   0.736842   258534  \n",
              "223   0.263158   0.368421    60244  \n",
              "23    0.588235   0.647059   140358  \n",
              "66    0.062500   0.125000   135149  "
            ],
            "text/html": [
              "\n",
              "  <div id=\"df-5d0de841-93ad-4ffd-a48d-6a391b6f8849\">\n",
              "    <div class=\"colab-df-container\">\n",
              "      <div>\n",
              "<style scoped>\n",
              "    .dataframe tbody tr th:only-of-type {\n",
              "        vertical-align: middle;\n",
              "    }\n",
              "\n",
              "    .dataframe tbody tr th {\n",
              "        vertical-align: top;\n",
              "    }\n",
              "\n",
              "    .dataframe thead th {\n",
              "        text-align: right;\n",
              "    }\n",
              "</style>\n",
              "<table border=\"1\" class=\"dataframe\">\n",
              "  <thead>\n",
              "    <tr style=\"text-align: right;\">\n",
              "      <th></th>\n",
              "      <th>hits@5_count</th>\n",
              "      <th>hits@10_count</th>\n",
              "      <th>hits@15_count</th>\n",
              "      <th>interacted_count</th>\n",
              "      <th>recall@5</th>\n",
              "      <th>recall@10</th>\n",
              "      <th>recall@15</th>\n",
              "      <th>User-ID</th>\n",
              "    </tr>\n",
              "  </thead>\n",
              "  <tbody>\n",
              "    <tr>\n",
              "      <th>127</th>\n",
              "      <td>5</td>\n",
              "      <td>6</td>\n",
              "      <td>10</td>\n",
              "      <td>34</td>\n",
              "      <td>0.147059</td>\n",
              "      <td>0.176471</td>\n",
              "      <td>0.294118</td>\n",
              "      <td>16795</td>\n",
              "    </tr>\n",
              "    <tr>\n",
              "      <th>74</th>\n",
              "      <td>5</td>\n",
              "      <td>7</td>\n",
              "      <td>10</td>\n",
              "      <td>29</td>\n",
              "      <td>0.172414</td>\n",
              "      <td>0.241379</td>\n",
              "      <td>0.344828</td>\n",
              "      <td>95359</td>\n",
              "    </tr>\n",
              "    <tr>\n",
              "      <th>45</th>\n",
              "      <td>10</td>\n",
              "      <td>12</td>\n",
              "      <td>14</td>\n",
              "      <td>28</td>\n",
              "      <td>0.357143</td>\n",
              "      <td>0.428571</td>\n",
              "      <td>0.500000</td>\n",
              "      <td>104636</td>\n",
              "    </tr>\n",
              "    <tr>\n",
              "      <th>77</th>\n",
              "      <td>8</td>\n",
              "      <td>8</td>\n",
              "      <td>9</td>\n",
              "      <td>22</td>\n",
              "      <td>0.363636</td>\n",
              "      <td>0.363636</td>\n",
              "      <td>0.409091</td>\n",
              "      <td>153662</td>\n",
              "    </tr>\n",
              "    <tr>\n",
              "      <th>10</th>\n",
              "      <td>4</td>\n",
              "      <td>5</td>\n",
              "      <td>6</td>\n",
              "      <td>21</td>\n",
              "      <td>0.190476</td>\n",
              "      <td>0.238095</td>\n",
              "      <td>0.285714</td>\n",
              "      <td>158295</td>\n",
              "    </tr>\n",
              "    <tr>\n",
              "      <th>278</th>\n",
              "      <td>15</td>\n",
              "      <td>17</td>\n",
              "      <td>17</td>\n",
              "      <td>20</td>\n",
              "      <td>0.750000</td>\n",
              "      <td>0.850000</td>\n",
              "      <td>0.850000</td>\n",
              "      <td>114368</td>\n",
              "    </tr>\n",
              "    <tr>\n",
              "      <th>216</th>\n",
              "      <td>9</td>\n",
              "      <td>10</td>\n",
              "      <td>14</td>\n",
              "      <td>19</td>\n",
              "      <td>0.473684</td>\n",
              "      <td>0.526316</td>\n",
              "      <td>0.736842</td>\n",
              "      <td>258534</td>\n",
              "    </tr>\n",
              "    <tr>\n",
              "      <th>223</th>\n",
              "      <td>3</td>\n",
              "      <td>5</td>\n",
              "      <td>7</td>\n",
              "      <td>19</td>\n",
              "      <td>0.157895</td>\n",
              "      <td>0.263158</td>\n",
              "      <td>0.368421</td>\n",
              "      <td>60244</td>\n",
              "    </tr>\n",
              "    <tr>\n",
              "      <th>23</th>\n",
              "      <td>8</td>\n",
              "      <td>10</td>\n",
              "      <td>11</td>\n",
              "      <td>17</td>\n",
              "      <td>0.470588</td>\n",
              "      <td>0.588235</td>\n",
              "      <td>0.647059</td>\n",
              "      <td>140358</td>\n",
              "    </tr>\n",
              "    <tr>\n",
              "      <th>66</th>\n",
              "      <td>1</td>\n",
              "      <td>1</td>\n",
              "      <td>2</td>\n",
              "      <td>16</td>\n",
              "      <td>0.062500</td>\n",
              "      <td>0.062500</td>\n",
              "      <td>0.125000</td>\n",
              "      <td>135149</td>\n",
              "    </tr>\n",
              "  </tbody>\n",
              "</table>\n",
              "</div>\n",
              "      <button class=\"colab-df-convert\" onclick=\"convertToInteractive('df-5d0de841-93ad-4ffd-a48d-6a391b6f8849')\"\n",
              "              title=\"Convert this dataframe to an interactive table.\"\n",
              "              style=\"display:none;\">\n",
              "        \n",
              "  <svg xmlns=\"http://www.w3.org/2000/svg\" height=\"24px\"viewBox=\"0 0 24 24\"\n",
              "       width=\"24px\">\n",
              "    <path d=\"M0 0h24v24H0V0z\" fill=\"none\"/>\n",
              "    <path d=\"M18.56 5.44l.94 2.06.94-2.06 2.06-.94-2.06-.94-.94-2.06-.94 2.06-2.06.94zm-11 1L8.5 8.5l.94-2.06 2.06-.94-2.06-.94L8.5 2.5l-.94 2.06-2.06.94zm10 10l.94 2.06.94-2.06 2.06-.94-2.06-.94-.94-2.06-.94 2.06-2.06.94z\"/><path d=\"M17.41 7.96l-1.37-1.37c-.4-.4-.92-.59-1.43-.59-.52 0-1.04.2-1.43.59L10.3 9.45l-7.72 7.72c-.78.78-.78 2.05 0 2.83L4 21.41c.39.39.9.59 1.41.59.51 0 1.02-.2 1.41-.59l7.78-7.78 2.81-2.81c.8-.78.8-2.07 0-2.86zM5.41 20L4 18.59l7.72-7.72 1.47 1.35L5.41 20z\"/>\n",
              "  </svg>\n",
              "      </button>\n",
              "      \n",
              "  <style>\n",
              "    .colab-df-container {\n",
              "      display:flex;\n",
              "      flex-wrap:wrap;\n",
              "      gap: 12px;\n",
              "    }\n",
              "\n",
              "    .colab-df-convert {\n",
              "      background-color: #E8F0FE;\n",
              "      border: none;\n",
              "      border-radius: 50%;\n",
              "      cursor: pointer;\n",
              "      display: none;\n",
              "      fill: #1967D2;\n",
              "      height: 32px;\n",
              "      padding: 0 0 0 0;\n",
              "      width: 32px;\n",
              "    }\n",
              "\n",
              "    .colab-df-convert:hover {\n",
              "      background-color: #E2EBFA;\n",
              "      box-shadow: 0px 1px 2px rgba(60, 64, 67, 0.3), 0px 1px 3px 1px rgba(60, 64, 67, 0.15);\n",
              "      fill: #174EA6;\n",
              "    }\n",
              "\n",
              "    [theme=dark] .colab-df-convert {\n",
              "      background-color: #3B4455;\n",
              "      fill: #D2E3FC;\n",
              "    }\n",
              "\n",
              "    [theme=dark] .colab-df-convert:hover {\n",
              "      background-color: #434B5C;\n",
              "      box-shadow: 0px 1px 3px 1px rgba(0, 0, 0, 0.15);\n",
              "      filter: drop-shadow(0px 1px 2px rgba(0, 0, 0, 0.3));\n",
              "      fill: #FFFFFF;\n",
              "    }\n",
              "  </style>\n",
              "\n",
              "      <script>\n",
              "        const buttonEl =\n",
              "          document.querySelector('#df-5d0de841-93ad-4ffd-a48d-6a391b6f8849 button.colab-df-convert');\n",
              "        buttonEl.style.display =\n",
              "          google.colab.kernel.accessAllowed ? 'block' : 'none';\n",
              "\n",
              "        async function convertToInteractive(key) {\n",
              "          const element = document.querySelector('#df-5d0de841-93ad-4ffd-a48d-6a391b6f8849');\n",
              "          const dataTable =\n",
              "            await google.colab.kernel.invokeFunction('convertToInteractive',\n",
              "                                                     [key], {});\n",
              "          if (!dataTable) return;\n",
              "\n",
              "          const docLinkHtml = 'Like what you see? Visit the ' +\n",
              "            '<a target=\"_blank\" href=https://colab.research.google.com/notebooks/data_table.ipynb>data table notebook</a>'\n",
              "            + ' to learn more about interactive tables.';\n",
              "          element.innerHTML = '';\n",
              "          dataTable['output_type'] = 'display_data';\n",
              "          await google.colab.output.renderOutput(dataTable, element);\n",
              "          const docLink = document.createElement('div');\n",
              "          docLink.innerHTML = docLinkHtml;\n",
              "          element.appendChild(docLink);\n",
              "        }\n",
              "      </script>\n",
              "    </div>\n",
              "  </div>\n",
              "  "
            ]
          },
          "metadata": {},
          "execution_count": 159
        }
      ]
    },
    {
      "cell_type": "markdown",
      "source": [
        "We can observe that - \n",
        "\n",
        "recall@5 - 25% of the items were interacted by the user in test set from  top 5 recommendations.\n",
        "\n",
        "recall@10 - 35% of items were interacted from top 10 recommendations.\n",
        "\n",
        "recall@15 - 43% of items were interacted.\n"
      ],
      "metadata": {
        "id": "NqTNsVEDko2B"
      }
    },
    {
      "cell_type": "markdown",
      "source": [
        "**Future Scope**\n",
        "\n",
        "1. We can use content - based filtering on the available text columns such as book-title, publisher & author to come up with a content based recommendation system.\n",
        "\n",
        "2. We can use NLP techniques such as TF-IDF for performing content - based filtering.\n",
        "\n",
        "3. We can try to collect more data from various other sources if possible.\n",
        "\n",
        "4. We can try to add description for the book so that content - based filtering can easily be performed.\n",
        "\n",
        "5. We can also try to get reviews by the customer for every books.\n",
        "\n",
        "6. Get more understanding about the domain and research more about recommendation system.\n"
      ],
      "metadata": {
        "id": "HUhkOOW3tKKW"
      }
    },
    {
      "cell_type": "markdown",
      "source": [
        "**Conclusion**\n",
        "\n",
        "1. Started with EDA for the given 3 dataset of books, users & ratings.\n",
        "2. Most number of books are read by people between 30 to 40 age.\n",
        "3. 2002 have the highest number of books published followed by 1999.\n",
        "4. Selected Poems is the book having most number of readers.\n",
        "5. Harlequin is the publisher for approximately around 7500 books.\n",
        "6. Agatha Christie is the Author having most number of book.\n",
        "7. Highest rating is 8  out of 10. Which means most of the books are rated 8 by most of the users. 1 & 2 are on the lowest side (0 Rating is ignored).\n",
        "8. Used k-NN to find similarity between users reading book using cosine similarity.\n",
        "9. Trained model only for users from USA & Canada due to speed & time issues.\n",
        "10. Selected users having 10 or more interactions.\n",
        "11. Performed dimensionality reduction using SVD.\n",
        "12. Built a model-based collaborative filtering recommendation class.\n",
        "13. User Top-N metric for evaluation of recommender system.\n",
        "14. * Recall@5 - 25%.\n",
        "    * Recall@10 - 35%.\n",
        "    * Recall@15 - 43%."
      ],
      "metadata": {
        "id": "BuuFP74flC93"
      }
    }
  ],
  "metadata": {
    "colab": {
      "name": "Book Recommendation System.ipynb",
      "provenance": [],
      "include_colab_link": true
    },
    "kernelspec": {
      "display_name": "Python 3",
      "name": "python3"
    },
    "language_info": {
      "name": "python"
    }
  },
  "nbformat": 4,
  "nbformat_minor": 0
}